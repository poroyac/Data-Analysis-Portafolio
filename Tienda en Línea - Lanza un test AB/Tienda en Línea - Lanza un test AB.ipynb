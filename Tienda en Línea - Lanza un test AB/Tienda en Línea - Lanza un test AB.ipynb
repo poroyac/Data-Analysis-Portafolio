{
 "cells": [
  {
   "cell_type": "markdown",
   "metadata": {},
   "source": [
    "# Tienda en Línea: Lanza un test A/B"
   ]
  },
  {
   "cell_type": "markdown",
   "metadata": {},
   "source": [
    "# Descripción del Proyecto"
   ]
  },
  {
   "cell_type": "markdown",
   "metadata": {},
   "source": [
    "Eres analista en una gran tienda en línea. Junto con el departamento de marketing has recopilado una lista de hipótesis que pueden ayudar a aumentar los ingresos. \n",
    "\n",
    "Tienes que priorizar estas hipótesis, lanzar un test A/B y analizar los resultados."
   ]
  },
  {
   "cell_type": "markdown",
   "metadata": {},
   "source": [
    "# Descripción de datos"
   ]
  },
  {
   "cell_type": "markdown",
   "metadata": {},
   "source": [
    "Para desarrollar el proyecto se cuenta con los siguientes datasets para cada parte:\n",
    "\n",
    "A. Primera Parte\n",
    "\n",
    "Tabla \"Hipotheses\"\n",
    "- Hypotheses\n",
    "- Reach\n",
    "- Impact\n",
    "- Confidence\n",
    "- Effort\n",
    "\n",
    "B. Segunda Parte\n",
    "\n",
    "Tabla \"Orders\"\n",
    "- transactionID\n",
    "- visitorID\n",
    "- date\n",
    "- revenue\n",
    "- group\n",
    "\n",
    "Tabla \"Visits\"\n",
    "- date\n",
    "- group\n",
    "- visits"
   ]
  },
  {
   "cell_type": "markdown",
   "metadata": {},
   "source": [
    "# Preproceso de Datos"
   ]
  },
  {
   "cell_type": "markdown",
   "metadata": {},
   "source": [
    "## Importación de Librerías"
   ]
  },
  {
   "cell_type": "code",
   "execution_count": 1,
   "metadata": {},
   "outputs": [],
   "source": [
    "import pandas as pd\n",
    "import numpy as np\n",
    "import datetime as dt\n",
    "import scipy.stats as stats\n",
    "import matplotlib.pyplot as plt"
   ]
  },
  {
   "cell_type": "markdown",
   "metadata": {},
   "source": [
    "## Carga de Datos"
   ]
  },
  {
   "cell_type": "code",
   "execution_count": 2,
   "metadata": {},
   "outputs": [
    {
     "name": "stdout",
     "output_type": "stream",
     "text": [
      "<class 'pandas.core.frame.DataFrame'>\n",
      "RangeIndex: 9 entries, 0 to 8\n",
      "Data columns (total 5 columns):\n",
      " #   Column      Non-Null Count  Dtype \n",
      "---  ------      --------------  ----- \n",
      " 0   Hypothesis  9 non-null      object\n",
      " 1   Reach       9 non-null      int64 \n",
      " 2   Impact      9 non-null      int64 \n",
      " 3   Confidence  9 non-null      int64 \n",
      " 4   Effort      9 non-null      int64 \n",
      "dtypes: int64(4), object(1)\n",
      "memory usage: 488.0+ bytes\n",
      "<class 'pandas.core.frame.DataFrame'>\n",
      "RangeIndex: 1197 entries, 0 to 1196\n",
      "Data columns (total 5 columns):\n",
      " #   Column         Non-Null Count  Dtype  \n",
      "---  ------         --------------  -----  \n",
      " 0   transactionId  1197 non-null   int64  \n",
      " 1   visitorId      1197 non-null   int64  \n",
      " 2   date           1197 non-null   object \n",
      " 3   revenue        1197 non-null   float64\n",
      " 4   group          1197 non-null   object \n",
      "dtypes: float64(1), int64(2), object(2)\n",
      "memory usage: 46.9+ KB\n",
      "<class 'pandas.core.frame.DataFrame'>\n",
      "RangeIndex: 62 entries, 0 to 61\n",
      "Data columns (total 3 columns):\n",
      " #   Column  Non-Null Count  Dtype \n",
      "---  ------  --------------  ----- \n",
      " 0   date    62 non-null     object\n",
      " 1   group   62 non-null     object\n",
      " 2   visits  62 non-null     int64 \n",
      "dtypes: int64(1), object(2)\n",
      "memory usage: 1.6+ KB\n"
     ]
    }
   ],
   "source": [
    "hypotheses = pd.read_csv(\"/datasets/hypotheses_us.csv\", sep=';')\n",
    "orders = pd.read_csv(\"/datasets/orders_us.csv\")\n",
    "visitors = pd.read_csv(\"/datasets/visits_us.csv\")\n",
    "\n",
    "hypotheses.info()\n",
    "orders.info()\n",
    "visitors.info()"
   ]
  },
  {
   "cell_type": "markdown",
   "metadata": {},
   "source": [
    "## Revisión de Datos (duplicados, nulos, tipo de datos)"
   ]
  },
  {
   "cell_type": "markdown",
   "metadata": {},
   "source": [
    "### Tabla \"Hyphotheses\""
   ]
  },
  {
   "cell_type": "code",
   "execution_count": 3,
   "metadata": {},
   "outputs": [
    {
     "data": {
      "text/html": [
       "<div>\n",
       "<style scoped>\n",
       "    .dataframe tbody tr th:only-of-type {\n",
       "        vertical-align: middle;\n",
       "    }\n",
       "\n",
       "    .dataframe tbody tr th {\n",
       "        vertical-align: top;\n",
       "    }\n",
       "\n",
       "    .dataframe thead th {\n",
       "        text-align: right;\n",
       "    }\n",
       "</style>\n",
       "<table border=\"1\" class=\"dataframe\">\n",
       "  <thead>\n",
       "    <tr style=\"text-align: right;\">\n",
       "      <th></th>\n",
       "      <th>Hypothesis</th>\n",
       "      <th>Reach</th>\n",
       "      <th>Impact</th>\n",
       "      <th>Confidence</th>\n",
       "      <th>Effort</th>\n",
       "    </tr>\n",
       "  </thead>\n",
       "  <tbody>\n",
       "    <tr>\n",
       "      <th>0</th>\n",
       "      <td>Add two new channels for attracting traffic. T...</td>\n",
       "      <td>3</td>\n",
       "      <td>10</td>\n",
       "      <td>8</td>\n",
       "      <td>6</td>\n",
       "    </tr>\n",
       "    <tr>\n",
       "      <th>1</th>\n",
       "      <td>Launch your own delivery service. This will sh...</td>\n",
       "      <td>2</td>\n",
       "      <td>5</td>\n",
       "      <td>4</td>\n",
       "      <td>10</td>\n",
       "    </tr>\n",
       "    <tr>\n",
       "      <th>2</th>\n",
       "      <td>Add product recommendation blocks to the store...</td>\n",
       "      <td>8</td>\n",
       "      <td>3</td>\n",
       "      <td>7</td>\n",
       "      <td>3</td>\n",
       "    </tr>\n",
       "    <tr>\n",
       "      <th>3</th>\n",
       "      <td>Change the category structure. This will incre...</td>\n",
       "      <td>8</td>\n",
       "      <td>3</td>\n",
       "      <td>3</td>\n",
       "      <td>8</td>\n",
       "    </tr>\n",
       "    <tr>\n",
       "      <th>4</th>\n",
       "      <td>Change the background color on the main page. ...</td>\n",
       "      <td>3</td>\n",
       "      <td>1</td>\n",
       "      <td>1</td>\n",
       "      <td>1</td>\n",
       "    </tr>\n",
       "  </tbody>\n",
       "</table>\n",
       "</div>"
      ],
      "text/plain": [
       "                                          Hypothesis  Reach  Impact  \\\n",
       "0  Add two new channels for attracting traffic. T...      3      10   \n",
       "1  Launch your own delivery service. This will sh...      2       5   \n",
       "2  Add product recommendation blocks to the store...      8       3   \n",
       "3  Change the category structure. This will incre...      8       3   \n",
       "4  Change the background color on the main page. ...      3       1   \n",
       "\n",
       "   Confidence  Effort  \n",
       "0           8       6  \n",
       "1           4      10  \n",
       "2           7       3  \n",
       "3           3       8  \n",
       "4           1       1  "
      ]
     },
     "execution_count": 3,
     "metadata": {},
     "output_type": "execute_result"
    }
   ],
   "source": [
    "#Visualización de algunos datos del dataframe\n",
    "hypotheses.head(5)"
   ]
  },
  {
   "cell_type": "code",
   "execution_count": 4,
   "metadata": {},
   "outputs": [],
   "source": [
    "#nombres de las columnas a minusculas\n",
    "hypotheses.columns = ['hypothesis', 'reach', 'impact', 'confidence', 'effort']"
   ]
  },
  {
   "cell_type": "code",
   "execution_count": 5,
   "metadata": {},
   "outputs": [
    {
     "name": "stdout",
     "output_type": "stream",
     "text": [
      "Validación de valores nulos:\n",
      "hypothesis    0\n",
      "reach         0\n",
      "impact        0\n",
      "confidence    0\n",
      "effort        0\n",
      "dtype: int64\n",
      "\n",
      "Número de duplicados:  0\n"
     ]
    }
   ],
   "source": [
    "#validacion de nulos y duplicados\n",
    "print('Validación de valores nulos:')\n",
    "print(hypotheses.isna().sum())\n",
    "print()\n",
    "print('Número de duplicados: ', hypotheses.duplicated().sum())"
   ]
  },
  {
   "cell_type": "markdown",
   "metadata": {},
   "source": [
    "### Tabla \"Orders\""
   ]
  },
  {
   "cell_type": "code",
   "execution_count": 6,
   "metadata": {},
   "outputs": [
    {
     "data": {
      "text/html": [
       "<div>\n",
       "<style scoped>\n",
       "    .dataframe tbody tr th:only-of-type {\n",
       "        vertical-align: middle;\n",
       "    }\n",
       "\n",
       "    .dataframe tbody tr th {\n",
       "        vertical-align: top;\n",
       "    }\n",
       "\n",
       "    .dataframe thead th {\n",
       "        text-align: right;\n",
       "    }\n",
       "</style>\n",
       "<table border=\"1\" class=\"dataframe\">\n",
       "  <thead>\n",
       "    <tr style=\"text-align: right;\">\n",
       "      <th></th>\n",
       "      <th>transactionId</th>\n",
       "      <th>visitorId</th>\n",
       "      <th>date</th>\n",
       "      <th>revenue</th>\n",
       "      <th>group</th>\n",
       "    </tr>\n",
       "  </thead>\n",
       "  <tbody>\n",
       "    <tr>\n",
       "      <th>0</th>\n",
       "      <td>3667963787</td>\n",
       "      <td>3312258926</td>\n",
       "      <td>2019-08-15</td>\n",
       "      <td>30.4</td>\n",
       "      <td>B</td>\n",
       "    </tr>\n",
       "    <tr>\n",
       "      <th>1</th>\n",
       "      <td>2804400009</td>\n",
       "      <td>3642806036</td>\n",
       "      <td>2019-08-15</td>\n",
       "      <td>15.2</td>\n",
       "      <td>B</td>\n",
       "    </tr>\n",
       "    <tr>\n",
       "      <th>2</th>\n",
       "      <td>2961555356</td>\n",
       "      <td>4069496402</td>\n",
       "      <td>2019-08-15</td>\n",
       "      <td>10.2</td>\n",
       "      <td>A</td>\n",
       "    </tr>\n",
       "    <tr>\n",
       "      <th>3</th>\n",
       "      <td>3797467345</td>\n",
       "      <td>1196621759</td>\n",
       "      <td>2019-08-15</td>\n",
       "      <td>155.1</td>\n",
       "      <td>B</td>\n",
       "    </tr>\n",
       "    <tr>\n",
       "      <th>4</th>\n",
       "      <td>2282983706</td>\n",
       "      <td>2322279887</td>\n",
       "      <td>2019-08-15</td>\n",
       "      <td>40.5</td>\n",
       "      <td>B</td>\n",
       "    </tr>\n",
       "  </tbody>\n",
       "</table>\n",
       "</div>"
      ],
      "text/plain": [
       "   transactionId   visitorId        date  revenue group\n",
       "0     3667963787  3312258926  2019-08-15     30.4     B\n",
       "1     2804400009  3642806036  2019-08-15     15.2     B\n",
       "2     2961555356  4069496402  2019-08-15     10.2     A\n",
       "3     3797467345  1196621759  2019-08-15    155.1     B\n",
       "4     2282983706  2322279887  2019-08-15     40.5     B"
      ]
     },
     "execution_count": 6,
     "metadata": {},
     "output_type": "execute_result"
    }
   ],
   "source": [
    "#Visualización de algunos datos del dataframe\n",
    "orders.head(5)"
   ]
  },
  {
   "cell_type": "code",
   "execution_count": 7,
   "metadata": {},
   "outputs": [],
   "source": [
    "#aplicamos snake case para algunos nombres de columnas\n",
    "orders.columns = ['transaction_id', 'visitor_id', 'date', 'revenue', 'group']"
   ]
  },
  {
   "cell_type": "code",
   "execution_count": 8,
   "metadata": {},
   "outputs": [
    {
     "name": "stdout",
     "output_type": "stream",
     "text": [
      "Validación de valores nulos:\n",
      "transaction_id    0\n",
      "visitor_id        0\n",
      "date              0\n",
      "revenue           0\n",
      "group             0\n",
      "dtype: int64\n",
      "\n",
      "Número de duplicados:  0\n"
     ]
    }
   ],
   "source": [
    "#validacion de nulos y duplicados\n",
    "print('Validación de valores nulos:')\n",
    "print(orders.isna().sum())\n",
    "print()\n",
    "print('Número de duplicados: ', orders.duplicated().sum())"
   ]
  },
  {
   "cell_type": "markdown",
   "metadata": {},
   "source": [
    "### Tabla \"Visitors\""
   ]
  },
  {
   "cell_type": "code",
   "execution_count": 9,
   "metadata": {},
   "outputs": [
    {
     "data": {
      "text/html": [
       "<div>\n",
       "<style scoped>\n",
       "    .dataframe tbody tr th:only-of-type {\n",
       "        vertical-align: middle;\n",
       "    }\n",
       "\n",
       "    .dataframe tbody tr th {\n",
       "        vertical-align: top;\n",
       "    }\n",
       "\n",
       "    .dataframe thead th {\n",
       "        text-align: right;\n",
       "    }\n",
       "</style>\n",
       "<table border=\"1\" class=\"dataframe\">\n",
       "  <thead>\n",
       "    <tr style=\"text-align: right;\">\n",
       "      <th></th>\n",
       "      <th>date</th>\n",
       "      <th>group</th>\n",
       "      <th>visits</th>\n",
       "    </tr>\n",
       "  </thead>\n",
       "  <tbody>\n",
       "    <tr>\n",
       "      <th>0</th>\n",
       "      <td>2019-08-01</td>\n",
       "      <td>A</td>\n",
       "      <td>719</td>\n",
       "    </tr>\n",
       "    <tr>\n",
       "      <th>1</th>\n",
       "      <td>2019-08-02</td>\n",
       "      <td>A</td>\n",
       "      <td>619</td>\n",
       "    </tr>\n",
       "    <tr>\n",
       "      <th>2</th>\n",
       "      <td>2019-08-03</td>\n",
       "      <td>A</td>\n",
       "      <td>507</td>\n",
       "    </tr>\n",
       "    <tr>\n",
       "      <th>3</th>\n",
       "      <td>2019-08-04</td>\n",
       "      <td>A</td>\n",
       "      <td>717</td>\n",
       "    </tr>\n",
       "    <tr>\n",
       "      <th>4</th>\n",
       "      <td>2019-08-05</td>\n",
       "      <td>A</td>\n",
       "      <td>756</td>\n",
       "    </tr>\n",
       "  </tbody>\n",
       "</table>\n",
       "</div>"
      ],
      "text/plain": [
       "         date group  visits\n",
       "0  2019-08-01     A     719\n",
       "1  2019-08-02     A     619\n",
       "2  2019-08-03     A     507\n",
       "3  2019-08-04     A     717\n",
       "4  2019-08-05     A     756"
      ]
     },
     "execution_count": 9,
     "metadata": {},
     "output_type": "execute_result"
    }
   ],
   "source": [
    "#Visualización de algunos datos del dataframe\n",
    "visitors.head(5)"
   ]
  },
  {
   "cell_type": "code",
   "execution_count": 10,
   "metadata": {},
   "outputs": [
    {
     "name": "stdout",
     "output_type": "stream",
     "text": [
      "Validación de valores nulos:\n",
      "date      0\n",
      "group     0\n",
      "visits    0\n",
      "dtype: int64\n",
      "\n",
      "Número de duplicados:  0\n"
     ]
    }
   ],
   "source": [
    "#validacion de nulos y duplicados\n",
    "print('Validación de valores nulos:')\n",
    "print(visitors.isna().sum())\n",
    "print()\n",
    "print('Número de duplicados: ', visitors.duplicated().sum())"
   ]
  },
  {
   "cell_type": "markdown",
   "metadata": {},
   "source": [
    "# Desarrollo del Proyecto"
   ]
  },
  {
   "cell_type": "markdown",
   "metadata": {},
   "source": [
    "## Priorizar Hipótesis"
   ]
  },
  {
   "cell_type": "markdown",
   "metadata": {},
   "source": [
    "### Aplicar el framework ICE para priorizar hipótesis. Ordenarlas en orden descendente de prioridad."
   ]
  },
  {
   "cell_type": "code",
   "execution_count": 11,
   "metadata": {},
   "outputs": [
    {
     "data": {
      "text/html": [
       "<div>\n",
       "<style scoped>\n",
       "    .dataframe tbody tr th:only-of-type {\n",
       "        vertical-align: middle;\n",
       "    }\n",
       "\n",
       "    .dataframe tbody tr th {\n",
       "        vertical-align: top;\n",
       "    }\n",
       "\n",
       "    .dataframe thead th {\n",
       "        text-align: right;\n",
       "    }\n",
       "</style>\n",
       "<table border=\"1\" class=\"dataframe\">\n",
       "  <thead>\n",
       "    <tr style=\"text-align: right;\">\n",
       "      <th></th>\n",
       "      <th>hypothesis</th>\n",
       "      <th>reach</th>\n",
       "      <th>impact</th>\n",
       "      <th>confidence</th>\n",
       "      <th>effort</th>\n",
       "      <th>ice</th>\n",
       "    </tr>\n",
       "  </thead>\n",
       "  <tbody>\n",
       "    <tr>\n",
       "      <th>8</th>\n",
       "      <td>Launch a promotion that gives users discounts ...</td>\n",
       "      <td>1</td>\n",
       "      <td>9</td>\n",
       "      <td>9</td>\n",
       "      <td>5</td>\n",
       "      <td>16.200000</td>\n",
       "    </tr>\n",
       "    <tr>\n",
       "      <th>0</th>\n",
       "      <td>Add two new channels for attracting traffic. T...</td>\n",
       "      <td>3</td>\n",
       "      <td>10</td>\n",
       "      <td>8</td>\n",
       "      <td>6</td>\n",
       "      <td>13.333333</td>\n",
       "    </tr>\n",
       "    <tr>\n",
       "      <th>7</th>\n",
       "      <td>Add a subscription form to all the main pages....</td>\n",
       "      <td>10</td>\n",
       "      <td>7</td>\n",
       "      <td>8</td>\n",
       "      <td>5</td>\n",
       "      <td>11.200000</td>\n",
       "    </tr>\n",
       "    <tr>\n",
       "      <th>6</th>\n",
       "      <td>Show banners with current offers and sales on ...</td>\n",
       "      <td>5</td>\n",
       "      <td>3</td>\n",
       "      <td>8</td>\n",
       "      <td>3</td>\n",
       "      <td>8.000000</td>\n",
       "    </tr>\n",
       "    <tr>\n",
       "      <th>2</th>\n",
       "      <td>Add product recommendation blocks to the store...</td>\n",
       "      <td>8</td>\n",
       "      <td>3</td>\n",
       "      <td>7</td>\n",
       "      <td>3</td>\n",
       "      <td>7.000000</td>\n",
       "    </tr>\n",
       "    <tr>\n",
       "      <th>1</th>\n",
       "      <td>Launch your own delivery service. This will sh...</td>\n",
       "      <td>2</td>\n",
       "      <td>5</td>\n",
       "      <td>4</td>\n",
       "      <td>10</td>\n",
       "      <td>2.000000</td>\n",
       "    </tr>\n",
       "    <tr>\n",
       "      <th>5</th>\n",
       "      <td>Add a customer review page. This will increase...</td>\n",
       "      <td>3</td>\n",
       "      <td>2</td>\n",
       "      <td>2</td>\n",
       "      <td>3</td>\n",
       "      <td>1.333333</td>\n",
       "    </tr>\n",
       "    <tr>\n",
       "      <th>3</th>\n",
       "      <td>Change the category structure. This will incre...</td>\n",
       "      <td>8</td>\n",
       "      <td>3</td>\n",
       "      <td>3</td>\n",
       "      <td>8</td>\n",
       "      <td>1.125000</td>\n",
       "    </tr>\n",
       "    <tr>\n",
       "      <th>4</th>\n",
       "      <td>Change the background color on the main page. ...</td>\n",
       "      <td>3</td>\n",
       "      <td>1</td>\n",
       "      <td>1</td>\n",
       "      <td>1</td>\n",
       "      <td>1.000000</td>\n",
       "    </tr>\n",
       "  </tbody>\n",
       "</table>\n",
       "</div>"
      ],
      "text/plain": [
       "                                          hypothesis  reach  impact  \\\n",
       "8  Launch a promotion that gives users discounts ...      1       9   \n",
       "0  Add two new channels for attracting traffic. T...      3      10   \n",
       "7  Add a subscription form to all the main pages....     10       7   \n",
       "6  Show banners with current offers and sales on ...      5       3   \n",
       "2  Add product recommendation blocks to the store...      8       3   \n",
       "1  Launch your own delivery service. This will sh...      2       5   \n",
       "5  Add a customer review page. This will increase...      3       2   \n",
       "3  Change the category structure. This will incre...      8       3   \n",
       "4  Change the background color on the main page. ...      3       1   \n",
       "\n",
       "   confidence  effort        ice  \n",
       "8           9       5  16.200000  \n",
       "0           8       6  13.333333  \n",
       "7           8       5  11.200000  \n",
       "6           8       3   8.000000  \n",
       "2           7       3   7.000000  \n",
       "1           4      10   2.000000  \n",
       "5           2       3   1.333333  \n",
       "3           3       8   1.125000  \n",
       "4           1       1   1.000000  "
      ]
     },
     "execution_count": 11,
     "metadata": {},
     "output_type": "execute_result"
    }
   ],
   "source": [
    "#Visualizamos datos del dataframe\n",
    "hypotheses.head(5)\n",
    "\n",
    "#Creamos la columna con el ratio \"ice\"\n",
    "hypotheses['ice'] = (hypotheses['impact']*hypotheses['confidence'])/hypotheses['effort']\n",
    "\n",
    "#Ordenamos el dataframe según lo especificado\n",
    "hypotheses.sort_values(by='ice', ascending=False)"
   ]
  },
  {
   "cell_type": "markdown",
   "metadata": {},
   "source": [
    "### Aplicar el framework RICE para priorizar hipótesis. Ordenarlas en orden descendente de prioridad."
   ]
  },
  {
   "cell_type": "code",
   "execution_count": 12,
   "metadata": {},
   "outputs": [
    {
     "data": {
      "text/html": [
       "<div>\n",
       "<style scoped>\n",
       "    .dataframe tbody tr th:only-of-type {\n",
       "        vertical-align: middle;\n",
       "    }\n",
       "\n",
       "    .dataframe tbody tr th {\n",
       "        vertical-align: top;\n",
       "    }\n",
       "\n",
       "    .dataframe thead th {\n",
       "        text-align: right;\n",
       "    }\n",
       "</style>\n",
       "<table border=\"1\" class=\"dataframe\">\n",
       "  <thead>\n",
       "    <tr style=\"text-align: right;\">\n",
       "      <th></th>\n",
       "      <th>hypothesis</th>\n",
       "      <th>reach</th>\n",
       "      <th>impact</th>\n",
       "      <th>confidence</th>\n",
       "      <th>effort</th>\n",
       "      <th>ice</th>\n",
       "      <th>rice</th>\n",
       "    </tr>\n",
       "  </thead>\n",
       "  <tbody>\n",
       "    <tr>\n",
       "      <th>7</th>\n",
       "      <td>Add a subscription form to all the main pages....</td>\n",
       "      <td>10</td>\n",
       "      <td>7</td>\n",
       "      <td>8</td>\n",
       "      <td>5</td>\n",
       "      <td>11.200000</td>\n",
       "      <td>112.0</td>\n",
       "    </tr>\n",
       "    <tr>\n",
       "      <th>2</th>\n",
       "      <td>Add product recommendation blocks to the store...</td>\n",
       "      <td>8</td>\n",
       "      <td>3</td>\n",
       "      <td>7</td>\n",
       "      <td>3</td>\n",
       "      <td>7.000000</td>\n",
       "      <td>56.0</td>\n",
       "    </tr>\n",
       "    <tr>\n",
       "      <th>0</th>\n",
       "      <td>Add two new channels for attracting traffic. T...</td>\n",
       "      <td>3</td>\n",
       "      <td>10</td>\n",
       "      <td>8</td>\n",
       "      <td>6</td>\n",
       "      <td>13.333333</td>\n",
       "      <td>40.0</td>\n",
       "    </tr>\n",
       "    <tr>\n",
       "      <th>6</th>\n",
       "      <td>Show banners with current offers and sales on ...</td>\n",
       "      <td>5</td>\n",
       "      <td>3</td>\n",
       "      <td>8</td>\n",
       "      <td>3</td>\n",
       "      <td>8.000000</td>\n",
       "      <td>40.0</td>\n",
       "    </tr>\n",
       "    <tr>\n",
       "      <th>8</th>\n",
       "      <td>Launch a promotion that gives users discounts ...</td>\n",
       "      <td>1</td>\n",
       "      <td>9</td>\n",
       "      <td>9</td>\n",
       "      <td>5</td>\n",
       "      <td>16.200000</td>\n",
       "      <td>16.2</td>\n",
       "    </tr>\n",
       "    <tr>\n",
       "      <th>3</th>\n",
       "      <td>Change the category structure. This will incre...</td>\n",
       "      <td>8</td>\n",
       "      <td>3</td>\n",
       "      <td>3</td>\n",
       "      <td>8</td>\n",
       "      <td>1.125000</td>\n",
       "      <td>9.0</td>\n",
       "    </tr>\n",
       "    <tr>\n",
       "      <th>1</th>\n",
       "      <td>Launch your own delivery service. This will sh...</td>\n",
       "      <td>2</td>\n",
       "      <td>5</td>\n",
       "      <td>4</td>\n",
       "      <td>10</td>\n",
       "      <td>2.000000</td>\n",
       "      <td>4.0</td>\n",
       "    </tr>\n",
       "    <tr>\n",
       "      <th>5</th>\n",
       "      <td>Add a customer review page. This will increase...</td>\n",
       "      <td>3</td>\n",
       "      <td>2</td>\n",
       "      <td>2</td>\n",
       "      <td>3</td>\n",
       "      <td>1.333333</td>\n",
       "      <td>4.0</td>\n",
       "    </tr>\n",
       "    <tr>\n",
       "      <th>4</th>\n",
       "      <td>Change the background color on the main page. ...</td>\n",
       "      <td>3</td>\n",
       "      <td>1</td>\n",
       "      <td>1</td>\n",
       "      <td>1</td>\n",
       "      <td>1.000000</td>\n",
       "      <td>3.0</td>\n",
       "    </tr>\n",
       "  </tbody>\n",
       "</table>\n",
       "</div>"
      ],
      "text/plain": [
       "                                          hypothesis  reach  impact  \\\n",
       "7  Add a subscription form to all the main pages....     10       7   \n",
       "2  Add product recommendation blocks to the store...      8       3   \n",
       "0  Add two new channels for attracting traffic. T...      3      10   \n",
       "6  Show banners with current offers and sales on ...      5       3   \n",
       "8  Launch a promotion that gives users discounts ...      1       9   \n",
       "3  Change the category structure. This will incre...      8       3   \n",
       "1  Launch your own delivery service. This will sh...      2       5   \n",
       "5  Add a customer review page. This will increase...      3       2   \n",
       "4  Change the background color on the main page. ...      3       1   \n",
       "\n",
       "   confidence  effort        ice   rice  \n",
       "7           8       5  11.200000  112.0  \n",
       "2           7       3   7.000000   56.0  \n",
       "0           8       6  13.333333   40.0  \n",
       "6           8       3   8.000000   40.0  \n",
       "8           9       5  16.200000   16.2  \n",
       "3           3       8   1.125000    9.0  \n",
       "1           4      10   2.000000    4.0  \n",
       "5           2       3   1.333333    4.0  \n",
       "4           1       1   1.000000    3.0  "
      ]
     },
     "execution_count": 12,
     "metadata": {},
     "output_type": "execute_result"
    }
   ],
   "source": [
    "#Visualizamos datos del dataframe\n",
    "hypotheses.head(5)\n",
    "\n",
    "#Creamos la columna con el ratio \"rice\"\n",
    "hypotheses['rice'] = (hypotheses['reach']*hypotheses['impact']*hypotheses['confidence'])/hypotheses['effort']\n",
    "\n",
    "#Ordenamos el dataframe según lo especificado\n",
    "hypotheses.sort_values(by='rice', ascending=False)"
   ]
  },
  {
   "cell_type": "markdown",
   "metadata": {},
   "source": [
    "### Mostrar cómo cambia la priorización de hipótesis cuando utilizas RICE en lugar de ICE. Proporcionar una explicación de los cambios."
   ]
  },
  {
   "cell_type": "code",
   "execution_count": 13,
   "metadata": {},
   "outputs": [
    {
     "name": "stdout",
     "output_type": "stream",
     "text": [
      "<bound method NDFrame.head of                                           hypothesis  reach  impact  \\\n",
      "0  Add two new channels for attracting traffic. T...      3      10   \n",
      "1  Launch your own delivery service. This will sh...      2       5   \n",
      "2  Add product recommendation blocks to the store...      8       3   \n",
      "3  Change the category structure. This will incre...      8       3   \n",
      "4  Change the background color on the main page. ...      3       1   \n",
      "5  Add a customer review page. This will increase...      3       2   \n",
      "6  Show banners with current offers and sales on ...      5       3   \n",
      "7  Add a subscription form to all the main pages....     10       7   \n",
      "8  Launch a promotion that gives users discounts ...      1       9   \n",
      "\n",
      "   confidence  effort        ice   rice  n_hypothesis  \n",
      "0           8       6  13.333333   40.0             1  \n",
      "1           4      10   2.000000    4.0             2  \n",
      "2           7       3   7.000000   56.0             3  \n",
      "3           3       8   1.125000    9.0             4  \n",
      "4           1       1   1.000000    3.0             5  \n",
      "5           2       3   1.333333    4.0             6  \n",
      "6           8       3   8.000000   40.0             7  \n",
      "7           8       5  11.200000  112.0             8  \n",
      "8           9       5  16.200000   16.2             9  >\n"
     ]
    },
    {
     "data": {
      "image/png": "[encoded data removed]",
      "text/plain": [
       "<Figure size 640x480 with 1 Axes>"
      ]
     },
     "metadata": {},
     "output_type": "display_data"
    }
   ],
   "source": [
    "#Ennumeramos las hipotesis para hacer una gráfica comparativa\n",
    "hypotheses['n_hypothesis'] = hypotheses.index+1\n",
    "\n",
    "print(hypotheses.head)\n",
    "\n",
    "#Grafica que permite comparar la priorización de hipotesis usando el método RICE vs ICE.\n",
    "hypotheses.plot(x='n_hypothesis', y= ['ice', 'rice'], style='o')\n",
    "plt.show()"
   ]
  },
  {
   "cell_type": "markdown",
   "metadata": {},
   "source": [
    "La diferencia entre los dos métodos es la inclusión del parámetro \"reach\" o alcance, lo cual incluye en la ecuación la cantidad de usuarios afectados por la hipótesis planteada.\n",
    "Al priorizar las hipótesis usando el método ICE, se observa que en el TOP 3, de mayor a menor, se encuentran las hipótesis 9, 1 y 8. Sin embargo, al usar el método RICE, es decir, mantener todos los parámetros pero incluyendo adicionalmente el parámetro \"reach\" el orden de prioridades cambia, siendo el TOP 3, de mayor a menor, las hipótesis 8, 3 y 1.\n",
    "\n",
    "Con lo que se concluye por ambos métodos, que tanto las hipótesis 8 y 1 deben ser las hipótesis a priorizar."
   ]
  },
  {
   "cell_type": "markdown",
   "metadata": {},
   "source": [
    "## Análisis de test A/B"
   ]
  },
  {
   "cell_type": "markdown",
   "metadata": {},
   "source": [
    "### Representa gráficamente el ingreso acumulado por grupo. Haz conclusiones y conjeturas."
   ]
  },
  {
   "cell_type": "code",
   "execution_count": 14,
   "metadata": {},
   "outputs": [
    {
     "data": {
      "text/html": [
       "<div>\n",
       "<style scoped>\n",
       "    .dataframe tbody tr th:only-of-type {\n",
       "        vertical-align: middle;\n",
       "    }\n",
       "\n",
       "    .dataframe tbody tr th {\n",
       "        vertical-align: top;\n",
       "    }\n",
       "\n",
       "    .dataframe thead th {\n",
       "        text-align: right;\n",
       "    }\n",
       "</style>\n",
       "<table border=\"1\" class=\"dataframe\">\n",
       "  <thead>\n",
       "    <tr style=\"text-align: right;\">\n",
       "      <th></th>\n",
       "      <th>transaction_id</th>\n",
       "      <th>visitor_id</th>\n",
       "      <th>date</th>\n",
       "      <th>revenue</th>\n",
       "      <th>group</th>\n",
       "    </tr>\n",
       "  </thead>\n",
       "  <tbody>\n",
       "    <tr>\n",
       "      <th>0</th>\n",
       "      <td>3667963787</td>\n",
       "      <td>3312258926</td>\n",
       "      <td>2019-08-15</td>\n",
       "      <td>30.4</td>\n",
       "      <td>B</td>\n",
       "    </tr>\n",
       "    <tr>\n",
       "      <th>1</th>\n",
       "      <td>2804400009</td>\n",
       "      <td>3642806036</td>\n",
       "      <td>2019-08-15</td>\n",
       "      <td>15.2</td>\n",
       "      <td>B</td>\n",
       "    </tr>\n",
       "    <tr>\n",
       "      <th>3</th>\n",
       "      <td>3797467345</td>\n",
       "      <td>1196621759</td>\n",
       "      <td>2019-08-15</td>\n",
       "      <td>155.1</td>\n",
       "      <td>B</td>\n",
       "    </tr>\n",
       "    <tr>\n",
       "      <th>4</th>\n",
       "      <td>2282983706</td>\n",
       "      <td>2322279887</td>\n",
       "      <td>2019-08-15</td>\n",
       "      <td>40.5</td>\n",
       "      <td>B</td>\n",
       "    </tr>\n",
       "    <tr>\n",
       "      <th>5</th>\n",
       "      <td>182168103</td>\n",
       "      <td>935554773</td>\n",
       "      <td>2019-08-15</td>\n",
       "      <td>35.0</td>\n",
       "      <td>B</td>\n",
       "    </tr>\n",
       "  </tbody>\n",
       "</table>\n",
       "</div>"
      ],
      "text/plain": [
       "   transaction_id  visitor_id        date  revenue group\n",
       "0      3667963787  3312258926  2019-08-15     30.4     B\n",
       "1      2804400009  3642806036  2019-08-15     15.2     B\n",
       "3      3797467345  1196621759  2019-08-15    155.1     B\n",
       "4      2282983706  2322279887  2019-08-15     40.5     B\n",
       "5       182168103   935554773  2019-08-15     35.0     B"
      ]
     },
     "execution_count": 14,
     "metadata": {},
     "output_type": "execute_result"
    }
   ],
   "source": [
    "# Encontramos los id de visitantes que se encuentran en ambos grupos\n",
    "visitors_id_A = orders[orders['group'] == 'A']['visitor_id']\n",
    "visitors_id_B= orders[orders['group'] == 'B']['visitor_id']\n",
    "\n",
    "duplicated_visitors_id = pd.merge(visitors_id_A, visitors_id_B, how='inner')\n",
    "\n",
    "duplicated_visitors_id.drop_duplicates(inplace=True)\n",
    "\n",
    "# Quitamos del dataframe \"orders\" los id de visitantes que se encuentran en ambos grupos.\n",
    "#print(orders.count())\n",
    "orders.drop(orders[orders['visitor_id'].isin(duplicated_visitors_id['visitor_id'])].index, inplace = True)\n",
    "\n",
    "orders.head(5)"
   ]
  },
  {
   "cell_type": "code",
   "execution_count": 15,
   "metadata": {},
   "outputs": [],
   "source": [
    "#Creamos una matriz con valores únicos de parejas fecha-grupo\n",
    "datesGroups = orders[['date', 'group']].drop_duplicates()\n",
    "\n",
    "#Preparamos la tabla para agrupar por visitantes, compradores, ingresos por grupo\n",
    "ordersAggregated = datesGroups.apply(lambda x: orders[np.logical_and(orders['date'] <= x['date'], orders['group'] == x['group'])\n",
    "                                                    ].agg({'date':'max',\n",
    "                                                           'group':'max',\n",
    "                                                           'transaction_id':pd.Series.nunique,\n",
    "                                                           'visitor_id':pd.Series.nunique,\n",
    "                                                           'revenue':'sum'}),\n",
    "                                    axis=1).sort_values(by=['date','group'])\n",
    "\n",
    "visitorsAggregated = datesGroups.apply(lambda x: visitors[np.logical_and(visitors['date'] <= x['date'], visitors['group'] == x['group'])\n",
    "                                                    ].agg({'date':'max',\n",
    "                                                           'group':'max',\n",
    "                                                           'visits':'sum'}),\n",
    "                                    axis=1).sort_values(by=['date','group'])\n",
    "\n",
    "\n",
    "cumulativeData = ordersAggregated.merge(visitorsAggregated,\n",
    "                                        left_on=['date','group'],\n",
    "                                        right_on=['date','group']\n",
    "                                       )\n",
    "\n",
    "cumulativeData.columns = ['date', 'group', 'orders', 'buyers', 'revenue', 'visitors']\n",
    "\n",
    "cumulativeData.head(5)\n",
    "\n",
    "#Creamos la tabla acumulativa de ingresos por grupo\n",
    "cumulativeRevenueA = cumulativeData[cumulativeData['group']=='A'][['date','revenue','orders']]\n",
    "\n",
    "cumulativeRevenueB = cumulativeData[cumulativeData['group']=='B'][['date','revenue','orders']]"
   ]
  },
  {
   "cell_type": "code",
   "execution_count": 16,
   "metadata": {},
   "outputs": [
    {
     "data": {
      "text/plain": [
       "<matplotlib.legend.Legend at 0x7f8ca8211f40>"
      ]
     },
     "execution_count": 16,
     "metadata": {},
     "output_type": "execute_result"
    },
    {
     "data": {
      "image/png": "[encoded data removed]",
      "text/plain": [
       "<Figure size 5000x1500 with 1 Axes>"
      ]
     },
     "metadata": {},
     "output_type": "display_data"
    }
   ],
   "source": [
    "#Graficamos los ingresos por día para cada grupo\n",
    "fig, test = plt.subplots()\n",
    "\n",
    "test.plot(cumulativeRevenueA['date'], cumulativeRevenueA['revenue'],label='A')\n",
    "\n",
    "test.plot(cumulativeRevenueB['date'], cumulativeRevenueB['revenue'],label='B')\n",
    "\n",
    "test.set_title('Ingreso acumulado por grupo')\n",
    "fig.set_figheight(15)# altura (height)\n",
    "fig.set_figwidth(50) # anchura (width)\n",
    "\n",
    "test.legend()"
   ]
  },
  {
   "cell_type": "markdown",
   "metadata": {},
   "source": [
    "Se observa que los ingresos crecen constantemente durante toda la prueba, y además se ve una tendencia donde los ingresos del grupo B incrementan en mayor manera que los del grupo A, a partir de un punto del día 13 de la prueba."
   ]
  },
  {
   "cell_type": "markdown",
   "metadata": {},
   "source": [
    "### Representa gráficamente el tamaño de pedido promedio acumulado por grupo. Haz conclusiones y conjeturas."
   ]
  },
  {
   "cell_type": "code",
   "execution_count": 17,
   "metadata": {},
   "outputs": [
    {
     "data": {
      "text/plain": [
       "<matplotlib.legend.Legend at 0x7f8c8c066040>"
      ]
     },
     "execution_count": 17,
     "metadata": {},
     "output_type": "execute_result"
    },
    {
     "data": {
      "image/png": "[encoded data removed]",
      "text/plain": [
       "<Figure size 5000x1500 with 1 Axes>"
      ]
     },
     "metadata": {},
     "output_type": "display_data"
    }
   ],
   "source": [
    "#Creamos la tabla acumulativa del tamaño de pedido promedio por grupo\n",
    "fig, test = plt.subplots()\n",
    "\n",
    "test.plot(cumulativeRevenueA['date'], cumulativeRevenueA['revenue']/cumulativeRevenueA['orders'], label='A')\n",
    "test.plot(cumulativeRevenueA['date'], cumulativeRevenueB['revenue']/cumulativeRevenueB['orders'], label='B')\n",
    "\n",
    "test.set_title('Tamaño de pedido promedio acumulado por grupo')\n",
    "fig.set_figheight(15)# altura (height)\n",
    "fig.set_figwidth(50) # anchura (width)\n",
    "\n",
    "test.legend()"
   ]
  },
  {
   "cell_type": "markdown",
   "metadata": {},
   "source": [
    "Se observa que el tamaño de compra empieza a estabilizarse hacia al final de la prueba; sin embargo, necesitaremos más datos para ambos grupos para poder definir el verdadero tamaño promedio de compra por cada grupo."
   ]
  },
  {
   "cell_type": "markdown",
   "metadata": {},
   "source": [
    "### Representa gráficamente la diferencia relativa en el tamaño de pedido promedio acumulado para el grupo B en comparación con el grupo A. Haz conclusiones y conjeturas."
   ]
  },
  {
   "cell_type": "code",
   "execution_count": 18,
   "metadata": {},
   "outputs": [
    {
     "data": {
      "text/plain": [
       "<matplotlib.lines.Line2D at 0x7f8c8bd4f4f0>"
      ]
     },
     "execution_count": 18,
     "metadata": {},
     "output_type": "execute_result"
    },
    {
     "data": {
      "image/png": "[encoded data removed]",
      "text/plain": [
       "<Figure size 5000x1500 with 1 Axes>"
      ]
     },
     "metadata": {},
     "output_type": "display_data"
    }
   ],
   "source": [
    "#Creamos un dataframe para poder graficar la diferencia relativa en el tamaño de pedido promedio acumulado entre los grupos\n",
    "mergedCumulativeRevenue = cumulativeRevenueA.merge(cumulativeRevenueB, left_on='date', right_on='date', how='left', suffixes=['A', 'B'])\n",
    "\n",
    "#Creamos el gráfico de diferencia relativa para los tamaños de compra promedio entre grupos\n",
    "fig, test = plt.subplots()\n",
    "test.plot(mergedCumulativeRevenue['date'], (mergedCumulativeRevenue['revenueB']/mergedCumulativeRevenue['ordersB'])/(mergedCumulativeRevenue['revenueA']/mergedCumulativeRevenue['ordersA'])-1)\n",
    "\n",
    "test.set_title('Diferencia relativa en el tamaño de pedido promedio acumulado para el grupo B en comparación con el grupo A')\n",
    "fig.set_figheight(15)# altura (height)\n",
    "fig.set_figwidth(50) # anchura (width)\n",
    "\n",
    "#Agregamos un eje X de referencia\n",
    "test.axhline(y=0, color='black', linestyle='--')"
   ]
  },
  {
   "cell_type": "markdown",
   "metadata": {},
   "source": [
    "Se observa que en varios puntos hay una diferencia entre los segmentos. Lo cual nos indica que podrían haber pedidos de volúmenes altos y atípicos."
   ]
  },
  {
   "cell_type": "markdown",
   "metadata": {},
   "source": [
    "### Calcula la tasa de conversión de cada grupo como la relación entre los pedidos y el número de visitas de cada día. Representa gráficamente las tasas de conversión diarias de los dos grupos y describe la diferencia. Saca conclusiones y haz conjeturas."
   ]
  },
  {
   "cell_type": "code",
   "execution_count": 19,
   "metadata": {},
   "outputs": [
    {
     "data": {
      "text/plain": [
       "<matplotlib.legend.Legend at 0x7f8c8bcf2f10>"
      ]
     },
     "execution_count": 19,
     "metadata": {},
     "output_type": "execute_result"
    },
    {
     "data": {
      "image/png": "[encoded data removed]",
      "text/plain": [
       "<Figure size 5000x1500 with 1 Axes>"
      ]
     },
     "metadata": {},
     "output_type": "display_data"
    }
   ],
   "source": [
    "#Calculamos la conversión acumulada\n",
    "cumulativeData['conversion'] = cumulativeData['orders']/cumulativeData['visitors']\n",
    "\n",
    "#Seleccionamos los datos del grupo A\n",
    "cumulativeDataA = cumulativeData[cumulativeData['group']=='A']\n",
    "\n",
    "#Seleccionamos los datos del grupo B\n",
    "cumulativeDataB = cumulativeData[cumulativeData['group']=='B']\n",
    "\n",
    "#Gráficamos\n",
    "fig, test = plt.subplots()\n",
    "test.plot(cumulativeDataA['date'], cumulativeDataA['conversion'], label='A')\n",
    "test.plot(cumulativeDataB['date'], cumulativeDataB['conversion'], label='B')\n",
    "\n",
    "test.set_title('Tasas de conversión diarias de los dos grupos')\n",
    "fig.set_figheight(15)# altura (height)\n",
    "fig.set_figwidth(50) # anchura (width)\n",
    "\n",
    "test.legend()"
   ]
  },
  {
   "cell_type": "markdown",
   "metadata": {},
   "source": [
    "Al inicio de la prueba se observa que la tasa de conversión de ambos grupos empiezan a un ritmo similar; sin embargo, en un punto el grupo B despega y su tasa de conversión crece constantemente hasta estabilizarse, lo mismo sucede con el grupo A."
   ]
  },
  {
   "cell_type": "markdown",
   "metadata": {},
   "source": [
    "### Traza un gráfico de dispersión del número de pedidos por usuario. Haz conclusiones y conjeturas."
   ]
  },
  {
   "cell_type": "code",
   "execution_count": 20,
   "metadata": {},
   "outputs": [
    {
     "name": "stdout",
     "output_type": "stream",
     "text": [
      "        user_id  orders\n",
      "908  3967698036       3\n",
      "55    249864742       3\n",
      "478  2108163459       3\n",
      "687  2988190573       3\n",
      "890  3908431265       3\n",
      "138   611059232       3\n",
      "632  2742574263       3\n",
      "157   678354126       2\n",
      "323  1404560065       2\n",
      "452  1985475298       2\n"
     ]
    },
    {
     "data": {
      "text/plain": [
       "<matplotlib.collections.PathCollection at 0x7f8c8a7324c0>"
      ]
     },
     "execution_count": 20,
     "metadata": {},
     "output_type": "execute_result"
    },
    {
     "data": {
      "image/png": "[encoded data removed]",
      "text/plain": [
       "<Figure size 640x480 with 1 Axes>"
      ]
     },
     "metadata": {},
     "output_type": "display_data"
    }
   ],
   "source": [
    "#Creamos un dataframe a partir de \"orders\" donde visualicemos la cantidad de ordenes realizadas por usuario\n",
    "ordersByUsers = (\n",
    "    orders.drop(['group', 'revenue', 'date'], axis=1)\n",
    "    .groupby('visitor_id', as_index=False)\n",
    "    .agg({'transaction_id': pd.Series.nunique})\n",
    ")\n",
    "\n",
    "ordersByUsers.columns = ['user_id', 'orders']\n",
    "\n",
    "print(ordersByUsers.sort_values(by='orders', ascending=False).head(10))\n",
    "\n",
    "x_values = pd.Series(range(0,len(ordersByUsers)))\n",
    "\n",
    "plt.scatter(x_values, ordersByUsers['orders'])"
   ]
  },
  {
   "cell_type": "markdown",
   "metadata": {},
   "source": [
    "Se observa que hay varios usuarios que han realizado entre 2 a 3 pedidos. No se puede disernir si son valores atípicos o son compras regulares."
   ]
  },
  {
   "cell_type": "markdown",
   "metadata": {},
   "source": [
    "### Calcula los percentiles 95 y 99 para el número de pedidos por usuario. Define el punto en el cual un punto de datos se convierte en una anomalía."
   ]
  },
  {
   "cell_type": "code",
   "execution_count": 21,
   "metadata": {},
   "outputs": [
    {
     "name": "stdout",
     "output_type": "stream",
     "text": [
      "[1. 1. 2.]\n"
     ]
    }
   ],
   "source": [
    "print(np.percentile(ordersByUsers['orders'], [90, 95, 99]))\n"
   ]
  },
  {
   "cell_type": "markdown",
   "metadata": {},
   "source": [
    "Según el ejercicio no más del 5% de usuarios realizaron más de 1 pedido y el 10% realizó 1 pedido.\n",
    "Lo que sugiere que el umbral de 1 pedido por usuario sería el límite máximo para considerar un comportamiento normal y ese sería el filtro a usar para ubicar anomalías."
   ]
  },
  {
   "cell_type": "markdown",
   "metadata": {},
   "source": [
    "### Traza un gráfico de dispersión de los precios de los pedidos. Haz conclusiones y conjeturas."
   ]
  },
  {
   "cell_type": "code",
   "execution_count": 22,
   "metadata": {},
   "outputs": [
    {
     "name": "stdout",
     "output_type": "stream",
     "text": [
      "     transaction_id  revenue\n",
      "143       590470918  19920.4\n",
      "939      3936777065   3120.1\n",
      "161       666610489   1425.8\n",
      "875      3668308183   1335.6\n",
      "850      3603576309   1050.0\n",
      "311      1348774318   1025.8\n",
      "71        316924019   1015.9\n",
      "310      1347999392    930.0\n",
      "585      2420050534    905.8\n",
      "738      3163614039    830.3\n"
     ]
    },
    {
     "data": {
      "text/plain": [
       "<matplotlib.collections.PathCollection at 0x7f8c8c04aee0>"
      ]
     },
     "execution_count": 22,
     "metadata": {},
     "output_type": "execute_result"
    },
    {
     "data": {
      "image/png": "[encoded data removed]",
      "text/plain": [
       "<Figure size 640x480 with 1 Axes>"
      ]
     },
     "metadata": {},
     "output_type": "display_data"
    }
   ],
   "source": [
    "#Creamos un dataframe a partir de \"orders\" donde visualicemos solo los precios de cada pedido\n",
    "revenueByOrder = (\n",
    "    orders.drop(['group', 'visitor_id', 'date'], axis=1)\n",
    "    .groupby('transaction_id', as_index=False)\n",
    "    .agg({'revenue': 'sum'})\n",
    ")\n",
    "\n",
    "revenueByOrder.columns = ['transaction_id', 'revenue']\n",
    "\n",
    "print(revenueByOrder.sort_values(by='revenue', ascending=False).head(10))\n",
    "\n",
    "x_values = pd.Series(range(0,len(revenueByOrder)))\n",
    "\n",
    "plt.scatter(x_values, revenueByOrder['revenue'])"
   ]
  },
  {
   "cell_type": "markdown",
   "metadata": {},
   "source": [
    "En la gráfica de dispersión se observa que el ingreso de pedido se encuentra concentrado en montos menores a 2,500. Existiendo un par de anomalías súper puntuales."
   ]
  },
  {
   "cell_type": "markdown",
   "metadata": {},
   "source": [
    "### Calcula los percentiles 95 y 99 de los precios de los pedidos. Define el punto en el cual un punto de datos se convierte en una anomalía."
   ]
  },
  {
   "cell_type": "code",
   "execution_count": 23,
   "metadata": {},
   "outputs": [
    {
     "name": "stdout",
     "output_type": "stream",
     "text": [
      "[280.8   414.275 830.3  ]\n"
     ]
    }
   ],
   "source": [
    "print(np.percentile(orders['revenue'], [90, 95, 99]))"
   ]
  },
  {
   "cell_type": "markdown",
   "metadata": {},
   "source": [
    "El ejercicio de percentiles nos indica que menos del 5% de pedidos no pasaron de 415. Y el 10% de pedidos fueron por montos no mayores a 281. Esto nos indica que un umbral de valor a considerar como límite máximo para un pedido regular sería 450 (considerando un monto redondo), por lo que valores encima de ello sería considerados valores anómalos."
   ]
  },
  {
   "cell_type": "markdown",
   "metadata": {},
   "source": [
    "### Encuentra la significancia estadística de la diferencia en la conversión entre los grupos utilizando los datos en bruto. Haz conclusiones y conjeturas."
   ]
  },
  {
   "cell_type": "code",
   "execution_count": 24,
   "metadata": {},
   "outputs": [
    {
     "name": "stdout",
     "output_type": "stream",
     "text": [
      "0.01102\n",
      "0.160\n"
     ]
    }
   ],
   "source": [
    "ordersByUsersA = (orders[orders['group']=='A'].groupby('visitor_id', as_index=False).agg({'transaction_id':pd.Series.nunique}))\n",
    "ordersByUsersA.columns = ['visitor_id', 'orders']\n",
    "\n",
    "ordersByUsersB = orders[orders['group']=='B'].groupby('visitor_id', as_index=False).agg({'transaction_id':pd.Series.nunique})\n",
    "ordersByUsersB.columns = ['visitor_id', 'orders']\n",
    "\n",
    "sampleA = pd.concat([ordersByUsersA['orders'],pd.Series(0, index=np.arange(visitors[visitors['group']=='A']['visits'].sum() - len(ordersByUsersA['orders'])), name='orders')], axis=0,)\n",
    "\n",
    "sampleB = pd.concat([ordersByUsersB['orders'],pd.Series(0, index=np.arange(visitors[visitors['group']=='B']['visits'].sum() - len(ordersByUsersB['orders'])), name='orders')], axis=0,)\n",
    "\n",
    "print(\"{0:.5f}\".format(stats.mannwhitneyu(sampleA, sampleB)[1]))\n",
    "\n",
    "print(\"{0:.3f}\".format(sampleB.mean()/sampleA.mean()-1))"
   ]
  },
  {
   "cell_type": "markdown",
   "metadata": {},
   "source": [
    "El valor de p (0.01) es menor a 0.05 por lo que rechazamos la hipótesis nula.\n",
    "Por otro lado, el análisis de datos sin procesar nos indica que las tasas de conversión de los grupos tienen diferencias estadísticamente significativas. La ganancia de conversión relativa del grupo B en comparación con el grupo A es del 16.0%.\n"
   ]
  },
  {
   "cell_type": "markdown",
   "metadata": {},
   "source": [
    "### Encuentra la significancia estadística de la diferencia en el tamaño promedio de pedido entre los grupos utilizando los datos en bruto. Haz conclusiones y conjeturas."
   ]
  },
  {
   "cell_type": "code",
   "execution_count": 25,
   "metadata": {},
   "outputs": [
    {
     "name": "stdout",
     "output_type": "stream",
     "text": [
      "0.862\n",
      "0.278\n"
     ]
    }
   ],
   "source": [
    "print('{0:.3f}'.format(stats.mannwhitneyu(orders[orders['group']=='A']['revenue'], orders[orders['group']=='B']['revenue'])[1]))\n",
    "print('{0:.3f}'.format(orders[orders['group']=='B']['revenue'].mean()/orders[orders['group']=='A']['revenue'].mean()-1))"
   ]
  },
  {
   "cell_type": "markdown",
   "metadata": {},
   "source": [
    "El valor p es superior a 0.05 por lo que no existen diferencias estadísticamente significativas entre los tamaños de pedido promedio de los grupos. Por otro lado, la diferencia relativa es del 27.8%. Nos indica que el tamaño promedio de pedido del grupo B es mayor al A; sin embargo, podría estar afectado por valores atípicos de compra ya que estamos evaluando los datos en bruto."
   ]
  },
  {
   "cell_type": "markdown",
   "metadata": {},
   "source": [
    "### Encuentra la significancia estadística de la diferencia en la conversión entre los grupos utilizando los datos filtrados. Haz conclusiones y conjeturas."
   ]
  },
  {
   "cell_type": "code",
   "execution_count": 26,
   "metadata": {},
   "outputs": [
    {
     "data": {
      "text/plain": [
       "1099    148427295\n",
       "928     204675465\n",
       "33      249864742\n",
       "684     358944393\n",
       "36      366673373\n",
       "Name: visitor_id, dtype: int64"
      ]
     },
     "execution_count": 26,
     "metadata": {},
     "output_type": "execute_result"
    }
   ],
   "source": [
    "#Antes de encontrar la significancia estadística, debemos ubicar los datos anómalos para poder filtrarlos.\n",
    "#Para ello, según lo que vimos en ejercicios previos, se identifico que pedidos mayores a 1 y montos mayores a 450 serían considerados como anómalos.\n",
    "\n",
    "ordersByUsersA = (\n",
    "    orders[orders['group'] == 'A']\n",
    "    .groupby('visitor_id', as_index=False)\n",
    "    .agg({'transaction_id': pd.Series.nunique})\n",
    ")\n",
    "ordersByUsersA.columns = ['visitor_id', 'orders']\n",
    "\n",
    "ordersByUsersB = (\n",
    "    orders[orders['group'] == 'B']\n",
    "    .groupby('visitor_id', as_index=False)\n",
    "    .agg({'transaction_id': pd.Series.nunique})\n",
    ")\n",
    "ordersByUsersB.columns = ['visitor_id', 'orders']\n",
    "\n",
    "usersWithManyOrders = pd.concat([ordersByUsersA[ordersByUsersA['orders']>1]['visitor_id'], ordersByUsersB[ordersByUsersB['orders']>1]['visitor_id']], axis=0)\n",
    "\n",
    "usersWithExpensiveOrders = orders[orders['revenue']> 450]['visitor_id']\n",
    "\n",
    "abnormalUsers = pd.concat([usersWithManyOrders, usersWithExpensiveOrders], axis=0).drop_duplicates().sort_values()\n",
    "\n",
    "#Imprimimos un par de filas de los datos considerados como anómalos.\n",
    "abnormalUsers.head(5)\n"
   ]
  },
  {
   "cell_type": "code",
   "execution_count": 27,
   "metadata": {},
   "outputs": [
    {
     "name": "stdout",
     "output_type": "stream",
     "text": [
      "0.01244\n",
      "0.180\n"
     ]
    }
   ],
   "source": [
    "#Encontramos la significancia estadística de la diferencia en la conversión entre los grupos utilizando los datos filtrados\n",
    "\n",
    "sampleAFiltered = pd.concat([ordersByUsersA[np.logical_not(ordersByUsersA['visitor_id'].isin(abnormalUsers))]['orders'], pd.Series(0, index=np.arange(visitors[visitors['group']=='A']['visits'].sum()-len(ordersByUsersA['orders'])), name='orders',),], axis=0,)\n",
    "\n",
    "sampleBFiltered = pd.concat([ordersByUsersB[np.logical_not(ordersByUsersB['visitor_id'].isin(abnormalUsers))]['orders'], pd.Series(0, index=np.arange(visitors[visitors['group']=='B']['visits'].sum()-len(ordersByUsersB['orders'])), name='orders',),], axis=0,)\n",
    "\n",
    "print(\"{0:.5f}\".format(stats.mannwhitneyu(sampleAFiltered, sampleBFiltered)[1]))\n",
    "print(\"{0:.3f}\".format(sampleBFiltered.mean()/sampleAFiltered.mean()-1))"
   ]
  },
  {
   "cell_type": "markdown",
   "metadata": {},
   "source": [
    "Igual que con los datos sin procesar (ejercicio 5.9 del proyecto), hemos alcanzado el nivel de significación.\n",
    "El grupo B es mucho mejor que el grupo A."
   ]
  },
  {
   "cell_type": "markdown",
   "metadata": {},
   "source": [
    "### Encuentra la significancia estadística de la diferencia en el tamaño promedio de pedido entre los grupos utilizando los datos filtrados. Haz conclusiones y conjeturas."
   ]
  },
  {
   "cell_type": "code",
   "execution_count": 28,
   "metadata": {},
   "outputs": [
    {
     "name": "stdout",
     "output_type": "stream",
     "text": [
      "0.881\n",
      "-0.009\n"
     ]
    }
   ],
   "source": [
    "print('{0:.3f}'.format(stats.mannwhitneyu(\n",
    "    orders[np.logical_and(\n",
    "        orders['group']=='A',\n",
    "        np.logical_not(orders['visitor_id'].isin(abnormalUsers)))]['revenue'],\n",
    "    orders[np.logical_and(\n",
    "        orders['group']=='B',\n",
    "        np.logical_not(orders['visitor_id'].isin(abnormalUsers)))]['revenue'])[1]))\n",
    "\n",
    "print('{0:.3f}'.format(\n",
    "    orders[np.logical_and(orders['group']=='B',np.logical_not(orders['visitor_id'].isin(abnormalUsers)))]['revenue'].mean()/\n",
    "    orders[np.logical_and(\n",
    "        orders['group']=='A',\n",
    "        np.logical_not(orders['visitor_id'].isin(abnormalUsers)))]['revenue'].mean() - 1))"
   ]
  },
  {
   "cell_type": "markdown",
   "metadata": {},
   "source": [
    "El valor de p aumentó por lo que reafirma que no existen diferencias estadísticamente significativas entre los tamaños de pedido promedio de los grupos. Sin embargo, ahora la diferencia entre los grupos es del 0.9% en lugar del 27.8%. Esto significa que el grupo B no está trayendo más ingresos."
   ]
  },
  {
   "cell_type": "markdown",
   "metadata": {},
   "source": [
    "### Toma una decisión basada en los resultados de la prueba. Las decisiones posibles son: 1. Para la prueba, considera a uno de los grupos como líder. 2. Para la prueba, concluye que no hay diferencia entre los grupos. 3. Continúa la prueba."
   ]
  },
  {
   "cell_type": "markdown",
   "metadata": {},
   "source": [
    "Conclusiones de la prueba:\n",
    "\n",
    "- Existe una diferencia estadísticamente significativa en la conversión entre los grupos considerando los datos en bruto así como en los filtrados.\n",
    "- Respecto a la conversión entre los tamaños promedio de compra, en el primer análisis considerando los datos en bruto no se observó una diferencia estadísticamente significativa; y al considerar los datos filtrados se reafirmo la conclusión inicial.\n",
    "\n",
    "- El gráfico que muestra la diferencia de conversión entre los grupos nos indica que los resultados del grupo B son mejores que los del grupo A, y tienen una tendencia a crecer.\n",
    "\n",
    "- El gráfico que muestra la diferencia en el tamaño promedio de los pedidos entre los grupos nos indica que los resultados del grupo B van mejorando cada día hasta el día 19 de la prueba; sin embargo, a partir de ese punto los resultados del grupo B van cayendo paulatinamente y se van estabilizando hacia el final de la prueba.\n",
    "\n",
    "Por lo mencionado se concluye que las iniciativas del equipo de marketing no generaron el impacto esperado de traer mayores ingresos. Para la prueba se concluyé que no hay diferencia entre los grupos (opción 2)."
   ]
  }
 ],
 "metadata": {
  "ExecuteTimeLog": [
   {
    "duration": 571,
    "start_time": "2024-09-03T22:42:44.926Z"
   },
   {
    "duration": 2649,
    "start_time": "2024-09-03T22:42:53.165Z"
   },
   {
    "duration": 111,
    "start_time": "2024-09-03T23:00:15.780Z"
   },
   {
    "duration": 28,
    "start_time": "2024-09-03T23:00:32.969Z"
   },
   {
    "duration": 3,
    "start_time": "2024-09-03T23:17:19.218Z"
   },
   {
    "duration": 57,
    "start_time": "2024-09-03T23:17:23.125Z"
   },
   {
    "duration": 7,
    "start_time": "2024-09-03T23:17:28.592Z"
   },
   {
    "duration": 63,
    "start_time": "2024-09-03T23:17:40.119Z"
   },
   {
    "duration": 20,
    "start_time": "2024-09-03T23:18:08.219Z"
   },
   {
    "duration": 13,
    "start_time": "2024-09-03T23:18:12.842Z"
   },
   {
    "duration": 5,
    "start_time": "2024-09-03T23:18:39.212Z"
   },
   {
    "duration": 12,
    "start_time": "2024-09-03T23:22:13.611Z"
   },
   {
    "duration": 17,
    "start_time": "2024-09-03T23:22:21.552Z"
   },
   {
    "duration": 29,
    "start_time": "2024-09-03T23:22:47.237Z"
   },
   {
    "duration": 11,
    "start_time": "2024-09-03T23:23:05.948Z"
   },
   {
    "duration": 12,
    "start_time": "2024-09-03T23:23:23.078Z"
   },
   {
    "duration": 20,
    "start_time": "2024-09-03T23:23:43.543Z"
   },
   {
    "duration": 5,
    "start_time": "2024-09-03T23:24:54.924Z"
   },
   {
    "duration": 15,
    "start_time": "2024-09-03T23:25:00.959Z"
   },
   {
    "duration": 5,
    "start_time": "2024-09-03T23:25:06.499Z"
   },
   {
    "duration": 33,
    "start_time": "2024-09-03T23:25:43.930Z"
   },
   {
    "duration": 17,
    "start_time": "2024-09-03T23:25:51.825Z"
   },
   {
    "duration": 14,
    "start_time": "2024-09-03T23:25:54.291Z"
   },
   {
    "duration": 13,
    "start_time": "2024-09-03T23:26:02.352Z"
   },
   {
    "duration": 5,
    "start_time": "2024-09-03T23:26:06.556Z"
   },
   {
    "duration": 2440,
    "start_time": "2024-09-23T17:32:15.498Z"
   },
   {
    "duration": 45,
    "start_time": "2024-09-23T17:32:17.940Z"
   },
   {
    "duration": 4,
    "start_time": "2024-09-23T17:32:17.987Z"
   },
   {
    "duration": 0,
    "start_time": "2024-09-23T17:32:17.993Z"
   },
   {
    "duration": 0,
    "start_time": "2024-09-23T17:32:17.995Z"
   },
   {
    "duration": 7,
    "start_time": "2024-09-23T17:32:40.295Z"
   },
   {
    "duration": 11,
    "start_time": "2024-09-23T17:45:47.211Z"
   },
   {
    "duration": 5,
    "start_time": "2024-09-23T17:46:00.075Z"
   },
   {
    "duration": 5,
    "start_time": "2024-09-23T17:46:20.931Z"
   },
   {
    "duration": 5,
    "start_time": "2024-09-23T17:46:47.199Z"
   },
   {
    "duration": 6,
    "start_time": "2024-09-23T17:47:12.782Z"
   },
   {
    "duration": 6,
    "start_time": "2024-09-23T17:47:24.621Z"
   },
   {
    "duration": 7,
    "start_time": "2024-09-23T17:47:40.659Z"
   },
   {
    "duration": 4,
    "start_time": "2024-09-23T17:48:33.522Z"
   },
   {
    "duration": 5,
    "start_time": "2024-09-23T17:56:15.701Z"
   },
   {
    "duration": 5,
    "start_time": "2024-09-23T17:56:33.358Z"
   },
   {
    "duration": 3,
    "start_time": "2024-09-23T17:58:48.522Z"
   },
   {
    "duration": 28,
    "start_time": "2024-09-23T17:58:48.527Z"
   },
   {
    "duration": 4,
    "start_time": "2024-09-23T17:58:48.557Z"
   },
   {
    "duration": 3,
    "start_time": "2024-09-23T17:58:48.564Z"
   },
   {
    "duration": 6,
    "start_time": "2024-09-23T17:58:48.568Z"
   },
   {
    "duration": 4,
    "start_time": "2024-09-23T17:58:48.575Z"
   },
   {
    "duration": 3,
    "start_time": "2024-09-23T17:58:48.581Z"
   },
   {
    "duration": 30,
    "start_time": "2024-09-23T17:58:48.585Z"
   },
   {
    "duration": 5,
    "start_time": "2024-09-23T17:58:48.617Z"
   },
   {
    "duration": 5,
    "start_time": "2024-09-23T17:58:48.625Z"
   },
   {
    "duration": 2,
    "start_time": "2024-09-23T17:58:48.632Z"
   },
   {
    "duration": 8,
    "start_time": "2024-09-23T17:59:30.251Z"
   },
   {
    "duration": 227,
    "start_time": "2024-09-23T18:05:19.132Z"
   },
   {
    "duration": 17,
    "start_time": "2024-09-23T18:06:16.334Z"
   },
   {
    "duration": 14,
    "start_time": "2024-09-23T18:06:22.032Z"
   },
   {
    "duration": 7,
    "start_time": "2024-09-23T18:06:31.740Z"
   },
   {
    "duration": 7,
    "start_time": "2024-09-23T18:06:47.999Z"
   },
   {
    "duration": 7,
    "start_time": "2024-09-23T18:07:10.594Z"
   },
   {
    "duration": 6,
    "start_time": "2024-09-23T18:09:30.882Z"
   },
   {
    "duration": 6,
    "start_time": "2024-09-23T18:09:48.835Z"
   },
   {
    "duration": 6,
    "start_time": "2024-09-23T18:10:42.841Z"
   },
   {
    "duration": 8,
    "start_time": "2024-09-23T18:11:37.337Z"
   },
   {
    "duration": 104,
    "start_time": "2024-09-23T19:26:40.356Z"
   },
   {
    "duration": 94,
    "start_time": "2024-09-23T19:27:10.157Z"
   },
   {
    "duration": 98,
    "start_time": "2024-09-23T19:27:24.918Z"
   },
   {
    "duration": 102,
    "start_time": "2024-09-23T19:28:19.836Z"
   },
   {
    "duration": 217,
    "start_time": "2024-09-23T19:34:33.425Z"
   },
   {
    "duration": 174,
    "start_time": "2024-09-23T19:34:59.752Z"
   },
   {
    "duration": 455,
    "start_time": "2024-09-23T19:35:33.729Z"
   },
   {
    "duration": 170,
    "start_time": "2024-09-23T19:35:52.934Z"
   },
   {
    "duration": 3,
    "start_time": "2024-09-23T19:43:19.752Z"
   },
   {
    "duration": 4,
    "start_time": "2024-09-23T19:44:34.681Z"
   },
   {
    "duration": 3,
    "start_time": "2024-09-23T19:45:24.397Z"
   },
   {
    "duration": 2,
    "start_time": "2024-09-23T19:45:36.793Z"
   },
   {
    "duration": 28,
    "start_time": "2024-09-23T19:45:36.800Z"
   },
   {
    "duration": 4,
    "start_time": "2024-09-23T19:45:36.830Z"
   },
   {
    "duration": 3,
    "start_time": "2024-09-23T19:45:36.836Z"
   },
   {
    "duration": 6,
    "start_time": "2024-09-23T19:45:36.841Z"
   },
   {
    "duration": 4,
    "start_time": "2024-09-23T19:45:36.849Z"
   },
   {
    "duration": 3,
    "start_time": "2024-09-23T19:45:36.855Z"
   },
   {
    "duration": 6,
    "start_time": "2024-09-23T19:45:36.860Z"
   },
   {
    "duration": 3,
    "start_time": "2024-09-23T19:45:36.868Z"
   },
   {
    "duration": 42,
    "start_time": "2024-09-23T19:45:36.872Z"
   },
   {
    "duration": 9,
    "start_time": "2024-09-23T19:45:36.916Z"
   },
   {
    "duration": 7,
    "start_time": "2024-09-23T19:45:36.927Z"
   },
   {
    "duration": 4,
    "start_time": "2024-09-23T19:45:36.936Z"
   },
   {
    "duration": 2,
    "start_time": "2024-09-23T19:46:00.222Z"
   },
   {
    "duration": 25,
    "start_time": "2024-09-23T19:46:00.227Z"
   },
   {
    "duration": 5,
    "start_time": "2024-09-23T19:46:00.254Z"
   },
   {
    "duration": 4,
    "start_time": "2024-09-23T19:46:00.260Z"
   },
   {
    "duration": 5,
    "start_time": "2024-09-23T19:46:00.266Z"
   },
   {
    "duration": 5,
    "start_time": "2024-09-23T19:46:00.273Z"
   },
   {
    "duration": 2,
    "start_time": "2024-09-23T19:46:00.280Z"
   },
   {
    "duration": 31,
    "start_time": "2024-09-23T19:46:00.283Z"
   },
   {
    "duration": 3,
    "start_time": "2024-09-23T19:46:00.316Z"
   },
   {
    "duration": 5,
    "start_time": "2024-09-23T19:46:00.321Z"
   },
   {
    "duration": 7,
    "start_time": "2024-09-23T19:46:00.327Z"
   },
   {
    "duration": 7,
    "start_time": "2024-09-23T19:46:00.335Z"
   },
   {
    "duration": 4,
    "start_time": "2024-09-23T19:46:00.343Z"
   },
   {
    "duration": 790,
    "start_time": "2024-09-23T19:46:19.230Z"
   },
   {
    "duration": 26,
    "start_time": "2024-09-23T19:46:20.022Z"
   },
   {
    "duration": 4,
    "start_time": "2024-09-23T19:46:20.050Z"
   },
   {
    "duration": 2,
    "start_time": "2024-09-23T19:46:20.057Z"
   },
   {
    "duration": 5,
    "start_time": "2024-09-23T19:46:20.062Z"
   },
   {
    "duration": 6,
    "start_time": "2024-09-23T19:46:20.069Z"
   },
   {
    "duration": 3,
    "start_time": "2024-09-23T19:46:20.076Z"
   },
   {
    "duration": 32,
    "start_time": "2024-09-23T19:46:20.081Z"
   },
   {
    "duration": 4,
    "start_time": "2024-09-23T19:46:20.115Z"
   },
   {
    "duration": 5,
    "start_time": "2024-09-23T19:46:20.121Z"
   },
   {
    "duration": 7,
    "start_time": "2024-09-23T19:46:20.127Z"
   },
   {
    "duration": 7,
    "start_time": "2024-09-23T19:46:20.135Z"
   },
   {
    "duration": 2,
    "start_time": "2024-09-23T19:46:20.144Z"
   },
   {
    "duration": 4,
    "start_time": "2024-09-23T19:48:41.519Z"
   },
   {
    "duration": 219,
    "start_time": "2024-09-23T19:48:55.204Z"
   },
   {
    "duration": 3,
    "start_time": "2024-09-23T19:49:36.877Z"
   },
   {
    "duration": 13,
    "start_time": "2024-09-23T19:49:43.988Z"
   },
   {
    "duration": 4,
    "start_time": "2024-09-23T19:49:52.479Z"
   },
   {
    "duration": 13,
    "start_time": "2024-09-23T19:49:57.451Z"
   },
   {
    "duration": 7,
    "start_time": "2024-09-23T19:52:46.136Z"
   },
   {
    "duration": 3,
    "start_time": "2024-09-23T19:54:05.106Z"
   },
   {
    "duration": 6,
    "start_time": "2024-09-23T19:54:41.069Z"
   },
   {
    "duration": 7,
    "start_time": "2024-09-23T19:55:23.626Z"
   },
   {
    "duration": 4,
    "start_time": "2024-09-23T19:55:58.565Z"
   },
   {
    "duration": 796,
    "start_time": "2024-09-23T20:22:37.729Z"
   },
   {
    "duration": 31,
    "start_time": "2024-09-23T20:22:38.527Z"
   },
   {
    "duration": 5,
    "start_time": "2024-09-23T20:22:38.559Z"
   },
   {
    "duration": 2,
    "start_time": "2024-09-23T20:22:38.566Z"
   },
   {
    "duration": 5,
    "start_time": "2024-09-23T20:22:38.571Z"
   },
   {
    "duration": 6,
    "start_time": "2024-09-23T20:22:38.578Z"
   },
   {
    "duration": 27,
    "start_time": "2024-09-23T20:22:38.585Z"
   },
   {
    "duration": 8,
    "start_time": "2024-09-23T20:22:38.615Z"
   },
   {
    "duration": 4,
    "start_time": "2024-09-23T20:22:38.624Z"
   },
   {
    "duration": 5,
    "start_time": "2024-09-23T20:22:38.630Z"
   },
   {
    "duration": 7,
    "start_time": "2024-09-23T20:22:38.637Z"
   },
   {
    "duration": 7,
    "start_time": "2024-09-23T20:22:38.645Z"
   },
   {
    "duration": 2,
    "start_time": "2024-09-23T20:22:38.654Z"
   },
   {
    "duration": 5,
    "start_time": "2024-09-23T20:23:08.490Z"
   },
   {
    "duration": 3,
    "start_time": "2024-09-23T20:23:16.786Z"
   },
   {
    "duration": 592,
    "start_time": "2024-09-23T20:23:25.477Z"
   },
   {
    "duration": 3,
    "start_time": "2024-09-23T20:23:36.998Z"
   },
   {
    "duration": 3,
    "start_time": "2024-09-23T20:24:06.655Z"
   },
   {
    "duration": 3,
    "start_time": "2024-09-23T20:24:45.440Z"
   },
   {
    "duration": 4,
    "start_time": "2024-09-23T20:24:51.906Z"
   },
   {
    "duration": 3,
    "start_time": "2024-09-23T20:25:41.658Z"
   },
   {
    "duration": 189,
    "start_time": "2024-09-23T20:26:24.451Z"
   },
   {
    "duration": 236,
    "start_time": "2024-09-23T20:26:34.068Z"
   },
   {
    "duration": 16,
    "start_time": "2024-09-23T20:33:58.709Z"
   },
   {
    "duration": 172,
    "start_time": "2024-09-23T20:34:04.726Z"
   },
   {
    "duration": 171,
    "start_time": "2024-09-23T20:34:16.285Z"
   },
   {
    "duration": 16,
    "start_time": "2024-09-23T20:34:34.430Z"
   },
   {
    "duration": 12,
    "start_time": "2024-09-23T20:34:36.177Z"
   },
   {
    "duration": 12,
    "start_time": "2024-09-23T20:34:40.420Z"
   },
   {
    "duration": 16,
    "start_time": "2024-09-23T20:34:44.801Z"
   },
   {
    "duration": 187,
    "start_time": "2024-09-23T20:34:52.963Z"
   },
   {
    "duration": 15,
    "start_time": "2024-09-23T20:35:04.495Z"
   },
   {
    "duration": 13,
    "start_time": "2024-09-23T20:35:11.262Z"
   },
   {
    "duration": 177,
    "start_time": "2024-09-23T20:35:19.590Z"
   },
   {
    "duration": 173,
    "start_time": "2024-09-23T20:35:24.821Z"
   },
   {
    "duration": 17,
    "start_time": "2024-09-23T20:36:23.275Z"
   },
   {
    "duration": 182,
    "start_time": "2024-09-23T20:36:35.702Z"
   },
   {
    "duration": 172,
    "start_time": "2024-09-23T20:36:51.421Z"
   },
   {
    "duration": 125,
    "start_time": "2024-09-23T20:37:08.793Z"
   },
   {
    "duration": 126,
    "start_time": "2024-09-23T20:37:27.561Z"
   },
   {
    "duration": 117,
    "start_time": "2024-09-23T20:39:16.802Z"
   },
   {
    "duration": 5,
    "start_time": "2024-09-23T20:48:45.880Z"
   },
   {
    "duration": 6,
    "start_time": "2024-09-23T20:53:34.735Z"
   },
   {
    "duration": 9,
    "start_time": "2024-09-23T20:53:46.932Z"
   },
   {
    "duration": 182,
    "start_time": "2024-09-23T21:21:02.662Z"
   },
   {
    "duration": 220,
    "start_time": "2024-09-23T21:24:11.932Z"
   },
   {
    "duration": 416,
    "start_time": "2024-09-23T21:28:56.141Z"
   },
   {
    "duration": 405,
    "start_time": "2024-09-23T21:29:36.981Z"
   },
   {
    "duration": 421,
    "start_time": "2024-09-23T21:33:13.010Z"
   },
   {
    "duration": 502,
    "start_time": "2024-09-23T21:33:29.298Z"
   },
   {
    "duration": 1136,
    "start_time": "2024-09-23T21:34:17.426Z"
   },
   {
    "duration": 412,
    "start_time": "2024-09-23T21:34:41.471Z"
   },
   {
    "duration": 187,
    "start_time": "2024-09-23T21:42:22.598Z"
   },
   {
    "duration": 293,
    "start_time": "2024-09-23T21:49:28.336Z"
   },
   {
    "duration": 210,
    "start_time": "2024-09-23T21:55:37.527Z"
   },
   {
    "duration": 203,
    "start_time": "2024-09-23T21:58:57.249Z"
   },
   {
    "duration": 279,
    "start_time": "2024-09-23T21:59:56.103Z"
   },
   {
    "duration": 264,
    "start_time": "2024-09-23T22:00:20.378Z"
   },
   {
    "duration": 771,
    "start_time": "2024-09-23T22:46:51.034Z"
   },
   {
    "duration": 40,
    "start_time": "2024-09-23T22:46:51.807Z"
   },
   {
    "duration": 6,
    "start_time": "2024-09-23T22:46:51.849Z"
   },
   {
    "duration": 3,
    "start_time": "2024-09-23T22:46:51.857Z"
   },
   {
    "duration": 5,
    "start_time": "2024-09-23T22:46:51.862Z"
   },
   {
    "duration": 4,
    "start_time": "2024-09-23T22:46:51.869Z"
   },
   {
    "duration": 3,
    "start_time": "2024-09-23T22:46:51.876Z"
   },
   {
    "duration": 35,
    "start_time": "2024-09-23T22:46:51.880Z"
   },
   {
    "duration": 5,
    "start_time": "2024-09-23T22:46:51.917Z"
   },
   {
    "duration": 6,
    "start_time": "2024-09-23T22:46:51.926Z"
   },
   {
    "duration": 9,
    "start_time": "2024-09-23T22:46:51.934Z"
   },
   {
    "duration": 9,
    "start_time": "2024-09-23T22:46:51.946Z"
   },
   {
    "duration": 169,
    "start_time": "2024-09-23T22:46:51.957Z"
   },
   {
    "duration": 475,
    "start_time": "2024-09-23T22:46:52.128Z"
   },
   {
    "duration": 198,
    "start_time": "2024-09-23T22:46:52.611Z"
   },
   {
    "duration": 365,
    "start_time": "2024-09-23T22:46:52.810Z"
   },
   {
    "duration": 245,
    "start_time": "2024-09-23T22:46:53.177Z"
   },
   {
    "duration": 333,
    "start_time": "2024-09-23T22:46:53.424Z"
   },
   {
    "duration": 2458,
    "start_time": "2024-09-25T22:08:14.041Z"
   },
   {
    "duration": 33,
    "start_time": "2024-09-25T22:08:16.501Z"
   },
   {
    "duration": 5,
    "start_time": "2024-09-25T22:08:16.535Z"
   },
   {
    "duration": 3,
    "start_time": "2024-09-25T22:08:16.542Z"
   },
   {
    "duration": 5,
    "start_time": "2024-09-25T22:08:16.547Z"
   },
   {
    "duration": 5,
    "start_time": "2024-09-25T22:08:16.554Z"
   },
   {
    "duration": 3,
    "start_time": "2024-09-25T22:08:16.561Z"
   },
   {
    "duration": 7,
    "start_time": "2024-09-25T22:08:16.586Z"
   },
   {
    "duration": 3,
    "start_time": "2024-09-25T22:08:16.596Z"
   },
   {
    "duration": 5,
    "start_time": "2024-09-25T22:08:16.602Z"
   },
   {
    "duration": 7,
    "start_time": "2024-09-25T22:08:16.609Z"
   },
   {
    "duration": 7,
    "start_time": "2024-09-25T22:08:16.617Z"
   },
   {
    "duration": 172,
    "start_time": "2024-09-25T22:08:16.625Z"
   },
   {
    "duration": 446,
    "start_time": "2024-09-25T22:08:16.800Z"
   },
   {
    "duration": 193,
    "start_time": "2024-09-25T22:08:17.248Z"
   },
   {
    "duration": 291,
    "start_time": "2024-09-25T22:08:17.443Z"
   },
   {
    "duration": 227,
    "start_time": "2024-09-25T22:08:17.737Z"
   },
   {
    "duration": 297,
    "start_time": "2024-09-25T22:08:17.966Z"
   },
   {
    "duration": 5,
    "start_time": "2024-09-25T22:40:29.567Z"
   },
   {
    "duration": 6,
    "start_time": "2024-09-25T22:40:39.393Z"
   },
   {
    "duration": 115,
    "start_time": "2024-09-25T22:56:20.426Z"
   },
   {
    "duration": 195,
    "start_time": "2024-09-25T22:57:28.177Z"
   },
   {
    "duration": 282,
    "start_time": "2024-09-25T22:58:17.189Z"
   },
   {
    "duration": 212,
    "start_time": "2024-09-25T22:58:26.491Z"
   },
   {
    "duration": 287,
    "start_time": "2024-09-25T23:09:45.054Z"
   },
   {
    "duration": 245,
    "start_time": "2024-09-25T23:10:02.241Z"
   },
   {
    "duration": 228,
    "start_time": "2024-09-25T23:10:18.547Z"
   },
   {
    "duration": 4,
    "start_time": "2024-09-25T23:11:46.796Z"
   },
   {
    "duration": 4,
    "start_time": "2024-09-25T23:13:45.086Z"
   },
   {
    "duration": 3,
    "start_time": "2024-09-25T23:13:56.680Z"
   },
   {
    "duration": 4,
    "start_time": "2024-09-25T23:14:22.057Z"
   },
   {
    "duration": 4,
    "start_time": "2024-09-25T23:14:30.778Z"
   },
   {
    "duration": 4,
    "start_time": "2024-09-25T23:14:35.792Z"
   },
   {
    "duration": 4,
    "start_time": "2024-09-25T23:14:40.891Z"
   },
   {
    "duration": 220,
    "start_time": "2024-09-25T23:25:08.294Z"
   },
   {
    "duration": 153,
    "start_time": "2024-09-25T23:26:50.054Z"
   },
   {
    "duration": 119,
    "start_time": "2024-09-25T23:27:19.773Z"
   },
   {
    "duration": 7,
    "start_time": "2024-09-25T23:28:06.975Z"
   },
   {
    "duration": 179,
    "start_time": "2024-09-25T23:30:36.032Z"
   },
   {
    "duration": 305,
    "start_time": "2024-09-25T23:32:06.391Z"
   },
   {
    "duration": 249,
    "start_time": "2024-09-25T23:32:42.188Z"
   },
   {
    "duration": 126,
    "start_time": "2024-09-25T23:33:01.325Z"
   },
   {
    "duration": 5,
    "start_time": "2024-09-25T23:37:12.907Z"
   },
   {
    "duration": 3,
    "start_time": "2024-09-25T23:37:19.796Z"
   },
   {
    "duration": 3,
    "start_time": "2024-09-25T23:37:28.778Z"
   },
   {
    "duration": 4,
    "start_time": "2024-09-25T23:37:35.683Z"
   },
   {
    "duration": 4,
    "start_time": "2024-09-25T23:37:45.920Z"
   },
   {
    "duration": 3,
    "start_time": "2024-09-25T23:37:50.237Z"
   },
   {
    "duration": 3,
    "start_time": "2024-09-25T23:37:54.347Z"
   },
   {
    "duration": 391,
    "start_time": "2024-09-25T23:52:00.001Z"
   },
   {
    "duration": 49,
    "start_time": "2024-09-25T23:52:43.996Z"
   },
   {
    "duration": 341,
    "start_time": "2024-09-25T23:59:02.793Z"
   },
   {
    "duration": 127,
    "start_time": "2024-09-25T23:59:24.733Z"
   },
   {
    "duration": 8,
    "start_time": "2024-09-26T00:03:41.285Z"
   },
   {
    "duration": 178,
    "start_time": "2024-09-26T00:13:11.375Z"
   },
   {
    "duration": 162,
    "start_time": "2024-09-26T00:13:34.266Z"
   },
   {
    "duration": 117,
    "start_time": "2024-09-26T00:15:16.662Z"
   },
   {
    "duration": 128,
    "start_time": "2024-09-26T00:15:26.577Z"
   },
   {
    "duration": 123,
    "start_time": "2024-09-26T00:15:30.015Z"
   },
   {
    "duration": 145,
    "start_time": "2024-09-26T00:15:36.337Z"
   },
   {
    "duration": 52,
    "start_time": "2024-09-26T00:17:09.324Z"
   },
   {
    "duration": 28,
    "start_time": "2024-09-26T00:18:28.977Z"
   },
   {
    "duration": 12,
    "start_time": "2024-09-26T00:21:20.602Z"
   },
   {
    "duration": 2413,
    "start_time": "2024-09-26T10:07:09.870Z"
   },
   {
    "duration": 44,
    "start_time": "2024-09-26T10:07:12.285Z"
   },
   {
    "duration": 6,
    "start_time": "2024-09-26T10:07:12.331Z"
   },
   {
    "duration": 3,
    "start_time": "2024-09-26T10:07:12.339Z"
   },
   {
    "duration": 7,
    "start_time": "2024-09-26T10:07:12.344Z"
   },
   {
    "duration": 6,
    "start_time": "2024-09-26T10:07:12.353Z"
   },
   {
    "duration": 6,
    "start_time": "2024-09-26T10:07:12.360Z"
   },
   {
    "duration": 11,
    "start_time": "2024-09-26T10:07:12.368Z"
   },
   {
    "duration": 4,
    "start_time": "2024-09-26T10:07:12.380Z"
   },
   {
    "duration": 39,
    "start_time": "2024-09-26T10:07:12.387Z"
   },
   {
    "duration": 7,
    "start_time": "2024-09-26T10:07:12.427Z"
   },
   {
    "duration": 7,
    "start_time": "2024-09-26T10:07:12.436Z"
   },
   {
    "duration": 145,
    "start_time": "2024-09-26T10:07:12.444Z"
   },
   {
    "duration": 426,
    "start_time": "2024-09-26T10:07:12.591Z"
   },
   {
    "duration": 206,
    "start_time": "2024-09-26T10:07:13.019Z"
   },
   {
    "duration": 323,
    "start_time": "2024-09-26T10:07:13.227Z"
   },
   {
    "duration": 214,
    "start_time": "2024-09-26T10:07:13.552Z"
   },
   {
    "duration": 280,
    "start_time": "2024-09-26T10:07:13.768Z"
   },
   {
    "duration": 3,
    "start_time": "2024-09-26T10:07:14.050Z"
   },
   {
    "duration": 127,
    "start_time": "2024-09-26T10:07:14.056Z"
   },
   {
    "duration": 4,
    "start_time": "2024-09-26T10:07:14.185Z"
   },
   {
    "duration": 151,
    "start_time": "2024-09-26T10:07:14.190Z"
   },
   {
    "duration": 8,
    "start_time": "2024-09-26T10:07:14.342Z"
   },
   {
    "duration": 137,
    "start_time": "2024-09-26T10:07:14.352Z"
   },
   {
    "duration": 19,
    "start_time": "2024-09-26T10:07:14.490Z"
   },
   {
    "duration": 19,
    "start_time": "2024-09-26T10:07:14.511Z"
   },
   {
    "duration": 155,
    "start_time": "2024-09-26T23:23:50.771Z"
   },
   {
    "duration": 2518,
    "start_time": "2024-09-26T23:23:56.051Z"
   },
   {
    "duration": 35,
    "start_time": "2024-09-26T23:23:58.572Z"
   },
   {
    "duration": 8,
    "start_time": "2024-09-26T23:23:58.608Z"
   },
   {
    "duration": 6,
    "start_time": "2024-09-26T23:23:58.618Z"
   },
   {
    "duration": 5,
    "start_time": "2024-09-26T23:23:58.626Z"
   },
   {
    "duration": 5,
    "start_time": "2024-09-26T23:23:58.632Z"
   },
   {
    "duration": 3,
    "start_time": "2024-09-26T23:23:58.639Z"
   },
   {
    "duration": 5,
    "start_time": "2024-09-26T23:23:58.643Z"
   },
   {
    "duration": 4,
    "start_time": "2024-09-26T23:23:58.650Z"
   },
   {
    "duration": 5,
    "start_time": "2024-09-26T23:23:58.656Z"
   },
   {
    "duration": 7,
    "start_time": "2024-09-26T23:23:58.662Z"
   },
   {
    "duration": 6,
    "start_time": "2024-09-26T23:23:58.672Z"
   },
   {
    "duration": 130,
    "start_time": "2024-09-26T23:23:58.724Z"
   },
   {
    "duration": 415,
    "start_time": "2024-09-26T23:23:58.856Z"
   },
   {
    "duration": 208,
    "start_time": "2024-09-26T23:23:59.273Z"
   },
   {
    "duration": 280,
    "start_time": "2024-09-26T23:23:59.483Z"
   },
   {
    "duration": 209,
    "start_time": "2024-09-26T23:23:59.765Z"
   },
   {
    "duration": 201,
    "start_time": "2024-09-26T23:23:59.976Z"
   },
   {
    "duration": 3,
    "start_time": "2024-09-26T23:24:00.179Z"
   },
   {
    "duration": 124,
    "start_time": "2024-09-26T23:24:00.184Z"
   },
   {
    "duration": 3,
    "start_time": "2024-09-26T23:24:00.310Z"
   },
   {
    "duration": 200,
    "start_time": "2024-09-26T23:24:00.315Z"
   },
   {
    "duration": 7,
    "start_time": "2024-09-26T23:24:00.524Z"
   },
   {
    "duration": 138,
    "start_time": "2024-09-26T23:24:00.533Z"
   },
   {
    "duration": 19,
    "start_time": "2024-09-26T23:24:00.674Z"
   },
   {
    "duration": 29,
    "start_time": "2024-09-26T23:24:00.695Z"
   },
   {
    "duration": 6,
    "start_time": "2024-09-26T23:24:29.744Z"
   },
   {
    "duration": 7,
    "start_time": "2024-09-26T23:24:49.100Z"
   },
   {
    "duration": 12,
    "start_time": "2024-09-26T23:25:07.757Z"
   },
   {
    "duration": 10,
    "start_time": "2024-09-26T23:26:13.338Z"
   },
   {
    "duration": 5,
    "start_time": "2024-09-26T23:26:20.005Z"
   },
   {
    "duration": 4,
    "start_time": "2024-09-26T23:26:26.969Z"
   },
   {
    "duration": 10,
    "start_time": "2024-09-26T23:26:31.587Z"
   },
   {
    "duration": 771,
    "start_time": "2024-09-26T23:26:42.141Z"
   },
   {
    "duration": 29,
    "start_time": "2024-09-26T23:26:42.914Z"
   },
   {
    "duration": 8,
    "start_time": "2024-09-26T23:26:42.944Z"
   },
   {
    "duration": 2,
    "start_time": "2024-09-26T23:26:42.954Z"
   },
   {
    "duration": 5,
    "start_time": "2024-09-26T23:26:42.958Z"
   },
   {
    "duration": 7,
    "start_time": "2024-09-26T23:26:42.964Z"
   },
   {
    "duration": 3,
    "start_time": "2024-09-26T23:26:42.973Z"
   },
   {
    "duration": 5,
    "start_time": "2024-09-26T23:26:42.977Z"
   },
   {
    "duration": 5,
    "start_time": "2024-09-26T23:26:42.984Z"
   },
   {
    "duration": 6,
    "start_time": "2024-09-26T23:26:43.024Z"
   },
   {
    "duration": 9,
    "start_time": "2024-09-26T23:26:43.031Z"
   },
   {
    "duration": 7,
    "start_time": "2024-09-26T23:26:43.041Z"
   },
   {
    "duration": 153,
    "start_time": "2024-09-26T23:26:43.050Z"
   },
   {
    "duration": 419,
    "start_time": "2024-09-26T23:26:43.207Z"
   },
   {
    "duration": 220,
    "start_time": "2024-09-26T23:26:43.628Z"
   },
   {
    "duration": 320,
    "start_time": "2024-09-26T23:26:43.850Z"
   },
   {
    "duration": 215,
    "start_time": "2024-09-26T23:26:44.172Z"
   },
   {
    "duration": 202,
    "start_time": "2024-09-26T23:26:44.389Z"
   },
   {
    "duration": 5,
    "start_time": "2024-09-26T23:26:44.592Z"
   },
   {
    "duration": 131,
    "start_time": "2024-09-26T23:26:44.598Z"
   },
   {
    "duration": 4,
    "start_time": "2024-09-26T23:26:44.731Z"
   },
   {
    "duration": 152,
    "start_time": "2024-09-26T23:26:44.736Z"
   },
   {
    "duration": 6,
    "start_time": "2024-09-26T23:26:44.891Z"
   },
   {
    "duration": 131,
    "start_time": "2024-09-26T23:26:44.899Z"
   },
   {
    "duration": 19,
    "start_time": "2024-09-26T23:26:45.031Z"
   },
   {
    "duration": 10,
    "start_time": "2024-09-26T23:26:45.052Z"
   },
   {
    "duration": 8,
    "start_time": "2024-09-26T23:27:05.402Z"
   },
   {
    "duration": 7,
    "start_time": "2024-09-26T23:27:13.284Z"
   },
   {
    "duration": 9,
    "start_time": "2024-09-26T23:27:18.987Z"
   },
   {
    "duration": 12,
    "start_time": "2024-09-26T23:27:58.009Z"
   },
   {
    "duration": 8,
    "start_time": "2024-09-26T23:51:32.793Z"
   },
   {
    "duration": 8,
    "start_time": "2024-09-27T00:08:59.492Z"
   },
   {
    "duration": 15,
    "start_time": "2024-09-27T00:09:37.991Z"
   },
   {
    "duration": 15,
    "start_time": "2024-09-27T00:09:46.646Z"
   },
   {
    "duration": 9,
    "start_time": "2024-09-27T00:09:57.374Z"
   },
   {
    "duration": 124,
    "start_time": "2024-09-27T00:10:18.234Z"
   },
   {
    "duration": 14,
    "start_time": "2024-09-27T00:10:30.349Z"
   },
   {
    "duration": 15,
    "start_time": "2024-09-27T00:10:39.701Z"
   },
   {
    "duration": 9,
    "start_time": "2024-09-27T00:10:54.928Z"
   },
   {
    "duration": 10,
    "start_time": "2024-09-27T00:11:37.722Z"
   },
   {
    "duration": 10,
    "start_time": "2024-09-27T00:11:47.249Z"
   },
   {
    "duration": 492,
    "start_time": "2024-09-27T00:12:44.799Z"
   },
   {
    "duration": 406,
    "start_time": "2024-09-27T00:12:48.986Z"
   },
   {
    "duration": 7,
    "start_time": "2024-09-27T00:13:42.629Z"
   },
   {
    "duration": 716,
    "start_time": "2024-09-27T00:13:53.196Z"
   },
   {
    "duration": 34,
    "start_time": "2024-09-27T00:13:53.914Z"
   },
   {
    "duration": 10,
    "start_time": "2024-09-27T00:13:53.950Z"
   },
   {
    "duration": 2,
    "start_time": "2024-09-27T00:13:53.962Z"
   },
   {
    "duration": 7,
    "start_time": "2024-09-27T00:13:53.966Z"
   },
   {
    "duration": 7,
    "start_time": "2024-09-27T00:13:53.975Z"
   },
   {
    "duration": 2,
    "start_time": "2024-09-27T00:13:53.984Z"
   },
   {
    "duration": 7,
    "start_time": "2024-09-27T00:13:53.987Z"
   },
   {
    "duration": 29,
    "start_time": "2024-09-27T00:13:53.996Z"
   },
   {
    "duration": 5,
    "start_time": "2024-09-27T00:13:54.030Z"
   },
   {
    "duration": 9,
    "start_time": "2024-09-27T00:13:54.037Z"
   },
   {
    "duration": 10,
    "start_time": "2024-09-27T00:13:54.047Z"
   },
   {
    "duration": 160,
    "start_time": "2024-09-27T00:13:54.059Z"
   },
   {
    "duration": 11,
    "start_time": "2024-09-27T00:13:54.224Z"
   },
   {
    "duration": 411,
    "start_time": "2024-09-27T00:13:54.236Z"
   },
   {
    "duration": 6,
    "start_time": "2024-09-27T00:13:54.649Z"
   },
   {
    "duration": 199,
    "start_time": "2024-09-27T00:13:54.657Z"
   },
   {
    "duration": 322,
    "start_time": "2024-09-27T00:13:54.858Z"
   },
   {
    "duration": 217,
    "start_time": "2024-09-27T00:13:55.182Z"
   },
   {
    "duration": 199,
    "start_time": "2024-09-27T00:13:55.401Z"
   },
   {
    "duration": 4,
    "start_time": "2024-09-27T00:13:55.601Z"
   },
   {
    "duration": 127,
    "start_time": "2024-09-27T00:13:55.607Z"
   },
   {
    "duration": 4,
    "start_time": "2024-09-27T00:13:55.736Z"
   },
   {
    "duration": 165,
    "start_time": "2024-09-27T00:13:55.742Z"
   },
   {
    "duration": 20,
    "start_time": "2024-09-27T00:13:55.909Z"
   },
   {
    "duration": 152,
    "start_time": "2024-09-27T00:13:55.930Z"
   },
   {
    "duration": 20,
    "start_time": "2024-09-27T00:13:56.084Z"
   },
   {
    "duration": 21,
    "start_time": "2024-09-27T00:13:56.108Z"
   },
   {
    "duration": 10,
    "start_time": "2024-09-27T00:14:33.783Z"
   },
   {
    "duration": 6,
    "start_time": "2024-09-27T00:14:43.269Z"
   },
   {
    "duration": 11,
    "start_time": "2024-09-27T00:15:03.487Z"
   },
   {
    "duration": 411,
    "start_time": "2024-09-27T00:16:23.744Z"
   },
   {
    "duration": 10,
    "start_time": "2024-09-27T00:16:39.656Z"
   },
   {
    "duration": 16,
    "start_time": "2024-09-27T00:17:10.937Z"
   },
   {
    "duration": 457,
    "start_time": "2024-09-27T00:17:37.365Z"
   },
   {
    "duration": 10,
    "start_time": "2024-09-27T00:18:00.399Z"
   },
   {
    "duration": 11,
    "start_time": "2024-09-27T00:21:31.796Z"
   },
   {
    "duration": 6,
    "start_time": "2024-09-27T00:21:51.825Z"
   },
   {
    "duration": 7,
    "start_time": "2024-09-27T00:22:50.745Z"
   },
   {
    "duration": 11,
    "start_time": "2024-09-27T00:27:17.004Z"
   },
   {
    "duration": 17,
    "start_time": "2024-09-27T00:27:50.634Z"
   },
   {
    "duration": 10,
    "start_time": "2024-09-27T00:27:57.977Z"
   },
   {
    "duration": 71,
    "start_time": "2024-09-27T00:28:35.517Z"
   },
   {
    "duration": 48,
    "start_time": "2024-09-27T00:28:44.993Z"
   },
   {
    "duration": 43,
    "start_time": "2024-09-27T00:28:54.150Z"
   },
   {
    "duration": 44,
    "start_time": "2024-09-27T00:29:29.003Z"
   },
   {
    "duration": 6,
    "start_time": "2024-09-27T00:29:40.914Z"
   },
   {
    "duration": 8,
    "start_time": "2024-09-27T00:29:53.758Z"
   },
   {
    "duration": 6,
    "start_time": "2024-09-27T00:30:04.725Z"
   },
   {
    "duration": 15,
    "start_time": "2024-09-27T00:30:20.470Z"
   },
   {
    "duration": 6,
    "start_time": "2024-09-27T00:30:32.545Z"
   },
   {
    "duration": 6,
    "start_time": "2024-09-27T00:30:49.493Z"
   },
   {
    "duration": 6,
    "start_time": "2024-09-27T00:30:58.479Z"
   },
   {
    "duration": 11,
    "start_time": "2024-09-27T00:31:53.307Z"
   },
   {
    "duration": 18,
    "start_time": "2024-09-27T00:32:12.924Z"
   },
   {
    "duration": 11,
    "start_time": "2024-09-27T00:32:24.219Z"
   },
   {
    "duration": 11,
    "start_time": "2024-09-27T00:32:43.261Z"
   },
   {
    "duration": 15,
    "start_time": "2024-09-27T00:33:45.168Z"
   },
   {
    "duration": 15,
    "start_time": "2024-09-27T00:34:25.714Z"
   },
   {
    "duration": 41,
    "start_time": "2024-09-27T00:35:10.120Z"
   },
   {
    "duration": 157,
    "start_time": "2024-09-27T21:49:39.257Z"
   },
   {
    "duration": 2480,
    "start_time": "2024-09-27T21:49:55.105Z"
   },
   {
    "duration": 38,
    "start_time": "2024-09-27T21:49:57.587Z"
   },
   {
    "duration": 8,
    "start_time": "2024-09-27T21:49:57.626Z"
   },
   {
    "duration": 4,
    "start_time": "2024-09-27T21:49:57.635Z"
   },
   {
    "duration": 5,
    "start_time": "2024-09-27T21:49:57.642Z"
   },
   {
    "duration": 8,
    "start_time": "2024-09-27T21:49:57.648Z"
   },
   {
    "duration": 3,
    "start_time": "2024-09-27T21:49:57.657Z"
   },
   {
    "duration": 5,
    "start_time": "2024-09-27T21:49:57.662Z"
   },
   {
    "duration": 43,
    "start_time": "2024-09-27T21:49:57.669Z"
   },
   {
    "duration": 5,
    "start_time": "2024-09-27T21:49:57.713Z"
   },
   {
    "duration": 9,
    "start_time": "2024-09-27T21:49:57.719Z"
   },
   {
    "duration": 10,
    "start_time": "2024-09-27T21:49:57.729Z"
   },
   {
    "duration": 152,
    "start_time": "2024-09-27T21:49:57.741Z"
   },
   {
    "duration": 15,
    "start_time": "2024-09-27T21:49:57.897Z"
   },
   {
    "duration": 421,
    "start_time": "2024-09-27T21:49:57.913Z"
   },
   {
    "duration": 6,
    "start_time": "2024-09-27T21:49:58.336Z"
   },
   {
    "duration": 202,
    "start_time": "2024-09-27T21:49:58.343Z"
   },
   {
    "duration": 298,
    "start_time": "2024-09-27T21:49:58.546Z"
   },
   {
    "duration": 218,
    "start_time": "2024-09-27T21:49:58.846Z"
   },
   {
    "duration": 228,
    "start_time": "2024-09-27T21:49:59.066Z"
   },
   {
    "duration": 4,
    "start_time": "2024-09-27T21:49:59.296Z"
   },
   {
    "duration": 119,
    "start_time": "2024-09-27T21:49:59.312Z"
   },
   {
    "duration": 3,
    "start_time": "2024-09-27T21:49:59.433Z"
   },
   {
    "duration": 204,
    "start_time": "2024-09-27T21:49:59.438Z"
   },
   {
    "duration": 8,
    "start_time": "2024-09-27T21:49:59.643Z"
   },
   {
    "duration": 133,
    "start_time": "2024-09-27T21:49:59.652Z"
   },
   {
    "duration": 28,
    "start_time": "2024-09-27T21:49:59.786Z"
   },
   {
    "duration": 10,
    "start_time": "2024-09-27T21:49:59.815Z"
   },
   {
    "duration": 591,
    "start_time": "2024-09-27T21:50:26.531Z"
   },
   {
    "duration": 15,
    "start_time": "2024-09-27T21:59:00.540Z"
   },
   {
    "duration": 15,
    "start_time": "2024-09-27T21:59:15.910Z"
   },
   {
    "duration": 5,
    "start_time": "2024-09-27T21:59:42.836Z"
   },
   {
    "duration": 8,
    "start_time": "2024-09-27T22:00:01.302Z"
   },
   {
    "duration": 42,
    "start_time": "2024-09-27T22:01:11.302Z"
   },
   {
    "duration": 43,
    "start_time": "2024-09-27T22:01:23.463Z"
   },
   {
    "duration": 18,
    "start_time": "2024-09-27T22:01:47.290Z"
   },
   {
    "duration": 6,
    "start_time": "2024-09-27T22:02:04.790Z"
   },
   {
    "duration": 17,
    "start_time": "2024-09-27T22:02:23.798Z"
   },
   {
    "duration": 6,
    "start_time": "2024-09-27T22:03:10.588Z"
   },
   {
    "duration": 4,
    "start_time": "2024-09-27T22:03:32.367Z"
   },
   {
    "duration": 5,
    "start_time": "2024-09-27T22:03:53.385Z"
   },
   {
    "duration": 42,
    "start_time": "2024-09-27T22:04:39.967Z"
   },
   {
    "duration": 43,
    "start_time": "2024-09-27T22:05:13.138Z"
   },
   {
    "duration": 44,
    "start_time": "2024-09-27T22:05:33.115Z"
   },
   {
    "duration": 6,
    "start_time": "2024-09-27T22:05:50.305Z"
   },
   {
    "duration": 16,
    "start_time": "2024-09-27T22:06:24.443Z"
   },
   {
    "duration": 6,
    "start_time": "2024-09-27T22:08:09.800Z"
   },
   {
    "duration": 10,
    "start_time": "2024-09-27T22:08:23.178Z"
   },
   {
    "duration": 11,
    "start_time": "2024-09-27T22:11:36.936Z"
   },
   {
    "duration": 10,
    "start_time": "2024-09-27T22:11:53.357Z"
   },
   {
    "duration": 10,
    "start_time": "2024-09-27T22:49:27.765Z"
   },
   {
    "duration": 18,
    "start_time": "2024-09-27T22:50:28.837Z"
   },
   {
    "duration": 9,
    "start_time": "2024-09-27T22:50:35.290Z"
   },
   {
    "duration": 11,
    "start_time": "2024-09-27T22:51:04.141Z"
   },
   {
    "duration": 6,
    "start_time": "2024-09-27T22:52:24.172Z"
   },
   {
    "duration": 51,
    "start_time": "2024-09-27T22:52:52.021Z"
   },
   {
    "duration": 23,
    "start_time": "2024-09-27T22:53:34.741Z"
   },
   {
    "duration": 31,
    "start_time": "2024-09-27T22:56:50.734Z"
   },
   {
    "duration": 4,
    "start_time": "2024-09-27T22:59:18.590Z"
   },
   {
    "duration": 11,
    "start_time": "2024-09-27T22:59:38.053Z"
   },
   {
    "duration": 24,
    "start_time": "2024-09-27T23:02:05.458Z"
   },
   {
    "duration": 12,
    "start_time": "2024-09-27T23:03:04.079Z"
   },
   {
    "duration": 5,
    "start_time": "2024-09-27T23:03:47.279Z"
   },
   {
    "duration": 14,
    "start_time": "2024-09-27T23:04:15.901Z"
   },
   {
    "duration": 20,
    "start_time": "2024-09-27T23:04:57.625Z"
   },
   {
    "duration": 10,
    "start_time": "2024-09-27T23:05:09.897Z"
   },
   {
    "duration": 13,
    "start_time": "2024-09-27T23:05:16.377Z"
   },
   {
    "duration": 5,
    "start_time": "2024-09-27T23:05:28.263Z"
   },
   {
    "duration": 6,
    "start_time": "2024-09-27T23:05:44.140Z"
   },
   {
    "duration": 402,
    "start_time": "2024-09-27T23:06:16.136Z"
   },
   {
    "duration": 6,
    "start_time": "2024-09-27T23:06:27.235Z"
   },
   {
    "duration": 404,
    "start_time": "2024-09-27T23:06:57.149Z"
   },
   {
    "duration": 211,
    "start_time": "2024-09-27T23:07:24.861Z"
   },
   {
    "duration": 199,
    "start_time": "2024-09-27T23:07:31.598Z"
   },
   {
    "duration": 200,
    "start_time": "2024-09-27T23:07:38.997Z"
   },
   {
    "duration": 204,
    "start_time": "2024-09-27T23:07:53.784Z"
   },
   {
    "duration": 218,
    "start_time": "2024-09-27T23:08:00.413Z"
   },
   {
    "duration": 754,
    "start_time": "2024-09-27T23:08:14.747Z"
   },
   {
    "duration": 33,
    "start_time": "2024-09-27T23:08:15.504Z"
   },
   {
    "duration": 9,
    "start_time": "2024-09-27T23:08:15.538Z"
   },
   {
    "duration": 2,
    "start_time": "2024-09-27T23:08:15.550Z"
   },
   {
    "duration": 6,
    "start_time": "2024-09-27T23:08:15.555Z"
   },
   {
    "duration": 7,
    "start_time": "2024-09-27T23:08:15.562Z"
   },
   {
    "duration": 3,
    "start_time": "2024-09-27T23:08:15.571Z"
   },
   {
    "duration": 5,
    "start_time": "2024-09-27T23:08:15.575Z"
   },
   {
    "duration": 35,
    "start_time": "2024-09-27T23:08:15.582Z"
   },
   {
    "duration": 4,
    "start_time": "2024-09-27T23:08:15.621Z"
   },
   {
    "duration": 11,
    "start_time": "2024-09-27T23:08:15.627Z"
   },
   {
    "duration": 9,
    "start_time": "2024-09-27T23:08:15.639Z"
   },
   {
    "duration": 156,
    "start_time": "2024-09-27T23:08:15.650Z"
   },
   {
    "duration": 10,
    "start_time": "2024-09-27T23:08:15.808Z"
   },
   {
    "duration": 220,
    "start_time": "2024-09-27T23:08:15.820Z"
   },
   {
    "duration": 221,
    "start_time": "2024-09-27T23:08:16.042Z"
   },
   {
    "duration": 198,
    "start_time": "2024-09-27T23:08:16.265Z"
   },
   {
    "duration": 337,
    "start_time": "2024-09-27T23:08:16.465Z"
   },
   {
    "duration": 205,
    "start_time": "2024-09-27T23:08:16.804Z"
   },
   {
    "duration": 227,
    "start_time": "2024-09-27T23:08:17.012Z"
   },
   {
    "duration": 3,
    "start_time": "2024-09-27T23:08:17.241Z"
   },
   {
    "duration": 121,
    "start_time": "2024-09-27T23:08:17.246Z"
   },
   {
    "duration": 4,
    "start_time": "2024-09-27T23:08:17.368Z"
   },
   {
    "duration": 149,
    "start_time": "2024-09-27T23:08:17.373Z"
   },
   {
    "duration": 8,
    "start_time": "2024-09-27T23:08:17.525Z"
   },
   {
    "duration": 121,
    "start_time": "2024-09-27T23:08:17.535Z"
   },
   {
    "duration": 19,
    "start_time": "2024-09-27T23:08:17.658Z"
   },
   {
    "duration": 9,
    "start_time": "2024-09-27T23:08:17.680Z"
   },
   {
    "duration": 208,
    "start_time": "2024-09-27T23:09:06.271Z"
   },
   {
    "duration": 13,
    "start_time": "2024-09-27T23:09:41.568Z"
   },
   {
    "duration": 14,
    "start_time": "2024-09-27T23:10:02.796Z"
   },
   {
    "duration": 13,
    "start_time": "2024-09-27T23:10:13.299Z"
   },
   {
    "duration": 208,
    "start_time": "2024-09-27T23:10:39.979Z"
   },
   {
    "duration": 211,
    "start_time": "2024-09-27T23:11:01.580Z"
   },
   {
    "duration": 217,
    "start_time": "2024-09-27T23:11:17.975Z"
   },
   {
    "duration": 210,
    "start_time": "2024-09-27T23:11:25.720Z"
   },
   {
    "duration": 196,
    "start_time": "2024-09-27T23:13:35.543Z"
   },
   {
    "duration": 444,
    "start_time": "2024-09-27T23:14:13.110Z"
   },
   {
    "duration": 203,
    "start_time": "2024-09-27T23:14:19.067Z"
   },
   {
    "duration": 396,
    "start_time": "2024-09-27T23:14:57.624Z"
   },
   {
    "duration": 573,
    "start_time": "2024-09-27T23:15:22.129Z"
   },
   {
    "duration": 571,
    "start_time": "2024-09-27T23:19:30.666Z"
   },
   {
    "duration": 612,
    "start_time": "2024-09-27T23:20:07.902Z"
   },
   {
    "duration": 632,
    "start_time": "2024-09-27T23:21:22.997Z"
   },
   {
    "duration": 568,
    "start_time": "2024-09-27T23:22:49.171Z"
   },
   {
    "duration": 4,
    "start_time": "2024-09-27T23:24:57.135Z"
   },
   {
    "duration": 6,
    "start_time": "2024-09-27T23:26:03.943Z"
   },
   {
    "duration": 24,
    "start_time": "2024-09-27T23:26:12.247Z"
   },
   {
    "duration": 3,
    "start_time": "2024-09-27T23:27:00.852Z"
   },
   {
    "duration": 15,
    "start_time": "2024-09-27T23:29:16.439Z"
   },
   {
    "duration": 3,
    "start_time": "2024-09-27T23:32:08.177Z"
   },
   {
    "duration": 4,
    "start_time": "2024-09-27T23:32:13.036Z"
   },
   {
    "duration": 15,
    "start_time": "2024-09-27T23:32:18.194Z"
   },
   {
    "duration": 4,
    "start_time": "2024-09-27T23:32:26.711Z"
   },
   {
    "duration": 4,
    "start_time": "2024-09-27T23:32:34.550Z"
   },
   {
    "duration": 105,
    "start_time": "2024-09-27T23:33:52.431Z"
   },
   {
    "duration": 105,
    "start_time": "2024-09-27T23:34:02.896Z"
   },
   {
    "duration": 3,
    "start_time": "2024-09-27T23:34:20.651Z"
   },
   {
    "duration": 120,
    "start_time": "2024-09-27T23:37:15.343Z"
   },
   {
    "duration": 230,
    "start_time": "2024-09-28T00:26:32.211Z"
   },
   {
    "duration": 232,
    "start_time": "2024-09-28T00:26:38.507Z"
   },
   {
    "duration": 237,
    "start_time": "2024-09-28T00:26:44.292Z"
   },
   {
    "duration": 216,
    "start_time": "2024-09-28T00:27:00.203Z"
   },
   {
    "duration": 2514,
    "start_time": "2024-09-28T16:02:41.848Z"
   },
   {
    "duration": 39,
    "start_time": "2024-09-28T16:02:44.364Z"
   },
   {
    "duration": 9,
    "start_time": "2024-09-28T16:02:44.405Z"
   },
   {
    "duration": 3,
    "start_time": "2024-09-28T16:02:44.415Z"
   },
   {
    "duration": 5,
    "start_time": "2024-09-28T16:02:44.420Z"
   },
   {
    "duration": 10,
    "start_time": "2024-09-28T16:02:44.427Z"
   },
   {
    "duration": 2,
    "start_time": "2024-09-28T16:02:44.439Z"
   },
   {
    "duration": 5,
    "start_time": "2024-09-28T16:02:44.443Z"
   },
   {
    "duration": 5,
    "start_time": "2024-09-28T16:02:44.450Z"
   },
   {
    "duration": 5,
    "start_time": "2024-09-28T16:02:44.457Z"
   },
   {
    "duration": 9,
    "start_time": "2024-09-28T16:02:44.465Z"
   },
   {
    "duration": 9,
    "start_time": "2024-09-28T16:02:44.475Z"
   },
   {
    "duration": 185,
    "start_time": "2024-09-28T16:02:44.485Z"
   },
   {
    "duration": 14,
    "start_time": "2024-09-28T16:02:44.673Z"
   },
   {
    "duration": 209,
    "start_time": "2024-09-28T16:02:44.688Z"
   },
   {
    "duration": 628,
    "start_time": "2024-09-28T16:02:44.899Z"
   },
   {
    "duration": 577,
    "start_time": "2024-09-28T16:02:45.529Z"
   },
   {
    "duration": 663,
    "start_time": "2024-09-28T16:02:46.108Z"
   },
   {
    "duration": 579,
    "start_time": "2024-09-28T16:02:46.774Z"
   },
   {
    "duration": 234,
    "start_time": "2024-09-28T16:02:47.355Z"
   },
   {
    "duration": 4,
    "start_time": "2024-09-28T16:02:47.591Z"
   },
   {
    "duration": 199,
    "start_time": "2024-09-28T16:02:47.597Z"
   },
   {
    "duration": 4,
    "start_time": "2024-09-28T16:02:47.798Z"
   },
   {
    "duration": 128,
    "start_time": "2024-09-28T16:02:47.804Z"
   },
   {
    "duration": 9,
    "start_time": "2024-09-28T16:02:47.934Z"
   },
   {
    "duration": 131,
    "start_time": "2024-09-28T16:02:47.945Z"
   },
   {
    "duration": 20,
    "start_time": "2024-09-28T16:02:48.077Z"
   },
   {
    "duration": 10,
    "start_time": "2024-09-28T16:02:48.098Z"
   }
  ],
  "kernelspec": {
   "display_name": "Python 3 (ipykernel)",
   "language": "python",
   "name": "python3"
  },
  "language_info": {
   "codemirror_mode": {
    "name": "ipython",
    "version": 3
   },
   "file_extension": ".py",
   "mimetype": "text/x-python",
   "name": "python",
   "nbconvert_exporter": "python",
   "pygments_lexer": "ipython3",
   "version": "3.9.19"
  },
  "toc": {
   "base_numbering": 1,
   "nav_menu": {},
   "number_sections": true,
   "sideBar": true,
   "skip_h1_title": true,
   "title_cell": "Table of Contents",
   "title_sidebar": "Contents",
   "toc_cell": false,
   "toc_position": {},
   "toc_section_display": true,
   "toc_window_display": false
  }
 },
 "nbformat": 4,
 "nbformat_minor": 2
}
