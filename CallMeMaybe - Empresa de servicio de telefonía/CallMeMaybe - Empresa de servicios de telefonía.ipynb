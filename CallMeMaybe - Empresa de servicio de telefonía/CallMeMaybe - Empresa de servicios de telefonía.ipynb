{
 "cells": [
  {
   "cell_type": "markdown",
   "metadata": {},
   "source": [
    "# CallMeMaybe: Servicio de telefonía virtual"
   ]
  },
  {
   "cell_type": "markdown",
   "metadata": {},
   "source": [
    "<a id=indice></a>\n",
    "# Tabla de Contenido\n",
    "\n",
    "[1 Descripción del Proyecto](#descripcion)\n",
    "\n",
    "[2 Lectura y preparación de datos](#preparacion_data)\n",
    "\n",
    "[3 Analisis exploratorio de datos](#analisis_data)\n",
    "\n",
    "[4 Identificación de operadores ineficaces](#identificador_operadores)\n",
    "\n",
    "[5 Prueba de hipótesis estadística](#prueba_hipotesis)\n",
    "\n",
    "[6 Conclusiones y recomendaciones](#conclusiones)\n",
    "\n",
    "[7 Presentación](#presentacion)"
   ]
  },
  {
   "cell_type": "markdown",
   "metadata": {},
   "source": [
    "<a id=\"descripcion\"></a>\n",
    "## Descripción del Proyecto"
   ]
  },
  {
   "cell_type": "markdown",
   "metadata": {},
   "source": [
    "El servicio de telefonía virtual CallMeMaybe está desarrollando una nueva función que brindará a los supervisores y las supervisores información sobre los operadores menos eficaces. Se considera que un operador es ineficaz si tiene una gran cantidad de llamadas entrantes perdidas (internas y externas) y un tiempo de espera prolongado para las llamadas entrantes. Además, si se supone que un operador debe realizar llamadas salientes, un número reducido de ellas también será un signo de ineficacia.\n",
    "\n",
    "- Lleva a cabo el análisis exploratorio de datos\n",
    "- Identificar operadores ineficaces\n",
    "- Prueba las hipótesis estadísticas"
   ]
  },
  {
   "cell_type": "markdown",
   "metadata": {},
   "source": [
    "[Volver a la Tabla de Contenido](#indice)"
   ]
  },
  {
   "cell_type": "markdown",
   "metadata": {},
   "source": [
    "<a id=\"preparacion_data\"></a>\n",
    "## Lectura y Preparación de datos"
   ]
  },
  {
   "cell_type": "markdown",
   "metadata": {},
   "source": [
    "### Descripción de datos"
   ]
  },
  {
   "cell_type": "markdown",
   "metadata": {},
   "source": [
    "Los datasets contienen información sobre el uso del servicio de telefonía virtual CallMeMaybe. Sus clientes son organizaciones que necesitan distribuir gran cantidad de llamadas entrantes entre varios operadores, o realizar llamadas salientes a través de sus operadores. Los operadores también pueden realizar llamadas internas para comunicarse entre ellos. Estas llamadas se realizan a través de la red de CallMeMaybe.\n",
    "\n",
    "El dataset comprimido `telecom_dataset_us.csv` contiene las siguientes columnas:\n",
    "\n",
    "- `user_id`: ID de la cuenta de cliente\n",
    "- `date`: fecha en la que se recuperaron las estadísticas\n",
    "- `direction`: \"dirección\" de llamada (`out` para saliente, `in` para entrante)\n",
    "- `internal`: si la llamada fue interna (entre los operadores de un cliente o clienta)\n",
    "- `operator_id`: identificador del operador\n",
    "- `is_missed_call`: si fue una llamada perdida\n",
    "- `calls_count`: número de llamadas\n",
    "- `call_duration`: duración de la llamada (sin incluir el tiempo de espera)\n",
    "- `total_call_duration`: duración de la llamada (incluido el tiempo de espera)\n",
    "\n",
    " \n",
    "\n",
    "El conjunto de datos `telecom_clients_us.csv` tiene las siguientes columnas:\n",
    "\n",
    "- `user_id`: ID de usuario/a\n",
    "- `tariff_plan`: tarifa actual de la clientela\n",
    "- `date_start`: fecha de registro de la clientela"
   ]
  },
  {
   "cell_type": "markdown",
   "metadata": {},
   "source": [
    "### Importación de librerías"
   ]
  },
  {
   "cell_type": "code",
   "execution_count": 1,
   "metadata": {},
   "outputs": [],
   "source": [
    "import pandas as pd\n",
    "\n",
    "import datetime as dt\n",
    "import numpy as np\n",
    "\n",
    "\n",
    "import matplotlib.pyplot as plt\n",
    "import seaborn as sns\n",
    "from scipy import stats as st"
   ]
  },
  {
   "cell_type": "markdown",
   "metadata": {},
   "source": [
    "### Carga de datos"
   ]
  },
  {
   "cell_type": "code",
   "execution_count": 2,
   "metadata": {},
   "outputs": [],
   "source": [
    "# Especificamos la ruta donde se encuentran los datasets para el desarrollo del proyecto\n",
    "path = 'C:/Users/Usuario/Documents/Pam/Bootcamp DA - TRIPLETEN/Sprint 14 - Proyecto Final/01 Empresa Telecomunicaciones - Descomposicion y Dashboard/datasets'"
   ]
  },
  {
   "cell_type": "code",
   "execution_count": 3,
   "metadata": {},
   "outputs": [],
   "source": [
    "# Cargamos los dataframes\n",
    "clients = pd.read_csv(path+'/telecom_clients_us.csv')\n",
    "calls = pd.read_csv(path+'/telecom_dataset_us.csv')"
   ]
  },
  {
   "cell_type": "code",
   "execution_count": 4,
   "metadata": {},
   "outputs": [
    {
     "data": {
      "text/html": [
       "<div>\n",
       "<style scoped>\n",
       "    .dataframe tbody tr th:only-of-type {\n",
       "        vertical-align: middle;\n",
       "    }\n",
       "\n",
       "    .dataframe tbody tr th {\n",
       "        vertical-align: top;\n",
       "    }\n",
       "\n",
       "    .dataframe thead th {\n",
       "        text-align: right;\n",
       "    }\n",
       "</style>\n",
       "<table border=\"1\" class=\"dataframe\">\n",
       "  <thead>\n",
       "    <tr style=\"text-align: right;\">\n",
       "      <th></th>\n",
       "      <th>user_id</th>\n",
       "      <th>tariff_plan</th>\n",
       "      <th>date_start</th>\n",
       "    </tr>\n",
       "  </thead>\n",
       "  <tbody>\n",
       "    <tr>\n",
       "      <th>0</th>\n",
       "      <td>166713</td>\n",
       "      <td>A</td>\n",
       "      <td>2019-08-15</td>\n",
       "    </tr>\n",
       "    <tr>\n",
       "      <th>1</th>\n",
       "      <td>166901</td>\n",
       "      <td>A</td>\n",
       "      <td>2019-08-23</td>\n",
       "    </tr>\n",
       "    <tr>\n",
       "      <th>2</th>\n",
       "      <td>168527</td>\n",
       "      <td>A</td>\n",
       "      <td>2019-10-29</td>\n",
       "    </tr>\n",
       "    <tr>\n",
       "      <th>3</th>\n",
       "      <td>167097</td>\n",
       "      <td>A</td>\n",
       "      <td>2019-09-01</td>\n",
       "    </tr>\n",
       "    <tr>\n",
       "      <th>4</th>\n",
       "      <td>168193</td>\n",
       "      <td>A</td>\n",
       "      <td>2019-10-16</td>\n",
       "    </tr>\n",
       "  </tbody>\n",
       "</table>\n",
       "</div>"
      ],
      "text/plain": [
       "   user_id tariff_plan  date_start\n",
       "0   166713           A  2019-08-15\n",
       "1   166901           A  2019-08-23\n",
       "2   168527           A  2019-10-29\n",
       "3   167097           A  2019-09-01\n",
       "4   168193           A  2019-10-16"
      ]
     },
     "execution_count": 4,
     "metadata": {},
     "output_type": "execute_result"
    }
   ],
   "source": [
    "# Validación de carga de datos correcta\n",
    "clients.head(5)"
   ]
  },
  {
   "cell_type": "code",
   "execution_count": 5,
   "metadata": {},
   "outputs": [
    {
     "data": {
      "text/html": [
       "<div>\n",
       "<style scoped>\n",
       "    .dataframe tbody tr th:only-of-type {\n",
       "        vertical-align: middle;\n",
       "    }\n",
       "\n",
       "    .dataframe tbody tr th {\n",
       "        vertical-align: top;\n",
       "    }\n",
       "\n",
       "    .dataframe thead th {\n",
       "        text-align: right;\n",
       "    }\n",
       "</style>\n",
       "<table border=\"1\" class=\"dataframe\">\n",
       "  <thead>\n",
       "    <tr style=\"text-align: right;\">\n",
       "      <th></th>\n",
       "      <th>user_id</th>\n",
       "      <th>date</th>\n",
       "      <th>direction</th>\n",
       "      <th>internal</th>\n",
       "      <th>operator_id</th>\n",
       "      <th>is_missed_call</th>\n",
       "      <th>calls_count</th>\n",
       "      <th>call_duration</th>\n",
       "      <th>total_call_duration</th>\n",
       "    </tr>\n",
       "  </thead>\n",
       "  <tbody>\n",
       "    <tr>\n",
       "      <th>0</th>\n",
       "      <td>166377</td>\n",
       "      <td>2019-08-04 00:00:00+03:00</td>\n",
       "      <td>in</td>\n",
       "      <td>False</td>\n",
       "      <td>NaN</td>\n",
       "      <td>True</td>\n",
       "      <td>2</td>\n",
       "      <td>0</td>\n",
       "      <td>4</td>\n",
       "    </tr>\n",
       "    <tr>\n",
       "      <th>1</th>\n",
       "      <td>166377</td>\n",
       "      <td>2019-08-05 00:00:00+03:00</td>\n",
       "      <td>out</td>\n",
       "      <td>True</td>\n",
       "      <td>880022.0</td>\n",
       "      <td>True</td>\n",
       "      <td>3</td>\n",
       "      <td>0</td>\n",
       "      <td>5</td>\n",
       "    </tr>\n",
       "    <tr>\n",
       "      <th>2</th>\n",
       "      <td>166377</td>\n",
       "      <td>2019-08-05 00:00:00+03:00</td>\n",
       "      <td>out</td>\n",
       "      <td>True</td>\n",
       "      <td>880020.0</td>\n",
       "      <td>True</td>\n",
       "      <td>1</td>\n",
       "      <td>0</td>\n",
       "      <td>1</td>\n",
       "    </tr>\n",
       "    <tr>\n",
       "      <th>3</th>\n",
       "      <td>166377</td>\n",
       "      <td>2019-08-05 00:00:00+03:00</td>\n",
       "      <td>out</td>\n",
       "      <td>True</td>\n",
       "      <td>880020.0</td>\n",
       "      <td>False</td>\n",
       "      <td>1</td>\n",
       "      <td>10</td>\n",
       "      <td>18</td>\n",
       "    </tr>\n",
       "    <tr>\n",
       "      <th>4</th>\n",
       "      <td>166377</td>\n",
       "      <td>2019-08-05 00:00:00+03:00</td>\n",
       "      <td>out</td>\n",
       "      <td>False</td>\n",
       "      <td>880022.0</td>\n",
       "      <td>True</td>\n",
       "      <td>3</td>\n",
       "      <td>0</td>\n",
       "      <td>25</td>\n",
       "    </tr>\n",
       "  </tbody>\n",
       "</table>\n",
       "</div>"
      ],
      "text/plain": [
       "   user_id                       date direction internal  operator_id  \\\n",
       "0   166377  2019-08-04 00:00:00+03:00        in    False          NaN   \n",
       "1   166377  2019-08-05 00:00:00+03:00       out     True     880022.0   \n",
       "2   166377  2019-08-05 00:00:00+03:00       out     True     880020.0   \n",
       "3   166377  2019-08-05 00:00:00+03:00       out     True     880020.0   \n",
       "4   166377  2019-08-05 00:00:00+03:00       out    False     880022.0   \n",
       "\n",
       "   is_missed_call  calls_count  call_duration  total_call_duration  \n",
       "0            True            2              0                    4  \n",
       "1            True            3              0                    5  \n",
       "2            True            1              0                    1  \n",
       "3           False            1             10                   18  \n",
       "4            True            3              0                   25  "
      ]
     },
     "execution_count": 5,
     "metadata": {},
     "output_type": "execute_result"
    }
   ],
   "source": [
    "# Validación de carga de datos correcta\n",
    "calls.head(5)"
   ]
  },
  {
   "cell_type": "markdown",
   "metadata": {},
   "source": [
    "### Revisión de datos (duplicados, nulos y tipo de datos)"
   ]
  },
  {
   "cell_type": "markdown",
   "metadata": {},
   "source": [
    "#### Tabla `clients`"
   ]
  },
  {
   "cell_type": "code",
   "execution_count": 6,
   "metadata": {},
   "outputs": [
    {
     "name": "stdout",
     "output_type": "stream",
     "text": [
      "<class 'pandas.core.frame.DataFrame'>\n",
      "RangeIndex: 732 entries, 0 to 731\n",
      "Data columns (total 3 columns):\n",
      " #   Column       Non-Null Count  Dtype \n",
      "---  ------       --------------  ----- \n",
      " 0   user_id      732 non-null    int64 \n",
      " 1   tariff_plan  732 non-null    object\n",
      " 2   date_start   732 non-null    object\n",
      "dtypes: int64(1), object(2)\n",
      "memory usage: 17.3+ KB\n"
     ]
    }
   ],
   "source": [
    "# Visualizamos información de la tabla\n",
    "clients.info()"
   ]
  },
  {
   "cell_type": "markdown",
   "metadata": {},
   "source": [
    "##### Validación de tipo de datos"
   ]
  },
  {
   "cell_type": "code",
   "execution_count": 7,
   "metadata": {},
   "outputs": [
    {
     "data": {
      "text/plain": [
       "array(['A', 'C', 'B'], dtype=object)"
      ]
     },
     "execution_count": 7,
     "metadata": {},
     "output_type": "execute_result"
    }
   ],
   "source": [
    "# Revisamos si los valores de la siguiente columna podría ser cargada como tipo de dato \"category\"\n",
    "clients['tariff_plan'].unique()"
   ]
  },
  {
   "cell_type": "code",
   "execution_count": 8,
   "metadata": {},
   "outputs": [
    {
     "name": "stdout",
     "output_type": "stream",
     "text": [
      "<class 'pandas.core.frame.DataFrame'>\n",
      "RangeIndex: 732 entries, 0 to 731\n",
      "Data columns (total 3 columns):\n",
      " #   Column       Non-Null Count  Dtype         \n",
      "---  ------       --------------  -----         \n",
      " 0   user_id      732 non-null    int64         \n",
      " 1   tariff_plan  732 non-null    category      \n",
      " 2   date_start   732 non-null    datetime64[ns]\n",
      "dtypes: category(1), datetime64[ns](1), int64(1)\n",
      "memory usage: 12.4 KB\n"
     ]
    }
   ],
   "source": [
    "# Cambiamos los tipos de datos de las columnas \"tariff_plan\" y \"date_start\"\n",
    "clients['tariff_plan'] = clients['tariff_plan'].astype('category')\n",
    "clients['date_start'] = pd.to_datetime(clients['date_start'])\n",
    "\n",
    "clients.info()"
   ]
  },
  {
   "cell_type": "markdown",
   "metadata": {},
   "source": [
    "##### Validación de valores duplicados"
   ]
  },
  {
   "cell_type": "code",
   "execution_count": 9,
   "metadata": {},
   "outputs": [
    {
     "name": "stdout",
     "output_type": "stream",
     "text": [
      "Valores duplicados: 0\n"
     ]
    }
   ],
   "source": [
    "print('Valores duplicados:', clients.duplicated().sum())"
   ]
  },
  {
   "cell_type": "markdown",
   "metadata": {},
   "source": [
    "##### Validación de valores nulos"
   ]
  },
  {
   "cell_type": "code",
   "execution_count": 10,
   "metadata": {},
   "outputs": [
    {
     "name": "stdout",
     "output_type": "stream",
     "text": [
      "Valores nulos: user_id        0\n",
      "tariff_plan    0\n",
      "date_start     0\n",
      "dtype: int64\n"
     ]
    }
   ],
   "source": [
    "print('Valores nulos:', clients.isna().sum())"
   ]
  },
  {
   "cell_type": "markdown",
   "metadata": {},
   "source": [
    "De la revisión del dataframe \"clients\" se conluye lo siguiente:\n",
    "- Se optó por modificar el tipo de dato de los campos:\n",
    "    - `tariff_plan`: de object a category\n",
    "    - `date_start`: de object a datetime \n",
    "- No se encontraron valores duplicados.\n",
    "- No se encontraron valores nulos."
   ]
  },
  {
   "cell_type": "markdown",
   "metadata": {},
   "source": [
    "#### Tabla `calls`"
   ]
  },
  {
   "cell_type": "code",
   "execution_count": 11,
   "metadata": {},
   "outputs": [
    {
     "name": "stdout",
     "output_type": "stream",
     "text": [
      "<class 'pandas.core.frame.DataFrame'>\n",
      "RangeIndex: 53902 entries, 0 to 53901\n",
      "Data columns (total 9 columns):\n",
      " #   Column               Non-Null Count  Dtype  \n",
      "---  ------               --------------  -----  \n",
      " 0   user_id              53902 non-null  int64  \n",
      " 1   date                 53902 non-null  object \n",
      " 2   direction            53902 non-null  object \n",
      " 3   internal             53785 non-null  object \n",
      " 4   operator_id          45730 non-null  float64\n",
      " 5   is_missed_call       53902 non-null  bool   \n",
      " 6   calls_count          53902 non-null  int64  \n",
      " 7   call_duration        53902 non-null  int64  \n",
      " 8   total_call_duration  53902 non-null  int64  \n",
      "dtypes: bool(1), float64(1), int64(4), object(3)\n",
      "memory usage: 3.3+ MB\n"
     ]
    }
   ],
   "source": [
    "# Visualizamos información de la tabla\n",
    "calls.info()"
   ]
  },
  {
   "cell_type": "markdown",
   "metadata": {},
   "source": [
    "##### Validación de tipo de datos"
   ]
  },
  {
   "cell_type": "code",
   "execution_count": 12,
   "metadata": {},
   "outputs": [
    {
     "name": "stdout",
     "output_type": "stream",
     "text": [
      "['in' 'out']\n",
      "[False True nan]\n",
      "[ True False]\n"
     ]
    }
   ],
   "source": [
    "# Revisamos si los valores de la siguiente columna podría ser cargada como tipo de dato \"category\"\n",
    "print(calls['direction'].unique())\n",
    "print(calls['internal'].unique())\n",
    "print(calls['is_missed_call'].unique())"
   ]
  },
  {
   "cell_type": "code",
   "execution_count": 13,
   "metadata": {},
   "outputs": [
    {
     "name": "stdout",
     "output_type": "stream",
     "text": [
      "<class 'pandas.core.frame.DataFrame'>\n",
      "RangeIndex: 53902 entries, 0 to 53901\n",
      "Data columns (total 9 columns):\n",
      " #   Column               Non-Null Count  Dtype   \n",
      "---  ------               --------------  -----   \n",
      " 0   user_id              53902 non-null  int64   \n",
      " 1   date                 53902 non-null  object  \n",
      " 2   direction            53902 non-null  category\n",
      " 3   internal             53902 non-null  bool    \n",
      " 4   operator_id          45730 non-null  float64 \n",
      " 5   is_missed_call       53902 non-null  bool    \n",
      " 6   calls_count          53902 non-null  int64   \n",
      " 7   call_duration        53902 non-null  int64   \n",
      " 8   total_call_duration  53902 non-null  int64   \n",
      "dtypes: bool(2), category(1), float64(1), int64(4), object(1)\n",
      "memory usage: 2.6+ MB\n"
     ]
    }
   ],
   "source": [
    "# Modificamos el tipo de datos de los campos \"direction\", \"internal\"\n",
    "calls['direction'] = calls['direction'].astype('category')\n",
    "calls['internal'] = calls['internal'].astype('bool')\n",
    "\n",
    "calls.info()"
   ]
  },
  {
   "cell_type": "code",
   "execution_count": 14,
   "metadata": {},
   "outputs": [
    {
     "name": "stdout",
     "output_type": "stream",
     "text": [
      "<class 'pandas.core.frame.DataFrame'>\n",
      "RangeIndex: 53902 entries, 0 to 53901\n",
      "Data columns (total 10 columns):\n",
      " #   Column               Non-Null Count  Dtype         \n",
      "---  ------               --------------  -----         \n",
      " 0   user_id              53902 non-null  int64         \n",
      " 1   date                 53902 non-null  object        \n",
      " 2   direction            53902 non-null  category      \n",
      " 3   internal             53902 non-null  bool          \n",
      " 4   operator_id          45730 non-null  float64       \n",
      " 5   is_missed_call       53902 non-null  bool          \n",
      " 6   calls_count          53902 non-null  int64         \n",
      " 7   call_duration        53902 non-null  int64         \n",
      " 8   total_call_duration  53902 non-null  int64         \n",
      " 9   date_utc             53902 non-null  datetime64[ns]\n",
      "dtypes: bool(2), category(1), datetime64[ns](1), float64(1), int64(4), object(1)\n",
      "memory usage: 3.0+ MB\n"
     ]
    }
   ],
   "source": [
    "# Agregamos un campo de fecha que se encuentre en la zona horaria nuestra\n",
    "calls['date_utc'] = pd.to_datetime(calls['date']).dt.tz_localize(None)\n",
    "\n",
    "calls.info()"
   ]
  },
  {
   "cell_type": "markdown",
   "metadata": {},
   "source": [
    "##### Validación de valores duplicados"
   ]
  },
  {
   "cell_type": "code",
   "execution_count": 15,
   "metadata": {},
   "outputs": [
    {
     "name": "stdout",
     "output_type": "stream",
     "text": [
      "Valores Duplicados: 4900\n"
     ]
    }
   ],
   "source": [
    "print('Valores Duplicados:', calls.duplicated().sum())"
   ]
  },
  {
   "cell_type": "code",
   "execution_count": 16,
   "metadata": {},
   "outputs": [
    {
     "name": "stdout",
     "output_type": "stream",
     "text": [
      "Valores Duplicados: 0\n"
     ]
    }
   ],
   "source": [
    "# Eliminamos valores duplicados\n",
    "calls.drop_duplicates(inplace=True)\n",
    "calls.reset_index(inplace=True, drop=True)\n",
    "print('Valores Duplicados:', calls.duplicated().sum())"
   ]
  },
  {
   "cell_type": "code",
   "execution_count": 17,
   "metadata": {},
   "outputs": [
    {
     "name": "stdout",
     "output_type": "stream",
     "text": [
      "<class 'pandas.core.frame.DataFrame'>\n",
      "RangeIndex: 49002 entries, 0 to 49001\n",
      "Data columns (total 10 columns):\n",
      " #   Column               Non-Null Count  Dtype         \n",
      "---  ------               --------------  -----         \n",
      " 0   user_id              49002 non-null  int64         \n",
      " 1   date                 49002 non-null  object        \n",
      " 2   direction            49002 non-null  category      \n",
      " 3   internal             49002 non-null  bool          \n",
      " 4   operator_id          41546 non-null  float64       \n",
      " 5   is_missed_call       49002 non-null  bool          \n",
      " 6   calls_count          49002 non-null  int64         \n",
      " 7   call_duration        49002 non-null  int64         \n",
      " 8   total_call_duration  49002 non-null  int64         \n",
      " 9   date_utc             49002 non-null  datetime64[ns]\n",
      "dtypes: bool(2), category(1), datetime64[ns](1), float64(1), int64(4), object(1)\n",
      "memory usage: 2.8+ MB\n"
     ]
    }
   ],
   "source": [
    "# Validamos la información de la tabla \"calls\"\n",
    "calls.info()"
   ]
  },
  {
   "cell_type": "markdown",
   "metadata": {},
   "source": [
    "##### Validación de valores nulos"
   ]
  },
  {
   "cell_type": "code",
   "execution_count": 18,
   "metadata": {},
   "outputs": [
    {
     "name": "stdout",
     "output_type": "stream",
     "text": [
      "Valores nulos: user_id                   0\n",
      "date                      0\n",
      "direction                 0\n",
      "internal                  0\n",
      "operator_id            7456\n",
      "is_missed_call            0\n",
      "calls_count               0\n",
      "call_duration             0\n",
      "total_call_duration       0\n",
      "date_utc                  0\n",
      "dtype: int64\n"
     ]
    }
   ],
   "source": [
    "print('Valores nulos:', calls.isna().sum())"
   ]
  },
  {
   "cell_type": "code",
   "execution_count": 19,
   "metadata": {},
   "outputs": [
    {
     "data": {
      "image/png": "[encoded data removed]",
      "text/plain": [
       "<Figure size 3000x1000 with 1 Axes>"
      ]
     },
     "metadata": {},
     "output_type": "display_data"
    }
   ],
   "source": [
    "# Validamos la distribución de los registros antes de eliminar registros con valores nulos.\n",
    "fig, test = plt.subplots()\n",
    "\n",
    "plt.hist(calls['date_utc'])\n",
    "\n",
    "test.set_title('Histograma de eventos registrados por fecha')\n",
    "test.set_ylabel('Cantidad')\n",
    "test.set_xlabel('Fecha de registro del evento')\n",
    "\n",
    "fig.set_figheight(10)\n",
    "fig.set_figwidth(30)"
   ]
  },
  {
   "cell_type": "markdown",
   "metadata": {},
   "source": [
    "Dado que el objetivo del proyecto busca identificar los operadores ineficientes, podemos excluir a los registros de llamadas que no cuentan con el dato `operador_id` que es lo que nos permitirá brindar un análisis completo."
   ]
  },
  {
   "cell_type": "code",
   "execution_count": 20,
   "metadata": {},
   "outputs": [
    {
     "name": "stdout",
     "output_type": "stream",
     "text": [
      "user_id                0\n",
      "date                   0\n",
      "direction              0\n",
      "internal               0\n",
      "operator_id            0\n",
      "is_missed_call         0\n",
      "calls_count            0\n",
      "call_duration          0\n",
      "total_call_duration    0\n",
      "date_utc               0\n",
      "dtype: int64\n"
     ]
    }
   ],
   "source": [
    "# Eliminamos registros con valores nulos en el campo \"operator_id\"\n",
    "calls.dropna(subset=['operator_id'], inplace=True)\n",
    "calls.reset_index(inplace=True, drop=True)\n",
    "\n",
    "print(calls.isna().sum())"
   ]
  },
  {
   "cell_type": "code",
   "execution_count": 21,
   "metadata": {},
   "outputs": [],
   "source": [
    "# Modificamos el tipo de datos de los campos \"operation_id\"\n",
    "calls['operator_id'] = calls['operator_id'].astype('int')"
   ]
  },
  {
   "cell_type": "code",
   "execution_count": 22,
   "metadata": {},
   "outputs": [
    {
     "name": "stdout",
     "output_type": "stream",
     "text": [
      "<class 'pandas.core.frame.DataFrame'>\n",
      "RangeIndex: 41546 entries, 0 to 41545\n",
      "Data columns (total 10 columns):\n",
      " #   Column               Non-Null Count  Dtype         \n",
      "---  ------               --------------  -----         \n",
      " 0   user_id              41546 non-null  int64         \n",
      " 1   date                 41546 non-null  object        \n",
      " 2   direction            41546 non-null  category      \n",
      " 3   internal             41546 non-null  bool          \n",
      " 4   operator_id          41546 non-null  int64         \n",
      " 5   is_missed_call       41546 non-null  bool          \n",
      " 6   calls_count          41546 non-null  int64         \n",
      " 7   call_duration        41546 non-null  int64         \n",
      " 8   total_call_duration  41546 non-null  int64         \n",
      " 9   date_utc             41546 non-null  datetime64[ns]\n",
      "dtypes: bool(2), category(1), datetime64[ns](1), int64(5), object(1)\n",
      "memory usage: 2.3+ MB\n"
     ]
    }
   ],
   "source": [
    "# Validamos la información de la tabla \"calls\"\n",
    "calls.info()"
   ]
  },
  {
   "cell_type": "code",
   "execution_count": 23,
   "metadata": {},
   "outputs": [
    {
     "data": {
      "image/png": "[encoded data removed]",
      "text/plain": [
       "<Figure size 3000x1000 with 1 Axes>"
      ]
     },
     "metadata": {},
     "output_type": "display_data"
    }
   ],
   "source": [
    "# Validamos si al eliminar los registros nos quedamos con un periodo de fechas completo\n",
    "fig, test = plt.subplots()\n",
    "\n",
    "plt.hist(calls['date_utc'])\n",
    "\n",
    "test.set_title('Histograma de eventos registrados por fecha')\n",
    "test.set_ylabel('Cantidad')\n",
    "test.set_xlabel('Fecha de registro del evento')\n",
    "\n",
    "fig.set_figheight(10)\n",
    "fig.set_figwidth(30)"
   ]
  },
  {
   "cell_type": "markdown",
   "metadata": {},
   "source": [
    "De la revisión del dataframe \"calls\" se conluye lo siguiente:\n",
    "- Se optó por modificar el tipo de dato de los campos:\n",
    "    - `direction`: de object a category\n",
    "    - `internal`: de object a bool\n",
    "- Se creó un campo `date_utc` con el tipo de dato \"datetime\" para poder realizar el análisis de datos para el desarrollo del proyecto.\n",
    "- Se encontraron 4,900 registros duplicados (9% del total de registros) los cuales fueron eliminados para el desarrollo del proyecto.\n",
    "- Se encontraron 7,456 registros con valores nulos en el campo `operator_id`, y se consideró eliminarlos para el desarrollo del proyecto debido a que es un campo necesario para el análisis."
   ]
  },
  {
   "cell_type": "markdown",
   "metadata": {},
   "source": [
    "[Volver a la Tabla de Contenido](#indice)"
   ]
  },
  {
   "cell_type": "markdown",
   "metadata": {},
   "source": [
    "<a id=\"analisis_data\"></a>\n",
    "## Análisis exploratorio de datos"
   ]
  },
  {
   "cell_type": "markdown",
   "metadata": {},
   "source": [
    "### Validación de valores atípicos"
   ]
  },
  {
   "cell_type": "markdown",
   "metadata": {},
   "source": [
    "#### Llamadas diferenciadas por tipo de dirección de la llamada: \"entrada\" o \"salida\""
   ]
  },
  {
   "cell_type": "code",
   "execution_count": 24,
   "metadata": {},
   "outputs": [
    {
     "data": {
      "text/plain": [
       "<AxesSubplot:xlabel='direction', ylabel='calls_count'>"
      ]
     },
     "execution_count": 24,
     "metadata": {},
     "output_type": "execute_result"
    },
    {
     "data": {
      "image/png": "[encoded data removed]",
      "text/plain": [
       "<Figure size 640x480 with 1 Axes>"
      ]
     },
     "metadata": {},
     "output_type": "display_data"
    }
   ],
   "source": [
    "# llamadas diferenciadas por tipo de dirección: \"entrada\" o \"salida\"\n",
    "sns.boxplot(data=calls, x='direction', y= calls['calls_count'])"
   ]
  },
  {
   "cell_type": "code",
   "execution_count": 25,
   "metadata": {},
   "outputs": [
    {
     "data": {
      "text/html": [
       "<div>\n",
       "<style scoped>\n",
       "    .dataframe tbody tr th:only-of-type {\n",
       "        vertical-align: middle;\n",
       "    }\n",
       "\n",
       "    .dataframe tbody tr th {\n",
       "        vertical-align: top;\n",
       "    }\n",
       "\n",
       "    .dataframe thead th {\n",
       "        text-align: right;\n",
       "    }\n",
       "</style>\n",
       "<table border=\"1\" class=\"dataframe\">\n",
       "  <thead>\n",
       "    <tr style=\"text-align: right;\">\n",
       "      <th></th>\n",
       "      <th>user_id</th>\n",
       "      <th>date</th>\n",
       "      <th>direction</th>\n",
       "      <th>internal</th>\n",
       "      <th>operator_id</th>\n",
       "      <th>is_missed_call</th>\n",
       "      <th>calls_count</th>\n",
       "      <th>call_duration</th>\n",
       "      <th>total_call_duration</th>\n",
       "      <th>date_utc</th>\n",
       "    </tr>\n",
       "  </thead>\n",
       "  <tbody>\n",
       "    <tr>\n",
       "      <th>31163</th>\n",
       "      <td>167827</td>\n",
       "      <td>2019-10-31 00:00:00+03:00</td>\n",
       "      <td>out</td>\n",
       "      <td>False</td>\n",
       "      <td>929428</td>\n",
       "      <td>True</td>\n",
       "      <td>2614</td>\n",
       "      <td>0</td>\n",
       "      <td>45312</td>\n",
       "      <td>2019-10-31</td>\n",
       "    </tr>\n",
       "    <tr>\n",
       "      <th>31207</th>\n",
       "      <td>167827</td>\n",
       "      <td>2019-11-11 00:00:00+03:00</td>\n",
       "      <td>out</td>\n",
       "      <td>False</td>\n",
       "      <td>929428</td>\n",
       "      <td>True</td>\n",
       "      <td>4817</td>\n",
       "      <td>0</td>\n",
       "      <td>5529</td>\n",
       "      <td>2019-11-11</td>\n",
       "    </tr>\n",
       "  </tbody>\n",
       "</table>\n",
       "</div>"
      ],
      "text/plain": [
       "       user_id                       date direction  internal  operator_id  \\\n",
       "31163   167827  2019-10-31 00:00:00+03:00       out     False       929428   \n",
       "31207   167827  2019-11-11 00:00:00+03:00       out     False       929428   \n",
       "\n",
       "       is_missed_call  calls_count  call_duration  total_call_duration  \\\n",
       "31163            True         2614              0                45312   \n",
       "31207            True         4817              0                 5529   \n",
       "\n",
       "        date_utc  \n",
       "31163 2019-10-31  \n",
       "31207 2019-11-11  "
      ]
     },
     "execution_count": 25,
     "metadata": {},
     "output_type": "execute_result"
    }
   ],
   "source": [
    "calls[(calls['direction']=='out') & (calls['calls_count']>2000)]"
   ]
  },
  {
   "cell_type": "code",
   "execution_count": 26,
   "metadata": {},
   "outputs": [
    {
     "name": "stdout",
     "output_type": "stream",
     "text": [
      "<class 'pandas.core.frame.DataFrame'>\n",
      "Int64Index: 41544 entries, 0 to 41545\n",
      "Data columns (total 10 columns):\n",
      " #   Column               Non-Null Count  Dtype         \n",
      "---  ------               --------------  -----         \n",
      " 0   user_id              41544 non-null  int64         \n",
      " 1   date                 41544 non-null  object        \n",
      " 2   direction            41544 non-null  category      \n",
      " 3   internal             41544 non-null  bool          \n",
      " 4   operator_id          41544 non-null  int64         \n",
      " 5   is_missed_call       41544 non-null  bool          \n",
      " 6   calls_count          41544 non-null  int64         \n",
      " 7   call_duration        41544 non-null  int64         \n",
      " 8   total_call_duration  41544 non-null  int64         \n",
      " 9   date_utc             41544 non-null  datetime64[ns]\n",
      "dtypes: bool(2), category(1), datetime64[ns](1), int64(5), object(1)\n",
      "memory usage: 2.7+ MB\n"
     ]
    }
   ],
   "source": [
    "# Eliminamos los dos registros atípicos\n",
    "calls.drop(calls[(calls['direction']=='out') & (calls['calls_count']>2000)].index, inplace=True)\n",
    "calls.reset_index(drop=True)\n",
    "\n",
    "calls.info()"
   ]
  },
  {
   "cell_type": "markdown",
   "metadata": {},
   "source": [
    "Se encontraron 2 registros con valores atípicos muy marcados por lo que se decidió excluirlos del análisis. Además se observa que los valores atípicos estan más presente en las llamadas de salida."
   ]
  },
  {
   "cell_type": "markdown",
   "metadata": {},
   "source": [
    "#### Llamadas diferenciadas por tipo de llamada: \"interna\" o \"externa\""
   ]
  },
  {
   "cell_type": "code",
   "execution_count": 27,
   "metadata": {},
   "outputs": [
    {
     "data": {
      "text/plain": [
       "<AxesSubplot:xlabel='internal', ylabel='calls_count'>"
      ]
     },
     "execution_count": 27,
     "metadata": {},
     "output_type": "execute_result"
    },
    {
     "data": {
      "image/png": "[encoded data removed]",
      "text/plain": [
       "<Figure size 640x480 with 1 Axes>"
      ]
     },
     "metadata": {},
     "output_type": "display_data"
    }
   ],
   "source": [
    "# Llamadas diferenciadas por tipo de llamada: \"interna\" o \"externa\"\n",
    "sns.boxplot(data=calls, x='internal', y= calls['calls_count'])"
   ]
  },
  {
   "cell_type": "markdown",
   "metadata": {},
   "source": [
    "Se observa que hay mayor cantidad de valores atípicos en la salidas externas; sin embargo, se optó por no eliminarlos del análisis."
   ]
  },
  {
   "cell_type": "markdown",
   "metadata": {},
   "source": [
    "#### Llamadas diferenciadas diferenciado por \"contestada\" o \"pérdida\""
   ]
  },
  {
   "cell_type": "code",
   "execution_count": 28,
   "metadata": {},
   "outputs": [
    {
     "data": {
      "text/plain": [
       "<AxesSubplot:xlabel='is_missed_call', ylabel='calls_count'>"
      ]
     },
     "execution_count": 28,
     "metadata": {},
     "output_type": "execute_result"
    },
    {
     "data": {
      "image/png": "[encoded data removed]",
      "text/plain": [
       "<Figure size 640x480 with 1 Axes>"
      ]
     },
     "metadata": {},
     "output_type": "display_data"
    }
   ],
   "source": [
    "# llamadas diferenciadas diferenciado por \"contestada\" o \"pérdida\"\n",
    "sns.boxplot(data=calls, x='is_missed_call', y= calls['calls_count'])"
   ]
  },
  {
   "cell_type": "markdown",
   "metadata": {},
   "source": [
    "Se observa que los valores atípicos estan presentes tanto en las llamadas pérdidas como contestadas. Se optó por no excluir ningún registro."
   ]
  },
  {
   "cell_type": "markdown",
   "metadata": {},
   "source": [
    "### Distribución de clientes"
   ]
  },
  {
   "cell_type": "code",
   "execution_count": 29,
   "metadata": {},
   "outputs": [
    {
     "data": {
      "text/plain": [
       "732"
      ]
     },
     "execution_count": 29,
     "metadata": {},
     "output_type": "execute_result"
    }
   ],
   "source": [
    "# Cantidad de clientes\n",
    "clients['user_id'].nunique()"
   ]
  },
  {
   "cell_type": "code",
   "execution_count": 30,
   "metadata": {},
   "outputs": [],
   "source": [
    "# Cantidad de clientes por fecha\n",
    "clients_x_date = clients.groupby('date_start')['user_id'].nunique().reset_index()\n",
    "clients_x_date.columns = ['date_start', 'users_number'] "
   ]
  },
  {
   "cell_type": "code",
   "execution_count": 31,
   "metadata": {},
   "outputs": [
    {
     "data": {
      "text/plain": [
       "Text(0.5, 0, 'Fecha de registro del usuario')"
      ]
     },
     "execution_count": 31,
     "metadata": {},
     "output_type": "execute_result"
    },
    {
     "data": {
      "image/png": "[encoded data removed]",
      "text/plain": [
       "<Figure size 8000x1000 with 1 Axes>"
      ]
     },
     "metadata": {},
     "output_type": "display_data"
    }
   ],
   "source": [
    "# Graficamos la distribución de clientes\n",
    "fig, test = plt.subplots(figsize = (80, 10))\n",
    "sns.barplot(data=clients_x_date, x='date_start', y='users_number')\n",
    "test.set_title('Histograma de clientes registrados')\n",
    "test.set_ylabel('Cantidad de clientes')\n",
    "test.set_xlabel('Fecha de registro del usuario')"
   ]
  },
  {
   "cell_type": "markdown",
   "metadata": {},
   "source": [
    "De lo revisado se observa lo siguiente:\n",
    "* La muestra indica que se tienen 732 clientes.\n",
    "* La cantidad de clientes desde el 01/08/2019 hasta el 31/10/2019 ha sido constante, salvo algunos días."
   ]
  },
  {
   "cell_type": "markdown",
   "metadata": {},
   "source": [
    "### Distribución de operadores"
   ]
  },
  {
   "cell_type": "code",
   "execution_count": 32,
   "metadata": {},
   "outputs": [
    {
     "data": {
      "text/plain": [
       "1092"
      ]
     },
     "execution_count": 32,
     "metadata": {},
     "output_type": "execute_result"
    }
   ],
   "source": [
    "# Cantidad de operadores que atienden llamadas\n",
    "calls['operator_id'].nunique()"
   ]
  },
  {
   "cell_type": "code",
   "execution_count": 33,
   "metadata": {},
   "outputs": [
    {
     "data": {
      "text/plain": [
       "3.7655172413793103"
      ]
     },
     "execution_count": 33,
     "metadata": {},
     "output_type": "execute_result"
    }
   ],
   "source": [
    "# Cantidad promedio de operadores atienden a cada cliente\n",
    "operators_x_client = calls.groupby('user_id')['operator_id'].nunique().reset_index()\n",
    "operators_x_client.columns = ['user_id', 'operators_number']\n",
    "operators_x_client['operators_number'].mean()"
   ]
  },
  {
   "cell_type": "code",
   "execution_count": 34,
   "metadata": {},
   "outputs": [
    {
     "data": {
      "text/plain": [
       "1.0"
      ]
     },
     "execution_count": 34,
     "metadata": {},
     "output_type": "execute_result"
    }
   ],
   "source": [
    "# Cantidad promedio de usuarios que atiende cada operador\n",
    "calls.groupby('operator_id')['user_id'].nunique().mean()"
   ]
  },
  {
   "cell_type": "code",
   "execution_count": 35,
   "metadata": {},
   "outputs": [
    {
     "data": {
      "text/plain": [
       "<AxesSubplot:>"
      ]
     },
     "execution_count": 35,
     "metadata": {},
     "output_type": "execute_result"
    },
    {
     "data": {
      "image/png": "[encoded data removed]",
      "text/plain": [
       "<Figure size 640x480 with 1 Axes>"
      ]
     },
     "metadata": {},
     "output_type": "display_data"
    }
   ],
   "source": [
    "# Graficamos la distribución de operadores que atiende a cada cliente\n",
    "operators_x_client['operators_number'].hist()"
   ]
  },
  {
   "cell_type": "markdown",
   "metadata": {},
   "source": [
    "De lo revisado se observa lo siguiente:\n",
    "* La muestra indica que se tienen 1,092 operadores que atienden a los 732 clientes.\n",
    "* El número de operadores en promedio que atiende a cada usuario es 4.\n",
    "* Un operador solo atiende a un usuario.\n",
    "* Los usuarios tienen entre 1 y 10 operadores atendiendo sus llamadas; sin embargo, hay algunos usuarios que pueden tener hasta 50 operadores."
   ]
  },
  {
   "cell_type": "markdown",
   "metadata": {},
   "source": [
    "###  Distribución del tarifario"
   ]
  },
  {
   "cell_type": "code",
   "execution_count": 36,
   "metadata": {},
   "outputs": [
    {
     "data": {
      "text/html": [
       "<div>\n",
       "<style scoped>\n",
       "    .dataframe tbody tr th:only-of-type {\n",
       "        vertical-align: middle;\n",
       "    }\n",
       "\n",
       "    .dataframe tbody tr th {\n",
       "        vertical-align: top;\n",
       "    }\n",
       "\n",
       "    .dataframe thead th {\n",
       "        text-align: right;\n",
       "    }\n",
       "</style>\n",
       "<table border=\"1\" class=\"dataframe\">\n",
       "  <thead>\n",
       "    <tr style=\"text-align: right;\">\n",
       "      <th></th>\n",
       "      <th>user_id</th>\n",
       "      <th>operator_id</th>\n",
       "      <th>calls_count</th>\n",
       "      <th>call_duration</th>\n",
       "    </tr>\n",
       "    <tr>\n",
       "      <th>tariff_plan</th>\n",
       "      <th></th>\n",
       "      <th></th>\n",
       "      <th></th>\n",
       "      <th></th>\n",
       "    </tr>\n",
       "  </thead>\n",
       "  <tbody>\n",
       "    <tr>\n",
       "      <th>A</th>\n",
       "      <td>32</td>\n",
       "      <td>310</td>\n",
       "      <td>380271</td>\n",
       "      <td>21336066</td>\n",
       "    </tr>\n",
       "    <tr>\n",
       "      <th>B</th>\n",
       "      <td>101</td>\n",
       "      <td>395</td>\n",
       "      <td>138711</td>\n",
       "      <td>10372319</td>\n",
       "    </tr>\n",
       "    <tr>\n",
       "      <th>C</th>\n",
       "      <td>157</td>\n",
       "      <td>387</td>\n",
       "      <td>175732</td>\n",
       "      <td>10243485</td>\n",
       "    </tr>\n",
       "  </tbody>\n",
       "</table>\n",
       "</div>"
      ],
      "text/plain": [
       "             user_id  operator_id  calls_count  call_duration\n",
       "tariff_plan                                                  \n",
       "A                 32          310       380271       21336066\n",
       "B                101          395       138711       10372319\n",
       "C                157          387       175732       10243485"
      ]
     },
     "execution_count": 36,
     "metadata": {},
     "output_type": "execute_result"
    }
   ],
   "source": [
    "# Armamos una dataframe donde podamos ver por cliente: cantidad de operadores y tarifario\n",
    "\n",
    "registers = clients.merge(calls, on='user_id', how='inner')\n",
    "\n",
    "registers.groupby('tariff_plan').agg({'user_id':'nunique', 'operator_id':'nunique', 'calls_count':'sum', 'call_duration': 'sum'})"
   ]
  },
  {
   "cell_type": "markdown",
   "metadata": {},
   "source": [
    "De lo revisado se observa lo siguiente:\n",
    "* La muestra indica que se tienen 3 tipos de tarifa: A, B, C. Donde asumiremos que el plan más caro es A, seguido de B y finalmente C (plan más barato).\n",
    "* La mayor cantidad de usuarios se encuentra entre el plan B y C; y unos pocos en el plan A.\n",
    "* El número de operadores por tipo de plan asignado es equitativo.\n",
    "* El número de llamadas realizadas por tipo de tarifa es mayor en el plan A y eso debe explicar porque la duración total de las llamadas en el plan A también es el más alto."
   ]
  },
  {
   "cell_type": "markdown",
   "metadata": {},
   "source": [
    "### Distribución de llamadas"
   ]
  },
  {
   "cell_type": "code",
   "execution_count": 37,
   "metadata": {},
   "outputs": [
    {
     "data": {
      "text/html": [
       "<div>\n",
       "<style scoped>\n",
       "    .dataframe tbody tr th:only-of-type {\n",
       "        vertical-align: middle;\n",
       "    }\n",
       "\n",
       "    .dataframe tbody tr th {\n",
       "        vertical-align: top;\n",
       "    }\n",
       "\n",
       "    .dataframe thead th {\n",
       "        text-align: right;\n",
       "    }\n",
       "</style>\n",
       "<table border=\"1\" class=\"dataframe\">\n",
       "  <thead>\n",
       "    <tr style=\"text-align: right;\">\n",
       "      <th></th>\n",
       "      <th>date</th>\n",
       "      <th>calls_count</th>\n",
       "      <th>operators_count</th>\n",
       "    </tr>\n",
       "  </thead>\n",
       "  <tbody>\n",
       "    <tr>\n",
       "      <th>0</th>\n",
       "      <td>2019-08-02</td>\n",
       "      <td>19</td>\n",
       "      <td>3</td>\n",
       "    </tr>\n",
       "    <tr>\n",
       "      <th>1</th>\n",
       "      <td>2019-08-03</td>\n",
       "      <td>27</td>\n",
       "      <td>2</td>\n",
       "    </tr>\n",
       "    <tr>\n",
       "      <th>2</th>\n",
       "      <td>2019-08-04</td>\n",
       "      <td>4</td>\n",
       "      <td>2</td>\n",
       "    </tr>\n",
       "    <tr>\n",
       "      <th>3</th>\n",
       "      <td>2019-08-05</td>\n",
       "      <td>183</td>\n",
       "      <td>4</td>\n",
       "    </tr>\n",
       "    <tr>\n",
       "      <th>4</th>\n",
       "      <td>2019-08-06</td>\n",
       "      <td>184</td>\n",
       "      <td>7</td>\n",
       "    </tr>\n",
       "  </tbody>\n",
       "</table>\n",
       "</div>"
      ],
      "text/plain": [
       "        date  calls_count  operators_count\n",
       "0 2019-08-02           19                3\n",
       "1 2019-08-03           27                2\n",
       "2 2019-08-04            4                2\n",
       "3 2019-08-05          183                4\n",
       "4 2019-08-06          184                7"
      ]
     },
     "execution_count": 37,
     "metadata": {},
     "output_type": "execute_result"
    }
   ],
   "source": [
    "# Cantidad de llamadas y operadores por fecha\n",
    "calls_x_date = calls.groupby('date_utc').agg({'calls_count':'sum', 'operator_id':'nunique'}).reset_index()\n",
    "calls_x_date.columns = ['date', 'calls_count', 'operators_count']\n",
    "calls_x_date.head(5)"
   ]
  },
  {
   "cell_type": "code",
   "execution_count": 38,
   "metadata": {},
   "outputs": [
    {
     "data": {
      "text/plain": [
       "<seaborn.axisgrid.JointGrid at 0x7f3286b005e0>"
      ]
     },
     "execution_count": 38,
     "metadata": {},
     "output_type": "execute_result"
    },
    {
     "data": {
      "image/png": "[encoded data removed]",
      "text/plain": [
       "<Figure size 600x600 with 3 Axes>"
      ]
     },
     "metadata": {},
     "output_type": "display_data"
    }
   ],
   "source": [
    "# Validamos si existe correlación entre la cantidad de llamadas y la cantidad de operadores por fecha\n",
    "sns.jointplot(data=calls_x_date, x='calls_count', y='operators_count')"
   ]
  },
  {
   "cell_type": "code",
   "execution_count": 39,
   "metadata": {},
   "outputs": [
    {
     "data": {
      "text/plain": [
       "Text(0.5, 0, 'Fecha de registro de llamada')"
      ]
     },
     "execution_count": 39,
     "metadata": {},
     "output_type": "execute_result"
    },
    {
     "data": {
      "image/png": "[encoded data removed]",
      "text/plain": [
       "<Figure size 10000x1000 with 1 Axes>"
      ]
     },
     "metadata": {},
     "output_type": "display_data"
    }
   ],
   "source": [
    "# Graficamos la distribución de llamadas\n",
    "fig, test = plt.subplots(figsize = (100, 10))\n",
    "sns.barplot(data=calls_x_date, x='date', y='calls_count')\n",
    "test.set_title('Histograma de llamadas')\n",
    "test.set_ylabel('Cantidad de llamadas')\n",
    "test.set_xlabel('Fecha de registro de llamada')"
   ]
  },
  {
   "cell_type": "markdown",
   "metadata": {},
   "source": [
    "De lo revisado se observa lo siguiente:\n",
    "* La muestra indica que sí existe correlación directa, a mayor cantidad de operadores mayor cantidad de llamadas.\n",
    "* La muestra indica que la cantidad de llamadas fueron incrementando constantemente, llegando a ser estables a partir de mediados de setiembre."
   ]
  },
  {
   "cell_type": "markdown",
   "metadata": {},
   "source": [
    "### Llamadas por tipo de procedencia"
   ]
  },
  {
   "cell_type": "code",
   "execution_count": 40,
   "metadata": {},
   "outputs": [
    {
     "data": {
      "text/html": [
       "<div>\n",
       "<style scoped>\n",
       "    .dataframe tbody tr th:only-of-type {\n",
       "        vertical-align: middle;\n",
       "    }\n",
       "\n",
       "    .dataframe tbody tr th {\n",
       "        vertical-align: top;\n",
       "    }\n",
       "\n",
       "    .dataframe thead th {\n",
       "        text-align: right;\n",
       "    }\n",
       "</style>\n",
       "<table border=\"1\" class=\"dataframe\">\n",
       "  <thead>\n",
       "    <tr style=\"text-align: right;\">\n",
       "      <th></th>\n",
       "      <th>calls_count</th>\n",
       "      <th>call_duration</th>\n",
       "      <th>total_call_duration</th>\n",
       "    </tr>\n",
       "    <tr>\n",
       "      <th>direction</th>\n",
       "      <th></th>\n",
       "      <th></th>\n",
       "      <th></th>\n",
       "    </tr>\n",
       "  </thead>\n",
       "  <tbody>\n",
       "    <tr>\n",
       "      <th>in</th>\n",
       "      <td>93802</td>\n",
       "      <td>9524011</td>\n",
       "      <td>10757296</td>\n",
       "    </tr>\n",
       "    <tr>\n",
       "      <th>out</th>\n",
       "      <td>600912</td>\n",
       "      <td>32427859</td>\n",
       "      <td>44098758</td>\n",
       "    </tr>\n",
       "  </tbody>\n",
       "</table>\n",
       "</div>"
      ],
      "text/plain": [
       "           calls_count  call_duration  total_call_duration\n",
       "direction                                                 \n",
       "in               93802        9524011             10757296\n",
       "out             600912       32427859             44098758"
      ]
     },
     "execution_count": 40,
     "metadata": {},
     "output_type": "execute_result"
    }
   ],
   "source": [
    "# Duracion de llamadas diferenciado por tipo de llamada: entrada o salida\n",
    "calls.groupby('direction').agg({'calls_count':'sum', 'call_duration':'sum', 'total_call_duration':'sum'})"
   ]
  },
  {
   "cell_type": "code",
   "execution_count": 41,
   "metadata": {},
   "outputs": [
    {
     "data": {
      "text/html": [
       "<div>\n",
       "<style scoped>\n",
       "    .dataframe tbody tr th:only-of-type {\n",
       "        vertical-align: middle;\n",
       "    }\n",
       "\n",
       "    .dataframe tbody tr th {\n",
       "        vertical-align: top;\n",
       "    }\n",
       "\n",
       "    .dataframe thead th {\n",
       "        text-align: right;\n",
       "    }\n",
       "</style>\n",
       "<table border=\"1\" class=\"dataframe\">\n",
       "  <thead>\n",
       "    <tr style=\"text-align: right;\">\n",
       "      <th></th>\n",
       "      <th>calls_count</th>\n",
       "      <th>call_duration</th>\n",
       "      <th>total_call_duration</th>\n",
       "    </tr>\n",
       "    <tr>\n",
       "      <th>internal</th>\n",
       "      <th></th>\n",
       "      <th></th>\n",
       "      <th></th>\n",
       "    </tr>\n",
       "  </thead>\n",
       "  <tbody>\n",
       "    <tr>\n",
       "      <th>False</th>\n",
       "      <td>680989</td>\n",
       "      <td>41363119</td>\n",
       "      <td>54154500</td>\n",
       "    </tr>\n",
       "    <tr>\n",
       "      <th>True</th>\n",
       "      <td>13725</td>\n",
       "      <td>588751</td>\n",
       "      <td>701554</td>\n",
       "    </tr>\n",
       "  </tbody>\n",
       "</table>\n",
       "</div>"
      ],
      "text/plain": [
       "          calls_count  call_duration  total_call_duration\n",
       "internal                                                 \n",
       "False          680989       41363119             54154500\n",
       "True            13725         588751               701554"
      ]
     },
     "execution_count": 41,
     "metadata": {},
     "output_type": "execute_result"
    }
   ],
   "source": [
    "# Duracion de llamadas diferenciado por tipo: externo o interno\n",
    "calls.groupby('internal').agg({'calls_count':'sum', 'call_duration':'sum', 'total_call_duration':'sum'})"
   ]
  },
  {
   "cell_type": "code",
   "execution_count": 42,
   "metadata": {},
   "outputs": [
    {
     "data": {
      "text/html": [
       "<div>\n",
       "<style scoped>\n",
       "    .dataframe tbody tr th:only-of-type {\n",
       "        vertical-align: middle;\n",
       "    }\n",
       "\n",
       "    .dataframe tbody tr th {\n",
       "        vertical-align: top;\n",
       "    }\n",
       "\n",
       "    .dataframe thead th {\n",
       "        text-align: right;\n",
       "    }\n",
       "</style>\n",
       "<table border=\"1\" class=\"dataframe\">\n",
       "  <thead>\n",
       "    <tr style=\"text-align: right;\">\n",
       "      <th></th>\n",
       "      <th>calls_count</th>\n",
       "      <th>call_duration</th>\n",
       "      <th>total_call_duration</th>\n",
       "    </tr>\n",
       "    <tr>\n",
       "      <th>is_missed_call</th>\n",
       "      <th></th>\n",
       "      <th></th>\n",
       "      <th></th>\n",
       "    </tr>\n",
       "  </thead>\n",
       "  <tbody>\n",
       "    <tr>\n",
       "      <th>False</th>\n",
       "      <td>429826</td>\n",
       "      <td>41928109</td>\n",
       "      <td>48598045</td>\n",
       "    </tr>\n",
       "    <tr>\n",
       "      <th>True</th>\n",
       "      <td>264888</td>\n",
       "      <td>23761</td>\n",
       "      <td>6258009</td>\n",
       "    </tr>\n",
       "  </tbody>\n",
       "</table>\n",
       "</div>"
      ],
      "text/plain": [
       "                calls_count  call_duration  total_call_duration\n",
       "is_missed_call                                                 \n",
       "False                429826       41928109             48598045\n",
       "True                 264888          23761              6258009"
      ]
     },
     "execution_count": 42,
     "metadata": {},
     "output_type": "execute_result"
    }
   ],
   "source": [
    "# Duracion de llamadas por tipo de llamada: perdida\n",
    "calls.groupby('is_missed_call').agg({'calls_count':'sum', 'call_duration':'sum', 'total_call_duration':'sum'})"
   ]
  },
  {
   "cell_type": "markdown",
   "metadata": {},
   "source": [
    "La muestra indica que se realizaron 694,714 llamadas, de las cuales:\n",
    "* El 86% corresponde a llamadas salientes mientras que el 14% corresponde a llamadas entrantes.\n",
    "* El 98% corresponde a llamadas externas y solo el 2% corresponde a llamadas internas.\n",
    "* El 62% corresponde a llamadas contestadas mientras que el 38% corresponde a llamadas pérdidas."
   ]
  },
  {
   "cell_type": "markdown",
   "metadata": {},
   "source": [
    "[Volver a la Tabla de Contenido](#indice)"
   ]
  },
  {
   "cell_type": "markdown",
   "metadata": {},
   "source": [
    "<a id=\"identificador_operadores\"></a>\n",
    "## Identificación de operadores ineficaces"
   ]
  },
  {
   "cell_type": "markdown",
   "metadata": {},
   "source": [
    "Para considerar si un operador es ineficaz o no, tenemos que definir ¿qué es un operador ineficaz?\n",
    "La descripción menciona 3 características y es lo que buscaremos en este paso:\n",
    "\n",
    "1 Identificar los operadores que tuvieron mayor cantidad de llamadas pérdidas (entradas y salidas)\n",
    "\n",
    "2 Identificar los operadores que tuvieron llamadas en espera, y rankear en base a los que tuvieron mayor tiempo prologando de espera (entradas)\n",
    "\n",
    "3 Identificar los operadores con menor cantidad de llamadas (salidas)\n",
    "\n",
    "Para clasificarlo, sugiero crear tres campos donde cada campo recoga, a través de un dato booleano, nos indique si calza o no con cada característica que describe a un operador ineficaz.\n",
    "Si un operador tiene alguna de estos campos en true será clasificado como operador ineficaz. Además, se podría subclasificarlos para darles prioridad lo cual sería de gran ayuda a los supervisores por donde empezar para hacer más eficiente a su equipo.\n",
    "- alto: 3 campos en true\n",
    "- medio: 2 campos en true\n",
    "- bajo: 1 campo en true"
   ]
  },
  {
   "cell_type": "markdown",
   "metadata": {},
   "source": [
    "### Creamos dataframe `ranking_operadores`\n",
    "Se identifica qué operador a incurrido en cada condición pero aún no se considerará los límites (más cantidad de llamadas pérdidas, mayor tiempo en espera, etc.)"
   ]
  },
  {
   "cell_type": "code",
   "execution_count": 43,
   "metadata": {},
   "outputs": [
    {
     "data": {
      "text/html": [
       "<div>\n",
       "<style scoped>\n",
       "    .dataframe tbody tr th:only-of-type {\n",
       "        vertical-align: middle;\n",
       "    }\n",
       "\n",
       "    .dataframe tbody tr th {\n",
       "        vertical-align: top;\n",
       "    }\n",
       "\n",
       "    .dataframe thead th {\n",
       "        text-align: right;\n",
       "    }\n",
       "</style>\n",
       "<table border=\"1\" class=\"dataframe\">\n",
       "  <thead>\n",
       "    <tr style=\"text-align: right;\">\n",
       "      <th></th>\n",
       "      <th>calls_count</th>\n",
       "      <th>call_duration</th>\n",
       "      <th>total_call_duration</th>\n",
       "    </tr>\n",
       "    <tr>\n",
       "      <th>operator_id</th>\n",
       "      <th></th>\n",
       "      <th></th>\n",
       "      <th></th>\n",
       "    </tr>\n",
       "  </thead>\n",
       "  <tbody>\n",
       "    <tr>\n",
       "      <th>913942</th>\n",
       "      <td>52</td>\n",
       "      <td>25</td>\n",
       "      <td>805</td>\n",
       "    </tr>\n",
       "    <tr>\n",
       "      <th>940588</th>\n",
       "      <td>30</td>\n",
       "      <td>4358</td>\n",
       "      <td>4468</td>\n",
       "    </tr>\n",
       "    <tr>\n",
       "      <th>944226</th>\n",
       "      <td>30</td>\n",
       "      <td>66</td>\n",
       "      <td>1557</td>\n",
       "    </tr>\n",
       "    <tr>\n",
       "      <th>885890</th>\n",
       "      <td>26</td>\n",
       "      <td>5</td>\n",
       "      <td>266</td>\n",
       "    </tr>\n",
       "    <tr>\n",
       "      <th>944216</th>\n",
       "      <td>24</td>\n",
       "      <td>194</td>\n",
       "      <td>1481</td>\n",
       "    </tr>\n",
       "    <tr>\n",
       "      <th>...</th>\n",
       "      <td>...</td>\n",
       "      <td>...</td>\n",
       "      <td>...</td>\n",
       "    </tr>\n",
       "    <tr>\n",
       "      <th>924546</th>\n",
       "      <td>1</td>\n",
       "      <td>0</td>\n",
       "      <td>20</td>\n",
       "    </tr>\n",
       "    <tr>\n",
       "      <th>924928</th>\n",
       "      <td>1</td>\n",
       "      <td>107</td>\n",
       "      <td>117</td>\n",
       "    </tr>\n",
       "    <tr>\n",
       "      <th>924930</th>\n",
       "      <td>1</td>\n",
       "      <td>0</td>\n",
       "      <td>9</td>\n",
       "    </tr>\n",
       "    <tr>\n",
       "      <th>924948</th>\n",
       "      <td>1</td>\n",
       "      <td>0</td>\n",
       "      <td>7</td>\n",
       "    </tr>\n",
       "    <tr>\n",
       "      <th>969272</th>\n",
       "      <td>1</td>\n",
       "      <td>1</td>\n",
       "      <td>40</td>\n",
       "    </tr>\n",
       "  </tbody>\n",
       "</table>\n",
       "<p>239 rows × 3 columns</p>\n",
       "</div>"
      ],
      "text/plain": [
       "             calls_count  call_duration  total_call_duration\n",
       "operator_id                                                 \n",
       "913942                52             25                  805\n",
       "940588                30           4358                 4468\n",
       "944226                30             66                 1557\n",
       "885890                26              5                  266\n",
       "944216                24            194                 1481\n",
       "...                  ...            ...                  ...\n",
       "924546                 1              0                   20\n",
       "924928                 1            107                  117\n",
       "924930                 1              0                    9\n",
       "924948                 1              0                    7\n",
       "969272                 1              1                   40\n",
       "\n",
       "[239 rows x 3 columns]"
      ]
     },
     "execution_count": 43,
     "metadata": {},
     "output_type": "execute_result"
    }
   ],
   "source": [
    "# Creamos el dataframe con la cantiadd de llamadas pérdidas\n",
    "operators_with_calls_lost = calls[(calls['is_missed_call'] == True) & (calls['direction']=='in')].groupby(by=['operator_id']).agg({'calls_count':'sum', 'call_duration':'sum', 'total_call_duration':'sum'})\n",
    "\n",
    "operators_with_calls_lost.sort_values(by='calls_count', ascending=False)"
   ]
  },
  {
   "cell_type": "code",
   "execution_count": 44,
   "metadata": {},
   "outputs": [
    {
     "data": {
      "text/html": [
       "<div>\n",
       "<style scoped>\n",
       "    .dataframe tbody tr th:only-of-type {\n",
       "        vertical-align: middle;\n",
       "    }\n",
       "\n",
       "    .dataframe tbody tr th {\n",
       "        vertical-align: top;\n",
       "    }\n",
       "\n",
       "    .dataframe thead th {\n",
       "        text-align: right;\n",
       "    }\n",
       "</style>\n",
       "<table border=\"1\" class=\"dataframe\">\n",
       "  <thead>\n",
       "    <tr style=\"text-align: right;\">\n",
       "      <th></th>\n",
       "      <th>calls_count</th>\n",
       "      <th>call_duration</th>\n",
       "      <th>total_call_duration</th>\n",
       "      <th>duration_waiting</th>\n",
       "    </tr>\n",
       "    <tr>\n",
       "      <th>operator_id</th>\n",
       "      <th></th>\n",
       "      <th></th>\n",
       "      <th></th>\n",
       "      <th></th>\n",
       "    </tr>\n",
       "  </thead>\n",
       "  <tbody>\n",
       "    <tr>\n",
       "      <th>919790</th>\n",
       "      <td>1578</td>\n",
       "      <td>105088</td>\n",
       "      <td>157963</td>\n",
       "      <td>52875</td>\n",
       "    </tr>\n",
       "    <tr>\n",
       "      <th>913938</th>\n",
       "      <td>4766</td>\n",
       "      <td>353183</td>\n",
       "      <td>393760</td>\n",
       "      <td>40577</td>\n",
       "    </tr>\n",
       "    <tr>\n",
       "      <th>919554</th>\n",
       "      <td>1182</td>\n",
       "      <td>113323</td>\n",
       "      <td>151563</td>\n",
       "      <td>38240</td>\n",
       "    </tr>\n",
       "    <tr>\n",
       "      <th>919552</th>\n",
       "      <td>1089</td>\n",
       "      <td>135895</td>\n",
       "      <td>172971</td>\n",
       "      <td>37076</td>\n",
       "    </tr>\n",
       "    <tr>\n",
       "      <th>931458</th>\n",
       "      <td>2078</td>\n",
       "      <td>175089</td>\n",
       "      <td>210551</td>\n",
       "      <td>35462</td>\n",
       "    </tr>\n",
       "    <tr>\n",
       "      <th>...</th>\n",
       "      <td>...</td>\n",
       "      <td>...</td>\n",
       "      <td>...</td>\n",
       "      <td>...</td>\n",
       "    </tr>\n",
       "    <tr>\n",
       "      <th>952114</th>\n",
       "      <td>1</td>\n",
       "      <td>6</td>\n",
       "      <td>9</td>\n",
       "      <td>3</td>\n",
       "    </tr>\n",
       "    <tr>\n",
       "      <th>891948</th>\n",
       "      <td>1</td>\n",
       "      <td>33</td>\n",
       "      <td>36</td>\n",
       "      <td>3</td>\n",
       "    </tr>\n",
       "    <tr>\n",
       "      <th>952954</th>\n",
       "      <td>2</td>\n",
       "      <td>15</td>\n",
       "      <td>17</td>\n",
       "      <td>2</td>\n",
       "    </tr>\n",
       "    <tr>\n",
       "      <th>940828</th>\n",
       "      <td>1</td>\n",
       "      <td>55</td>\n",
       "      <td>57</td>\n",
       "      <td>2</td>\n",
       "    </tr>\n",
       "    <tr>\n",
       "      <th>948282</th>\n",
       "      <td>1</td>\n",
       "      <td>60</td>\n",
       "      <td>61</td>\n",
       "      <td>1</td>\n",
       "    </tr>\n",
       "  </tbody>\n",
       "</table>\n",
       "<p>754 rows × 4 columns</p>\n",
       "</div>"
      ],
      "text/plain": [
       "             calls_count  call_duration  total_call_duration  duration_waiting\n",
       "operator_id                                                                   \n",
       "919790              1578         105088               157963             52875\n",
       "913938              4766         353183               393760             40577\n",
       "919554              1182         113323               151563             38240\n",
       "919552              1089         135895               172971             37076\n",
       "931458              2078         175089               210551             35462\n",
       "...                  ...            ...                  ...               ...\n",
       "952114                 1              6                    9                 3\n",
       "891948                 1             33                   36                 3\n",
       "952954                 2             15                   17                 2\n",
       "940828                 1             55                   57                 2\n",
       "948282                 1             60                   61                 1\n",
       "\n",
       "[754 rows x 4 columns]"
      ]
     },
     "execution_count": 44,
     "metadata": {},
     "output_type": "execute_result"
    }
   ],
   "source": [
    "# Creamos el dataframe con la cantidad y duracion de las llamadas en espera\n",
    "operators_with_calls_waiting = calls[(calls['call_duration'] != calls['total_call_duration']) & (calls['direction']=='in')].groupby(by=['operator_id']).agg({'calls_count':'sum', 'call_duration':'sum', 'total_call_duration':'sum'})\n",
    "operators_with_calls_waiting['duration_waiting'] = operators_with_calls_waiting['total_call_duration']-operators_with_calls_waiting['call_duration']\n",
    "operators_with_calls_waiting.sort_values(by='duration_waiting', ascending=False)"
   ]
  },
  {
   "cell_type": "code",
   "execution_count": 45,
   "metadata": {},
   "outputs": [
    {
     "data": {
      "text/html": [
       "<div>\n",
       "<style scoped>\n",
       "    .dataframe tbody tr th:only-of-type {\n",
       "        vertical-align: middle;\n",
       "    }\n",
       "\n",
       "    .dataframe tbody tr th {\n",
       "        vertical-align: top;\n",
       "    }\n",
       "\n",
       "    .dataframe thead th {\n",
       "        text-align: right;\n",
       "    }\n",
       "</style>\n",
       "<table border=\"1\" class=\"dataframe\">\n",
       "  <thead>\n",
       "    <tr style=\"text-align: right;\">\n",
       "      <th></th>\n",
       "      <th>calls_count</th>\n",
       "      <th>call_duration</th>\n",
       "      <th>total_call_duration</th>\n",
       "    </tr>\n",
       "    <tr>\n",
       "      <th>operator_id</th>\n",
       "      <th></th>\n",
       "      <th></th>\n",
       "      <th></th>\n",
       "    </tr>\n",
       "  </thead>\n",
       "  <tbody>\n",
       "    <tr>\n",
       "      <th>955086</th>\n",
       "      <td>1</td>\n",
       "      <td>8</td>\n",
       "      <td>14</td>\n",
       "    </tr>\n",
       "    <tr>\n",
       "      <th>963716</th>\n",
       "      <td>1</td>\n",
       "      <td>25</td>\n",
       "      <td>39</td>\n",
       "    </tr>\n",
       "    <tr>\n",
       "      <th>914272</th>\n",
       "      <td>1</td>\n",
       "      <td>0</td>\n",
       "      <td>9</td>\n",
       "    </tr>\n",
       "    <tr>\n",
       "      <th>932246</th>\n",
       "      <td>1</td>\n",
       "      <td>0</td>\n",
       "      <td>60</td>\n",
       "    </tr>\n",
       "    <tr>\n",
       "      <th>902238</th>\n",
       "      <td>1</td>\n",
       "      <td>0</td>\n",
       "      <td>5</td>\n",
       "    </tr>\n",
       "    <tr>\n",
       "      <th>...</th>\n",
       "      <td>...</td>\n",
       "      <td>...</td>\n",
       "      <td>...</td>\n",
       "    </tr>\n",
       "    <tr>\n",
       "      <th>908640</th>\n",
       "      <td>14239</td>\n",
       "      <td>258804</td>\n",
       "      <td>410932</td>\n",
       "    </tr>\n",
       "    <tr>\n",
       "      <th>929428</th>\n",
       "      <td>16323</td>\n",
       "      <td>277118</td>\n",
       "      <td>582355</td>\n",
       "    </tr>\n",
       "    <tr>\n",
       "      <th>925922</th>\n",
       "      <td>19603</td>\n",
       "      <td>796104</td>\n",
       "      <td>1217059</td>\n",
       "    </tr>\n",
       "    <tr>\n",
       "      <th>885876</th>\n",
       "      <td>58437</td>\n",
       "      <td>4304731</td>\n",
       "      <td>5664998</td>\n",
       "    </tr>\n",
       "    <tr>\n",
       "      <th>885890</th>\n",
       "      <td>58977</td>\n",
       "      <td>3261303</td>\n",
       "      <td>4692999</td>\n",
       "    </tr>\n",
       "  </tbody>\n",
       "</table>\n",
       "<p>882 rows × 3 columns</p>\n",
       "</div>"
      ],
      "text/plain": [
       "             calls_count  call_duration  total_call_duration\n",
       "operator_id                                                 \n",
       "955086                 1              8                   14\n",
       "963716                 1             25                   39\n",
       "914272                 1              0                    9\n",
       "932246                 1              0                   60\n",
       "902238                 1              0                    5\n",
       "...                  ...            ...                  ...\n",
       "908640             14239         258804               410932\n",
       "929428             16323         277118               582355\n",
       "925922             19603         796104              1217059\n",
       "885876             58437        4304731              5664998\n",
       "885890             58977        3261303              4692999\n",
       "\n",
       "[882 rows x 3 columns]"
      ]
     },
     "execution_count": 45,
     "metadata": {},
     "output_type": "execute_result"
    }
   ],
   "source": [
    "# Creamos el dataframe con operadores con la cantidad de llamadas de salida\n",
    "operators_with_calls_out = calls[(calls['direction']=='out')].groupby(by=['operator_id']).agg({'calls_count':'sum', 'call_duration':'sum', 'total_call_duration':'sum'})\n",
    "\n",
    "operators_with_calls_out.sort_values(by='calls_count', ascending=True)"
   ]
  },
  {
   "cell_type": "code",
   "execution_count": 46,
   "metadata": {},
   "outputs": [
    {
     "data": {
      "text/html": [
       "<div>\n",
       "<style scoped>\n",
       "    .dataframe tbody tr th:only-of-type {\n",
       "        vertical-align: middle;\n",
       "    }\n",
       "\n",
       "    .dataframe tbody tr th {\n",
       "        vertical-align: top;\n",
       "    }\n",
       "\n",
       "    .dataframe thead th {\n",
       "        text-align: right;\n",
       "    }\n",
       "</style>\n",
       "<table border=\"1\" class=\"dataframe\">\n",
       "  <thead>\n",
       "    <tr style=\"text-align: right;\">\n",
       "      <th></th>\n",
       "      <th>operator_id</th>\n",
       "    </tr>\n",
       "  </thead>\n",
       "  <tbody>\n",
       "    <tr>\n",
       "      <th>0</th>\n",
       "      <td>880022</td>\n",
       "    </tr>\n",
       "    <tr>\n",
       "      <th>1</th>\n",
       "      <td>880020</td>\n",
       "    </tr>\n",
       "    <tr>\n",
       "      <th>2</th>\n",
       "      <td>881278</td>\n",
       "    </tr>\n",
       "    <tr>\n",
       "      <th>3</th>\n",
       "      <td>880028</td>\n",
       "    </tr>\n",
       "    <tr>\n",
       "      <th>4</th>\n",
       "      <td>880026</td>\n",
       "    </tr>\n",
       "    <tr>\n",
       "      <th>...</th>\n",
       "      <td>...</td>\n",
       "    </tr>\n",
       "    <tr>\n",
       "      <th>1087</th>\n",
       "      <td>958394</td>\n",
       "    </tr>\n",
       "    <tr>\n",
       "      <th>1088</th>\n",
       "      <td>952914</td>\n",
       "    </tr>\n",
       "    <tr>\n",
       "      <th>1089</th>\n",
       "      <td>952916</td>\n",
       "    </tr>\n",
       "    <tr>\n",
       "      <th>1090</th>\n",
       "      <td>959118</td>\n",
       "    </tr>\n",
       "    <tr>\n",
       "      <th>1091</th>\n",
       "      <td>957922</td>\n",
       "    </tr>\n",
       "  </tbody>\n",
       "</table>\n",
       "<p>1092 rows × 1 columns</p>\n",
       "</div>"
      ],
      "text/plain": [
       "      operator_id\n",
       "0          880022\n",
       "1          880020\n",
       "2          881278\n",
       "3          880028\n",
       "4          880026\n",
       "...           ...\n",
       "1087       958394\n",
       "1088       952914\n",
       "1089       952916\n",
       "1090       959118\n",
       "1091       957922\n",
       "\n",
       "[1092 rows x 1 columns]"
      ]
     },
     "execution_count": 46,
     "metadata": {},
     "output_type": "execute_result"
    }
   ],
   "source": [
    "# Creamos el dataframe \"operators_ranking\" que contendra los operadores ineficaces en base a las lógicas especificadas para el proyecto\n",
    "operators_ranking = pd.DataFrame(data={\n",
    "                        'operator_id': calls['operator_id'].unique()\n",
    "                     })\n",
    "operators_ranking"
   ]
  },
  {
   "cell_type": "code",
   "execution_count": 47,
   "metadata": {},
   "outputs": [
    {
     "data": {
      "text/html": [
       "<div>\n",
       "<style scoped>\n",
       "    .dataframe tbody tr th:only-of-type {\n",
       "        vertical-align: middle;\n",
       "    }\n",
       "\n",
       "    .dataframe tbody tr th {\n",
       "        vertical-align: top;\n",
       "    }\n",
       "\n",
       "    .dataframe thead th {\n",
       "        text-align: right;\n",
       "    }\n",
       "</style>\n",
       "<table border=\"1\" class=\"dataframe\">\n",
       "  <thead>\n",
       "    <tr style=\"text-align: right;\">\n",
       "      <th></th>\n",
       "      <th>operator_id</th>\n",
       "      <th>calls_lost_count</th>\n",
       "      <th>call_lost_duration</th>\n",
       "      <th>call_lost_total_duration</th>\n",
       "    </tr>\n",
       "  </thead>\n",
       "  <tbody>\n",
       "    <tr>\n",
       "      <th>0</th>\n",
       "      <td>880022</td>\n",
       "      <td>NaN</td>\n",
       "      <td>NaN</td>\n",
       "      <td>NaN</td>\n",
       "    </tr>\n",
       "    <tr>\n",
       "      <th>1</th>\n",
       "      <td>880020</td>\n",
       "      <td>NaN</td>\n",
       "      <td>NaN</td>\n",
       "      <td>NaN</td>\n",
       "    </tr>\n",
       "    <tr>\n",
       "      <th>2</th>\n",
       "      <td>881278</td>\n",
       "      <td>NaN</td>\n",
       "      <td>NaN</td>\n",
       "      <td>NaN</td>\n",
       "    </tr>\n",
       "    <tr>\n",
       "      <th>3</th>\n",
       "      <td>880028</td>\n",
       "      <td>NaN</td>\n",
       "      <td>NaN</td>\n",
       "      <td>NaN</td>\n",
       "    </tr>\n",
       "    <tr>\n",
       "      <th>4</th>\n",
       "      <td>880026</td>\n",
       "      <td>NaN</td>\n",
       "      <td>NaN</td>\n",
       "      <td>NaN</td>\n",
       "    </tr>\n",
       "  </tbody>\n",
       "</table>\n",
       "</div>"
      ],
      "text/plain": [
       "   operator_id  calls_lost_count  call_lost_duration  call_lost_total_duration\n",
       "0       880022               NaN                 NaN                       NaN\n",
       "1       880020               NaN                 NaN                       NaN\n",
       "2       881278               NaN                 NaN                       NaN\n",
       "3       880028               NaN                 NaN                       NaN\n",
       "4       880026               NaN                 NaN                       NaN"
      ]
     },
     "execution_count": 47,
     "metadata": {},
     "output_type": "execute_result"
    }
   ],
   "source": [
    "# Agregamos al dataframe \"operators_ranking\" la información del dataframe \"operators_with_calls_lost\"\n",
    "operators_ranking = operators_ranking.merge(operators_with_calls_lost, how='left', on='operator_id')\n",
    "operators_ranking.columns = ['operator_id', 'calls_lost_count', 'call_lost_duration', 'call_lost_total_duration']\n",
    "operators_ranking.head(5)"
   ]
  },
  {
   "cell_type": "code",
   "execution_count": 48,
   "metadata": {},
   "outputs": [
    {
     "data": {
      "text/html": [
       "<div>\n",
       "<style scoped>\n",
       "    .dataframe tbody tr th:only-of-type {\n",
       "        vertical-align: middle;\n",
       "    }\n",
       "\n",
       "    .dataframe tbody tr th {\n",
       "        vertical-align: top;\n",
       "    }\n",
       "\n",
       "    .dataframe thead th {\n",
       "        text-align: right;\n",
       "    }\n",
       "</style>\n",
       "<table border=\"1\" class=\"dataframe\">\n",
       "  <thead>\n",
       "    <tr style=\"text-align: right;\">\n",
       "      <th></th>\n",
       "      <th>operator_id</th>\n",
       "      <th>calls_lost_count</th>\n",
       "      <th>call_lost_duration</th>\n",
       "      <th>call_lost_total_duration</th>\n",
       "      <th>calls_wait_count</th>\n",
       "      <th>calls_wait_duration</th>\n",
       "      <th>calls_wait_total_duration</th>\n",
       "      <th>calls_wait_time</th>\n",
       "    </tr>\n",
       "  </thead>\n",
       "  <tbody>\n",
       "    <tr>\n",
       "      <th>0</th>\n",
       "      <td>880022</td>\n",
       "      <td>NaN</td>\n",
       "      <td>NaN</td>\n",
       "      <td>NaN</td>\n",
       "      <td>8.0</td>\n",
       "      <td>512.0</td>\n",
       "      <td>624.0</td>\n",
       "      <td>112.0</td>\n",
       "    </tr>\n",
       "    <tr>\n",
       "      <th>1</th>\n",
       "      <td>880020</td>\n",
       "      <td>NaN</td>\n",
       "      <td>NaN</td>\n",
       "      <td>NaN</td>\n",
       "      <td>7.0</td>\n",
       "      <td>299.0</td>\n",
       "      <td>353.0</td>\n",
       "      <td>54.0</td>\n",
       "    </tr>\n",
       "    <tr>\n",
       "      <th>2</th>\n",
       "      <td>881278</td>\n",
       "      <td>NaN</td>\n",
       "      <td>NaN</td>\n",
       "      <td>NaN</td>\n",
       "      <td>NaN</td>\n",
       "      <td>NaN</td>\n",
       "      <td>NaN</td>\n",
       "      <td>NaN</td>\n",
       "    </tr>\n",
       "    <tr>\n",
       "      <th>3</th>\n",
       "      <td>880028</td>\n",
       "      <td>NaN</td>\n",
       "      <td>NaN</td>\n",
       "      <td>NaN</td>\n",
       "      <td>63.0</td>\n",
       "      <td>5038.0</td>\n",
       "      <td>5381.0</td>\n",
       "      <td>343.0</td>\n",
       "    </tr>\n",
       "    <tr>\n",
       "      <th>4</th>\n",
       "      <td>880026</td>\n",
       "      <td>NaN</td>\n",
       "      <td>NaN</td>\n",
       "      <td>NaN</td>\n",
       "      <td>24.0</td>\n",
       "      <td>1587.0</td>\n",
       "      <td>1730.0</td>\n",
       "      <td>143.0</td>\n",
       "    </tr>\n",
       "    <tr>\n",
       "      <th>...</th>\n",
       "      <td>...</td>\n",
       "      <td>...</td>\n",
       "      <td>...</td>\n",
       "      <td>...</td>\n",
       "      <td>...</td>\n",
       "      <td>...</td>\n",
       "      <td>...</td>\n",
       "      <td>...</td>\n",
       "    </tr>\n",
       "    <tr>\n",
       "      <th>1087</th>\n",
       "      <td>958394</td>\n",
       "      <td>NaN</td>\n",
       "      <td>NaN</td>\n",
       "      <td>NaN</td>\n",
       "      <td>22.0</td>\n",
       "      <td>4197.0</td>\n",
       "      <td>4354.0</td>\n",
       "      <td>157.0</td>\n",
       "    </tr>\n",
       "    <tr>\n",
       "      <th>1088</th>\n",
       "      <td>952914</td>\n",
       "      <td>NaN</td>\n",
       "      <td>NaN</td>\n",
       "      <td>NaN</td>\n",
       "      <td>78.0</td>\n",
       "      <td>8251.0</td>\n",
       "      <td>8834.0</td>\n",
       "      <td>583.0</td>\n",
       "    </tr>\n",
       "    <tr>\n",
       "      <th>1089</th>\n",
       "      <td>952916</td>\n",
       "      <td>NaN</td>\n",
       "      <td>NaN</td>\n",
       "      <td>NaN</td>\n",
       "      <td>1.0</td>\n",
       "      <td>161.0</td>\n",
       "      <td>186.0</td>\n",
       "      <td>25.0</td>\n",
       "    </tr>\n",
       "    <tr>\n",
       "      <th>1090</th>\n",
       "      <td>959118</td>\n",
       "      <td>NaN</td>\n",
       "      <td>NaN</td>\n",
       "      <td>NaN</td>\n",
       "      <td>NaN</td>\n",
       "      <td>NaN</td>\n",
       "      <td>NaN</td>\n",
       "      <td>NaN</td>\n",
       "    </tr>\n",
       "    <tr>\n",
       "      <th>1091</th>\n",
       "      <td>957922</td>\n",
       "      <td>1.0</td>\n",
       "      <td>0.0</td>\n",
       "      <td>7.0</td>\n",
       "      <td>3.0</td>\n",
       "      <td>686.0</td>\n",
       "      <td>712.0</td>\n",
       "      <td>26.0</td>\n",
       "    </tr>\n",
       "  </tbody>\n",
       "</table>\n",
       "<p>1092 rows × 8 columns</p>\n",
       "</div>"
      ],
      "text/plain": [
       "      operator_id  calls_lost_count  call_lost_duration  \\\n",
       "0          880022               NaN                 NaN   \n",
       "1          880020               NaN                 NaN   \n",
       "2          881278               NaN                 NaN   \n",
       "3          880028               NaN                 NaN   \n",
       "4          880026               NaN                 NaN   \n",
       "...           ...               ...                 ...   \n",
       "1087       958394               NaN                 NaN   \n",
       "1088       952914               NaN                 NaN   \n",
       "1089       952916               NaN                 NaN   \n",
       "1090       959118               NaN                 NaN   \n",
       "1091       957922               1.0                 0.0   \n",
       "\n",
       "      call_lost_total_duration  calls_wait_count  calls_wait_duration  \\\n",
       "0                          NaN               8.0                512.0   \n",
       "1                          NaN               7.0                299.0   \n",
       "2                          NaN               NaN                  NaN   \n",
       "3                          NaN              63.0               5038.0   \n",
       "4                          NaN              24.0               1587.0   \n",
       "...                        ...               ...                  ...   \n",
       "1087                       NaN              22.0               4197.0   \n",
       "1088                       NaN              78.0               8251.0   \n",
       "1089                       NaN               1.0                161.0   \n",
       "1090                       NaN               NaN                  NaN   \n",
       "1091                       7.0               3.0                686.0   \n",
       "\n",
       "      calls_wait_total_duration  calls_wait_time  \n",
       "0                         624.0            112.0  \n",
       "1                         353.0             54.0  \n",
       "2                           NaN              NaN  \n",
       "3                        5381.0            343.0  \n",
       "4                        1730.0            143.0  \n",
       "...                         ...              ...  \n",
       "1087                     4354.0            157.0  \n",
       "1088                     8834.0            583.0  \n",
       "1089                      186.0             25.0  \n",
       "1090                        NaN              NaN  \n",
       "1091                      712.0             26.0  \n",
       "\n",
       "[1092 rows x 8 columns]"
      ]
     },
     "execution_count": 48,
     "metadata": {},
     "output_type": "execute_result"
    }
   ],
   "source": [
    "# Agregamos al dataframe \"operators_ranking\" la información del dataframe \"operators_with_calls_waiting\"\n",
    "operators_ranking = operators_ranking.merge(operators_with_calls_waiting, how='left', on='operator_id')\n",
    "operators_ranking.columns = ['operator_id', 'calls_lost_count', 'call_lost_duration', 'call_lost_total_duration',\n",
    "                             'calls_wait_count', 'calls_wait_duration', 'calls_wait_total_duration', 'calls_wait_time']\n",
    "operators_ranking"
   ]
  },
  {
   "cell_type": "code",
   "execution_count": 49,
   "metadata": {},
   "outputs": [
    {
     "data": {
      "text/html": [
       "<div>\n",
       "<style scoped>\n",
       "    .dataframe tbody tr th:only-of-type {\n",
       "        vertical-align: middle;\n",
       "    }\n",
       "\n",
       "    .dataframe tbody tr th {\n",
       "        vertical-align: top;\n",
       "    }\n",
       "\n",
       "    .dataframe thead th {\n",
       "        text-align: right;\n",
       "    }\n",
       "</style>\n",
       "<table border=\"1\" class=\"dataframe\">\n",
       "  <thead>\n",
       "    <tr style=\"text-align: right;\">\n",
       "      <th></th>\n",
       "      <th>operator_id</th>\n",
       "      <th>calls_lost_count</th>\n",
       "      <th>call_lost_duration</th>\n",
       "      <th>call_lost_total_duration</th>\n",
       "      <th>calls_wait_count</th>\n",
       "      <th>calls_wait_duration</th>\n",
       "      <th>calls_wait_total_duration</th>\n",
       "      <th>calls_wait_time</th>\n",
       "      <th>calls_out_count</th>\n",
       "      <th>calls_out_duration</th>\n",
       "      <th>calls_out_total_duration</th>\n",
       "    </tr>\n",
       "  </thead>\n",
       "  <tbody>\n",
       "    <tr>\n",
       "      <th>0</th>\n",
       "      <td>880022</td>\n",
       "      <td>NaN</td>\n",
       "      <td>NaN</td>\n",
       "      <td>NaN</td>\n",
       "      <td>8.0</td>\n",
       "      <td>512.0</td>\n",
       "      <td>624.0</td>\n",
       "      <td>112.0</td>\n",
       "      <td>189.0</td>\n",
       "      <td>14635.0</td>\n",
       "      <td>18301.0</td>\n",
       "    </tr>\n",
       "    <tr>\n",
       "      <th>1</th>\n",
       "      <td>880020</td>\n",
       "      <td>NaN</td>\n",
       "      <td>NaN</td>\n",
       "      <td>NaN</td>\n",
       "      <td>7.0</td>\n",
       "      <td>299.0</td>\n",
       "      <td>353.0</td>\n",
       "      <td>54.0</td>\n",
       "      <td>38.0</td>\n",
       "      <td>1946.0</td>\n",
       "      <td>2172.0</td>\n",
       "    </tr>\n",
       "    <tr>\n",
       "      <th>2</th>\n",
       "      <td>881278</td>\n",
       "      <td>NaN</td>\n",
       "      <td>NaN</td>\n",
       "      <td>NaN</td>\n",
       "      <td>NaN</td>\n",
       "      <td>NaN</td>\n",
       "      <td>NaN</td>\n",
       "      <td>NaN</td>\n",
       "      <td>20.0</td>\n",
       "      <td>465.0</td>\n",
       "      <td>543.0</td>\n",
       "    </tr>\n",
       "    <tr>\n",
       "      <th>3</th>\n",
       "      <td>880028</td>\n",
       "      <td>NaN</td>\n",
       "      <td>NaN</td>\n",
       "      <td>NaN</td>\n",
       "      <td>63.0</td>\n",
       "      <td>5038.0</td>\n",
       "      <td>5381.0</td>\n",
       "      <td>343.0</td>\n",
       "      <td>2497.0</td>\n",
       "      <td>141766.0</td>\n",
       "      <td>183879.0</td>\n",
       "    </tr>\n",
       "    <tr>\n",
       "      <th>4</th>\n",
       "      <td>880026</td>\n",
       "      <td>NaN</td>\n",
       "      <td>NaN</td>\n",
       "      <td>NaN</td>\n",
       "      <td>24.0</td>\n",
       "      <td>1587.0</td>\n",
       "      <td>1730.0</td>\n",
       "      <td>143.0</td>\n",
       "      <td>2208.0</td>\n",
       "      <td>151739.0</td>\n",
       "      <td>173796.0</td>\n",
       "    </tr>\n",
       "    <tr>\n",
       "      <th>...</th>\n",
       "      <td>...</td>\n",
       "      <td>...</td>\n",
       "      <td>...</td>\n",
       "      <td>...</td>\n",
       "      <td>...</td>\n",
       "      <td>...</td>\n",
       "      <td>...</td>\n",
       "      <td>...</td>\n",
       "      <td>...</td>\n",
       "      <td>...</td>\n",
       "      <td>...</td>\n",
       "    </tr>\n",
       "    <tr>\n",
       "      <th>1087</th>\n",
       "      <td>958394</td>\n",
       "      <td>NaN</td>\n",
       "      <td>NaN</td>\n",
       "      <td>NaN</td>\n",
       "      <td>22.0</td>\n",
       "      <td>4197.0</td>\n",
       "      <td>4354.0</td>\n",
       "      <td>157.0</td>\n",
       "      <td>NaN</td>\n",
       "      <td>NaN</td>\n",
       "      <td>NaN</td>\n",
       "    </tr>\n",
       "    <tr>\n",
       "      <th>1088</th>\n",
       "      <td>952914</td>\n",
       "      <td>NaN</td>\n",
       "      <td>NaN</td>\n",
       "      <td>NaN</td>\n",
       "      <td>78.0</td>\n",
       "      <td>8251.0</td>\n",
       "      <td>8834.0</td>\n",
       "      <td>583.0</td>\n",
       "      <td>580.0</td>\n",
       "      <td>23918.0</td>\n",
       "      <td>32671.0</td>\n",
       "    </tr>\n",
       "    <tr>\n",
       "      <th>1089</th>\n",
       "      <td>952916</td>\n",
       "      <td>NaN</td>\n",
       "      <td>NaN</td>\n",
       "      <td>NaN</td>\n",
       "      <td>1.0</td>\n",
       "      <td>161.0</td>\n",
       "      <td>186.0</td>\n",
       "      <td>25.0</td>\n",
       "      <td>7.0</td>\n",
       "      <td>346.0</td>\n",
       "      <td>521.0</td>\n",
       "    </tr>\n",
       "    <tr>\n",
       "      <th>1090</th>\n",
       "      <td>959118</td>\n",
       "      <td>NaN</td>\n",
       "      <td>NaN</td>\n",
       "      <td>NaN</td>\n",
       "      <td>NaN</td>\n",
       "      <td>NaN</td>\n",
       "      <td>NaN</td>\n",
       "      <td>NaN</td>\n",
       "      <td>14.0</td>\n",
       "      <td>905.0</td>\n",
       "      <td>1187.0</td>\n",
       "    </tr>\n",
       "    <tr>\n",
       "      <th>1091</th>\n",
       "      <td>957922</td>\n",
       "      <td>1.0</td>\n",
       "      <td>0.0</td>\n",
       "      <td>7.0</td>\n",
       "      <td>3.0</td>\n",
       "      <td>686.0</td>\n",
       "      <td>712.0</td>\n",
       "      <td>26.0</td>\n",
       "      <td>16.0</td>\n",
       "      <td>4415.0</td>\n",
       "      <td>4715.0</td>\n",
       "    </tr>\n",
       "  </tbody>\n",
       "</table>\n",
       "<p>1092 rows × 11 columns</p>\n",
       "</div>"
      ],
      "text/plain": [
       "      operator_id  calls_lost_count  call_lost_duration  \\\n",
       "0          880022               NaN                 NaN   \n",
       "1          880020               NaN                 NaN   \n",
       "2          881278               NaN                 NaN   \n",
       "3          880028               NaN                 NaN   \n",
       "4          880026               NaN                 NaN   \n",
       "...           ...               ...                 ...   \n",
       "1087       958394               NaN                 NaN   \n",
       "1088       952914               NaN                 NaN   \n",
       "1089       952916               NaN                 NaN   \n",
       "1090       959118               NaN                 NaN   \n",
       "1091       957922               1.0                 0.0   \n",
       "\n",
       "      call_lost_total_duration  calls_wait_count  calls_wait_duration  \\\n",
       "0                          NaN               8.0                512.0   \n",
       "1                          NaN               7.0                299.0   \n",
       "2                          NaN               NaN                  NaN   \n",
       "3                          NaN              63.0               5038.0   \n",
       "4                          NaN              24.0               1587.0   \n",
       "...                        ...               ...                  ...   \n",
       "1087                       NaN              22.0               4197.0   \n",
       "1088                       NaN              78.0               8251.0   \n",
       "1089                       NaN               1.0                161.0   \n",
       "1090                       NaN               NaN                  NaN   \n",
       "1091                       7.0               3.0                686.0   \n",
       "\n",
       "      calls_wait_total_duration  calls_wait_time  calls_out_count  \\\n",
       "0                         624.0            112.0            189.0   \n",
       "1                         353.0             54.0             38.0   \n",
       "2                           NaN              NaN             20.0   \n",
       "3                        5381.0            343.0           2497.0   \n",
       "4                        1730.0            143.0           2208.0   \n",
       "...                         ...              ...              ...   \n",
       "1087                     4354.0            157.0              NaN   \n",
       "1088                     8834.0            583.0            580.0   \n",
       "1089                      186.0             25.0              7.0   \n",
       "1090                        NaN              NaN             14.0   \n",
       "1091                      712.0             26.0             16.0   \n",
       "\n",
       "      calls_out_duration  calls_out_total_duration  \n",
       "0                14635.0                   18301.0  \n",
       "1                 1946.0                    2172.0  \n",
       "2                  465.0                     543.0  \n",
       "3               141766.0                  183879.0  \n",
       "4               151739.0                  173796.0  \n",
       "...                  ...                       ...  \n",
       "1087                 NaN                       NaN  \n",
       "1088             23918.0                   32671.0  \n",
       "1089               346.0                     521.0  \n",
       "1090               905.0                    1187.0  \n",
       "1091              4415.0                    4715.0  \n",
       "\n",
       "[1092 rows x 11 columns]"
      ]
     },
     "execution_count": 49,
     "metadata": {},
     "output_type": "execute_result"
    }
   ],
   "source": [
    "# Agregamos al dataframe \"operators_ranking\" la información del dataframe \"operators_with_calls_out\"\n",
    "operators_ranking = operators_ranking.merge(operators_with_calls_out, how='left', on='operator_id')\n",
    "operators_ranking.columns = ['operator_id', 'calls_lost_count', 'call_lost_duration', 'call_lost_total_duration',\n",
    "                             'calls_wait_count', 'calls_wait_duration', 'calls_wait_total_duration', 'calls_wait_time',\n",
    "                             'calls_out_count', 'calls_out_duration', 'calls_out_total_duration']\n",
    "operators_ranking"
   ]
  },
  {
   "cell_type": "code",
   "execution_count": 50,
   "metadata": {},
   "outputs": [],
   "source": [
    "# Creamos columnas donde se especificaron a qué tipo de condición de operador ineficaz corresponde\n",
    "operators_ranking[['call_lost_cond','call_wait_cond','call_out_cond']] = ''\n",
    "operators_ranking.loc[operators_ranking['calls_lost_count'].isna()==True, 'call_lost_cond'] = False\n",
    "operators_ranking.loc[operators_ranking['calls_lost_count'].isna()==False, 'call_lost_cond'] = True\n",
    "\n",
    "\n",
    "operators_ranking.loc[operators_ranking['calls_wait_count'].isna()==True, 'call_wait_cond'] = False\n",
    "operators_ranking.loc[operators_ranking['calls_wait_count'].isna()==False, 'call_wait_cond'] = True\n",
    "\n",
    "\n",
    "operators_ranking.loc[operators_ranking['calls_out_count'].isna()==True, 'call_out_cond'] = False\n",
    "operators_ranking.loc[operators_ranking['calls_out_count'].isna()==False, 'call_out_cond'] = True"
   ]
  },
  {
   "cell_type": "markdown",
   "metadata": {},
   "source": [
    "### Identificamos a los operadores ineficaces en base a límites"
   ]
  },
  {
   "cell_type": "markdown",
   "metadata": {},
   "source": [
    "#### Operadores con mayor cantidad de llamadas pérdidas"
   ]
  },
  {
   "cell_type": "code",
   "execution_count": 51,
   "metadata": {},
   "outputs": [
    {
     "data": {
      "text/plain": [
       "<AxesSubplot:ylabel='calls_lost_count'>"
      ]
     },
     "execution_count": 51,
     "metadata": {},
     "output_type": "execute_result"
    },
    {
     "data": {
      "image/png": "[encoded data removed]",
      "text/plain": [
       "<Figure size 640x480 with 1 Axes>"
      ]
     },
     "metadata": {},
     "output_type": "display_data"
    }
   ],
   "source": [
    "operators_ranking[operators_ranking['call_lost_cond']==True]\n",
    "\n",
    "sns.boxplot(data=operators_ranking[(operators_ranking['call_lost_cond']==True)], y='calls_lost_count')"
   ]
  },
  {
   "cell_type": "code",
   "execution_count": 52,
   "metadata": {},
   "outputs": [
    {
     "data": {
      "text/html": [
       "<div>\n",
       "<style scoped>\n",
       "    .dataframe tbody tr th:only-of-type {\n",
       "        vertical-align: middle;\n",
       "    }\n",
       "\n",
       "    .dataframe tbody tr th {\n",
       "        vertical-align: top;\n",
       "    }\n",
       "\n",
       "    .dataframe thead th {\n",
       "        text-align: right;\n",
       "    }\n",
       "</style>\n",
       "<table border=\"1\" class=\"dataframe\">\n",
       "  <thead>\n",
       "    <tr style=\"text-align: right;\">\n",
       "      <th></th>\n",
       "      <th>operator_id</th>\n",
       "      <th>calls_lost_count</th>\n",
       "      <th>call_lost_duration</th>\n",
       "      <th>call_lost_total_duration</th>\n",
       "      <th>calls_wait_count</th>\n",
       "      <th>calls_wait_duration</th>\n",
       "      <th>calls_wait_total_duration</th>\n",
       "      <th>calls_wait_time</th>\n",
       "      <th>calls_out_count</th>\n",
       "      <th>calls_out_duration</th>\n",
       "      <th>calls_out_total_duration</th>\n",
       "    </tr>\n",
       "  </thead>\n",
       "  <tbody>\n",
       "    <tr>\n",
       "      <th>count</th>\n",
       "      <td>239.000000</td>\n",
       "      <td>239.000000</td>\n",
       "      <td>239.000000</td>\n",
       "      <td>239.000000</td>\n",
       "      <td>239.000000</td>\n",
       "      <td>239.000000</td>\n",
       "      <td>239.000000</td>\n",
       "      <td>239.000000</td>\n",
       "      <td>198.000000</td>\n",
       "      <td>1.980000e+02</td>\n",
       "      <td>1.980000e+02</td>\n",
       "    </tr>\n",
       "    <tr>\n",
       "      <th>mean</th>\n",
       "      <td>921162.887029</td>\n",
       "      <td>3.874477</td>\n",
       "      <td>96.401674</td>\n",
       "      <td>169.907950</td>\n",
       "      <td>316.255230</td>\n",
       "      <td>31498.225941</td>\n",
       "      <td>35537.928870</td>\n",
       "      <td>4039.702929</td>\n",
       "      <td>1248.520202</td>\n",
       "      <td>7.467557e+04</td>\n",
       "      <td>1.003970e+05</td>\n",
       "    </tr>\n",
       "    <tr>\n",
       "      <th>std</th>\n",
       "      <td>20455.534602</td>\n",
       "      <td>5.943089</td>\n",
       "      <td>405.961280</td>\n",
       "      <td>451.435972</td>\n",
       "      <td>568.722797</td>\n",
       "      <td>53237.216239</td>\n",
       "      <td>58176.030527</td>\n",
       "      <td>6788.821036</td>\n",
       "      <td>6026.553703</td>\n",
       "      <td>3.863328e+05</td>\n",
       "      <td>5.268613e+05</td>\n",
       "    </tr>\n",
       "    <tr>\n",
       "      <th>min</th>\n",
       "      <td>882680.000000</td>\n",
       "      <td>1.000000</td>\n",
       "      <td>0.000000</td>\n",
       "      <td>1.000000</td>\n",
       "      <td>1.000000</td>\n",
       "      <td>38.000000</td>\n",
       "      <td>58.000000</td>\n",
       "      <td>8.000000</td>\n",
       "      <td>1.000000</td>\n",
       "      <td>0.000000e+00</td>\n",
       "      <td>0.000000e+00</td>\n",
       "    </tr>\n",
       "    <tr>\n",
       "      <th>25%</th>\n",
       "      <td>905202.000000</td>\n",
       "      <td>1.000000</td>\n",
       "      <td>0.000000</td>\n",
       "      <td>17.000000</td>\n",
       "      <td>29.000000</td>\n",
       "      <td>2751.000000</td>\n",
       "      <td>3230.000000</td>\n",
       "      <td>469.000000</td>\n",
       "      <td>53.000000</td>\n",
       "      <td>2.785250e+03</td>\n",
       "      <td>3.862500e+03</td>\n",
       "    </tr>\n",
       "    <tr>\n",
       "      <th>50%</th>\n",
       "      <td>920726.000000</td>\n",
       "      <td>2.000000</td>\n",
       "      <td>1.000000</td>\n",
       "      <td>43.000000</td>\n",
       "      <td>119.000000</td>\n",
       "      <td>12008.000000</td>\n",
       "      <td>14740.000000</td>\n",
       "      <td>1626.000000</td>\n",
       "      <td>226.000000</td>\n",
       "      <td>1.337700e+04</td>\n",
       "      <td>1.613900e+04</td>\n",
       "    </tr>\n",
       "    <tr>\n",
       "      <th>75%</th>\n",
       "      <td>937929.000000</td>\n",
       "      <td>4.000000</td>\n",
       "      <td>42.000000</td>\n",
       "      <td>111.500000</td>\n",
       "      <td>321.500000</td>\n",
       "      <td>32709.500000</td>\n",
       "      <td>36770.000000</td>\n",
       "      <td>4678.500000</td>\n",
       "      <td>813.250000</td>\n",
       "      <td>3.963975e+04</td>\n",
       "      <td>5.586075e+04</td>\n",
       "    </tr>\n",
       "    <tr>\n",
       "      <th>max</th>\n",
       "      <td>969272.000000</td>\n",
       "      <td>52.000000</td>\n",
       "      <td>4358.000000</td>\n",
       "      <td>4468.000000</td>\n",
       "      <td>4766.000000</td>\n",
       "      <td>397079.000000</td>\n",
       "      <td>402717.000000</td>\n",
       "      <td>40577.000000</td>\n",
       "      <td>58977.000000</td>\n",
       "      <td>4.304731e+06</td>\n",
       "      <td>5.664998e+06</td>\n",
       "    </tr>\n",
       "  </tbody>\n",
       "</table>\n",
       "</div>"
      ],
      "text/plain": [
       "         operator_id  calls_lost_count  call_lost_duration  \\\n",
       "count     239.000000        239.000000          239.000000   \n",
       "mean   921162.887029          3.874477           96.401674   \n",
       "std     20455.534602          5.943089          405.961280   \n",
       "min    882680.000000          1.000000            0.000000   \n",
       "25%    905202.000000          1.000000            0.000000   \n",
       "50%    920726.000000          2.000000            1.000000   \n",
       "75%    937929.000000          4.000000           42.000000   \n",
       "max    969272.000000         52.000000         4358.000000   \n",
       "\n",
       "       call_lost_total_duration  calls_wait_count  calls_wait_duration  \\\n",
       "count                239.000000        239.000000           239.000000   \n",
       "mean                 169.907950        316.255230         31498.225941   \n",
       "std                  451.435972        568.722797         53237.216239   \n",
       "min                    1.000000          1.000000            38.000000   \n",
       "25%                   17.000000         29.000000          2751.000000   \n",
       "50%                   43.000000        119.000000         12008.000000   \n",
       "75%                  111.500000        321.500000         32709.500000   \n",
       "max                 4468.000000       4766.000000        397079.000000   \n",
       "\n",
       "       calls_wait_total_duration  calls_wait_time  calls_out_count  \\\n",
       "count                 239.000000       239.000000       198.000000   \n",
       "mean                35537.928870      4039.702929      1248.520202   \n",
       "std                 58176.030527      6788.821036      6026.553703   \n",
       "min                    58.000000         8.000000         1.000000   \n",
       "25%                  3230.000000       469.000000        53.000000   \n",
       "50%                 14740.000000      1626.000000       226.000000   \n",
       "75%                 36770.000000      4678.500000       813.250000   \n",
       "max                402717.000000     40577.000000     58977.000000   \n",
       "\n",
       "       calls_out_duration  calls_out_total_duration  \n",
       "count        1.980000e+02              1.980000e+02  \n",
       "mean         7.467557e+04              1.003970e+05  \n",
       "std          3.863328e+05              5.268613e+05  \n",
       "min          0.000000e+00              0.000000e+00  \n",
       "25%          2.785250e+03              3.862500e+03  \n",
       "50%          1.337700e+04              1.613900e+04  \n",
       "75%          3.963975e+04              5.586075e+04  \n",
       "max          4.304731e+06              5.664998e+06  "
      ]
     },
     "execution_count": 52,
     "metadata": {},
     "output_type": "execute_result"
    }
   ],
   "source": [
    "operators_ranking[(operators_ranking['call_lost_cond']==True)].describe()"
   ]
  },
  {
   "cell_type": "code",
   "execution_count": 53,
   "metadata": {},
   "outputs": [],
   "source": [
    "# Actualizamos el campo \"calls_lost_count\" con los límites definidos\n",
    "operators_ranking.loc[(operators_ranking['call_lost_cond']==True) & (operators_ranking['calls_lost_count']>4), 'call_lost_cond'] = True\n",
    "operators_ranking.loc[(operators_ranking['call_lost_cond']==True) & (operators_ranking['calls_lost_count']<=4), 'call_lost_cond'] = False"
   ]
  },
  {
   "cell_type": "markdown",
   "metadata": {},
   "source": [
    "#### Operadores con mayor tiempo de duración en llamadas en espera"
   ]
  },
  {
   "cell_type": "code",
   "execution_count": 54,
   "metadata": {},
   "outputs": [
    {
     "data": {
      "text/plain": [
       "<AxesSubplot:ylabel='calls_wait_time'>"
      ]
     },
     "execution_count": 54,
     "metadata": {},
     "output_type": "execute_result"
    },
    {
     "data": {
      "image/png": "[encoded data removed]",
      "text/plain": [
       "<Figure size 640x480 with 1 Axes>"
      ]
     },
     "metadata": {},
     "output_type": "display_data"
    }
   ],
   "source": [
    "sns.boxplot(data=operators_ranking[(operators_ranking['call_wait_cond']==True)], y='calls_wait_time')"
   ]
  },
  {
   "cell_type": "code",
   "execution_count": 55,
   "metadata": {},
   "outputs": [
    {
     "data": {
      "text/html": [
       "<div>\n",
       "<style scoped>\n",
       "    .dataframe tbody tr th:only-of-type {\n",
       "        vertical-align: middle;\n",
       "    }\n",
       "\n",
       "    .dataframe tbody tr th {\n",
       "        vertical-align: top;\n",
       "    }\n",
       "\n",
       "    .dataframe thead th {\n",
       "        text-align: right;\n",
       "    }\n",
       "</style>\n",
       "<table border=\"1\" class=\"dataframe\">\n",
       "  <thead>\n",
       "    <tr style=\"text-align: right;\">\n",
       "      <th></th>\n",
       "      <th>operator_id</th>\n",
       "      <th>calls_lost_count</th>\n",
       "      <th>call_lost_duration</th>\n",
       "      <th>call_lost_total_duration</th>\n",
       "      <th>calls_wait_count</th>\n",
       "      <th>calls_wait_duration</th>\n",
       "      <th>calls_wait_total_duration</th>\n",
       "      <th>calls_wait_time</th>\n",
       "      <th>calls_out_count</th>\n",
       "      <th>calls_out_duration</th>\n",
       "      <th>calls_out_total_duration</th>\n",
       "    </tr>\n",
       "  </thead>\n",
       "  <tbody>\n",
       "    <tr>\n",
       "      <th>count</th>\n",
       "      <td>754.000000</td>\n",
       "      <td>239.000000</td>\n",
       "      <td>239.000000</td>\n",
       "      <td>239.000000</td>\n",
       "      <td>754.000000</td>\n",
       "      <td>754.000000</td>\n",
       "      <td>754.000000</td>\n",
       "      <td>754.000000</td>\n",
       "      <td>544.000000</td>\n",
       "      <td>5.440000e+02</td>\n",
       "      <td>5.440000e+02</td>\n",
       "    </tr>\n",
       "    <tr>\n",
       "      <th>mean</th>\n",
       "      <td>923704.400531</td>\n",
       "      <td>3.874477</td>\n",
       "      <td>96.401674</td>\n",
       "      <td>169.907950</td>\n",
       "      <td>124.387268</td>\n",
       "      <td>12629.591512</td>\n",
       "      <td>14265.248011</td>\n",
       "      <td>1635.656499</td>\n",
       "      <td>633.082721</td>\n",
       "      <td>3.731376e+04</td>\n",
       "      <td>4.959800e+04</td>\n",
       "    </tr>\n",
       "    <tr>\n",
       "      <th>std</th>\n",
       "      <td>22646.733795</td>\n",
       "      <td>5.943089</td>\n",
       "      <td>405.961280</td>\n",
       "      <td>451.435972</td>\n",
       "      <td>356.449894</td>\n",
       "      <td>34048.558654</td>\n",
       "      <td>37503.815636</td>\n",
       "      <td>4637.607919</td>\n",
       "      <td>3693.139779</td>\n",
       "      <td>2.359110e+05</td>\n",
       "      <td>3.214051e+05</td>\n",
       "    </tr>\n",
       "    <tr>\n",
       "      <th>min</th>\n",
       "      <td>879896.000000</td>\n",
       "      <td>1.000000</td>\n",
       "      <td>0.000000</td>\n",
       "      <td>1.000000</td>\n",
       "      <td>1.000000</td>\n",
       "      <td>1.000000</td>\n",
       "      <td>7.000000</td>\n",
       "      <td>1.000000</td>\n",
       "      <td>1.000000</td>\n",
       "      <td>0.000000e+00</td>\n",
       "      <td>0.000000e+00</td>\n",
       "    </tr>\n",
       "    <tr>\n",
       "      <th>25%</th>\n",
       "      <td>905153.000000</td>\n",
       "      <td>1.000000</td>\n",
       "      <td>0.000000</td>\n",
       "      <td>17.000000</td>\n",
       "      <td>4.000000</td>\n",
       "      <td>224.500000</td>\n",
       "      <td>311.500000</td>\n",
       "      <td>62.000000</td>\n",
       "      <td>15.000000</td>\n",
       "      <td>4.920000e+02</td>\n",
       "      <td>7.055000e+02</td>\n",
       "    </tr>\n",
       "    <tr>\n",
       "      <th>50%</th>\n",
       "      <td>924580.000000</td>\n",
       "      <td>2.000000</td>\n",
       "      <td>1.000000</td>\n",
       "      <td>43.000000</td>\n",
       "      <td>17.000000</td>\n",
       "      <td>1480.500000</td>\n",
       "      <td>1840.000000</td>\n",
       "      <td>255.000000</td>\n",
       "      <td>93.000000</td>\n",
       "      <td>5.791500e+03</td>\n",
       "      <td>7.172000e+03</td>\n",
       "    </tr>\n",
       "    <tr>\n",
       "      <th>75%</th>\n",
       "      <td>940457.500000</td>\n",
       "      <td>4.000000</td>\n",
       "      <td>42.000000</td>\n",
       "      <td>111.500000</td>\n",
       "      <td>78.750000</td>\n",
       "      <td>8097.750000</td>\n",
       "      <td>9019.000000</td>\n",
       "      <td>1064.250000</td>\n",
       "      <td>426.000000</td>\n",
       "      <td>2.501875e+04</td>\n",
       "      <td>3.220225e+04</td>\n",
       "    </tr>\n",
       "    <tr>\n",
       "      <th>max</th>\n",
       "      <td>973286.000000</td>\n",
       "      <td>52.000000</td>\n",
       "      <td>4358.000000</td>\n",
       "      <td>4468.000000</td>\n",
       "      <td>4766.000000</td>\n",
       "      <td>397079.000000</td>\n",
       "      <td>402717.000000</td>\n",
       "      <td>52875.000000</td>\n",
       "      <td>58977.000000</td>\n",
       "      <td>4.304731e+06</td>\n",
       "      <td>5.664998e+06</td>\n",
       "    </tr>\n",
       "  </tbody>\n",
       "</table>\n",
       "</div>"
      ],
      "text/plain": [
       "         operator_id  calls_lost_count  call_lost_duration  \\\n",
       "count     754.000000        239.000000          239.000000   \n",
       "mean   923704.400531          3.874477           96.401674   \n",
       "std     22646.733795          5.943089          405.961280   \n",
       "min    879896.000000          1.000000            0.000000   \n",
       "25%    905153.000000          1.000000            0.000000   \n",
       "50%    924580.000000          2.000000            1.000000   \n",
       "75%    940457.500000          4.000000           42.000000   \n",
       "max    973286.000000         52.000000         4358.000000   \n",
       "\n",
       "       call_lost_total_duration  calls_wait_count  calls_wait_duration  \\\n",
       "count                239.000000        754.000000           754.000000   \n",
       "mean                 169.907950        124.387268         12629.591512   \n",
       "std                  451.435972        356.449894         34048.558654   \n",
       "min                    1.000000          1.000000             1.000000   \n",
       "25%                   17.000000          4.000000           224.500000   \n",
       "50%                   43.000000         17.000000          1480.500000   \n",
       "75%                  111.500000         78.750000          8097.750000   \n",
       "max                 4468.000000       4766.000000        397079.000000   \n",
       "\n",
       "       calls_wait_total_duration  calls_wait_time  calls_out_count  \\\n",
       "count                 754.000000       754.000000       544.000000   \n",
       "mean                14265.248011      1635.656499       633.082721   \n",
       "std                 37503.815636      4637.607919      3693.139779   \n",
       "min                     7.000000         1.000000         1.000000   \n",
       "25%                   311.500000        62.000000        15.000000   \n",
       "50%                  1840.000000       255.000000        93.000000   \n",
       "75%                  9019.000000      1064.250000       426.000000   \n",
       "max                402717.000000     52875.000000     58977.000000   \n",
       "\n",
       "       calls_out_duration  calls_out_total_duration  \n",
       "count        5.440000e+02              5.440000e+02  \n",
       "mean         3.731376e+04              4.959800e+04  \n",
       "std          2.359110e+05              3.214051e+05  \n",
       "min          0.000000e+00              0.000000e+00  \n",
       "25%          4.920000e+02              7.055000e+02  \n",
       "50%          5.791500e+03              7.172000e+03  \n",
       "75%          2.501875e+04              3.220225e+04  \n",
       "max          4.304731e+06              5.664998e+06  "
      ]
     },
     "execution_count": 55,
     "metadata": {},
     "output_type": "execute_result"
    }
   ],
   "source": [
    "operators_ranking[(operators_ranking['call_wait_cond']==True)].describe()"
   ]
  },
  {
   "cell_type": "code",
   "execution_count": 56,
   "metadata": {},
   "outputs": [],
   "source": [
    "# Actualizamos el campo \"call_wait_cond\" con los límites definidos\n",
    "operators_ranking.loc[(operators_ranking['call_wait_cond']==True) & (operators_ranking['calls_wait_time']>1000), 'call_wait_cond'] = True\n",
    "operators_ranking.loc[(operators_ranking['call_wait_cond']==True) & (operators_ranking['calls_wait_time']<=1000), 'call_wait_cond'] = False"
   ]
  },
  {
   "cell_type": "markdown",
   "metadata": {},
   "source": [
    "#### Operadores con menor cantidad de llamadas salientes realizadas"
   ]
  },
  {
   "cell_type": "code",
   "execution_count": 57,
   "metadata": {},
   "outputs": [
    {
     "data": {
      "text/plain": [
       "<AxesSubplot:ylabel='calls_out_count'>"
      ]
     },
     "execution_count": 57,
     "metadata": {},
     "output_type": "execute_result"
    },
    {
     "data": {
      "image/png": "[encoded data removed]",
      "text/plain": [
       "<Figure size 640x480 with 1 Axes>"
      ]
     },
     "metadata": {},
     "output_type": "display_data"
    }
   ],
   "source": [
    "sns.boxplot(data=operators_ranking[(operators_ranking['call_out_cond']==True)], y='calls_out_count')"
   ]
  },
  {
   "cell_type": "code",
   "execution_count": 58,
   "metadata": {},
   "outputs": [
    {
     "data": {
      "text/html": [
       "<div>\n",
       "<style scoped>\n",
       "    .dataframe tbody tr th:only-of-type {\n",
       "        vertical-align: middle;\n",
       "    }\n",
       "\n",
       "    .dataframe tbody tr th {\n",
       "        vertical-align: top;\n",
       "    }\n",
       "\n",
       "    .dataframe thead th {\n",
       "        text-align: right;\n",
       "    }\n",
       "</style>\n",
       "<table border=\"1\" class=\"dataframe\">\n",
       "  <thead>\n",
       "    <tr style=\"text-align: right;\">\n",
       "      <th></th>\n",
       "      <th>operator_id</th>\n",
       "      <th>calls_lost_count</th>\n",
       "      <th>call_lost_duration</th>\n",
       "      <th>call_lost_total_duration</th>\n",
       "      <th>calls_wait_count</th>\n",
       "      <th>calls_wait_duration</th>\n",
       "      <th>calls_wait_total_duration</th>\n",
       "      <th>calls_wait_time</th>\n",
       "      <th>calls_out_count</th>\n",
       "      <th>calls_out_duration</th>\n",
       "      <th>calls_out_total_duration</th>\n",
       "    </tr>\n",
       "  </thead>\n",
       "  <tbody>\n",
       "    <tr>\n",
       "      <th>count</th>\n",
       "      <td>882.000000</td>\n",
       "      <td>198.000000</td>\n",
       "      <td>198.000000</td>\n",
       "      <td>198.000000</td>\n",
       "      <td>544.000000</td>\n",
       "      <td>544.000000</td>\n",
       "      <td>544.000000</td>\n",
       "      <td>544.000000</td>\n",
       "      <td>882.000000</td>\n",
       "      <td>8.820000e+02</td>\n",
       "      <td>8.820000e+02</td>\n",
       "    </tr>\n",
       "    <tr>\n",
       "      <th>mean</th>\n",
       "      <td>925658.340136</td>\n",
       "      <td>4.232323</td>\n",
       "      <td>115.813131</td>\n",
       "      <td>197.232323</td>\n",
       "      <td>160.827206</td>\n",
       "      <td>16162.128676</td>\n",
       "      <td>18238.112132</td>\n",
       "      <td>2075.983456</td>\n",
       "      <td>681.306122</td>\n",
       "      <td>3.676628e+04</td>\n",
       "      <td>4.999859e+04</td>\n",
       "    </tr>\n",
       "    <tr>\n",
       "      <th>std</th>\n",
       "      <td>22862.558731</td>\n",
       "      <td>6.377034</td>\n",
       "      <td>443.713781</td>\n",
       "      <td>491.606490</td>\n",
       "      <td>412.311299</td>\n",
       "      <td>39053.752799</td>\n",
       "      <td>43038.641505</td>\n",
       "      <td>5368.703807</td>\n",
       "      <td>3070.238896</td>\n",
       "      <td>1.890289e+05</td>\n",
       "      <td>2.579091e+05</td>\n",
       "    </tr>\n",
       "    <tr>\n",
       "      <th>min</th>\n",
       "      <td>879896.000000</td>\n",
       "      <td>1.000000</td>\n",
       "      <td>0.000000</td>\n",
       "      <td>2.000000</td>\n",
       "      <td>1.000000</td>\n",
       "      <td>1.000000</td>\n",
       "      <td>7.000000</td>\n",
       "      <td>2.000000</td>\n",
       "      <td>1.000000</td>\n",
       "      <td>0.000000e+00</td>\n",
       "      <td>0.000000e+00</td>\n",
       "    </tr>\n",
       "    <tr>\n",
       "      <th>25%</th>\n",
       "      <td>906394.500000</td>\n",
       "      <td>1.000000</td>\n",
       "      <td>0.000000</td>\n",
       "      <td>16.250000</td>\n",
       "      <td>5.000000</td>\n",
       "      <td>340.000000</td>\n",
       "      <td>421.000000</td>\n",
       "      <td>79.000000</td>\n",
       "      <td>11.000000</td>\n",
       "      <td>3.470000e+02</td>\n",
       "      <td>5.060000e+02</td>\n",
       "    </tr>\n",
       "    <tr>\n",
       "      <th>50%</th>\n",
       "      <td>924959.000000</td>\n",
       "      <td>2.000000</td>\n",
       "      <td>1.000000</td>\n",
       "      <td>51.000000</td>\n",
       "      <td>24.000000</td>\n",
       "      <td>2253.500000</td>\n",
       "      <td>2645.500000</td>\n",
       "      <td>324.500000</td>\n",
       "      <td>90.000000</td>\n",
       "      <td>5.773500e+03</td>\n",
       "      <td>7.289000e+03</td>\n",
       "    </tr>\n",
       "    <tr>\n",
       "      <th>75%</th>\n",
       "      <td>943630.000000</td>\n",
       "      <td>4.000000</td>\n",
       "      <td>59.750000</td>\n",
       "      <td>150.750000</td>\n",
       "      <td>122.500000</td>\n",
       "      <td>13659.750000</td>\n",
       "      <td>15728.250000</td>\n",
       "      <td>1569.000000</td>\n",
       "      <td>597.250000</td>\n",
       "      <td>3.134400e+04</td>\n",
       "      <td>4.595925e+04</td>\n",
       "    </tr>\n",
       "    <tr>\n",
       "      <th>max</th>\n",
       "      <td>973120.000000</td>\n",
       "      <td>52.000000</td>\n",
       "      <td>4358.000000</td>\n",
       "      <td>4468.000000</td>\n",
       "      <td>4766.000000</td>\n",
       "      <td>397079.000000</td>\n",
       "      <td>402717.000000</td>\n",
       "      <td>52875.000000</td>\n",
       "      <td>58977.000000</td>\n",
       "      <td>4.304731e+06</td>\n",
       "      <td>5.664998e+06</td>\n",
       "    </tr>\n",
       "  </tbody>\n",
       "</table>\n",
       "</div>"
      ],
      "text/plain": [
       "         operator_id  calls_lost_count  call_lost_duration  \\\n",
       "count     882.000000        198.000000          198.000000   \n",
       "mean   925658.340136          4.232323          115.813131   \n",
       "std     22862.558731          6.377034          443.713781   \n",
       "min    879896.000000          1.000000            0.000000   \n",
       "25%    906394.500000          1.000000            0.000000   \n",
       "50%    924959.000000          2.000000            1.000000   \n",
       "75%    943630.000000          4.000000           59.750000   \n",
       "max    973120.000000         52.000000         4358.000000   \n",
       "\n",
       "       call_lost_total_duration  calls_wait_count  calls_wait_duration  \\\n",
       "count                198.000000        544.000000           544.000000   \n",
       "mean                 197.232323        160.827206         16162.128676   \n",
       "std                  491.606490        412.311299         39053.752799   \n",
       "min                    2.000000          1.000000             1.000000   \n",
       "25%                   16.250000          5.000000           340.000000   \n",
       "50%                   51.000000         24.000000          2253.500000   \n",
       "75%                  150.750000        122.500000         13659.750000   \n",
       "max                 4468.000000       4766.000000        397079.000000   \n",
       "\n",
       "       calls_wait_total_duration  calls_wait_time  calls_out_count  \\\n",
       "count                 544.000000       544.000000       882.000000   \n",
       "mean                18238.112132      2075.983456       681.306122   \n",
       "std                 43038.641505      5368.703807      3070.238896   \n",
       "min                     7.000000         2.000000         1.000000   \n",
       "25%                   421.000000        79.000000        11.000000   \n",
       "50%                  2645.500000       324.500000        90.000000   \n",
       "75%                 15728.250000      1569.000000       597.250000   \n",
       "max                402717.000000     52875.000000     58977.000000   \n",
       "\n",
       "       calls_out_duration  calls_out_total_duration  \n",
       "count        8.820000e+02              8.820000e+02  \n",
       "mean         3.676628e+04              4.999859e+04  \n",
       "std          1.890289e+05              2.579091e+05  \n",
       "min          0.000000e+00              0.000000e+00  \n",
       "25%          3.470000e+02              5.060000e+02  \n",
       "50%          5.773500e+03              7.289000e+03  \n",
       "75%          3.134400e+04              4.595925e+04  \n",
       "max          4.304731e+06              5.664998e+06  "
      ]
     },
     "execution_count": 58,
     "metadata": {},
     "output_type": "execute_result"
    }
   ],
   "source": [
    "operators_ranking[(operators_ranking['call_out_cond']==True)].describe()"
   ]
  },
  {
   "cell_type": "code",
   "execution_count": 59,
   "metadata": {},
   "outputs": [],
   "source": [
    "# Actualizamos el campo \"call_out_cond\" con los límites definidos\n",
    "operators_ranking.loc[(operators_ranking['call_out_cond']) & (operators_ranking['calls_out_count']<=100), 'call_out_cond'] = True\n",
    "operators_ranking.loc[(operators_ranking['call_out_cond']) & (operators_ranking['calls_out_count']>100), 'call_out_cond'] = False"
   ]
  },
  {
   "cell_type": "markdown",
   "metadata": {},
   "source": [
    "### Clasificamos a los operadores ineficaces"
   ]
  },
  {
   "cell_type": "code",
   "execution_count": 60,
   "metadata": {},
   "outputs": [],
   "source": [
    "# Creamos dos campos: \"status\", \"prioridad\"\n",
    "\n",
    "operators_ranking[['tipo_operador', 'prioridad']] = ''"
   ]
  },
  {
   "cell_type": "code",
   "execution_count": 61,
   "metadata": {},
   "outputs": [
    {
     "data": {
      "text/plain": [
       "array([906410, 905862, 919554, 919166, 919206, 919204, 937956, 940588])"
      ]
     },
     "execution_count": 61,
     "metadata": {},
     "output_type": "execute_result"
    }
   ],
   "source": [
    "# Operadores que cumplen con las 3 condiciones de operadores ineficaces\n",
    "operators_ranking[(operators_ranking['call_lost_cond']==True)&(operators_ranking['call_wait_cond']==True)&(operators_ranking['call_out_cond']==True)]['operator_id'].unique()"
   ]
  },
  {
   "cell_type": "code",
   "execution_count": 62,
   "metadata": {},
   "outputs": [],
   "source": [
    "operators_ranking.loc[(operators_ranking['call_lost_cond']==True)&(operators_ranking['call_wait_cond']==True)&(operators_ranking['call_out_cond']==True), 'tipo_operador'] = 'ineficaz'\n",
    "operators_ranking.loc[(operators_ranking['call_lost_cond']==True)&(operators_ranking['call_wait_cond']==True)&(operators_ranking['call_out_cond']==True), 'prioridad'] = 'alta'"
   ]
  },
  {
   "cell_type": "code",
   "execution_count": 63,
   "metadata": {},
   "outputs": [
    {
     "data": {
      "text/html": [
       "<div>\n",
       "<style scoped>\n",
       "    .dataframe tbody tr th:only-of-type {\n",
       "        vertical-align: middle;\n",
       "    }\n",
       "\n",
       "    .dataframe tbody tr th {\n",
       "        vertical-align: top;\n",
       "    }\n",
       "\n",
       "    .dataframe thead th {\n",
       "        text-align: right;\n",
       "    }\n",
       "</style>\n",
       "<table border=\"1\" class=\"dataframe\">\n",
       "  <thead>\n",
       "    <tr style=\"text-align: right;\">\n",
       "      <th></th>\n",
       "      <th>operator_id</th>\n",
       "      <th>calls_lost_count</th>\n",
       "      <th>call_lost_duration</th>\n",
       "      <th>call_lost_total_duration</th>\n",
       "      <th>calls_wait_count</th>\n",
       "      <th>calls_wait_duration</th>\n",
       "      <th>calls_wait_total_duration</th>\n",
       "      <th>calls_wait_time</th>\n",
       "      <th>calls_out_count</th>\n",
       "      <th>calls_out_duration</th>\n",
       "      <th>calls_out_total_duration</th>\n",
       "      <th>call_lost_cond</th>\n",
       "      <th>call_wait_cond</th>\n",
       "      <th>call_out_cond</th>\n",
       "      <th>tipo_operador</th>\n",
       "      <th>prioridad</th>\n",
       "    </tr>\n",
       "  </thead>\n",
       "  <tbody>\n",
       "    <tr>\n",
       "      <th>12</th>\n",
       "      <td>882686</td>\n",
       "      <td>6.0</td>\n",
       "      <td>2.0</td>\n",
       "      <td>73.0</td>\n",
       "      <td>766.0</td>\n",
       "      <td>143970.0</td>\n",
       "      <td>155241.0</td>\n",
       "      <td>11271.0</td>\n",
       "      <td>2884.0</td>\n",
       "      <td>222447.0</td>\n",
       "      <td>275859.0</td>\n",
       "      <td>True</td>\n",
       "      <td>True</td>\n",
       "      <td>False</td>\n",
       "      <td></td>\n",
       "      <td></td>\n",
       "    </tr>\n",
       "    <tr>\n",
       "      <th>79</th>\n",
       "      <td>900194</td>\n",
       "      <td>2.0</td>\n",
       "      <td>0.0</td>\n",
       "      <td>87.0</td>\n",
       "      <td>55.0</td>\n",
       "      <td>10643.0</td>\n",
       "      <td>11822.0</td>\n",
       "      <td>1179.0</td>\n",
       "      <td>43.0</td>\n",
       "      <td>4780.0</td>\n",
       "      <td>6147.0</td>\n",
       "      <td>False</td>\n",
       "      <td>True</td>\n",
       "      <td>True</td>\n",
       "      <td></td>\n",
       "      <td></td>\n",
       "    </tr>\n",
       "    <tr>\n",
       "      <th>83</th>\n",
       "      <td>908960</td>\n",
       "      <td>14.0</td>\n",
       "      <td>111.0</td>\n",
       "      <td>515.0</td>\n",
       "      <td>695.0</td>\n",
       "      <td>66211.0</td>\n",
       "      <td>82475.0</td>\n",
       "      <td>16264.0</td>\n",
       "      <td>113.0</td>\n",
       "      <td>7433.0</td>\n",
       "      <td>8523.0</td>\n",
       "      <td>True</td>\n",
       "      <td>True</td>\n",
       "      <td>False</td>\n",
       "      <td></td>\n",
       "      <td></td>\n",
       "    </tr>\n",
       "    <tr>\n",
       "      <th>87</th>\n",
       "      <td>885890</td>\n",
       "      <td>26.0</td>\n",
       "      <td>5.0</td>\n",
       "      <td>266.0</td>\n",
       "      <td>1244.0</td>\n",
       "      <td>79487.0</td>\n",
       "      <td>90793.0</td>\n",
       "      <td>11306.0</td>\n",
       "      <td>58977.0</td>\n",
       "      <td>3261303.0</td>\n",
       "      <td>4692999.0</td>\n",
       "      <td>True</td>\n",
       "      <td>True</td>\n",
       "      <td>False</td>\n",
       "      <td></td>\n",
       "      <td></td>\n",
       "    </tr>\n",
       "    <tr>\n",
       "      <th>88</th>\n",
       "      <td>885876</td>\n",
       "      <td>20.0</td>\n",
       "      <td>5.0</td>\n",
       "      <td>240.0</td>\n",
       "      <td>992.0</td>\n",
       "      <td>59222.0</td>\n",
       "      <td>68239.0</td>\n",
       "      <td>9017.0</td>\n",
       "      <td>58437.0</td>\n",
       "      <td>4304731.0</td>\n",
       "      <td>5664998.0</td>\n",
       "      <td>True</td>\n",
       "      <td>True</td>\n",
       "      <td>False</td>\n",
       "      <td></td>\n",
       "      <td></td>\n",
       "    </tr>\n",
       "    <tr>\n",
       "      <th>...</th>\n",
       "      <td>...</td>\n",
       "      <td>...</td>\n",
       "      <td>...</td>\n",
       "      <td>...</td>\n",
       "      <td>...</td>\n",
       "      <td>...</td>\n",
       "      <td>...</td>\n",
       "      <td>...</td>\n",
       "      <td>...</td>\n",
       "      <td>...</td>\n",
       "      <td>...</td>\n",
       "      <td>...</td>\n",
       "      <td>...</td>\n",
       "      <td>...</td>\n",
       "      <td>...</td>\n",
       "      <td>...</td>\n",
       "    </tr>\n",
       "    <tr>\n",
       "      <th>986</th>\n",
       "      <td>940658</td>\n",
       "      <td>10.0</td>\n",
       "      <td>903.0</td>\n",
       "      <td>965.0</td>\n",
       "      <td>862.0</td>\n",
       "      <td>73000.0</td>\n",
       "      <td>77181.0</td>\n",
       "      <td>4181.0</td>\n",
       "      <td>1726.0</td>\n",
       "      <td>57560.0</td>\n",
       "      <td>85352.0</td>\n",
       "      <td>True</td>\n",
       "      <td>True</td>\n",
       "      <td>False</td>\n",
       "      <td></td>\n",
       "      <td></td>\n",
       "    </tr>\n",
       "    <tr>\n",
       "      <th>988</th>\n",
       "      <td>940652</td>\n",
       "      <td>9.0</td>\n",
       "      <td>1011.0</td>\n",
       "      <td>1042.0</td>\n",
       "      <td>414.0</td>\n",
       "      <td>22185.0</td>\n",
       "      <td>23902.0</td>\n",
       "      <td>1717.0</td>\n",
       "      <td>860.0</td>\n",
       "      <td>38514.0</td>\n",
       "      <td>57533.0</td>\n",
       "      <td>True</td>\n",
       "      <td>True</td>\n",
       "      <td>False</td>\n",
       "      <td></td>\n",
       "      <td></td>\n",
       "    </tr>\n",
       "    <tr>\n",
       "      <th>990</th>\n",
       "      <td>940622</td>\n",
       "      <td>16.0</td>\n",
       "      <td>2415.0</td>\n",
       "      <td>2502.0</td>\n",
       "      <td>677.0</td>\n",
       "      <td>35972.0</td>\n",
       "      <td>39031.0</td>\n",
       "      <td>3059.0</td>\n",
       "      <td>718.0</td>\n",
       "      <td>27097.0</td>\n",
       "      <td>42059.0</td>\n",
       "      <td>True</td>\n",
       "      <td>True</td>\n",
       "      <td>False</td>\n",
       "      <td></td>\n",
       "      <td></td>\n",
       "    </tr>\n",
       "    <tr>\n",
       "      <th>1001</th>\n",
       "      <td>952948</td>\n",
       "      <td>8.0</td>\n",
       "      <td>0.0</td>\n",
       "      <td>9.0</td>\n",
       "      <td>3542.0</td>\n",
       "      <td>397079.0</td>\n",
       "      <td>402717.0</td>\n",
       "      <td>5638.0</td>\n",
       "      <td>1178.0</td>\n",
       "      <td>74351.0</td>\n",
       "      <td>90283.0</td>\n",
       "      <td>True</td>\n",
       "      <td>True</td>\n",
       "      <td>False</td>\n",
       "      <td></td>\n",
       "      <td></td>\n",
       "    </tr>\n",
       "    <tr>\n",
       "      <th>1011</th>\n",
       "      <td>945046</td>\n",
       "      <td>4.0</td>\n",
       "      <td>1.0</td>\n",
       "      <td>126.0</td>\n",
       "      <td>60.0</td>\n",
       "      <td>6576.0</td>\n",
       "      <td>7641.0</td>\n",
       "      <td>1065.0</td>\n",
       "      <td>29.0</td>\n",
       "      <td>1134.0</td>\n",
       "      <td>1629.0</td>\n",
       "      <td>False</td>\n",
       "      <td>True</td>\n",
       "      <td>True</td>\n",
       "      <td></td>\n",
       "      <td></td>\n",
       "    </tr>\n",
       "  </tbody>\n",
       "</table>\n",
       "<p>65 rows × 16 columns</p>\n",
       "</div>"
      ],
      "text/plain": [
       "      operator_id  calls_lost_count  call_lost_duration  \\\n",
       "12         882686               6.0                 2.0   \n",
       "79         900194               2.0                 0.0   \n",
       "83         908960              14.0               111.0   \n",
       "87         885890              26.0                 5.0   \n",
       "88         885876              20.0                 5.0   \n",
       "...           ...               ...                 ...   \n",
       "986        940658              10.0               903.0   \n",
       "988        940652               9.0              1011.0   \n",
       "990        940622              16.0              2415.0   \n",
       "1001       952948               8.0                 0.0   \n",
       "1011       945046               4.0                 1.0   \n",
       "\n",
       "      call_lost_total_duration  calls_wait_count  calls_wait_duration  \\\n",
       "12                        73.0             766.0             143970.0   \n",
       "79                        87.0              55.0              10643.0   \n",
       "83                       515.0             695.0              66211.0   \n",
       "87                       266.0            1244.0              79487.0   \n",
       "88                       240.0             992.0              59222.0   \n",
       "...                        ...               ...                  ...   \n",
       "986                      965.0             862.0              73000.0   \n",
       "988                     1042.0             414.0              22185.0   \n",
       "990                     2502.0             677.0              35972.0   \n",
       "1001                       9.0            3542.0             397079.0   \n",
       "1011                     126.0              60.0               6576.0   \n",
       "\n",
       "      calls_wait_total_duration  calls_wait_time  calls_out_count  \\\n",
       "12                     155241.0          11271.0           2884.0   \n",
       "79                      11822.0           1179.0             43.0   \n",
       "83                      82475.0          16264.0            113.0   \n",
       "87                      90793.0          11306.0          58977.0   \n",
       "88                      68239.0           9017.0          58437.0   \n",
       "...                         ...              ...              ...   \n",
       "986                     77181.0           4181.0           1726.0   \n",
       "988                     23902.0           1717.0            860.0   \n",
       "990                     39031.0           3059.0            718.0   \n",
       "1001                   402717.0           5638.0           1178.0   \n",
       "1011                     7641.0           1065.0             29.0   \n",
       "\n",
       "      calls_out_duration  calls_out_total_duration call_lost_cond  \\\n",
       "12              222447.0                  275859.0           True   \n",
       "79                4780.0                    6147.0          False   \n",
       "83                7433.0                    8523.0           True   \n",
       "87             3261303.0                 4692999.0           True   \n",
       "88             4304731.0                 5664998.0           True   \n",
       "...                  ...                       ...            ...   \n",
       "986              57560.0                   85352.0           True   \n",
       "988              38514.0                   57533.0           True   \n",
       "990              27097.0                   42059.0           True   \n",
       "1001             74351.0                   90283.0           True   \n",
       "1011              1134.0                    1629.0          False   \n",
       "\n",
       "     call_wait_cond call_out_cond tipo_operador prioridad  \n",
       "12             True         False                          \n",
       "79             True          True                          \n",
       "83             True         False                          \n",
       "87             True         False                          \n",
       "88             True         False                          \n",
       "...             ...           ...           ...       ...  \n",
       "986            True         False                          \n",
       "988            True         False                          \n",
       "990            True         False                          \n",
       "1001           True         False                          \n",
       "1011           True          True                          \n",
       "\n",
       "[65 rows x 16 columns]"
      ]
     },
     "execution_count": 63,
     "metadata": {},
     "output_type": "execute_result"
    }
   ],
   "source": [
    "# Operadores que cumplen con al menos 2 condiciones de operadores ineficaces\n",
    "operators_ranking[(operators_ranking['tipo_operador']=='')&\n",
    "                  (((operators_ranking['call_lost_cond']==True)&(operators_ranking['call_wait_cond']==True)&(operators_ranking['call_out_cond']==False))|\n",
    "                   ((operators_ranking['call_lost_cond']==True)&(operators_ranking['call_wait_cond']==False)&(operators_ranking['call_out_cond']==True))|\n",
    "                   ((operators_ranking['call_lost_cond']==False)&(operators_ranking['call_wait_cond']==True)&(operators_ranking['call_out_cond']==True))\n",
    "                  )]"
   ]
  },
  {
   "cell_type": "code",
   "execution_count": 64,
   "metadata": {},
   "outputs": [],
   "source": [
    "operators_ranking.loc[(operators_ranking['tipo_operador']=='')&\n",
    "                  (((operators_ranking['call_lost_cond']==True)&(operators_ranking['call_wait_cond']==True)&(operators_ranking['call_out_cond']==False))|\n",
    "                   ((operators_ranking['call_lost_cond']==True)&(operators_ranking['call_wait_cond']==False)&(operators_ranking['call_out_cond']==True))|\n",
    "                   ((operators_ranking['call_lost_cond']==False)&(operators_ranking['call_wait_cond']==True)&(operators_ranking['call_out_cond']==True))\n",
    "                  ), 'tipo_operador'] = 'ineficaz'\n",
    "operators_ranking.loc[(operators_ranking['prioridad']=='')&\n",
    "                  (((operators_ranking['call_lost_cond']==True)&(operators_ranking['call_wait_cond']==True)&(operators_ranking['call_out_cond']==False))|\n",
    "                   ((operators_ranking['call_lost_cond']==True)&(operators_ranking['call_wait_cond']==False)&(operators_ranking['call_out_cond']==True))|\n",
    "                   ((operators_ranking['call_lost_cond']==False)&(operators_ranking['call_wait_cond']==True)&(operators_ranking['call_out_cond']==True))\n",
    "                  ), 'prioridad'] = 'media'"
   ]
  },
  {
   "cell_type": "code",
   "execution_count": 65,
   "metadata": {},
   "outputs": [
    {
     "data": {
      "text/html": [
       "<div>\n",
       "<style scoped>\n",
       "    .dataframe tbody tr th:only-of-type {\n",
       "        vertical-align: middle;\n",
       "    }\n",
       "\n",
       "    .dataframe tbody tr th {\n",
       "        vertical-align: top;\n",
       "    }\n",
       "\n",
       "    .dataframe thead th {\n",
       "        text-align: right;\n",
       "    }\n",
       "</style>\n",
       "<table border=\"1\" class=\"dataframe\">\n",
       "  <thead>\n",
       "    <tr style=\"text-align: right;\">\n",
       "      <th></th>\n",
       "      <th>operator_id</th>\n",
       "      <th>calls_lost_count</th>\n",
       "      <th>call_lost_duration</th>\n",
       "      <th>call_lost_total_duration</th>\n",
       "      <th>calls_wait_count</th>\n",
       "      <th>calls_wait_duration</th>\n",
       "      <th>calls_wait_total_duration</th>\n",
       "      <th>calls_wait_time</th>\n",
       "      <th>calls_out_count</th>\n",
       "      <th>calls_out_duration</th>\n",
       "      <th>calls_out_total_duration</th>\n",
       "      <th>call_lost_cond</th>\n",
       "      <th>call_wait_cond</th>\n",
       "      <th>call_out_cond</th>\n",
       "      <th>tipo_operador</th>\n",
       "      <th>prioridad</th>\n",
       "    </tr>\n",
       "  </thead>\n",
       "  <tbody>\n",
       "    <tr>\n",
       "      <th>1</th>\n",
       "      <td>880020</td>\n",
       "      <td>NaN</td>\n",
       "      <td>NaN</td>\n",
       "      <td>NaN</td>\n",
       "      <td>7.0</td>\n",
       "      <td>299.0</td>\n",
       "      <td>353.0</td>\n",
       "      <td>54.0</td>\n",
       "      <td>38.0</td>\n",
       "      <td>1946.0</td>\n",
       "      <td>2172.0</td>\n",
       "      <td>False</td>\n",
       "      <td>False</td>\n",
       "      <td>True</td>\n",
       "      <td></td>\n",
       "      <td></td>\n",
       "    </tr>\n",
       "    <tr>\n",
       "      <th>2</th>\n",
       "      <td>881278</td>\n",
       "      <td>NaN</td>\n",
       "      <td>NaN</td>\n",
       "      <td>NaN</td>\n",
       "      <td>NaN</td>\n",
       "      <td>NaN</td>\n",
       "      <td>NaN</td>\n",
       "      <td>NaN</td>\n",
       "      <td>20.0</td>\n",
       "      <td>465.0</td>\n",
       "      <td>543.0</td>\n",
       "      <td>False</td>\n",
       "      <td>False</td>\n",
       "      <td>True</td>\n",
       "      <td></td>\n",
       "      <td></td>\n",
       "    </tr>\n",
       "    <tr>\n",
       "      <th>6</th>\n",
       "      <td>882478</td>\n",
       "      <td>NaN</td>\n",
       "      <td>NaN</td>\n",
       "      <td>NaN</td>\n",
       "      <td>3.0</td>\n",
       "      <td>68.0</td>\n",
       "      <td>144.0</td>\n",
       "      <td>76.0</td>\n",
       "      <td>1.0</td>\n",
       "      <td>0.0</td>\n",
       "      <td>7.0</td>\n",
       "      <td>False</td>\n",
       "      <td>False</td>\n",
       "      <td>True</td>\n",
       "      <td></td>\n",
       "      <td></td>\n",
       "    </tr>\n",
       "    <tr>\n",
       "      <th>8</th>\n",
       "      <td>891900</td>\n",
       "      <td>NaN</td>\n",
       "      <td>NaN</td>\n",
       "      <td>NaN</td>\n",
       "      <td>33.0</td>\n",
       "      <td>3987.0</td>\n",
       "      <td>5227.0</td>\n",
       "      <td>1240.0</td>\n",
       "      <td>NaN</td>\n",
       "      <td>NaN</td>\n",
       "      <td>NaN</td>\n",
       "      <td>False</td>\n",
       "      <td>True</td>\n",
       "      <td>False</td>\n",
       "      <td></td>\n",
       "      <td></td>\n",
       "    </tr>\n",
       "    <tr>\n",
       "      <th>9</th>\n",
       "      <td>891906</td>\n",
       "      <td>NaN</td>\n",
       "      <td>NaN</td>\n",
       "      <td>NaN</td>\n",
       "      <td>67.0</td>\n",
       "      <td>12593.0</td>\n",
       "      <td>14375.0</td>\n",
       "      <td>1782.0</td>\n",
       "      <td>NaN</td>\n",
       "      <td>NaN</td>\n",
       "      <td>NaN</td>\n",
       "      <td>False</td>\n",
       "      <td>True</td>\n",
       "      <td>False</td>\n",
       "      <td></td>\n",
       "      <td></td>\n",
       "    </tr>\n",
       "    <tr>\n",
       "      <th>...</th>\n",
       "      <td>...</td>\n",
       "      <td>...</td>\n",
       "      <td>...</td>\n",
       "      <td>...</td>\n",
       "      <td>...</td>\n",
       "      <td>...</td>\n",
       "      <td>...</td>\n",
       "      <td>...</td>\n",
       "      <td>...</td>\n",
       "      <td>...</td>\n",
       "      <td>...</td>\n",
       "      <td>...</td>\n",
       "      <td>...</td>\n",
       "      <td>...</td>\n",
       "      <td>...</td>\n",
       "      <td>...</td>\n",
       "    </tr>\n",
       "    <tr>\n",
       "      <th>1077</th>\n",
       "      <td>959596</td>\n",
       "      <td>NaN</td>\n",
       "      <td>NaN</td>\n",
       "      <td>NaN</td>\n",
       "      <td>NaN</td>\n",
       "      <td>NaN</td>\n",
       "      <td>NaN</td>\n",
       "      <td>NaN</td>\n",
       "      <td>9.0</td>\n",
       "      <td>199.0</td>\n",
       "      <td>258.0</td>\n",
       "      <td>False</td>\n",
       "      <td>False</td>\n",
       "      <td>True</td>\n",
       "      <td></td>\n",
       "      <td></td>\n",
       "    </tr>\n",
       "    <tr>\n",
       "      <th>1078</th>\n",
       "      <td>952196</td>\n",
       "      <td>NaN</td>\n",
       "      <td>NaN</td>\n",
       "      <td>NaN</td>\n",
       "      <td>2.0</td>\n",
       "      <td>84.0</td>\n",
       "      <td>108.0</td>\n",
       "      <td>24.0</td>\n",
       "      <td>2.0</td>\n",
       "      <td>6.0</td>\n",
       "      <td>42.0</td>\n",
       "      <td>False</td>\n",
       "      <td>False</td>\n",
       "      <td>True</td>\n",
       "      <td></td>\n",
       "      <td></td>\n",
       "    </tr>\n",
       "    <tr>\n",
       "      <th>1089</th>\n",
       "      <td>952916</td>\n",
       "      <td>NaN</td>\n",
       "      <td>NaN</td>\n",
       "      <td>NaN</td>\n",
       "      <td>1.0</td>\n",
       "      <td>161.0</td>\n",
       "      <td>186.0</td>\n",
       "      <td>25.0</td>\n",
       "      <td>7.0</td>\n",
       "      <td>346.0</td>\n",
       "      <td>521.0</td>\n",
       "      <td>False</td>\n",
       "      <td>False</td>\n",
       "      <td>True</td>\n",
       "      <td></td>\n",
       "      <td></td>\n",
       "    </tr>\n",
       "    <tr>\n",
       "      <th>1090</th>\n",
       "      <td>959118</td>\n",
       "      <td>NaN</td>\n",
       "      <td>NaN</td>\n",
       "      <td>NaN</td>\n",
       "      <td>NaN</td>\n",
       "      <td>NaN</td>\n",
       "      <td>NaN</td>\n",
       "      <td>NaN</td>\n",
       "      <td>14.0</td>\n",
       "      <td>905.0</td>\n",
       "      <td>1187.0</td>\n",
       "      <td>False</td>\n",
       "      <td>False</td>\n",
       "      <td>True</td>\n",
       "      <td></td>\n",
       "      <td></td>\n",
       "    </tr>\n",
       "    <tr>\n",
       "      <th>1091</th>\n",
       "      <td>957922</td>\n",
       "      <td>1.0</td>\n",
       "      <td>0.0</td>\n",
       "      <td>7.0</td>\n",
       "      <td>3.0</td>\n",
       "      <td>686.0</td>\n",
       "      <td>712.0</td>\n",
       "      <td>26.0</td>\n",
       "      <td>16.0</td>\n",
       "      <td>4415.0</td>\n",
       "      <td>4715.0</td>\n",
       "      <td>False</td>\n",
       "      <td>False</td>\n",
       "      <td>True</td>\n",
       "      <td></td>\n",
       "      <td></td>\n",
       "    </tr>\n",
       "  </tbody>\n",
       "</table>\n",
       "<p>540 rows × 16 columns</p>\n",
       "</div>"
      ],
      "text/plain": [
       "      operator_id  calls_lost_count  call_lost_duration  \\\n",
       "1          880020               NaN                 NaN   \n",
       "2          881278               NaN                 NaN   \n",
       "6          882478               NaN                 NaN   \n",
       "8          891900               NaN                 NaN   \n",
       "9          891906               NaN                 NaN   \n",
       "...           ...               ...                 ...   \n",
       "1077       959596               NaN                 NaN   \n",
       "1078       952196               NaN                 NaN   \n",
       "1089       952916               NaN                 NaN   \n",
       "1090       959118               NaN                 NaN   \n",
       "1091       957922               1.0                 0.0   \n",
       "\n",
       "      call_lost_total_duration  calls_wait_count  calls_wait_duration  \\\n",
       "1                          NaN               7.0                299.0   \n",
       "2                          NaN               NaN                  NaN   \n",
       "6                          NaN               3.0                 68.0   \n",
       "8                          NaN              33.0               3987.0   \n",
       "9                          NaN              67.0              12593.0   \n",
       "...                        ...               ...                  ...   \n",
       "1077                       NaN               NaN                  NaN   \n",
       "1078                       NaN               2.0                 84.0   \n",
       "1089                       NaN               1.0                161.0   \n",
       "1090                       NaN               NaN                  NaN   \n",
       "1091                       7.0               3.0                686.0   \n",
       "\n",
       "      calls_wait_total_duration  calls_wait_time  calls_out_count  \\\n",
       "1                         353.0             54.0             38.0   \n",
       "2                           NaN              NaN             20.0   \n",
       "6                         144.0             76.0              1.0   \n",
       "8                        5227.0           1240.0              NaN   \n",
       "9                       14375.0           1782.0              NaN   \n",
       "...                         ...              ...              ...   \n",
       "1077                        NaN              NaN              9.0   \n",
       "1078                      108.0             24.0              2.0   \n",
       "1089                      186.0             25.0              7.0   \n",
       "1090                        NaN              NaN             14.0   \n",
       "1091                      712.0             26.0             16.0   \n",
       "\n",
       "      calls_out_duration  calls_out_total_duration call_lost_cond  \\\n",
       "1                 1946.0                    2172.0          False   \n",
       "2                  465.0                     543.0          False   \n",
       "6                    0.0                       7.0          False   \n",
       "8                    NaN                       NaN          False   \n",
       "9                    NaN                       NaN          False   \n",
       "...                  ...                       ...            ...   \n",
       "1077               199.0                     258.0          False   \n",
       "1078                 6.0                      42.0          False   \n",
       "1089               346.0                     521.0          False   \n",
       "1090               905.0                    1187.0          False   \n",
       "1091              4415.0                    4715.0          False   \n",
       "\n",
       "     call_wait_cond call_out_cond tipo_operador prioridad  \n",
       "1             False          True                          \n",
       "2             False          True                          \n",
       "6             False          True                          \n",
       "8              True         False                          \n",
       "9              True         False                          \n",
       "...             ...           ...           ...       ...  \n",
       "1077          False          True                          \n",
       "1078          False          True                          \n",
       "1089          False          True                          \n",
       "1090          False          True                          \n",
       "1091          False          True                          \n",
       "\n",
       "[540 rows x 16 columns]"
      ]
     },
     "execution_count": 65,
     "metadata": {},
     "output_type": "execute_result"
    }
   ],
   "source": [
    "# Operadores que cumplen con al menos 1 condicion de operador ineficaz\n",
    "operators_ranking[(operators_ranking['tipo_operador']=='')&((operators_ranking['call_lost_cond']==True)|(operators_ranking['call_wait_cond']==True)|(operators_ranking['call_out_cond']==True))]"
   ]
  },
  {
   "cell_type": "code",
   "execution_count": 66,
   "metadata": {},
   "outputs": [],
   "source": [
    "operators_ranking.loc[(operators_ranking['tipo_operador']=='')&((operators_ranking['call_lost_cond']==True)|(operators_ranking['call_wait_cond']==True)|(operators_ranking['call_out_cond']==True)),'tipo_operador'] = 'ineficaz'\n",
    "operators_ranking.loc[(operators_ranking['prioridad']=='')&((operators_ranking['call_lost_cond']==True)|(operators_ranking['call_wait_cond']==True)|(operators_ranking['call_out_cond']==True)),'prioridad'] = 'baja'"
   ]
  },
  {
   "cell_type": "code",
   "execution_count": 67,
   "metadata": {},
   "outputs": [
    {
     "data": {
      "text/plain": [
       "operator_id                  479\n",
       "calls_lost_count              54\n",
       "call_lost_duration            54\n",
       "call_lost_total_duration      54\n",
       "calls_wait_count             316\n",
       "calls_wait_duration          316\n",
       "calls_wait_total_duration    316\n",
       "calls_wait_time              316\n",
       "calls_out_count              297\n",
       "calls_out_duration           297\n",
       "calls_out_total_duration     297\n",
       "call_lost_cond               479\n",
       "call_wait_cond               479\n",
       "call_out_cond                479\n",
       "tipo_operador                479\n",
       "prioridad                    479\n",
       "dtype: int64"
      ]
     },
     "execution_count": 67,
     "metadata": {},
     "output_type": "execute_result"
    }
   ],
   "source": [
    "# Operadores eficaces\n",
    "operators_ranking[(operators_ranking['tipo_operador']=='')&(operators_ranking['call_lost_cond']==False)&(operators_ranking['call_wait_cond']==False)&(operators_ranking['call_out_cond']==False)].count()"
   ]
  },
  {
   "cell_type": "code",
   "execution_count": 68,
   "metadata": {},
   "outputs": [],
   "source": [
    "operators_ranking.loc[(operators_ranking['tipo_operador']=='')&(operators_ranking['call_lost_cond']==False)&(operators_ranking['call_wait_cond']==False)&(operators_ranking['call_out_cond']==False),'tipo_operador'] = 'eficaz'"
   ]
  },
  {
   "cell_type": "code",
   "execution_count": 69,
   "metadata": {},
   "outputs": [
    {
     "data": {
      "text/plain": [
       "tipo_operador\n",
       "eficaz      479\n",
       "ineficaz    613\n",
       "Name: tipo_operador, dtype: int64"
      ]
     },
     "execution_count": 69,
     "metadata": {},
     "output_type": "execute_result"
    }
   ],
   "source": [
    "operators_ranking.groupby('tipo_operador')['tipo_operador'].count()"
   ]
  },
  {
   "cell_type": "code",
   "execution_count": 70,
   "metadata": {},
   "outputs": [
    {
     "data": {
      "image/png": "[encoded data removed]",
      "text/plain": [
       "<Figure size 640x480 with 1 Axes>"
      ]
     },
     "metadata": {},
     "output_type": "display_data"
    }
   ],
   "source": [
    "data = [479, 613]\n",
    "labels = [\"eficaz\", \"ineficaz\"]\n",
    "colors = sns.color_palette(\"pastel6\")\n",
    "plt.pie(data, labels=labels, colors=colors, autopct=\"%0.0f%%\")\n",
    "plt.show()"
   ]
  },
  {
   "cell_type": "code",
   "execution_count": 71,
   "metadata": {},
   "outputs": [
    {
     "data": {
      "text/plain": [
       "prioridad\n",
       "alta       8\n",
       "baja     540\n",
       "media     65\n",
       "Name: prioridad, dtype: int64"
      ]
     },
     "execution_count": 71,
     "metadata": {},
     "output_type": "execute_result"
    }
   ],
   "source": [
    "operators_ranking[operators_ranking['tipo_operador']=='ineficaz'].groupby('prioridad')['prioridad'].count()"
   ]
  },
  {
   "cell_type": "code",
   "execution_count": 72,
   "metadata": {},
   "outputs": [
    {
     "data": {
      "image/png": "[encoded data removed]",
      "text/plain": [
       "<Figure size 640x480 with 1 Axes>"
      ]
     },
     "metadata": {},
     "output_type": "display_data"
    }
   ],
   "source": [
    "data = [8, 65, 540]\n",
    "labels = [\"alta\", \"media\", \"baja\"]\n",
    "colors = sns.color_palette(\"pastel\")\n",
    "plt.pie(data, labels=labels, colors=colors, autopct=\"%0.0f%%\")\n",
    "plt.show()"
   ]
  },
  {
   "cell_type": "code",
   "execution_count": 73,
   "metadata": {},
   "outputs": [],
   "source": [
    "# Exportamos los dataframes validados para generar un dashboard\n",
    "operators_ranking.to_csv('operators_ranking.csv', index=False)\n",
    "calls.to_csv('calls.csv', index=False)\n",
    "clients.to_csv('clients.csv', index=False)"
   ]
  },
  {
   "cell_type": "markdown",
   "metadata": {},
   "source": [
    "En esta sección se definió la lógica para identificar a los operadores ineficaces, donde se concluye lo siguiente:\n",
    "* La muestra nos indica que se cuenta con 1,092 operadores que atendieron llamadas.\n",
    "* El 44% de operadores son eficaces (479) y el 56% son operadores ineficaces (613).\n",
    "* De los 613 operadores ineficaces se establecieron prioridades donde:\n",
    "    * 8 (1%) se encuentran en prioridad alta (cumplieron con las 3 condiciones que caracterizan a un operador ineficaz)\n",
    "    * 65 (11%) se encuentran en prioridad media (cumplieron con al menos 2 condiciones que caracterizan a un operador ineficaz)\n",
    "    * 540 (88%) se encuentran en prioridad baja (cumplieron con al menos 1 condición que caracteriza a un operador ineficaz)"
   ]
  },
  {
   "cell_type": "markdown",
   "metadata": {},
   "source": [
    "[Volver a la Tabla de Contenido](#indice)"
   ]
  },
  {
   "cell_type": "markdown",
   "metadata": {},
   "source": [
    "<a id=\"prueba_hipotesis\"></a>\n",
    "## Prueba de hipótesis estadística"
   ]
  },
  {
   "cell_type": "markdown",
   "metadata": {},
   "source": [
    "### La cantidad de llamadas de los operadores ineficaces es menor a la cantidad de llamadas en operadores eficaces"
   ]
  },
  {
   "cell_type": "markdown",
   "metadata": {},
   "source": [
    "Definimos las hipótesis:\n",
    "- H0: La cantidad de llamadas de los operadores ineficaces es menor a la cantidad de llamadas de los operadores eficaces.\n",
    "- H1: La cantidad de llamadas de los operadores ineficaces es mayor a la cantidad de llamadas de los operadores eficaces.\n",
    "\n",
    "Además, para la prueba consideraremos el umbral de alpha en 0.05."
   ]
  },
  {
   "cell_type": "code",
   "execution_count": 74,
   "metadata": {},
   "outputs": [],
   "source": [
    "# Creamos los dataframes para ralizar la prueba de hipótesis\n",
    "df_ineficaces = calls[calls['operator_id'].isin(operators_ranking[operators_ranking['tipo_operador']=='ineficaz']['operator_id'].unique())==True].groupby('operator_id')['calls_count'].sum().reset_index()\n",
    "df_eficaces = calls[calls['operator_id'].isin(operators_ranking[operators_ranking['tipo_operador']=='eficaz']['operator_id'].unique())==True].groupby('operator_id')['calls_count'].sum().reset_index()"
   ]
  },
  {
   "cell_type": "code",
   "execution_count": 75,
   "metadata": {},
   "outputs": [
    {
     "data": {
      "text/plain": [
       "LeveneResult(statistic=0.2610092392052429, pvalue=0.6095310973720172)"
      ]
     },
     "execution_count": 75,
     "metadata": {},
     "output_type": "execute_result"
    }
   ],
   "source": [
    "# Validamos si las varianzas son iguales o no, usando la función de levene\n",
    "st.levene(df_eficaces['calls_count'], df_ineficaces['calls_count'])"
   ]
  },
  {
   "cell_type": "markdown",
   "metadata": {},
   "source": [
    "La función de levene indica una significancia de 0.6095, el cual al ser mucho mayor que el umbral del alpha (0.05) lo que nos indica que las varianzas son iguales."
   ]
  },
  {
   "cell_type": "code",
   "execution_count": 76,
   "metadata": {},
   "outputs": [
    {
     "name": "stdout",
     "output_type": "stream",
     "text": [
      "\n",
      "valor p: 0.46874705212666934\n",
      "\n",
      "No podemos rechazar la hipótesis nula.\n"
     ]
    }
   ],
   "source": [
    "#Realizamos la prueba de hipótesis\n",
    "\n",
    "#umbral de alpha\n",
    "alpha = 0.05\n",
    "\n",
    "#usamos la función ttest_ind para probar la hipótesis\n",
    "results = st.ttest_ind(df_eficaces['calls_count'], df_ineficaces['calls_count'], equal_var = True)\n",
    "\n",
    "print()\n",
    "print('valor p:', results.pvalue)\n",
    "print()\n",
    "\n",
    "if (results.pvalue < alpha):\n",
    "    print(\"Rechazamos la hipótesis nula\")\n",
    "else:\n",
    "    print(\"No podemos rechazar la hipótesis nula.\")"
   ]
  },
  {
   "cell_type": "markdown",
   "metadata": {},
   "source": [
    "Para esta evaluación el resultado indica que debemos aceptar la hipótesis nula; lo que significa que la cantidad de llamadas de los operadores ineficaces es menor a la cantidad de llamadas de los operadores eficaces."
   ]
  },
  {
   "cell_type": "markdown",
   "metadata": {},
   "source": [
    "### La duración de llamadas de los operadores ineficaces es menor a la duración de llamadas de operadores eficaces"
   ]
  },
  {
   "cell_type": "markdown",
   "metadata": {},
   "source": [
    "Definimos las hipótesis:\n",
    "- H0: La duración de llamadas de los operadores ineficaces es menor a la duración de llamadas de operadores eficaces.\n",
    "- H1: La duración de llamadas de los operadores ineficaces es mayor a la duración de llamadas de operadores eficaces\n",
    "\n",
    "Además, para la prueba consideraremos el umbral de alpha en 0.05."
   ]
  },
  {
   "cell_type": "code",
   "execution_count": 77,
   "metadata": {},
   "outputs": [],
   "source": [
    "# Creamos los dataframes para ralizar la prueba de hipótesis\n",
    "df_ineficaces = calls[calls['operator_id'].isin(operators_ranking[operators_ranking['tipo_operador']=='ineficaz']['operator_id'].unique())==True].groupby('operator_id')['call_duration'].sum().reset_index()\n",
    "df_eficaces = calls[calls['operator_id'].isin(operators_ranking[operators_ranking['tipo_operador']=='eficaz']['operator_id'].unique())==True].groupby('operator_id')['call_duration'].sum().reset_index()"
   ]
  },
  {
   "cell_type": "code",
   "execution_count": 78,
   "metadata": {},
   "outputs": [
    {
     "data": {
      "text/plain": [
       "LeveneResult(statistic=0.3687462960227355, pvalue=0.5438149120113792)"
      ]
     },
     "execution_count": 78,
     "metadata": {},
     "output_type": "execute_result"
    }
   ],
   "source": [
    "# Validamos si las varianzas son iguales o no, usando la función de levene\n",
    "st.levene(df_eficaces['call_duration'], df_ineficaces['call_duration'])"
   ]
  },
  {
   "cell_type": "markdown",
   "metadata": {},
   "source": [
    "La función de levene indica una significancia de 0.5438, el cual al ser mucho mayor que el umbral del alpha (0.05) lo que nos indica que las varianzas son iguales."
   ]
  },
  {
   "cell_type": "code",
   "execution_count": 79,
   "metadata": {},
   "outputs": [
    {
     "name": "stdout",
     "output_type": "stream",
     "text": [
      "\n",
      "valor p: 0.7044162661148028\n",
      "\n",
      "No podemos rechazar la hipótesis nula.\n"
     ]
    }
   ],
   "source": [
    "#Realizamos la prueba de hipótesis\n",
    "\n",
    "#umbral de alpha\n",
    "alpha = 0.05\n",
    "\n",
    "#usamos la función ttest_ind para probar la hipótesis\n",
    "results = st.ttest_ind(df_eficaces['call_duration'], df_ineficaces['call_duration'], equal_var = True)\n",
    "\n",
    "print()\n",
    "print('valor p:', results.pvalue)\n",
    "print()\n",
    "\n",
    "if (results.pvalue < alpha):\n",
    "    print(\"Rechazamos la hipótesis nula\")\n",
    "else:\n",
    "    print(\"No podemos rechazar la hipótesis nula.\")"
   ]
  },
  {
   "cell_type": "markdown",
   "metadata": {},
   "source": [
    "Para esta evaluación el resultado indica que debemos aceptar la hipótesis nula; lo que significa que la duración de llamadas de los operadores ineficaces es menor a la duración de llamadas de operadores eficaces."
   ]
  },
  {
   "cell_type": "markdown",
   "metadata": {},
   "source": [
    "[Volver a la Tabla de Contenido](#indice)"
   ]
  },
  {
   "cell_type": "markdown",
   "metadata": {},
   "source": [
    "<a id=\"conclusiones\"></a>\n",
    "## Conclusiones y recomendaciones"
   ]
  },
  {
   "cell_type": "markdown",
   "metadata": {},
   "source": [
    "### Conclusiones"
   ]
  },
  {
   "cell_type": "markdown",
   "metadata": {},
   "source": [
    "* La muestra indica que se tienen 732 clientes.\n",
    "* La cantidad de clientes desde el 01/08/2019 hasta el 31/10/2019 ha sido constante, salvo algunos días.\n",
    "* La muestra indica que se tienen 1,092 operadores que atienden a los 732 clientes.\n",
    "* El número de operadores en promedio que atiende a cada usuario es 4.\n",
    "* Un operador solo atiende a un usuario.\n",
    "* Los usuarios tienen entre 1 y 10 operadores atendiendo sus llamadas; sin embargo, hay algunos usuarios que pueden tener hasta 50 operadores.\n",
    "* La muestra indica que se tienen 3 tipos de tarifa: A, B, C. Donde asumiremos que el plan más caro es A, seguido de B y finalmente C (plan más barato).\n",
    "* La mayor cantidad de usuarios se encuentra entre el plan B y C; y unos pocos en el plan A.\n",
    "* El número de operadores por tipo de plan asignado es equitativo.\n",
    "* El número de llamadas realizadas por tipo de tarifa es mayor en el plan A y eso debe explicar porque la duración total de las llamadas en el plan A también es el más alto.\n",
    "* La muestra indica que sí existe correlación directa, a mayor cantidad de operadores mayor cantidad de llamadas.\n",
    "* La muestra indica que la cantidad de llamadas fueron incrementando constantemente, llegando a ser estables a partir de mediados de setiembre.\n",
    "* La muestra indica que se realizaron 694,714 llamadas, de las cuales:\n",
    "    * El 86% corresponde a llamadas salientes mientras que el 14% corresponde a llamadas entrantes.\n",
    "    * El 98% corresponde a llamadas externas y solo el 2% corresponde a llamadas internas.\n",
    "    * El 62% corresponde a llamadas contestadas mientras que el 38% corresponde a llamadas pérdidas.\n",
    "\n",
    "* De la identificación de operadores entre eficaces e ineficaces se encontro lo siguiente:\n",
    "    * El 44% de operadores son eficaces (479) y el 56% son operadores ineficaces (613).\n",
    "    * De los 613 operadores ineficaces se establecieron prioridades donde:\n",
    "        * 8 (1%) se encuentran en prioridad alta (cumplieron con las 3 condiciones que caracterizan a un operador ineficaz)\n",
    "        * 65 (11%) se encuentran en prioridad media (cumplieron con al menos 2 condiciones que caracterizan a un operador ineficaz)\n",
    "        * 540 (88%) se encuentran en prioridad baja (cumplieron con al menos 1 condición que caracteriza a un operador ineficaz)"
   ]
  },
  {
   "cell_type": "markdown",
   "metadata": {},
   "source": [
    "### Recomendaciones"
   ]
  },
  {
   "cell_type": "markdown",
   "metadata": {},
   "source": [
    "* Se sugiere crear un dashboard que contenga los principales KPI's:\n",
    "    * Cantidad de llamadas    \n",
    "    * Cantidad de operadores que en promedio atiende a cada usuario\n",
    "    * Cantidad promedio de llamadas que atiende un operador\n",
    "    * Duración promedio de llamadas que atiende un operador\n",
    "    * Lista de operadores ineficaces indicando el nivel de prioridad\n",
    "* Se sugiere que se publique mensualmente."
   ]
  },
  {
   "cell_type": "markdown",
   "metadata": {},
   "source": [
    "[Volver a la Tabla de Contenido](#indice)"
   ]
  },
  {
   "cell_type": "markdown",
   "metadata": {},
   "source": [
    "<a id=\"presentacion\"></a>\n",
    "## Presentación"
   ]
  },
  {
   "cell_type": "markdown",
   "metadata": {},
   "source": [
    "<a href=\"https://drive.google.com/file/d/1V-TBVr3vV-P5dbj6VkYl2qevovx1wjFi/view?usp=sharing\">Ver presentación</a>"
   ]
  },
  {
   "cell_type": "markdown",
   "metadata": {},
   "source": [
    "[Volver a la Tabla de Contenido](#indice)"
   ]
  }
 ],
 "metadata": {
  "ExecuteTimeLog": [
   {
    "duration": 2610,
    "start_time": "2024-12-19T22:30:52.556Z"
   },
   {
    "duration": 3,
    "start_time": "2024-12-19T22:30:55.168Z"
   },
   {
    "duration": 70,
    "start_time": "2024-12-19T22:30:55.172Z"
   },
   {
    "duration": 8,
    "start_time": "2024-12-19T22:30:55.244Z"
   },
   {
    "duration": 9,
    "start_time": "2024-12-19T22:30:55.254Z"
   },
   {
    "duration": 8,
    "start_time": "2024-12-19T22:30:55.265Z"
   },
   {
    "duration": 4,
    "start_time": "2024-12-19T22:30:55.275Z"
   },
   {
    "duration": 12,
    "start_time": "2024-12-19T22:30:55.280Z"
   },
   {
    "duration": 4,
    "start_time": "2024-12-19T22:30:55.293Z"
   },
   {
    "duration": 35,
    "start_time": "2024-12-19T22:30:55.299Z"
   },
   {
    "duration": 14,
    "start_time": "2024-12-19T22:30:55.336Z"
   },
   {
    "duration": 6,
    "start_time": "2024-12-19T22:30:55.354Z"
   },
   {
    "duration": 18,
    "start_time": "2024-12-19T22:30:55.362Z"
   },
   {
    "duration": 17,
    "start_time": "2024-12-19T22:30:55.384Z"
   },
   {
    "duration": 16,
    "start_time": "2024-12-19T22:30:55.432Z"
   },
   {
    "duration": 29,
    "start_time": "2024-12-19T22:30:55.449Z"
   },
   {
    "duration": 11,
    "start_time": "2024-12-19T22:30:55.480Z"
   },
   {
    "duration": 6,
    "start_time": "2024-12-19T22:30:55.493Z"
   },
   {
    "duration": 327,
    "start_time": "2024-12-19T22:30:55.501Z"
   },
   {
    "duration": 10,
    "start_time": "2024-12-19T22:30:55.831Z"
   },
   {
    "duration": 3,
    "start_time": "2024-12-19T22:30:55.843Z"
   },
   {
    "duration": 10,
    "start_time": "2024-12-19T22:30:55.849Z"
   },
   {
    "duration": 287,
    "start_time": "2024-12-19T22:30:55.860Z"
   },
   {
    "duration": 124,
    "start_time": "2024-12-19T22:30:56.149Z"
   },
   {
    "duration": 11,
    "start_time": "2024-12-19T22:30:56.275Z"
   },
   {
    "duration": 15,
    "start_time": "2024-12-19T22:30:56.287Z"
   },
   {
    "duration": 136,
    "start_time": "2024-12-19T22:30:56.305Z"
   },
   {
    "duration": 138,
    "start_time": "2024-12-19T22:30:56.443Z"
   },
   {
    "duration": 4,
    "start_time": "2024-12-19T22:30:56.584Z"
   },
   {
    "duration": 5,
    "start_time": "2024-12-19T22:30:56.590Z"
   },
   {
    "duration": 1762,
    "start_time": "2024-12-19T22:30:56.598Z"
   },
   {
    "duration": 4,
    "start_time": "2024-12-19T22:30:58.362Z"
   },
   {
    "duration": 10,
    "start_time": "2024-12-19T22:30:58.368Z"
   },
   {
    "duration": 6,
    "start_time": "2024-12-19T22:30:58.379Z"
   },
   {
    "duration": 111,
    "start_time": "2024-12-19T22:30:58.386Z"
   },
   {
    "duration": 19,
    "start_time": "2024-12-19T22:30:58.499Z"
   },
   {
    "duration": 22,
    "start_time": "2024-12-19T22:30:58.520Z"
   },
   {
    "duration": 387,
    "start_time": "2024-12-19T22:30:58.544Z"
   },
   {
    "duration": 2528,
    "start_time": "2024-12-19T22:30:58.933Z"
   },
   {
    "duration": 12,
    "start_time": "2024-12-19T22:31:01.463Z"
   },
   {
    "duration": 10,
    "start_time": "2024-12-19T22:31:01.480Z"
   },
   {
    "duration": 10,
    "start_time": "2024-12-19T22:31:01.492Z"
   },
   {
    "duration": 37,
    "start_time": "2024-12-19T22:31:01.504Z"
   },
   {
    "duration": 13,
    "start_time": "2024-12-19T22:31:01.543Z"
   },
   {
    "duration": 12,
    "start_time": "2024-12-19T22:31:01.558Z"
   },
   {
    "duration": 9,
    "start_time": "2024-12-19T22:31:01.572Z"
   },
   {
    "duration": 9,
    "start_time": "2024-12-19T22:31:01.583Z"
   },
   {
    "duration": 48,
    "start_time": "2024-12-19T22:31:01.593Z"
   },
   {
    "duration": 17,
    "start_time": "2024-12-19T22:31:01.643Z"
   },
   {
    "duration": 9,
    "start_time": "2024-12-19T22:31:01.662Z"
   },
   {
    "duration": 105,
    "start_time": "2024-12-19T22:31:01.672Z"
   },
   {
    "duration": 27,
    "start_time": "2024-12-19T22:31:01.779Z"
   },
   {
    "duration": 22,
    "start_time": "2024-12-19T22:31:01.808Z"
   },
   {
    "duration": 77,
    "start_time": "2024-12-19T22:31:01.833Z"
   },
   {
    "duration": 47,
    "start_time": "2024-12-19T22:31:01.912Z"
   },
   {
    "duration": 6,
    "start_time": "2024-12-19T22:31:01.961Z"
   },
   {
    "duration": 100,
    "start_time": "2024-12-19T22:31:01.969Z"
   },
   {
    "duration": 28,
    "start_time": "2024-12-19T22:31:02.071Z"
   },
   {
    "duration": 5,
    "start_time": "2024-12-19T22:31:02.100Z"
   },
   {
    "duration": 25,
    "start_time": "2024-12-19T22:31:02.107Z"
   },
   {
    "duration": 8,
    "start_time": "2024-12-19T22:31:02.133Z"
   },
   {
    "duration": 6,
    "start_time": "2024-12-19T22:31:02.142Z"
   },
   {
    "duration": 22,
    "start_time": "2024-12-19T22:31:02.150Z"
   },
   {
    "duration": 10,
    "start_time": "2024-12-19T22:31:02.174Z"
   },
   {
    "duration": 49,
    "start_time": "2024-12-19T22:31:02.186Z"
   },
   {
    "duration": 7,
    "start_time": "2024-12-19T22:31:02.237Z"
   },
   {
    "duration": 8,
    "start_time": "2024-12-19T22:31:02.246Z"
   },
   {
    "duration": 5,
    "start_time": "2024-12-19T22:31:02.256Z"
   },
   {
    "duration": 6,
    "start_time": "2024-12-19T22:31:02.262Z"
   },
   {
    "duration": 87,
    "start_time": "2024-12-19T22:31:02.269Z"
   },
   {
    "duration": 7,
    "start_time": "2024-12-19T22:31:02.357Z"
   },
   {
    "duration": 82,
    "start_time": "2024-12-19T22:31:02.365Z"
   },
   {
    "duration": 309,
    "start_time": "2024-12-19T22:31:02.449Z"
   },
   {
    "duration": 12,
    "start_time": "2024-12-19T22:31:02.760Z"
   },
   {
    "duration": 4,
    "start_time": "2024-12-19T22:31:02.774Z"
   },
   {
    "duration": 4,
    "start_time": "2024-12-19T22:31:02.781Z"
   },
   {
    "duration": 12,
    "start_time": "2024-12-19T22:31:02.787Z"
   },
   {
    "duration": 4,
    "start_time": "2024-12-19T22:31:02.801Z"
   },
   {
    "duration": 4,
    "start_time": "2024-12-19T22:31:02.808Z"
   }
  ],
  "kernelspec": {
   "display_name": "Python 3 (ipykernel)",
   "language": "python",
   "name": "python3"
  },
  "language_info": {
   "codemirror_mode": {
    "name": "ipython",
    "version": 3
   },
   "file_extension": ".py",
   "mimetype": "text/x-python",
   "name": "python",
   "nbconvert_exporter": "python",
   "pygments_lexer": "ipython3",
   "version": "3.9.19"
  },
  "toc": {
   "base_numbering": 1,
   "nav_menu": {},
   "number_sections": true,
   "sideBar": true,
   "skip_h1_title": true,
   "title_cell": "Table of Contents",
   "title_sidebar": "Contents",
   "toc_cell": false,
   "toc_position": {},
   "toc_section_display": true,
   "toc_window_display": false
  }
 },
 "nbformat": 4,
 "nbformat_minor": 2
}
