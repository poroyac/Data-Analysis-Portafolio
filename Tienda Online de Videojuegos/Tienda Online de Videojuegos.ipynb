{
 "cells": [
  {
   "cell_type": "markdown",
   "metadata": {
    "tags": [
     "e5c1f0c2-db9f-43a0-99b9-4875c52427e8"
    ]
   },
   "source": [
    "# Tienda Online de Videojuegos"
   ]
  },
  {
   "cell_type": "markdown",
   "metadata": {},
   "source": [
    "Trabajas para la tienda online Ice que vende videojuegos por todo el mundo. Las reseñas de usuarios y expertos, los géneros, las plataformas (por ejemplo, Xbox o PlayStation) y los datos históricos sobre las ventas de juegos están disponibles en fuentes abiertas. Tienes que identificar patrones que determinen si un juego tiene éxito o no. Esto te permitirá detectar proyectos prometedores y planificar campañas publicitarias.\n",
    "\n",
    "Delante de ti hay datos que se remontan a 2016. Imaginemos que es diciembre de 2016 y estás planeando una campaña para 2017.\n",
    "\n",
    "Lo importante es adquirir experiencia de trabajo con datos. Realmente no importa si estás pronosticando las ventas de 2017 en función de los datos de 2016 o las ventas de 2027 en función de los datos de 2026.\n",
    "\n",
    "El dataset contiene una columna \"rating\" que almacena la clasificación ESRB de cada juego. El Entertainment Software Rating Board (la Junta de clasificación de software de entretenimiento) evalúa el contenido de un juego y asigna una clasificación de edad como Adolescente o Adulto.\n",
    "\n",
    "Descripción de datos:\n",
    "* Name (Nombre)\n",
    "* Platform (Plataforma)\n",
    "* Year_of_Release (Año de lanzamiento)\n",
    "* Genre (Género)\n",
    "* NA_sales (ventas en Norteamérica en millones de dólares estadounidenses)\n",
    "* EU_sales (ventas en Europa en millones de dólares estadounidenses)\n",
    "* JP_sales (ventas en Japón en millones de dólares estadounidenses)\n",
    "* Other_sales (ventas en otros países en millones de dólares estadounidenses)\n",
    "* Critic_Score (máximo de 100)\n",
    "* User_Score (máximo de 10)\n",
    "* Rating (ESRB)\n",
    "Es posible que los datos de 2016 estén incompletos."
   ]
  },
  {
   "cell_type": "markdown",
   "metadata": {},
   "source": [
    "## Archivo de datos: Lectura e información general"
   ]
  },
  {
   "cell_type": "code",
   "execution_count": 1,
   "metadata": {},
   "outputs": [
    {
     "name": "stdout",
     "output_type": "stream",
     "text": [
      "<class 'pandas.core.frame.DataFrame'>\n",
      "RangeIndex: 16715 entries, 0 to 16714\n",
      "Data columns (total 11 columns):\n",
      " #   Column           Non-Null Count  Dtype  \n",
      "---  ------           --------------  -----  \n",
      " 0   Name             16713 non-null  object \n",
      " 1   Platform         16715 non-null  object \n",
      " 2   Year_of_Release  16446 non-null  float64\n",
      " 3   Genre            16713 non-null  object \n",
      " 4   NA_sales         16715 non-null  float64\n",
      " 5   EU_sales         16715 non-null  float64\n",
      " 6   JP_sales         16715 non-null  float64\n",
      " 7   Other_sales      16715 non-null  float64\n",
      " 8   Critic_Score     8137 non-null   float64\n",
      " 9   User_Score       10014 non-null  object \n",
      " 10  Rating           9949 non-null   object \n",
      "dtypes: float64(6), object(5)\n",
      "memory usage: 1.4+ MB\n",
      "\n"
     ]
    },
    {
     "data": {
      "text/html": [
       "<div>\n",
       "<style scoped>\n",
       "    .dataframe tbody tr th:only-of-type {\n",
       "        vertical-align: middle;\n",
       "    }\n",
       "\n",
       "    .dataframe tbody tr th {\n",
       "        vertical-align: top;\n",
       "    }\n",
       "\n",
       "    .dataframe thead th {\n",
       "        text-align: right;\n",
       "    }\n",
       "</style>\n",
       "<table border=\"1\" class=\"dataframe\">\n",
       "  <thead>\n",
       "    <tr style=\"text-align: right;\">\n",
       "      <th></th>\n",
       "      <th>Name</th>\n",
       "      <th>Platform</th>\n",
       "      <th>Year_of_Release</th>\n",
       "      <th>Genre</th>\n",
       "      <th>NA_sales</th>\n",
       "      <th>EU_sales</th>\n",
       "      <th>JP_sales</th>\n",
       "      <th>Other_sales</th>\n",
       "      <th>Critic_Score</th>\n",
       "      <th>User_Score</th>\n",
       "      <th>Rating</th>\n",
       "    </tr>\n",
       "  </thead>\n",
       "  <tbody>\n",
       "    <tr>\n",
       "      <th>0</th>\n",
       "      <td>Wii Sports</td>\n",
       "      <td>Wii</td>\n",
       "      <td>2006.0</td>\n",
       "      <td>Sports</td>\n",
       "      <td>41.36</td>\n",
       "      <td>28.96</td>\n",
       "      <td>3.77</td>\n",
       "      <td>8.45</td>\n",
       "      <td>76.0</td>\n",
       "      <td>8</td>\n",
       "      <td>E</td>\n",
       "    </tr>\n",
       "    <tr>\n",
       "      <th>1</th>\n",
       "      <td>Super Mario Bros.</td>\n",
       "      <td>NES</td>\n",
       "      <td>1985.0</td>\n",
       "      <td>Platform</td>\n",
       "      <td>29.08</td>\n",
       "      <td>3.58</td>\n",
       "      <td>6.81</td>\n",
       "      <td>0.77</td>\n",
       "      <td>NaN</td>\n",
       "      <td>NaN</td>\n",
       "      <td>NaN</td>\n",
       "    </tr>\n",
       "    <tr>\n",
       "      <th>2</th>\n",
       "      <td>Mario Kart Wii</td>\n",
       "      <td>Wii</td>\n",
       "      <td>2008.0</td>\n",
       "      <td>Racing</td>\n",
       "      <td>15.68</td>\n",
       "      <td>12.76</td>\n",
       "      <td>3.79</td>\n",
       "      <td>3.29</td>\n",
       "      <td>82.0</td>\n",
       "      <td>8.3</td>\n",
       "      <td>E</td>\n",
       "    </tr>\n",
       "    <tr>\n",
       "      <th>3</th>\n",
       "      <td>Wii Sports Resort</td>\n",
       "      <td>Wii</td>\n",
       "      <td>2009.0</td>\n",
       "      <td>Sports</td>\n",
       "      <td>15.61</td>\n",
       "      <td>10.93</td>\n",
       "      <td>3.28</td>\n",
       "      <td>2.95</td>\n",
       "      <td>80.0</td>\n",
       "      <td>8</td>\n",
       "      <td>E</td>\n",
       "    </tr>\n",
       "    <tr>\n",
       "      <th>4</th>\n",
       "      <td>Pokemon Red/Pokemon Blue</td>\n",
       "      <td>GB</td>\n",
       "      <td>1996.0</td>\n",
       "      <td>Role-Playing</td>\n",
       "      <td>11.27</td>\n",
       "      <td>8.89</td>\n",
       "      <td>10.22</td>\n",
       "      <td>1.00</td>\n",
       "      <td>NaN</td>\n",
       "      <td>NaN</td>\n",
       "      <td>NaN</td>\n",
       "    </tr>\n",
       "  </tbody>\n",
       "</table>\n",
       "</div>"
      ],
      "text/plain": [
       "                       Name Platform  Year_of_Release         Genre  NA_sales  \\\n",
       "0                Wii Sports      Wii           2006.0        Sports     41.36   \n",
       "1         Super Mario Bros.      NES           1985.0      Platform     29.08   \n",
       "2            Mario Kart Wii      Wii           2008.0        Racing     15.68   \n",
       "3         Wii Sports Resort      Wii           2009.0        Sports     15.61   \n",
       "4  Pokemon Red/Pokemon Blue       GB           1996.0  Role-Playing     11.27   \n",
       "\n",
       "   EU_sales  JP_sales  Other_sales  Critic_Score User_Score Rating  \n",
       "0     28.96      3.77         8.45          76.0          8      E  \n",
       "1      3.58      6.81         0.77           NaN        NaN    NaN  \n",
       "2     12.76      3.79         3.29          82.0        8.3      E  \n",
       "3     10.93      3.28         2.95          80.0          8      E  \n",
       "4      8.89     10.22         1.00           NaN        NaN    NaN  "
      ]
     },
     "execution_count": 1,
     "metadata": {},
     "output_type": "execute_result"
    }
   ],
   "source": [
    "import pandas as pd\n",
    "import numpy as np\n",
    "from matplotlib import pyplot as plt\n",
    "import seaborn as sns\n",
    "from scipy import stats as st\n",
    "\n",
    "#importamos la informacion del archivo en el dataframe df\n",
    "\n",
    "df = pd.read_csv('/datasets/games.csv')\n",
    "\n",
    "df.info()\n",
    "print()\n",
    "df.head(5)"
   ]
  },
  {
   "cell_type": "markdown",
   "metadata": {},
   "source": [
    "## Preparación de los datos"
   ]
  },
  {
   "cell_type": "markdown",
   "metadata": {},
   "source": [
    "### Homogenizamos los nombres de campos de las columnas"
   ]
  },
  {
   "cell_type": "code",
   "execution_count": 2,
   "metadata": {},
   "outputs": [
    {
     "name": "stdout",
     "output_type": "stream",
     "text": [
      "Index(['Name', 'Platform', 'Year_of_Release', 'Genre', 'NA_sales', 'EU_sales',\n",
      "       'JP_sales', 'Other_sales', 'Critic_Score', 'User_Score', 'Rating'],\n",
      "      dtype='object')\n",
      "Index(['name', 'platform', 'year_of_release', 'genre', 'na_sales', 'eu_sales',\n",
      "       'jp_sales', 'other_sales', 'critic_score', 'user_score', 'rating'],\n",
      "      dtype='object')\n"
     ]
    }
   ],
   "source": [
    "#Nombre de columnas iniciales\n",
    "print(df.columns)\n",
    "#Pasamos todos los nombres de las columnas a minusculas\n",
    "df_new = []\n",
    "for columns in df.columns:\n",
    "    df_new.append(columns.lower())\n",
    "    \n",
    "df.columns = df_new\n",
    "\n",
    "#Nombre de columnas finales\n",
    "print(df.columns)\n"
   ]
  },
  {
   "cell_type": "markdown",
   "metadata": {},
   "source": [
    "### Validación de los tipos de datos de cada columna"
   ]
  },
  {
   "cell_type": "code",
   "execution_count": 3,
   "metadata": {},
   "outputs": [
    {
     "name": "stdout",
     "output_type": "stream",
     "text": [
      "<class 'pandas.core.frame.DataFrame'>\n",
      "RangeIndex: 16715 entries, 0 to 16714\n",
      "Data columns (total 11 columns):\n",
      " #   Column           Non-Null Count  Dtype  \n",
      "---  ------           --------------  -----  \n",
      " 0   name             16713 non-null  object \n",
      " 1   platform         16715 non-null  object \n",
      " 2   year_of_release  16446 non-null  float64\n",
      " 3   genre            16713 non-null  object \n",
      " 4   na_sales         16715 non-null  float64\n",
      " 5   eu_sales         16715 non-null  float64\n",
      " 6   jp_sales         16715 non-null  float64\n",
      " 7   other_sales      16715 non-null  float64\n",
      " 8   critic_score     8137 non-null   float64\n",
      " 9   user_score       10014 non-null  object \n",
      " 10  rating           9949 non-null   object \n",
      "dtypes: float64(6), object(5)\n",
      "memory usage: 1.4+ MB\n"
     ]
    }
   ],
   "source": [
    "#tipo de datos iniciales del dataframe df\n",
    "df.info()"
   ]
  },
  {
   "cell_type": "markdown",
   "metadata": {},
   "source": [
    "### Identificación y explicación de los campos a corregir:\n",
    "\n",
    "- \"year_of_release\": figura como tipo \"float64\" deberia figurar como \"int64\" porque los años son números enteros.\n",
    "- \"critic_score\": figura como tipo \"float64\" deberia figurar como \"int64\" porque se califica bajo números enteros.\n",
    "- \"user_score\": figura como tipo \"object\" deberia figurar como \"float64\" porque la calificacion es de 1-10 considerando decimales, tenerlo bajo el tipo de datos \"object\" impediria manipular la columna (realizar operaciones aritmeticas).\n"
   ]
  },
  {
   "cell_type": "code",
   "execution_count": 4,
   "metadata": {},
   "outputs": [
    {
     "name": "stdout",
     "output_type": "stream",
     "text": [
      "<class 'pandas.core.frame.DataFrame'>\n",
      "RangeIndex: 16715 entries, 0 to 16714\n",
      "Data columns (total 11 columns):\n",
      " #   Column           Non-Null Count  Dtype  \n",
      "---  ------           --------------  -----  \n",
      " 0   name             16713 non-null  object \n",
      " 1   platform         16715 non-null  object \n",
      " 2   year_of_release  16446 non-null  Int64  \n",
      " 3   genre            16713 non-null  object \n",
      " 4   na_sales         16715 non-null  float64\n",
      " 5   eu_sales         16715 non-null  float64\n",
      " 6   jp_sales         16715 non-null  float64\n",
      " 7   other_sales      16715 non-null  float64\n",
      " 8   critic_score     8137 non-null   Int64  \n",
      " 9   user_score       10014 non-null  object \n",
      " 10  rating           9949 non-null   object \n",
      "dtypes: Int64(2), float64(4), object(5)\n",
      "memory usage: 1.4+ MB\n"
     ]
    }
   ],
   "source": [
    "#corrigiendo tipos de datos de las columnas identificadas\n",
    "df['year_of_release'] = df['year_of_release'].astype('Int64')\n",
    "df['critic_score'] = df['critic_score'].astype('Int64')\n",
    "\n",
    "#tipo de datos finales del dataframe df\n",
    "df.info()"
   ]
  },
  {
   "cell_type": "markdown",
   "metadata": {},
   "source": [
    "### Revisión y tratamiento de valores nulos y duplicados."
   ]
  },
  {
   "cell_type": "code",
   "execution_count": 5,
   "metadata": {},
   "outputs": [
    {
     "name": "stdout",
     "output_type": "stream",
     "text": [
      "valores nulos por campo:\n",
      "name                  2\n",
      "platform              0\n",
      "year_of_release     269\n",
      "genre                 2\n",
      "na_sales              0\n",
      "eu_sales              0\n",
      "jp_sales              0\n",
      "other_sales           0\n",
      "critic_score       8578\n",
      "user_score         6701\n",
      "rating             6766\n",
      "dtype: int64\n",
      "\n",
      "filas duplicadas: 0\n"
     ]
    }
   ],
   "source": [
    "#Información general de datos nulos por campos\n",
    "print('valores nulos por campo:')\n",
    "print(df.isnull().sum())\n",
    "\n",
    "#validacion de filas duplicadas\n",
    "print('\\nfilas duplicadas:', df.duplicated().sum())"
   ]
  },
  {
   "cell_type": "markdown",
   "metadata": {},
   "source": [
    "- campo \"name\" y \"genre\": Los campos nulos corresponden a dos registros (0.012% del total de registros) que solo contienen informacion del género y ventas. Al ser una representación muy baja de registros respecto al total y no cuenta con uno de los principales datos como son el nombre del juego podríamos prescindir de estos registros ya que no afectaría el análisis del proyecto.\n",
    "¿Por qué crees que los valores están ausentes? Podría deberse a la antigüedad de la información."
   ]
  },
  {
   "cell_type": "code",
   "execution_count": 6,
   "metadata": {},
   "outputs": [
    {
     "name": "stdout",
     "output_type": "stream",
     "text": [
      "<class 'pandas.core.frame.DataFrame'>\n",
      "RangeIndex: 16713 entries, 0 to 16712\n",
      "Data columns (total 11 columns):\n",
      " #   Column           Non-Null Count  Dtype  \n",
      "---  ------           --------------  -----  \n",
      " 0   name             16713 non-null  object \n",
      " 1   platform         16713 non-null  object \n",
      " 2   year_of_release  16444 non-null  Int64  \n",
      " 3   genre            16713 non-null  object \n",
      " 4   na_sales         16713 non-null  float64\n",
      " 5   eu_sales         16713 non-null  float64\n",
      " 6   jp_sales         16713 non-null  float64\n",
      " 7   other_sales      16713 non-null  float64\n",
      " 8   critic_score     8137 non-null   Int64  \n",
      " 9   user_score       10014 non-null  object \n",
      " 10  rating           9949 non-null   object \n",
      "dtypes: Int64(2), float64(4), object(5)\n",
      "memory usage: 1.4+ MB\n"
     ]
    },
    {
     "data": {
      "text/plain": [
       "name                  0\n",
       "platform              0\n",
       "year_of_release     269\n",
       "genre                 0\n",
       "na_sales              0\n",
       "eu_sales              0\n",
       "jp_sales              0\n",
       "other_sales           0\n",
       "critic_score       8576\n",
       "user_score         6699\n",
       "rating             6764\n",
       "dtype: int64"
      ]
     },
     "execution_count": 6,
     "metadata": {},
     "output_type": "execute_result"
    }
   ],
   "source": [
    "#registros que figuran con nulos en el campo \"name\" y \"genre\"\n",
    "df[df['name'].isnull() == True]\n",
    "df[df['genre'].isnull() == True]\n",
    "\n",
    "#eliminamos los dos registros del dataframe\n",
    "df.drop(df[df['name'].isnull() == True].index, inplace=True)\n",
    "df.reset_index(drop=True, inplace=True)\n",
    "\n",
    "#Vista general posterior a la eliminación de valores nulos en los campos \"name\" y \"genre\"\n",
    "df.info()\n",
    "\n",
    "#Cantidad de valores nulos por campo\n",
    "df.isnull().sum()"
   ]
  },
  {
   "cell_type": "markdown",
   "metadata": {},
   "source": [
    "- \"year_of_release\": Hay 269 registros nulos (1.6% del total de registros), dado que los campos de estos registros cuentan con varios campos importantes para el análisis no podríamos prescindir de estos registros porque sí podría impactar en el análisis, sobretodo cuando se evaluen las ventas. Al ser un campo cualitativo podría reemplazarse los campos nulos por algún carácter; sin embargo, si se realiza ese cambio tendríamos que tener identificado este valor al momento de realizar filtros, por temas prácticos lo mantendremos en NULL.\n",
    "¿Por qué crees que los valores están ausentes? Podría deberse porque al momento de recopilar la información no consideraron importante guardar ese dato en el repositorio o porque no se tiene dicha información."
   ]
  },
  {
   "cell_type": "markdown",
   "metadata": {},
   "source": [
    "- \"critic_score\": Hay 8,578 registros nulos (51.3% del total de registros), la cantidad de campos nulos representa información significativa para el análisis del proyecto. Este campo es cuantitativo por ello es mejor mantenerlo en NULL ya que si lo reemplazamos por algún valor podríamos afectar los análisis estadísticos.\n",
    "¿Por qué crees que los valores están ausentes? Podría deberse a que son juegos que los críticos no consideraron importante calificarlos o porque no tuvo tanta acogida que ni siquiera aparecio en el radar de algún crítico."
   ]
  },
  {
   "cell_type": "markdown",
   "metadata": {},
   "source": [
    "- \"user_score\": Hay 6,701 registros nulos (40.1% del total de registros), la cantidad de campos nulos representa información significativa para el análisis del proyecto. Adicionalmente a los campos en nulo se observan valores en \"tbd\" lo cual dificulta la manipulación de este campo (operaciones estadísticas y aritméticas). Por lo que se reemplazará esos campos por valores nulos. Luego de este cambio observamos que tenemos 9,123 registros nulo (54.6% del total de registros).\n",
    "Ahora que solo tenemos valores en nulo y datos decimales podemos cambiar el tipo de dato a float y como el tipo de dato del campo quedaría como cuantitativo, mantenemos los campos en NULL ya que si lo reemplazamos por algún valor podríamos afectar los análisis estadísticos.\n",
    "¿Por qué crees que los valores están ausentes? Podría deberse a que los usuarios que lo jugaron no quisieron calificar por diversos motivos o porque son juegos con baja acogida que ni llegaron a ser calificados por algun usuario."
   ]
  },
  {
   "cell_type": "code",
   "execution_count": 7,
   "metadata": {
    "scrolled": true
   },
   "outputs": [
    {
     "name": "stdout",
     "output_type": "stream",
     "text": [
      "<class 'pandas.core.frame.DataFrame'>\n",
      "RangeIndex: 16713 entries, 0 to 16712\n",
      "Data columns (total 11 columns):\n",
      " #   Column           Non-Null Count  Dtype  \n",
      "---  ------           --------------  -----  \n",
      " 0   name             16713 non-null  object \n",
      " 1   platform         16713 non-null  object \n",
      " 2   year_of_release  16444 non-null  Int64  \n",
      " 3   genre            16713 non-null  object \n",
      " 4   na_sales         16713 non-null  float64\n",
      " 5   eu_sales         16713 non-null  float64\n",
      " 6   jp_sales         16713 non-null  float64\n",
      " 7   other_sales      16713 non-null  float64\n",
      " 8   critic_score     8137 non-null   Int64  \n",
      " 9   user_score       7590 non-null   float64\n",
      " 10  rating           9949 non-null   object \n",
      "dtypes: Int64(2), float64(5), object(4)\n",
      "memory usage: 1.4+ MB\n"
     ]
    }
   ],
   "source": [
    "#En el campo \"user_score\" reemplazamos los valores 'tbd' por valores en nulo.\n",
    "df['user_score'].replace('tbd', np.nan, inplace = True)\n",
    "\n",
    "#Convertimos el tipo de campo de 'object' a 'float64'\n",
    "df['user_score'] = df['user_score'].astype('float')\n",
    "\n",
    "#Informacion del dataframe luego de hacer el reemplazo de 'tbd' por NULL\n",
    "df.info()\n"
   ]
  },
  {
   "cell_type": "markdown",
   "metadata": {},
   "source": [
    "- \"rating\": Hay 6,764 registros nulos (40.5% del total de registros), la cantidad de campos nulos representa información significativa para el análisis del proyecto. Al ser un campo cualitativo podría reemplazarse los campos nulos por algún carácter; sin embargo, si se realiza ese cambio tendríamos que tener identificado este valor al momento de realizar filtros, por temas prácticos lo mantendremos en NULL.\n",
    "¿Por qué crees que los valores están ausentes? Podría deberse a que son juegos para los cuales no es necesario tener un rating para su distribución o porque talvez en algún país es voluntario darle un rating a los juegos."
   ]
  },
  {
   "cell_type": "markdown",
   "metadata": {},
   "source": [
    "### Cálculo de Ventas Totales para cada juego"
   ]
  },
  {
   "cell_type": "code",
   "execution_count": 8,
   "metadata": {},
   "outputs": [
    {
     "data": {
      "text/html": [
       "<div>\n",
       "<style scoped>\n",
       "    .dataframe tbody tr th:only-of-type {\n",
       "        vertical-align: middle;\n",
       "    }\n",
       "\n",
       "    .dataframe tbody tr th {\n",
       "        vertical-align: top;\n",
       "    }\n",
       "\n",
       "    .dataframe thead th {\n",
       "        text-align: right;\n",
       "    }\n",
       "</style>\n",
       "<table border=\"1\" class=\"dataframe\">\n",
       "  <thead>\n",
       "    <tr style=\"text-align: right;\">\n",
       "      <th></th>\n",
       "      <th>name</th>\n",
       "      <th>platform</th>\n",
       "      <th>year_of_release</th>\n",
       "      <th>genre</th>\n",
       "      <th>na_sales</th>\n",
       "      <th>eu_sales</th>\n",
       "      <th>jp_sales</th>\n",
       "      <th>other_sales</th>\n",
       "      <th>critic_score</th>\n",
       "      <th>user_score</th>\n",
       "      <th>rating</th>\n",
       "      <th>total_sales</th>\n",
       "    </tr>\n",
       "  </thead>\n",
       "  <tbody>\n",
       "    <tr>\n",
       "      <th>0</th>\n",
       "      <td>Wii Sports</td>\n",
       "      <td>Wii</td>\n",
       "      <td>2006</td>\n",
       "      <td>Sports</td>\n",
       "      <td>41.36</td>\n",
       "      <td>28.96</td>\n",
       "      <td>3.77</td>\n",
       "      <td>8.45</td>\n",
       "      <td>76</td>\n",
       "      <td>8.0</td>\n",
       "      <td>E</td>\n",
       "      <td>82.54</td>\n",
       "    </tr>\n",
       "    <tr>\n",
       "      <th>1</th>\n",
       "      <td>Super Mario Bros.</td>\n",
       "      <td>NES</td>\n",
       "      <td>1985</td>\n",
       "      <td>Platform</td>\n",
       "      <td>29.08</td>\n",
       "      <td>3.58</td>\n",
       "      <td>6.81</td>\n",
       "      <td>0.77</td>\n",
       "      <td>&lt;NA&gt;</td>\n",
       "      <td>NaN</td>\n",
       "      <td>NaN</td>\n",
       "      <td>40.24</td>\n",
       "    </tr>\n",
       "    <tr>\n",
       "      <th>2</th>\n",
       "      <td>Mario Kart Wii</td>\n",
       "      <td>Wii</td>\n",
       "      <td>2008</td>\n",
       "      <td>Racing</td>\n",
       "      <td>15.68</td>\n",
       "      <td>12.76</td>\n",
       "      <td>3.79</td>\n",
       "      <td>3.29</td>\n",
       "      <td>82</td>\n",
       "      <td>8.3</td>\n",
       "      <td>E</td>\n",
       "      <td>35.52</td>\n",
       "    </tr>\n",
       "    <tr>\n",
       "      <th>3</th>\n",
       "      <td>Wii Sports Resort</td>\n",
       "      <td>Wii</td>\n",
       "      <td>2009</td>\n",
       "      <td>Sports</td>\n",
       "      <td>15.61</td>\n",
       "      <td>10.93</td>\n",
       "      <td>3.28</td>\n",
       "      <td>2.95</td>\n",
       "      <td>80</td>\n",
       "      <td>8.0</td>\n",
       "      <td>E</td>\n",
       "      <td>32.77</td>\n",
       "    </tr>\n",
       "    <tr>\n",
       "      <th>4</th>\n",
       "      <td>Pokemon Red/Pokemon Blue</td>\n",
       "      <td>GB</td>\n",
       "      <td>1996</td>\n",
       "      <td>Role-Playing</td>\n",
       "      <td>11.27</td>\n",
       "      <td>8.89</td>\n",
       "      <td>10.22</td>\n",
       "      <td>1.00</td>\n",
       "      <td>&lt;NA&gt;</td>\n",
       "      <td>NaN</td>\n",
       "      <td>NaN</td>\n",
       "      <td>31.38</td>\n",
       "    </tr>\n",
       "  </tbody>\n",
       "</table>\n",
       "</div>"
      ],
      "text/plain": [
       "                       name platform  year_of_release         genre  na_sales  \\\n",
       "0                Wii Sports      Wii             2006        Sports     41.36   \n",
       "1         Super Mario Bros.      NES             1985      Platform     29.08   \n",
       "2            Mario Kart Wii      Wii             2008        Racing     15.68   \n",
       "3         Wii Sports Resort      Wii             2009        Sports     15.61   \n",
       "4  Pokemon Red/Pokemon Blue       GB             1996  Role-Playing     11.27   \n",
       "\n",
       "   eu_sales  jp_sales  other_sales  critic_score  user_score rating  \\\n",
       "0     28.96      3.77         8.45            76         8.0      E   \n",
       "1      3.58      6.81         0.77          <NA>         NaN    NaN   \n",
       "2     12.76      3.79         3.29            82         8.3      E   \n",
       "3     10.93      3.28         2.95            80         8.0      E   \n",
       "4      8.89     10.22         1.00          <NA>         NaN    NaN   \n",
       "\n",
       "   total_sales  \n",
       "0        82.54  \n",
       "1        40.24  \n",
       "2        35.52  \n",
       "3        32.77  \n",
       "4        31.38  "
      ]
     },
     "execution_count": 8,
     "metadata": {},
     "output_type": "execute_result"
    }
   ],
   "source": [
    "#Creamos una columna de venta total por juego \"total_sales\"\n",
    "df['total_sales'] = df['na_sales'] + df['eu_sales'] + df['jp_sales'] + df['other_sales']\n",
    "\n",
    "#Comprobamos el dataframe\n",
    "df.head()"
   ]
  },
  {
   "cell_type": "markdown",
   "metadata": {},
   "source": [
    "## Análisis de los datos"
   ]
  },
  {
   "cell_type": "markdown",
   "metadata": {},
   "source": [
    "### ¿Son significativos los datos de cada período?\n",
    "Mira cuántos juegos fueron lanzados en diferentes años. "
   ]
  },
  {
   "cell_type": "code",
   "execution_count": 9,
   "metadata": {},
   "outputs": [
    {
     "data": {
      "image/png": "[encoded data removed]",
      "text/plain": [
       "<Figure size 640x480 with 1 Axes>"
      ]
     },
     "metadata": {},
     "output_type": "display_data"
    }
   ],
   "source": [
    "gf = df.groupby('year_of_release')['name'].count()\n",
    "gf.plot(x='year_of_release', kind='bar')\n",
    "plt.show()"
   ]
  },
  {
   "cell_type": "markdown",
   "metadata": {},
   "source": [
    "Se observa que hubo un pico de lanzamiento de juegos a partir del año 2000."
   ]
  },
  {
   "cell_type": "markdown",
   "metadata": {},
   "source": [
    "### ¿Cuánto tardan generalmente las nuevas plataformas en aparecer y las antiguas en desaparecer?\n",
    "Observa cómo varían las ventas de una plataforma a otra. Elige las plataformas con las mayores ventas totales y construye una distribución basada en los datos de cada año. Busca las plataformas que solían ser populares pero que ahora no tienen ventas. "
   ]
  },
  {
   "cell_type": "code",
   "execution_count": 10,
   "metadata": {},
   "outputs": [
    {
     "data": {
      "text/plain": [
       "<AxesSubplot:title={'center':'DS'}, xlabel='year_of_release'>"
      ]
     },
     "execution_count": 10,
     "metadata": {},
     "output_type": "execute_result"
    },
    {
     "data": {
      "image/png": "[encoded data removed]",
      "text/plain": [
       "<Figure size 640x480 with 1 Axes>"
      ]
     },
     "metadata": {},
     "output_type": "display_data"
    },
    {
     "data": {
      "image/png": "[encoded data removed]",
      "text/plain": [
       "<Figure size 640x480 with 1 Axes>"
      ]
     },
     "metadata": {},
     "output_type": "display_data"
    },
    {
     "data": {
      "image/png": "[encoded data removed]",
      "text/plain": [
       "<Figure size 640x480 with 1 Axes>"
      ]
     },
     "metadata": {},
     "output_type": "display_data"
    },
    {
     "data": {
      "image/png": "[encoded data removed]",
      "text/plain": [
       "<Figure size 640x480 with 1 Axes>"
      ]
     },
     "metadata": {},
     "output_type": "display_data"
    },
    {
     "data": {
      "image/png": "[encoded data removed]",
      "text/plain": [
       "<Figure size 640x480 with 1 Axes>"
      ]
     },
     "metadata": {},
     "output_type": "display_data"
    },
    {
     "data": {
      "image/png": "[encoded data removed]",
      "text/plain": [
       "<Figure size 640x480 with 1 Axes>"
      ]
     },
     "metadata": {},
     "output_type": "display_data"
    },
    {
     "data": {
      "image/png": "[encoded data removed]",
      "text/plain": [
       "<Figure size 640x480 with 1 Axes>"
      ]
     },
     "metadata": {},
     "output_type": "display_data"
    }
   ],
   "source": [
    "#Creamos una tabla con el total de ventas por plataforma y lo ordenamos por volumen de ventas\n",
    "gf = df.groupby(['platform'])['total_sales'].sum().reset_index().sort_values(by='total_sales')\n",
    "\n",
    "#Graficamos ventas por plataforma para identificar las plataformas con más ventas\n",
    "gf.plot(x= 'platform', kind='bar', title='Ventas totales por plataforma', legend=False)\n",
    "\n",
    "#Creamos una tabla con el total de ventas por plataforma y año de lanzamiento del juego\n",
    "#Solo consideraremos las plataformas con más ventas de la tabla \"gf\" : PS, DS, Wii, PS3, X360, PS2\n",
    "\n",
    "gf2 = df.groupby(['platform', 'year_of_release'])['total_sales'].sum().reset_index()\n",
    "\n",
    "p1 = gf2[gf2['platform']=='PS']\n",
    "p2 = gf2[gf2['platform']=='PS2']\n",
    "p3 = gf2[gf2['platform']=='PS3']\n",
    "p4 = gf2[gf2['platform']=='X360']\n",
    "p5 = gf2[gf2['platform']=='Wii']\n",
    "p6 = gf2[gf2['platform']=='DS']\n",
    "\n",
    "p1.plot(x= 'year_of_release', kind='bar', title='PS', legend=False)\n",
    "p2.plot(x= 'year_of_release', kind='bar', title='PS2', legend=False)\n",
    "p3.plot(x= 'year_of_release', kind='bar', title='PS3', legend=False)\n",
    "p4.plot(x= 'year_of_release', kind='bar', title='X360', legend=False)\n",
    "p5.plot(x= 'year_of_release', kind='bar', title='Wii', legend=False)\n",
    "p6.plot(x= 'year_of_release', kind='bar', title='DS', legend=False)\n"
   ]
  },
  {
   "cell_type": "markdown",
   "metadata": {},
   "source": [
    "Se observa las plataformas con mayores ventas totales fueron: PS, PS2, PS3, Wii y DS, y que en promedio esas plataformas tardaron en desaparecer 10 años."
   ]
  },
  {
   "cell_type": "markdown",
   "metadata": {},
   "source": [
    "### Determina para qué período debes tomar datos.\n",
    "Para hacerlo mira tus respuestas a las preguntas anteriores. Los datos deberían permitirte construir un modelo para 2017.\n",
    "Trabaja solo con los datos que consideras relevantes. Ignora los datos de años anteriores."
   ]
  },
  {
   "cell_type": "markdown",
   "metadata": {},
   "source": [
    "Para construir un modelo para el 2017, fitraría aquellas plataformas que tuvieron ventas en el 2016 y dado que en promedio tardan en desaparecer 10 años (basado en el ejercicio previo), consideraría un horizonte de ventas de 10 años.\n",
    "\n",
    "Según el filtro realizado lineas abajo las plataformas que habría que considerar para construir el modelo de ventas para el 2017 serían: Wii, X360, PS3, PSV, WiiU, PC, 3DS, XOne, PS4."
   ]
  },
  {
   "cell_type": "code",
   "execution_count": 11,
   "metadata": {},
   "outputs": [
    {
     "name": "stdout",
     "output_type": "stream",
     "text": [
      "['3DS' 'PC' 'PS3' 'PS4' 'PSV' 'Wii' 'WiiU' 'X360' 'XOne']\n"
     ]
    }
   ],
   "source": [
    "#Ubicamos a las plataformas con ventas en el 2016\n",
    "print(gf2[gf2['year_of_release']==2016]['platform'].unique())"
   ]
  },
  {
   "cell_type": "markdown",
   "metadata": {},
   "source": [
    "### ¿Qué plataformas son líderes en ventas? ¿Cuáles crecen y cuáles se reducen?\n",
    "Elige varias plataformas potencialmente rentables."
   ]
  },
  {
   "cell_type": "markdown",
   "metadata": {},
   "source": [
    "Las plataformas líderes en ventas son: PS, PS2, PS3, Wii y DS, sin embargo, para el 2016 sus ventas se redujeron o extiguieron. Por otro lado las plataformas que están creciendo pero aún no se han convertido en líderes en ventas son PSV, WiiU, PC, 3DS, XOne, PS4."
   ]
  },
  {
   "cell_type": "markdown",
   "metadata": {},
   "source": [
    "### Crea un diagrama de caja para las ventas globales de todos los juegos, desglosados por plataforma. ¿Son significativas las diferencias en las ventas? ¿Qué sucede con las ventas promedio en varias plataformas? Describe tus hallazgos."
   ]
  },
  {
   "cell_type": "markdown",
   "metadata": {},
   "source": [
    "- Se observa que hay muchos valores atípicos en cada plataforma. Si quitamos esos valores atípicos, el rango de ventas totales va hasta 4 millones de dólares.\n",
    "- Si existe diferencia de ventas entre plataformas donde sobresalen las plataformas: NES, GB y GEN.\n",
    "- Se observa que la venta promedio en la mayoría de las plataformas son mayores a la mediana (tendencia asimetrica positiva a la derecha).\n",
    "- También se observa que las ventas de los juegos en las plataformas por lo general van en el rango de 0 a 1 millón de dólares."
   ]
  },
  {
   "cell_type": "code",
   "execution_count": 12,
   "metadata": {},
   "outputs": [
    {
     "data": {
      "text/plain": [
       "<AxesSubplot:xlabel='total_sales', ylabel='platform'>"
      ]
     },
     "execution_count": 12,
     "metadata": {},
     "output_type": "execute_result"
    },
    {
     "data": {
      "image/png": "[encoded data removed]",
      "text/plain": [
       "<Figure size 640x480 with 1 Axes>"
      ]
     },
     "metadata": {},
     "output_type": "display_data"
    }
   ],
   "source": [
    "sns.boxplot(x='total_sales', y='platform', data = df, fliersize = 1, showfliers = False)\n"
   ]
  },
  {
   "cell_type": "markdown",
   "metadata": {},
   "source": [
    "### Mira cómo las reseñas de usuarios y profesionales afectan las ventas de una plataforma popular (tu elección). Crea un gráfico de dispersión y calcula la correlación entre las reseñas y las ventas. Saca conclusiones."
   ]
  },
  {
   "cell_type": "markdown",
   "metadata": {},
   "source": [
    "Se eligió como plataforma popular al PS2.\n",
    "De lo cual se observo que:\n",
    "- Las reseñas críticas de los usuarios no afectaron las ventas de los juegos en la plataforma PS2 (correlacion de 0.17).\n",
    "- Las reseñas críticas de los profesionales no afectaron las ventas de los juegos en la plataforma PS2 (correlación de 0.40).\n",
    "- Se podría inferir que las reseñas críticas de los profesionales al estar más cercano al 1 en correlación, podría decirse que es el factor que podría afectar a las ventas de los juegos en la plataforma PS2."
   ]
  },
  {
   "cell_type": "code",
   "execution_count": 13,
   "metadata": {},
   "outputs": [
    {
     "data": {
      "text/plain": [
       "<AxesSubplot:xlabel='user_score'>"
      ]
     },
     "execution_count": 13,
     "metadata": {},
     "output_type": "execute_result"
    },
    {
     "data": {
      "image/png": "[encoded data removed]",
      "text/plain": [
       "<Figure size 640x480 with 1 Axes>"
      ]
     },
     "metadata": {},
     "output_type": "display_data"
    },
    {
     "data": {
      "image/png": "[encoded data removed]",
      "text/plain": [
       "<Figure size 640x480 with 1 Axes>"
      ]
     },
     "metadata": {},
     "output_type": "display_data"
    }
   ],
   "source": [
    "gf = df[df['platform']=='PS2']\n",
    "gf.corr()\n",
    "\n",
    "gf.plot(x='critic_score', y='total_sales')\n",
    "gf.plot(x='user_score', y='total_sales')"
   ]
  },
  {
   "cell_type": "markdown",
   "metadata": {},
   "source": [
    "### Teniendo en cuenta tus conclusiones compara las ventas de los mismos juegos en otras plataformas."
   ]
  },
  {
   "cell_type": "markdown",
   "metadata": {},
   "source": [
    "Se analizaron 2 plataformas adicionales: Wii y X360.\n",
    "De ello, se concluye que no existe correlación entre las reseñas de los usuarios y de los profesionales con las ventas de los juegos en las plataformas seleccionadas."
   ]
  },
  {
   "cell_type": "code",
   "execution_count": 14,
   "metadata": {},
   "outputs": [
    {
     "name": "stdout",
     "output_type": "stream",
     "text": [
      "Matriz de correlación de los juegos de la plataforma Wii\n",
      "\n",
      "                 year_of_release  na_sales  eu_sales  jp_sales  other_sales  \\\n",
      "year_of_release         1.000000 -0.085963 -0.064853 -0.052926    -0.082033   \n",
      "na_sales               -0.085963  1.000000  0.971748  0.769498     0.988288   \n",
      "eu_sales               -0.064853  0.971748  1.000000  0.775901     0.992596   \n",
      "jp_sales               -0.052926  0.769498  0.775901  1.000000     0.769197   \n",
      "other_sales            -0.082033  0.988288  0.992596  0.769197     1.000000   \n",
      "critic_score            0.127918  0.178665  0.163757  0.195903     0.162130   \n",
      "user_score              0.045019  0.112489  0.103332  0.127422     0.103334   \n",
      "total_sales            -0.077321  0.992588  0.989535  0.813626     0.995140   \n",
      "\n",
      "                 critic_score  user_score  total_sales  \n",
      "year_of_release      0.127918    0.045019    -0.077321  \n",
      "na_sales             0.178665    0.112489     0.992588  \n",
      "eu_sales             0.163757    0.103332     0.989535  \n",
      "jp_sales             0.195903    0.127422     0.813626  \n",
      "other_sales          0.162130    0.103334     0.995140  \n",
      "critic_score         1.000000    0.681846     0.177560  \n",
      "user_score           0.681846    1.000000     0.112414  \n",
      "total_sales          0.177560    0.112414     1.000000  \n",
      "\n",
      "\n",
      "\n",
      "Matriz de correlación de los juegos de la plataforma X360\n",
      "\n",
      "                 year_of_release  na_sales  eu_sales  jp_sales  other_sales  \\\n",
      "year_of_release         1.000000 -0.014709  0.044633 -0.126640    -0.004677   \n",
      "na_sales               -0.014709  1.000000  0.854530  0.484041     0.964460   \n",
      "eu_sales                0.044633  0.854530  1.000000  0.460066     0.947757   \n",
      "jp_sales               -0.126640  0.484041  0.460066  1.000000     0.499536   \n",
      "other_sales            -0.004677  0.964460  0.947757  0.499536     1.000000   \n",
      "critic_score           -0.004040  0.378056  0.384803  0.281351     0.402375   \n",
      "user_score             -0.238262  0.107923  0.108804  0.182321     0.122790   \n",
      "total_sales             0.001390  0.984357  0.932216  0.504698     0.992429   \n",
      "\n",
      "                 critic_score  user_score  total_sales  \n",
      "year_of_release     -0.004040   -0.238262     0.001390  \n",
      "na_sales             0.378056    0.107923     0.984357  \n",
      "eu_sales             0.384803    0.108804     0.932216  \n",
      "jp_sales             0.281351    0.182321     0.504698  \n",
      "other_sales          0.402375    0.122790     0.992429  \n",
      "critic_score         1.000000    0.618101     0.393736  \n",
      "user_score           0.618101    1.000000     0.114459  \n",
      "total_sales          0.393736    0.114459     1.000000  \n"
     ]
    },
    {
     "data": {
      "text/plain": [
       "<AxesSubplot:xlabel='user_score'>"
      ]
     },
     "execution_count": 14,
     "metadata": {},
     "output_type": "execute_result"
    },
    {
     "data": {
      "image/png": "[encoded data removed]",
      "text/plain": [
       "<Figure size 640x480 with 1 Axes>"
      ]
     },
     "metadata": {},
     "output_type": "display_data"
    },
    {
     "data": {
      "image/png": "[encoded data removed]",
      "text/plain": [
       "<Figure size 640x480 with 1 Axes>"
      ]
     },
     "metadata": {},
     "output_type": "display_data"
    },
    {
     "data": {
      "image/png": "[encoded data removed]",
      "text/plain": [
       "<Figure size 640x480 with 1 Axes>"
      ]
     },
     "metadata": {},
     "output_type": "display_data"
    },
    {
     "data": {
      "image/png": "[encoded data removed]",
      "text/plain": [
       "<Figure size 640x480 with 1 Axes>"
      ]
     },
     "metadata": {},
     "output_type": "display_data"
    }
   ],
   "source": [
    "gf1 = df[df['platform']=='Wii']\n",
    "gf2 = df[df['platform']=='X360']\n",
    "\n",
    "#Matriz de correlación de los juegos de la plataforma Wii\n",
    "print('Matriz de correlación de los juegos de la plataforma Wii\\n')\n",
    "print(gf1.corr())\n",
    "\n",
    "#Gráfica de dispersión de los juegos de la plataforma Wii\n",
    "gf1.plot(x='critic_score', y='total_sales')\n",
    "gf1.plot(x='user_score', y='total_sales')\n",
    "\n",
    "print('\\n\\n')\n",
    "\n",
    "#Matriz de correlación de los juegos de la plataforma X360\n",
    "print('Matriz de correlación de los juegos de la plataforma X360\\n')\n",
    "print(gf2.corr())\n",
    "\n",
    "#Gráfica de dispersión de los juegos de la plataforma X360\n",
    "gf2.plot(x='critic_score', y='total_sales')\n",
    "gf2.plot(x='user_score', y='total_sales')"
   ]
  },
  {
   "cell_type": "markdown",
   "metadata": {},
   "source": [
    "### Echa un vistazo a la distribución general de los juegos por género. ¿Qué se puede decir de los géneros más rentables? ¿Puedes generalizar acerca de los géneros con ventas altas y bajas?"
   ]
  },
  {
   "cell_type": "markdown",
   "metadata": {},
   "source": [
    "- Se observa que los géneros más rentables son: Action, Sports y Shooter.\n",
    "- Se observa que los géneros más rentables son: Strategy, Adventure, Puzzle\n",
    "- También se infiere que las reseñas críticas tanto de usuarios como de profesionales no influyen en las ventas de los genéros más rentables ni menos rentables."
   ]
  },
  {
   "cell_type": "code",
   "execution_count": 15,
   "metadata": {},
   "outputs": [
    {
     "name": "stdout",
     "output_type": "stream",
     "text": [
      "           genre  total_sales\n",
      "0         Action      1744.17\n",
      "10        Sports      1331.27\n",
      "8        Shooter      1052.45\n",
      "7   Role-Playing       934.56\n",
      "4       Platform       827.77\n",
      "3           Misc       802.51\n",
      "6         Racing       728.67\n",
      "2       Fighting       447.53\n",
      "9     Simulation       389.97\n",
      "5         Puzzle       242.57\n",
      "1      Adventure       237.59\n",
      "11      Strategy       174.23\n",
      "Top 3 de los generos más rentables:\n",
      "\n"
     ]
    },
    {
     "data": {
      "image/png": "[encoded data removed]",
      "text/plain": [
       "<Figure size 640x480 with 1 Axes>"
      ]
     },
     "metadata": {},
     "output_type": "display_data"
    }
   ],
   "source": [
    "gf = df.groupby('genre')['total_sales'].sum().reset_index().sort_values(by='total_sales', ascending=False)\n",
    "print(gf)\n",
    "\n",
    "print('Top 3 de los generos más rentables:\\n')\n",
    "df2 = df[df['genre'].isin(['Action','Sports','Shooter','Role-Playing','Platform'])]\n",
    "#print(df2)\n",
    "\n",
    "#sns.boxplot(x='total_sales', y='genre', data = df2, fliersize = 1, showfliers = False);\n",
    "sns.boxplot(x='user_score', y='genre', data = df2, fliersize = 1, showfliers = False);"
   ]
  },
  {
   "cell_type": "code",
   "execution_count": 16,
   "metadata": {},
   "outputs": [
    {
     "name": "stdout",
     "output_type": "stream",
     "text": [
      "Top 3 de los generos menos rentables:\n",
      "\n"
     ]
    },
    {
     "data": {
      "image/png": "[encoded data removed]",
      "text/plain": [
       "<Figure size 640x480 with 1 Axes>"
      ]
     },
     "metadata": {},
     "output_type": "display_data"
    }
   ],
   "source": [
    "print('Top 3 de los generos menos rentables:\\n')\n",
    "df3 = df[df['genre'].isin(['Strategy','Adventure','Puzzle', 'Simulation','Fighting'])]\n",
    "#print(df3)\n",
    "\n",
    "#sns.boxplot(x='total_sales', y='genre', data = df3, fliersize = 1, showfliers = False);\n",
    "sns.boxplot(x='user_score', y='genre', data = df3, fliersize = 1, showfliers = False);"
   ]
  },
  {
   "cell_type": "markdown",
   "metadata": {},
   "source": [
    "## Crea un perfil de usuario para cada región\n",
    "Para cada región (NA, EU, JP) determina:"
   ]
  },
  {
   "cell_type": "markdown",
   "metadata": {},
   "source": [
    "### Las cinco plataformas principales. Describe las variaciones en sus cuotas de mercado de una región a otra."
   ]
  },
  {
   "cell_type": "markdown",
   "metadata": {},
   "source": [
    "Se observa que:\n",
    "- En Norteamerica lideran las ventas las plataformas X360 y PS2.\n",
    "- En Europa lideran las ventas laS plataformas PS2 y PS3.\n",
    "- En Japón lidera la venta la plataforma DS.\n",
    "- La plataforma que se venden en las 3 regiones y es una de las 5 principales en las 3 regiones es el PS2.\n",
    "- Las plataformas PS3, X360 y Wii son las principales en Norteamerica y Europa.\n",
    "- La plataforma DS es una de las principales en Japón y Norteamérica.\n",
    "- La plataforma PS es una de las principales en Europa y Japón.\n",
    "- Las plataformas 3DS y SNES solo estan en el top 5 de ventas en Japón."
   ]
  },
  {
   "cell_type": "code",
   "execution_count": 17,
   "metadata": {},
   "outputs": [
    {
     "name": "stdout",
     "output_type": "stream",
     "text": [
      "AxesSubplot(0.125,0.11;0.775x0.77)\n"
     ]
    },
    {
     "data": {
      "image/png": "[encoded data removed]",
      "text/plain": [
       "<Figure size 640x480 with 1 Axes>"
      ]
     },
     "metadata": {},
     "output_type": "display_data"
    }
   ],
   "source": [
    "#construimos 3 tablas para identificar las plataformas principales en cada región\n",
    "df_na = df.groupby('platform')['na_sales'].sum().reset_index().sort_values(by='na_sales', ascending=False)\n",
    "df_eu = df.groupby('platform')['eu_sales'].sum().reset_index().sort_values(by='eu_sales', ascending=False)\n",
    "df_jp = df.groupby('platform')['jp_sales'].sum().reset_index().sort_values(by='jp_sales', ascending=False)\n",
    "\n",
    "\n",
    "#identificamos las 5 principales plataformas en cada región\n",
    "pd.concat([df_na['platform'].head(5), df_eu['platform'].head(5), df_jp['platform'].head(5)]).unique()\n",
    "\n",
    "#definimos un nuevo dataframe solo con las 5 principales plataformas por región\n",
    "pd2 = pd.concat([df_na.head(5), df_eu.head(5), df_jp.head(5)])\n",
    "\n",
    "#utilizamos un pivot_table para armar la gráfica de ventas por las plataformas principales de cada región\n",
    "agg_dict = {'na_sales': 'sum', 'eu_sales': 'sum', 'jp_sales' : 'sum'}\n",
    "\n",
    "grp = pd2.groupby('platform')\n",
    "\n",
    "df2 = grp.agg(agg_dict).reset_index()\n",
    "\n",
    "df2 = df2[df2['platform'].isin(['X360', 'PS2', 'Wii', 'PS3', 'DS', 'PS', 'SNES', '3DS'])]\n",
    "\n",
    "#graficamos para analizar\n",
    "print(df2.plot.bar(x='platform', ylabel='Ventas en USD M', xlabel='Plataforma'))"
   ]
  },
  {
   "cell_type": "markdown",
   "metadata": {},
   "source": [
    "### Los cinco géneros principales. Explica la diferencia."
   ]
  },
  {
   "cell_type": "markdown",
   "metadata": {},
   "source": [
    "    Se observa que:\n",
    "    - En las 3 regiones (Norteamérica, Europa y Japón) coiciden como principales los géneros de Action, Sports y Misc.\n",
    "    - Action es el género líder en Norteamérica y Europa; sin embargo, en Japón lidera el género de \"Role-Playing\".\n",
    "    - Platform es uno de los géneros principales en Norteamérica y Japón.\n",
    "    - Shooter es uno de los géneros principales en Norteamérica y Europa."
   ]
  },
  {
   "cell_type": "code",
   "execution_count": 18,
   "metadata": {},
   "outputs": [
    {
     "name": "stdout",
     "output_type": "stream",
     "text": [
      "AxesSubplot(0.125,0.11;0.775x0.77)\n"
     ]
    },
    {
     "data": {
      "image/png": "[encoded data removed]",
      "text/plain": [
       "<Figure size 640x480 with 1 Axes>"
      ]
     },
     "metadata": {},
     "output_type": "display_data"
    }
   ],
   "source": [
    "#construimos 3 tablas para identificar los genéros principales en cada región\n",
    "df_na = df.groupby('genre')['na_sales'].sum().reset_index().sort_values(by='na_sales', ascending=False)\n",
    "df_eu = df.groupby('genre')['eu_sales'].sum().reset_index().sort_values(by='eu_sales', ascending=False)\n",
    "df_jp = df.groupby('genre')['jp_sales'].sum().reset_index().sort_values(by='jp_sales', ascending=False)\n",
    "\n",
    "\n",
    "#identificamos las 5 principales genéros en cada región\n",
    "pd.concat([df_na['genre'].head(5), df_eu['genre'].head(5), df_jp['genre'].head(5)]).unique()\n",
    "\n",
    "#definimos un nuevo dataframe solo con las 5 principales plataformas por región\n",
    "pd2 = pd.concat([df_na.head(5), df_eu.head(5), df_jp.head(5)])\n",
    "\n",
    "#utilizamos un pivot_table para armar la gráfica de ventas por las plataformas principales de cada región\n",
    "agg_dict = {'na_sales': 'sum', 'eu_sales': 'sum', 'jp_sales' : 'sum'}\n",
    "\n",
    "grp = pd2.groupby('genre')\n",
    "\n",
    "df2 = grp.agg(agg_dict).reset_index()\n",
    "\n",
    "df2 = df2[df2['genre'].isin(['Action', 'Sports', 'Shooter', 'Platform', 'Misc', 'Racing', 'Role-Playing'])]\n",
    "\n",
    "#graficamos para analizar\n",
    "print(df2.plot.bar(x='genre', ylabel='Ventas en USD M', xlabel = 'Género'))"
   ]
  },
  {
   "cell_type": "markdown",
   "metadata": {},
   "source": [
    "### Si las clasificaciones de ESRB afectan a las ventas en regiones individuales."
   ]
  },
  {
   "cell_type": "markdown",
   "metadata": {},
   "source": [
    "Considerando que el 60% de los juegos han sido clasificados, se observa que:\n",
    "- Las ventas por regiones sí se ven afectadas por las clasificaciones.\n",
    "- Las ventas se ven afectadas por la clasificación de los juegos según el siguiente orden:\n",
    "  (E) Apto para todos, son los más vendidos.\n",
    "  (M) Apto para personas de 17 años a más.\n",
    "  (T) Apto para personas de 13 años a más.\n",
    "  (E10+) Apto para personas de 10 años a más, los menos vendidos.\n",
    "- Los juegos con clasificación AO, EC, K-A, RP son los que menos ventas han registrado."
   ]
  },
  {
   "cell_type": "code",
   "execution_count": 19,
   "metadata": {},
   "outputs": [
    {
     "name": "stdout",
     "output_type": "stream",
     "text": [
      "AxesSubplot(0.125,0.11;0.775x0.77)\n"
     ]
    },
    {
     "data": {
      "image/png": "[encoded data removed]",
      "text/plain": [
       "<Figure size 640x480 with 1 Axes>"
      ]
     },
     "metadata": {},
     "output_type": "display_data"
    }
   ],
   "source": [
    "#Creamos una tabla con las ventas de todos los juegos que tiene rating.\n",
    "agg_dict = {'na_sales': 'sum', 'eu_sales': 'sum', 'jp_sales' : 'sum'}\n",
    "\n",
    "grp = df.groupby('rating')\n",
    "\n",
    "df2 = grp.agg(agg_dict).reset_index()\n",
    "\n",
    "#graficamos para analizar\n",
    "print(df2.plot.bar(x='rating', ylabel='Ventas en USD M', xlabel = 'Entertaiment Software Rating Board'))"
   ]
  },
  {
   "cell_type": "markdown",
   "metadata": {},
   "source": [
    "## Prueba de hipótesis"
   ]
  },
  {
   "cell_type": "markdown",
   "metadata": {},
   "source": [
    "### Las calificaciones promedio de los usuarios para las plataformas Xbox One y PC son las mismas.\n",
    "Establece tu mismo el valor de umbral alfa y explica:"
   ]
  },
  {
   "cell_type": "markdown",
   "metadata": {},
   "source": [
    "#### Cómo formulaste las hipótesis nula y alternativa."
   ]
  },
  {
   "cell_type": "markdown",
   "metadata": {},
   "source": [
    "Definimos la hipótesis nula(Ho) y la alternativa (H1) considerando la duda planteada en el enunciado del proyecto.\n",
    "\n",
    "Ho = Las calificaciones promedio de los usuarios de las plataformas Xbox One y PC son las mismas.\n",
    "\n",
    "H1 = Las calificaciones promedio de los usuarios de las plataformas Xbox One y PC son distintas.\n",
    "\n",
    "Para analizar la hipótesis necesitamos definimos el umbral alfa, para lo cual utilizaremos el valor en 0.05, valor que se suele usar por lo general, este número nos indica que la probabilidad de que rechacemos la hipótesis nula de manera errónea será el 5%."
   ]
  },
  {
   "cell_type": "markdown",
   "metadata": {},
   "source": [
    "#### Qué criterio utilizaste para probar las hipótesis y por qué."
   ]
  },
  {
   "cell_type": "markdown",
   "metadata": {},
   "source": [
    "Para probar las hipótesis, evaluaremos si existe igualdad entre las medias de dos plataformas de juego.\n",
    "Para ello debemos realizar lo siguiente: 1) Validaremos si las varianzas de cada plataforma son iguales o diferentes 2) Realizaremos la prueba usando la función estadística \"ttest_ind\" 3) Compararemos el \"valor p\" con el umbral, de ser alpha mayor al \"valor p\" aceptaremos la hipótesis nula de lo contrario aceptaremos la hipótesis alternativa.\n",
    "\n",
    "Para esta evaluación el resultado indica que debemos aceptar la hipótesis alternativa; lo que significa que las calificaciones promedio de los usuarios de las plataformas \"Xbox One\" y \"PC\" son distintas."
   ]
  },
  {
   "cell_type": "code",
   "execution_count": 20,
   "metadata": {},
   "outputs": [
    {
     "name": "stdout",
     "output_type": "stream",
     "text": [
      "Varianza de las calificaciones de usuario de las plataformas:\n",
      "- Xbox One:  1.8965188383045526\n",
      "- PC:  2.3377471580367684\n",
      "\n",
      "valor p: 4.935072360183574e-06\n",
      "\n",
      "Rechazamos la hipótesis nula\n"
     ]
    }
   ],
   "source": [
    "#Validamos las varianzas de cada plataforma\n",
    "df_xbox = df[(df['platform'] == 'XOne') & (df['user_score'].isnull() == False)]['user_score']\n",
    "df_pc = df[(df['platform'] == 'PC') & (df['user_score'].isnull() == False)]['user_score']\n",
    "\n",
    "#print(df_xbox)\n",
    "#print(df_pc)\n",
    "\n",
    "print('Varianza de las calificaciones de usuario de las plataformas:')\n",
    "print('- Xbox One: ', np.var(df_xbox))\n",
    "print('- PC: ', np.var(df_pc))\n",
    "\n",
    "#Probamos la hipótesis\n",
    "\n",
    "alpha = 0.05\n",
    "\n",
    "results = st.ttest_ind(df_xbox, df_pc, equal_var = False)\n",
    "\n",
    "print()\n",
    "print('valor p:', results.pvalue)\n",
    "print()\n",
    "\n",
    "if (results.pvalue < alpha):\n",
    "    print(\"Rechazamos la hipótesis nula\")\n",
    "else:\n",
    "    print(\"No podemos rechazar la hipótesis nula. \")\n"
   ]
  },
  {
   "cell_type": "markdown",
   "metadata": {},
   "source": [
    "### Las calificaciones promedio de los usuarios para los géneros de Acción y Deportes son diferentes.\n",
    "Establece tu mismo el valor de umbral alfa y explica:\n"
   ]
  },
  {
   "cell_type": "markdown",
   "metadata": {},
   "source": [
    "#### Cómo formulaste las hipótesis nula y alternativa."
   ]
  },
  {
   "cell_type": "markdown",
   "metadata": {},
   "source": [
    "Definimos la hipótesis nula(Ho) y la alternativa (H1) considerando la duda planteada en el enunciado del proyecto.\n",
    "\n",
    "Ho = Las calificaciones promedio de los usuarios de los géneros Acción y Deportes son diferentes.\n",
    "\n",
    "H1 = Las calificaciones promedio de los usuarios de los géneros Acción y Deportes son son iguales.\n",
    "\n",
    "Para analizar la hipótesis necesitamos definimos el umbral alfa, para lo cual utilizaremos el valor en 0.05, valor que se suele usar por lo general, este número nos indica que la probabilidad de que rechacemos la hipótesis nula de manera errónea será el 5%."
   ]
  },
  {
   "cell_type": "markdown",
   "metadata": {},
   "source": [
    "#### Qué criterio utilizaste para probar las hipótesis y por qué."
   ]
  },
  {
   "cell_type": "markdown",
   "metadata": {},
   "source": [
    "Para probar las hipótesis, evaluaremos si existe igualdad entre las medias de dos géneros de juego.\n",
    "Para ello debemos realizar lo siguiente: 1) Validaremos si las varianzas de cada plataforma son iguales o diferentes 2) Realizaremos la prueba usando la función estadística \"ttest_ind\" 3) Compararemos el \"valor p\" con el umbral, de ser alpha mayor al \"valor p\" aceptaremos la hipótesis nula de lo contrario aceptaremos la hipótesis alternativa.\n",
    "\n",
    "Para esta evaluación el resultado indica que debemos aceptar la hipótesis nula; lo que significa que las calificaciones promedio de los usuarios de los géneros \"Acción\" y \"Deportes\" son diferentes."
   ]
  },
  {
   "cell_type": "code",
   "execution_count": 21,
   "metadata": {},
   "outputs": [
    {
     "name": "stdout",
     "output_type": "stream",
     "text": [
      "Varianza de las calificaciones de usuario en los géneros:\n",
      "- Acción:  2.03063665382663\n",
      "- Deportes:  2.594160671177017\n",
      "\n",
      "valor p: 0.11483818791498286\n",
      "\n",
      "No podemos rechazar la hipótesis nula. \n"
     ]
    }
   ],
   "source": [
    "#Validamos las varianzas de cada género\n",
    "df_action = df[(df['genre'] == 'Action') & (df['user_score'].isnull() == False)]['user_score']\n",
    "df_sport = df[(df['genre'] == 'Sports') & (df['user_score'].isnull() == False)]['user_score']\n",
    "\n",
    "#print(df_xbox)\n",
    "#print(df_pc)\n",
    "\n",
    "print('Varianza de las calificaciones de usuario en los géneros:')\n",
    "print('- Acción: ', np.var(df_action))\n",
    "print('- Deportes: ', np.var(df_sport))\n",
    "\n",
    "#Probamos la hipótesis\n",
    "\n",
    "alpha = 0.05\n",
    "\n",
    "results = st.ttest_ind(df_action, df_sport, equal_var = False)\n",
    "\n",
    "print()\n",
    "print('valor p:', results.pvalue)\n",
    "print()\n",
    "\n",
    "if (results.pvalue < alpha):\n",
    "    print(\"Rechazamos la hipótesis nula\")\n",
    "else:\n",
    "    print(\"No podemos rechazar la hipótesis nula. \")\n"
   ]
  },
  {
   "cell_type": "markdown",
   "metadata": {},
   "source": [
    "## Conclusión General"
   ]
  },
  {
   "cell_type": "markdown",
   "metadata": {},
   "source": [
    "Asumiendo el rol como trabajador de la tienda online que vende videojuegos por todo el mundo, la información que nos comparte nos lleva a los siguientes insights:\n",
    "- Priorizaría en adquirir los juegos de los canales más rentables en cada región.\n",
    "- Impulsaría a que la mayoría de juegos que se vendan en nuestra tienda tengan calificación ya que podríamos filtrarlas y enfocarnos en las más rentables, siendo los juegos con las siguientes calificaciones las más vendidas: E (apto para todos), M (apto para personas de 17 años a más) y T (apto para personas de 13 años a más).\n",
    "- Sugeriría hacer una proyección de ventas con un horizonte de ventas de 10 años (tiempo de vida de una plataforma aproximadamente según la información compartida). En esta proyección, se debería tener bien identificadas a las plataformas que estan en auge y las que esten en caída en ventas. Los juegos de las plataformas que se encuentran en auge deberían ser el nuevo foco en las campañas de ventas. Y para las plataformas que estan en caída se debería considerar reducir la adquisición de juegos para vender."
   ]
  }
 ],
 "metadata": {
  "ExecuteTimeLog": [
   {
    "duration": 532,
    "start_time": "2024-06-25T21:39:49.203Z"
   },
   {
    "duration": 51,
    "start_time": "2024-06-25T21:40:01.641Z"
   },
   {
    "duration": 140,
    "start_time": "2024-06-25T21:42:13.879Z"
   },
   {
    "duration": 24,
    "start_time": "2024-06-25T21:42:36.539Z"
   },
   {
    "duration": 19,
    "start_time": "2024-06-25T21:42:49.128Z"
   },
   {
    "duration": 24,
    "start_time": "2024-06-25T21:42:54.421Z"
   },
   {
    "duration": 6,
    "start_time": "2024-06-25T21:43:01.676Z"
   },
   {
    "duration": 7,
    "start_time": "2024-06-25T21:43:11.542Z"
   },
   {
    "duration": 4,
    "start_time": "2024-06-25T21:43:20.134Z"
   },
   {
    "duration": 225,
    "start_time": "2024-06-25T21:44:28.499Z"
   },
   {
    "duration": 27,
    "start_time": "2024-06-25T21:44:36.598Z"
   },
   {
    "duration": 28,
    "start_time": "2024-06-25T21:44:44.221Z"
   },
   {
    "duration": 5,
    "start_time": "2024-06-25T21:44:57.377Z"
   },
   {
    "duration": 27,
    "start_time": "2024-06-25T21:46:24.959Z"
   },
   {
    "duration": 28,
    "start_time": "2024-06-25T21:46:36.000Z"
   },
   {
    "duration": 30,
    "start_time": "2024-06-25T21:47:02.368Z"
   },
   {
    "duration": 24,
    "start_time": "2024-06-25T21:47:32.622Z"
   },
   {
    "duration": 52,
    "start_time": "2024-06-25T21:47:39.045Z"
   },
   {
    "duration": 7,
    "start_time": "2024-06-25T21:47:44.075Z"
   },
   {
    "duration": 65,
    "start_time": "2024-06-25T21:49:34.323Z"
   },
   {
    "duration": 7,
    "start_time": "2024-06-25T21:58:08.164Z"
   },
   {
    "duration": 64,
    "start_time": "2024-06-25T21:58:38.446Z"
   },
   {
    "duration": 7,
    "start_time": "2024-06-25T21:59:30.782Z"
   },
   {
    "duration": 28,
    "start_time": "2024-06-25T22:00:46.174Z"
   },
   {
    "duration": 6,
    "start_time": "2024-06-25T22:00:58.646Z"
   },
   {
    "duration": 68,
    "start_time": "2024-06-25T22:01:28.862Z"
   },
   {
    "duration": 32,
    "start_time": "2024-06-25T22:01:31.481Z"
   },
   {
    "duration": 28,
    "start_time": "2024-06-25T22:02:33.423Z"
   },
   {
    "duration": 127,
    "start_time": "2024-06-25T22:02:41.479Z"
   },
   {
    "duration": 26,
    "start_time": "2024-06-25T22:02:44.010Z"
   },
   {
    "duration": 70,
    "start_time": "2024-06-25T22:03:39.457Z"
   },
   {
    "duration": 1579,
    "start_time": "2024-06-25T22:03:52.684Z"
   },
   {
    "duration": 83,
    "start_time": "2024-06-25T22:05:31.396Z"
   },
   {
    "duration": 29,
    "start_time": "2024-06-25T22:05:33.531Z"
   },
   {
    "duration": 74,
    "start_time": "2024-06-25T22:06:04.756Z"
   },
   {
    "duration": 9,
    "start_time": "2024-06-25T22:06:15.631Z"
   },
   {
    "duration": 20,
    "start_time": "2024-06-25T22:08:56.404Z"
   },
   {
    "duration": 12,
    "start_time": "2024-06-25T22:10:35.864Z"
   },
   {
    "duration": 68,
    "start_time": "2024-06-25T22:15:30.607Z"
   },
   {
    "duration": 75,
    "start_time": "2024-06-25T22:19:04.640Z"
   },
   {
    "duration": 7,
    "start_time": "2024-06-25T22:19:07.417Z"
   },
   {
    "duration": 33,
    "start_time": "2024-06-25T22:19:11.367Z"
   },
   {
    "duration": 848,
    "start_time": "2024-06-25T22:19:17.508Z"
   },
   {
    "duration": 65,
    "start_time": "2024-06-25T22:39:02.667Z"
   },
   {
    "duration": 6,
    "start_time": "2024-06-25T22:39:06.775Z"
   },
   {
    "duration": 22,
    "start_time": "2024-06-25T22:39:10.821Z"
   },
   {
    "duration": 23,
    "start_time": "2024-06-25T22:39:14.846Z"
   },
   {
    "duration": 95,
    "start_time": "2024-06-25T22:39:29.978Z"
   },
   {
    "duration": 71,
    "start_time": "2024-06-25T22:40:50.685Z"
   },
   {
    "duration": 6,
    "start_time": "2024-06-25T22:40:53.127Z"
   },
   {
    "duration": 17,
    "start_time": "2024-06-25T22:40:56.576Z"
   },
   {
    "duration": 93,
    "start_time": "2024-06-25T22:40:59.321Z"
   },
   {
    "duration": 67,
    "start_time": "2024-06-25T22:47:17.390Z"
   },
   {
    "duration": 6,
    "start_time": "2024-06-25T22:47:22.772Z"
   },
   {
    "duration": 28,
    "start_time": "2024-06-25T22:47:25.774Z"
   },
   {
    "duration": 25,
    "start_time": "2024-06-25T22:47:36.678Z"
   },
   {
    "duration": 23,
    "start_time": "2024-06-25T22:51:28.398Z"
   },
   {
    "duration": 113,
    "start_time": "2024-06-25T22:51:35.700Z"
   },
   {
    "duration": 24,
    "start_time": "2024-06-25T23:06:11.604Z"
   },
   {
    "duration": 108,
    "start_time": "2024-06-25T23:06:34.295Z"
   },
   {
    "duration": 113,
    "start_time": "2024-06-25T23:06:44.630Z"
   },
   {
    "duration": 114,
    "start_time": "2024-06-25T23:07:02.562Z"
   },
   {
    "duration": 30,
    "start_time": "2024-06-25T23:07:20.649Z"
   },
   {
    "duration": 26,
    "start_time": "2024-06-25T23:07:37.553Z"
   },
   {
    "duration": 18,
    "start_time": "2024-06-25T23:11:49.864Z"
   },
   {
    "duration": 27,
    "start_time": "2024-06-25T23:11:53.837Z"
   },
   {
    "duration": 28,
    "start_time": "2024-06-25T23:12:04.283Z"
   },
   {
    "duration": 17,
    "start_time": "2024-06-25T23:12:15.114Z"
   },
   {
    "duration": 8,
    "start_time": "2024-06-25T23:12:52.619Z"
   },
   {
    "duration": 17,
    "start_time": "2024-06-25T23:13:10.836Z"
   },
   {
    "duration": 7,
    "start_time": "2024-06-25T23:13:28.769Z"
   },
   {
    "duration": 16,
    "start_time": "2024-06-25T23:13:34.190Z"
   },
   {
    "duration": 194,
    "start_time": "2024-06-25T23:13:54.513Z"
   },
   {
    "duration": 75,
    "start_time": "2024-06-25T23:14:12.592Z"
   },
   {
    "duration": 73,
    "start_time": "2024-06-25T23:14:22.348Z"
   },
   {
    "duration": 5,
    "start_time": "2024-06-25T23:14:43.255Z"
   },
   {
    "duration": 132,
    "start_time": "2024-06-25T23:14:49.000Z"
   },
   {
    "duration": 12,
    "start_time": "2024-06-25T23:15:54.384Z"
   },
   {
    "duration": 23,
    "start_time": "2024-06-25T23:17:10.029Z"
   },
   {
    "duration": 32,
    "start_time": "2024-06-25T23:17:21.353Z"
   },
   {
    "duration": 47,
    "start_time": "2024-06-25T23:18:12.869Z"
   },
   {
    "duration": 18,
    "start_time": "2024-06-25T23:18:30.666Z"
   },
   {
    "duration": 31,
    "start_time": "2024-06-25T23:18:47.012Z"
   },
   {
    "duration": 207,
    "start_time": "2024-06-25T23:20:59.042Z"
   },
   {
    "duration": 9,
    "start_time": "2024-06-25T23:21:09.788Z"
   },
   {
    "duration": 320,
    "start_time": "2024-06-25T23:21:27.382Z"
   },
   {
    "duration": 38,
    "start_time": "2024-06-25T23:21:48.843Z"
   },
   {
    "duration": 36,
    "start_time": "2024-06-25T23:22:27.580Z"
   },
   {
    "duration": 38,
    "start_time": "2024-06-25T23:22:38.764Z"
   },
   {
    "duration": 32,
    "start_time": "2024-06-25T23:23:09.770Z"
   },
   {
    "duration": 30,
    "start_time": "2024-06-25T23:23:15.238Z"
   },
   {
    "duration": 43,
    "start_time": "2024-06-25T23:23:23.894Z"
   },
   {
    "duration": 8,
    "start_time": "2024-06-25T23:23:33.045Z"
   },
   {
    "duration": 13,
    "start_time": "2024-06-25T23:23:38.801Z"
   },
   {
    "duration": 6,
    "start_time": "2024-06-25T23:23:46.318Z"
   },
   {
    "duration": 18,
    "start_time": "2024-06-25T23:23:51.696Z"
   },
   {
    "duration": 30,
    "start_time": "2024-06-25T23:24:04.209Z"
   },
   {
    "duration": 22,
    "start_time": "2024-06-25T23:43:44.067Z"
   },
   {
    "duration": 10,
    "start_time": "2024-06-25T23:58:23.158Z"
   },
   {
    "duration": 21,
    "start_time": "2024-06-25T23:59:17.679Z"
   },
   {
    "duration": 18,
    "start_time": "2024-06-25T23:59:26.577Z"
   },
   {
    "duration": 6,
    "start_time": "2024-06-26T00:00:05.357Z"
   },
   {
    "duration": 24,
    "start_time": "2024-06-26T00:00:54.565Z"
   },
   {
    "duration": 24,
    "start_time": "2024-06-26T00:00:56.670Z"
   },
   {
    "duration": 15,
    "start_time": "2024-06-26T00:01:36.656Z"
   },
   {
    "duration": 24,
    "start_time": "2024-06-26T00:02:41.157Z"
   },
   {
    "duration": 31,
    "start_time": "2024-06-26T00:04:30.558Z"
   },
   {
    "duration": 24,
    "start_time": "2024-06-26T00:05:15.463Z"
   },
   {
    "duration": 6,
    "start_time": "2024-06-26T00:06:11.014Z"
   },
   {
    "duration": 22,
    "start_time": "2024-06-26T00:06:19.165Z"
   },
   {
    "duration": 30,
    "start_time": "2024-06-26T00:06:25.145Z"
   },
   {
    "duration": 24,
    "start_time": "2024-06-26T00:06:36.370Z"
   },
   {
    "duration": 35,
    "start_time": "2024-06-26T00:07:22.142Z"
   },
   {
    "duration": 5,
    "start_time": "2024-06-26T00:07:51.569Z"
   },
   {
    "duration": 24,
    "start_time": "2024-06-26T00:07:54.876Z"
   },
   {
    "duration": 36,
    "start_time": "2024-06-26T00:08:01.309Z"
   },
   {
    "duration": 27,
    "start_time": "2024-06-26T00:08:17.013Z"
   },
   {
    "duration": 30,
    "start_time": "2024-06-26T00:08:35.228Z"
   },
   {
    "duration": 25,
    "start_time": "2024-06-26T00:08:44.341Z"
   },
   {
    "duration": 24,
    "start_time": "2024-06-26T00:08:57.686Z"
   },
   {
    "duration": 6,
    "start_time": "2024-06-26T00:09:15.765Z"
   },
   {
    "duration": 29,
    "start_time": "2024-06-26T00:09:22.855Z"
   },
   {
    "duration": 26,
    "start_time": "2024-06-26T00:09:31.386Z"
   },
   {
    "duration": 24,
    "start_time": "2024-06-26T00:09:40.898Z"
   },
   {
    "duration": 24,
    "start_time": "2024-06-26T00:10:00.177Z"
   },
   {
    "duration": 23,
    "start_time": "2024-06-26T00:10:05.721Z"
   },
   {
    "duration": 24,
    "start_time": "2024-06-26T00:10:22.857Z"
   },
   {
    "duration": 36,
    "start_time": "2024-06-26T00:19:28.625Z"
   },
   {
    "duration": 9,
    "start_time": "2024-06-26T00:38:55.853Z"
   },
   {
    "duration": 271,
    "start_time": "2024-06-26T00:39:06.921Z"
   },
   {
    "duration": 24,
    "start_time": "2024-06-26T00:40:41.077Z"
   },
   {
    "duration": 102,
    "start_time": "2024-06-26T00:48:59.471Z"
   },
   {
    "duration": 22,
    "start_time": "2024-06-26T00:50:13.346Z"
   },
   {
    "duration": 79,
    "start_time": "2024-06-26T00:50:29.992Z"
   },
   {
    "duration": 16,
    "start_time": "2024-06-26T00:51:19.834Z"
   },
   {
    "duration": 15,
    "start_time": "2024-06-26T00:51:30.766Z"
   },
   {
    "duration": 11,
    "start_time": "2024-06-26T00:51:47.698Z"
   },
   {
    "duration": 75,
    "start_time": "2024-06-26T00:52:20.904Z"
   },
   {
    "duration": 7,
    "start_time": "2024-06-26T00:52:25.131Z"
   },
   {
    "duration": 20,
    "start_time": "2024-06-26T00:52:29.027Z"
   },
   {
    "duration": 27,
    "start_time": "2024-06-26T00:52:33.314Z"
   },
   {
    "duration": 31,
    "start_time": "2024-06-26T00:52:37.370Z"
   },
   {
    "duration": 36,
    "start_time": "2024-06-26T00:52:45.633Z"
   },
   {
    "duration": 15,
    "start_time": "2024-06-26T00:53:14.527Z"
   },
   {
    "duration": 21,
    "start_time": "2024-06-26T00:53:17.750Z"
   },
   {
    "duration": 74,
    "start_time": "2024-06-26T00:53:44.428Z"
   },
   {
    "duration": 6,
    "start_time": "2024-06-26T00:53:48.393Z"
   },
   {
    "duration": 20,
    "start_time": "2024-06-26T00:53:51.741Z"
   },
   {
    "duration": 26,
    "start_time": "2024-06-26T00:53:54.940Z"
   },
   {
    "duration": 34,
    "start_time": "2024-06-26T00:53:59.431Z"
   },
   {
    "duration": 22,
    "start_time": "2024-06-26T00:54:03.829Z"
   },
   {
    "duration": 20,
    "start_time": "2024-06-26T00:54:19.478Z"
   },
   {
    "duration": 19,
    "start_time": "2024-06-26T00:54:22.995Z"
   },
   {
    "duration": 22,
    "start_time": "2024-06-26T00:54:49.648Z"
   },
   {
    "duration": 77,
    "start_time": "2024-06-26T00:54:56.693Z"
   },
   {
    "duration": 6,
    "start_time": "2024-06-26T00:55:05.445Z"
   },
   {
    "duration": 10,
    "start_time": "2024-06-26T00:55:11.320Z"
   },
   {
    "duration": 6,
    "start_time": "2024-06-26T00:55:21.572Z"
   },
   {
    "duration": 88,
    "start_time": "2024-06-26T00:57:16.343Z"
   },
   {
    "duration": 7,
    "start_time": "2024-06-26T00:57:20.236Z"
   },
   {
    "duration": 22,
    "start_time": "2024-06-26T00:57:24.688Z"
   },
   {
    "duration": 21,
    "start_time": "2024-06-26T00:57:30.957Z"
   },
   {
    "duration": 25,
    "start_time": "2024-06-26T00:57:35.137Z"
   },
   {
    "duration": 16,
    "start_time": "2024-06-26T00:57:41.211Z"
   },
   {
    "duration": 7,
    "start_time": "2024-06-26T00:57:45.887Z"
   },
   {
    "duration": 7,
    "start_time": "2024-06-26T00:57:53.054Z"
   },
   {
    "duration": 147,
    "start_time": "2024-06-26T00:58:03.786Z"
   },
   {
    "duration": 50,
    "start_time": "2024-06-26T00:58:08.604Z"
   },
   {
    "duration": 6,
    "start_time": "2024-06-26T00:58:30.717Z"
   },
   {
    "duration": 6,
    "start_time": "2024-06-26T00:58:35.792Z"
   },
   {
    "duration": 49,
    "start_time": "2024-06-26T00:58:46.660Z"
   },
   {
    "duration": 6,
    "start_time": "2024-06-26T00:59:04.342Z"
   },
   {
    "duration": 48,
    "start_time": "2024-06-26T01:00:20.087Z"
   },
   {
    "duration": 77,
    "start_time": "2024-06-26T01:00:44.044Z"
   },
   {
    "duration": 7,
    "start_time": "2024-06-26T01:00:48.805Z"
   },
   {
    "duration": 22,
    "start_time": "2024-06-26T01:00:52.434Z"
   },
   {
    "duration": 25,
    "start_time": "2024-06-26T01:00:55.930Z"
   },
   {
    "duration": 25,
    "start_time": "2024-06-26T01:01:00.854Z"
   },
   {
    "duration": 18,
    "start_time": "2024-06-26T01:01:11.708Z"
   },
   {
    "duration": 20,
    "start_time": "2024-06-26T01:01:14.062Z"
   },
   {
    "duration": 7,
    "start_time": "2024-06-26T01:01:27.406Z"
   },
   {
    "duration": 29,
    "start_time": "2024-06-26T01:45:54.809Z"
   },
   {
    "duration": 18,
    "start_time": "2024-06-26T01:46:18.195Z"
   },
   {
    "duration": 44,
    "start_time": "2024-06-26T01:46:25.180Z"
   },
   {
    "duration": 15,
    "start_time": "2024-06-26T02:04:03.645Z"
   },
   {
    "duration": 19,
    "start_time": "2024-06-26T02:04:50.013Z"
   },
   {
    "duration": 9,
    "start_time": "2024-06-26T02:05:07.676Z"
   },
   {
    "duration": 31,
    "start_time": "2024-06-26T02:05:36.372Z"
   },
   {
    "duration": 16,
    "start_time": "2024-06-26T02:10:39.174Z"
   },
   {
    "duration": 62,
    "start_time": "2024-06-26T02:11:36.759Z"
   },
   {
    "duration": 6,
    "start_time": "2024-06-26T02:11:40.846Z"
   },
   {
    "duration": 17,
    "start_time": "2024-06-26T02:11:45.049Z"
   },
   {
    "duration": 20,
    "start_time": "2024-06-26T02:11:49.632Z"
   },
   {
    "duration": 23,
    "start_time": "2024-06-26T02:11:55.085Z"
   },
   {
    "duration": 27,
    "start_time": "2024-06-26T02:11:59.658Z"
   },
   {
    "duration": 34,
    "start_time": "2024-06-26T02:12:11.181Z"
   },
   {
    "duration": 65,
    "start_time": "2024-06-26T02:14:15.777Z"
   },
   {
    "duration": 6,
    "start_time": "2024-06-26T02:14:19.559Z"
   },
   {
    "duration": 17,
    "start_time": "2024-06-26T02:14:22.637Z"
   },
   {
    "duration": 25,
    "start_time": "2024-06-26T02:14:25.777Z"
   },
   {
    "duration": 25,
    "start_time": "2024-06-26T02:14:29.956Z"
   },
   {
    "duration": 28,
    "start_time": "2024-06-26T02:14:33.519Z"
   },
   {
    "duration": 290,
    "start_time": "2024-06-26T02:14:44.285Z"
   },
   {
    "duration": 99,
    "start_time": "2024-06-26T02:15:35.504Z"
   },
   {
    "duration": 27,
    "start_time": "2024-06-26T02:15:41.999Z"
   },
   {
    "duration": 152,
    "start_time": "2024-06-26T02:15:57.276Z"
   },
   {
    "duration": 409,
    "start_time": "2024-06-26T02:16:01.137Z"
   },
   {
    "duration": 95,
    "start_time": "2024-06-26T02:16:15.179Z"
   },
   {
    "duration": 6,
    "start_time": "2024-06-26T02:16:19.032Z"
   },
   {
    "duration": 45,
    "start_time": "2024-06-26T02:16:22.118Z"
   },
   {
    "duration": 26,
    "start_time": "2024-06-26T02:16:25.115Z"
   },
   {
    "duration": 35,
    "start_time": "2024-06-26T02:16:34.384Z"
   },
   {
    "duration": 35,
    "start_time": "2024-06-26T02:16:39.667Z"
   },
   {
    "duration": 19,
    "start_time": "2024-06-26T02:16:51.483Z"
   },
   {
    "duration": 21,
    "start_time": "2024-06-26T02:17:02.896Z"
   },
   {
    "duration": 13,
    "start_time": "2024-06-26T02:18:16.586Z"
   },
   {
    "duration": 23,
    "start_time": "2024-06-26T02:20:07.536Z"
   },
   {
    "duration": 36,
    "start_time": "2024-06-26T02:21:11.703Z"
   },
   {
    "duration": 68,
    "start_time": "2024-06-26T02:27:30.123Z"
   },
   {
    "duration": 7,
    "start_time": "2024-06-26T02:27:33.833Z"
   },
   {
    "duration": 19,
    "start_time": "2024-06-26T02:27:35.912Z"
   },
   {
    "duration": 26,
    "start_time": "2024-06-26T02:27:38.096Z"
   },
   {
    "duration": 27,
    "start_time": "2024-06-26T02:27:40.474Z"
   },
   {
    "duration": 28,
    "start_time": "2024-06-26T02:27:45.568Z"
   },
   {
    "duration": 32,
    "start_time": "2024-06-26T02:27:55.093Z"
   },
   {
    "duration": 17,
    "start_time": "2024-06-26T02:28:43.150Z"
   },
   {
    "duration": 38,
    "start_time": "2024-06-26T02:28:55.128Z"
   },
   {
    "duration": 33,
    "start_time": "2024-06-26T02:29:08.319Z"
   },
   {
    "duration": 14,
    "start_time": "2024-06-26T02:30:07.836Z"
   },
   {
    "duration": 17,
    "start_time": "2024-06-26T02:30:19.454Z"
   },
   {
    "duration": 33,
    "start_time": "2024-06-26T02:34:24.838Z"
   },
   {
    "duration": 16,
    "start_time": "2024-06-26T02:37:33.322Z"
   },
   {
    "duration": 27,
    "start_time": "2024-06-26T02:37:46.767Z"
   },
   {
    "duration": 10,
    "start_time": "2024-06-26T02:38:52.298Z"
   },
   {
    "duration": 12,
    "start_time": "2024-06-26T02:39:07.753Z"
   },
   {
    "duration": 30,
    "start_time": "2024-06-26T02:39:54.265Z"
   },
   {
    "duration": 38,
    "start_time": "2024-06-26T02:40:33.399Z"
   },
   {
    "duration": 63,
    "start_time": "2024-06-26T02:40:42.873Z"
   },
   {
    "duration": 6,
    "start_time": "2024-06-26T02:40:45.778Z"
   },
   {
    "duration": 17,
    "start_time": "2024-06-26T02:40:48.304Z"
   },
   {
    "duration": 19,
    "start_time": "2024-06-26T02:40:50.579Z"
   },
   {
    "duration": 61,
    "start_time": "2024-06-26T02:40:53.563Z"
   },
   {
    "duration": 45,
    "start_time": "2024-06-26T02:40:57.732Z"
   },
   {
    "duration": 38,
    "start_time": "2024-06-26T02:42:08.533Z"
   },
   {
    "duration": 17,
    "start_time": "2024-06-26T02:42:15.849Z"
   },
   {
    "duration": 18,
    "start_time": "2024-06-26T02:42:31.162Z"
   },
   {
    "duration": 19,
    "start_time": "2024-06-26T02:42:48.437Z"
   },
   {
    "duration": 17,
    "start_time": "2024-06-26T02:43:02.689Z"
   },
   {
    "duration": 25,
    "start_time": "2024-06-26T02:43:17.457Z"
   },
   {
    "duration": 20,
    "start_time": "2024-06-26T02:43:48.823Z"
   },
   {
    "duration": 5,
    "start_time": "2024-06-26T02:45:12.243Z"
   },
   {
    "duration": 15,
    "start_time": "2024-06-26T02:45:23.888Z"
   },
   {
    "duration": 16,
    "start_time": "2024-06-26T02:46:11.900Z"
   },
   {
    "duration": 13,
    "start_time": "2024-06-26T02:47:03.126Z"
   },
   {
    "duration": 6,
    "start_time": "2024-06-26T02:47:11.113Z"
   },
   {
    "duration": 17,
    "start_time": "2024-06-26T02:47:32.568Z"
   },
   {
    "duration": 15,
    "start_time": "2024-06-26T02:47:41.838Z"
   },
   {
    "duration": 14,
    "start_time": "2024-06-26T02:50:55.065Z"
   },
   {
    "duration": 12,
    "start_time": "2024-06-26T02:51:05.687Z"
   },
   {
    "duration": 21,
    "start_time": "2024-06-26T02:58:32.288Z"
   },
   {
    "duration": 16,
    "start_time": "2024-06-26T03:08:23.772Z"
   },
   {
    "duration": 12,
    "start_time": "2024-06-26T03:08:39.953Z"
   },
   {
    "duration": 14,
    "start_time": "2024-06-26T03:08:46.165Z"
   },
   {
    "duration": 556,
    "start_time": "2024-06-26T20:49:32.627Z"
   },
   {
    "duration": 6,
    "start_time": "2024-06-26T20:49:36.656Z"
   },
   {
    "duration": 18,
    "start_time": "2024-06-26T20:49:39.403Z"
   },
   {
    "duration": 31,
    "start_time": "2024-06-26T20:49:42.272Z"
   },
   {
    "duration": 24,
    "start_time": "2024-06-26T20:49:45.353Z"
   },
   {
    "duration": 36,
    "start_time": "2024-06-26T20:49:49.965Z"
   },
   {
    "duration": 17,
    "start_time": "2024-06-26T20:53:13.682Z"
   },
   {
    "duration": 8,
    "start_time": "2024-06-26T20:53:50.617Z"
   },
   {
    "duration": 599,
    "start_time": "2024-06-26T21:19:57.627Z"
   },
   {
    "duration": 6,
    "start_time": "2024-06-26T21:20:02.480Z"
   },
   {
    "duration": 21,
    "start_time": "2024-06-26T21:20:06.078Z"
   },
   {
    "duration": 26,
    "start_time": "2024-06-26T21:20:11.352Z"
   },
   {
    "duration": 36,
    "start_time": "2024-06-26T21:20:14.393Z"
   },
   {
    "duration": 50,
    "start_time": "2024-06-26T21:20:17.051Z"
   },
   {
    "duration": 23,
    "start_time": "2024-06-26T21:20:46.102Z"
   },
   {
    "duration": 7,
    "start_time": "2024-06-26T21:21:51.124Z"
   },
   {
    "duration": 20,
    "start_time": "2024-06-26T21:22:09.818Z"
   },
   {
    "duration": 11,
    "start_time": "2024-06-26T21:22:33.757Z"
   },
   {
    "duration": 562,
    "start_time": "2024-06-26T22:08:19.438Z"
   },
   {
    "duration": 6,
    "start_time": "2024-06-26T22:08:24.435Z"
   },
   {
    "duration": 26,
    "start_time": "2024-06-26T22:08:27.450Z"
   },
   {
    "duration": 25,
    "start_time": "2024-06-26T22:08:30.258Z"
   },
   {
    "duration": 24,
    "start_time": "2024-06-26T22:08:33.606Z"
   },
   {
    "duration": 35,
    "start_time": "2024-06-26T22:08:37.049Z"
   },
   {
    "duration": 16,
    "start_time": "2024-06-26T22:08:46.941Z"
   },
   {
    "duration": 14,
    "start_time": "2024-06-26T22:09:48.973Z"
   },
   {
    "duration": 12,
    "start_time": "2024-06-26T22:10:19.077Z"
   },
   {
    "duration": 21,
    "start_time": "2024-06-26T22:12:28.587Z"
   },
   {
    "duration": 17,
    "start_time": "2024-06-26T22:12:52.707Z"
   },
   {
    "duration": 15,
    "start_time": "2024-06-26T22:14:10.074Z"
   },
   {
    "duration": 20,
    "start_time": "2024-06-26T22:14:33.341Z"
   },
   {
    "duration": 66,
    "start_time": "2024-06-26T22:22:07.128Z"
   },
   {
    "duration": 6,
    "start_time": "2024-06-26T22:22:11.423Z"
   },
   {
    "duration": 16,
    "start_time": "2024-06-26T22:22:14.045Z"
   },
   {
    "duration": 20,
    "start_time": "2024-06-26T22:22:17.855Z"
   },
   {
    "duration": 24,
    "start_time": "2024-06-26T22:22:20.795Z"
   },
   {
    "duration": 35,
    "start_time": "2024-06-26T22:22:24.842Z"
   },
   {
    "duration": 28,
    "start_time": "2024-06-26T22:22:32.750Z"
   },
   {
    "duration": 64,
    "start_time": "2024-06-26T22:27:42.557Z"
   },
   {
    "duration": 6,
    "start_time": "2024-06-26T22:27:45.928Z"
   },
   {
    "duration": 24,
    "start_time": "2024-06-26T22:27:50.611Z"
   },
   {
    "duration": 20,
    "start_time": "2024-06-26T22:27:53.024Z"
   },
   {
    "duration": 23,
    "start_time": "2024-06-26T22:27:55.427Z"
   },
   {
    "duration": 38,
    "start_time": "2024-06-26T22:27:58.184Z"
   },
   {
    "duration": 381,
    "start_time": "2024-06-26T22:28:04.668Z"
   },
   {
    "duration": 27,
    "start_time": "2024-06-26T22:28:16.230Z"
   },
   {
    "duration": 65,
    "start_time": "2024-06-26T22:28:50.974Z"
   },
   {
    "duration": 6,
    "start_time": "2024-06-26T22:28:53.998Z"
   },
   {
    "duration": 18,
    "start_time": "2024-06-26T22:28:59.248Z"
   },
   {
    "duration": 20,
    "start_time": "2024-06-26T22:29:01.892Z"
   },
   {
    "duration": 24,
    "start_time": "2024-06-26T22:29:04.574Z"
   },
   {
    "duration": 36,
    "start_time": "2024-06-26T22:29:06.858Z"
   },
   {
    "duration": 28,
    "start_time": "2024-06-26T22:29:10.875Z"
   },
   {
    "duration": 17,
    "start_time": "2024-06-26T22:29:58.859Z"
   },
   {
    "duration": 18,
    "start_time": "2024-06-26T22:30:15.130Z"
   },
   {
    "duration": 69,
    "start_time": "2024-06-26T22:33:30.470Z"
   },
   {
    "duration": 7,
    "start_time": "2024-06-26T22:33:32.923Z"
   },
   {
    "duration": 17,
    "start_time": "2024-06-26T22:33:35.438Z"
   },
   {
    "duration": 25,
    "start_time": "2024-06-26T22:33:37.767Z"
   },
   {
    "duration": 29,
    "start_time": "2024-06-26T22:33:40.868Z"
   },
   {
    "duration": 34,
    "start_time": "2024-06-26T22:33:43.314Z"
   },
   {
    "duration": 19,
    "start_time": "2024-06-26T22:33:48.944Z"
   },
   {
    "duration": 18,
    "start_time": "2024-06-26T22:34:19.460Z"
   },
   {
    "duration": 68,
    "start_time": "2024-06-26T22:35:03.712Z"
   },
   {
    "duration": 6,
    "start_time": "2024-06-26T22:35:07.423Z"
   },
   {
    "duration": 17,
    "start_time": "2024-06-26T22:35:09.462Z"
   },
   {
    "duration": 19,
    "start_time": "2024-06-26T22:35:11.967Z"
   },
   {
    "duration": 24,
    "start_time": "2024-06-26T22:35:14.954Z"
   },
   {
    "duration": 34,
    "start_time": "2024-06-26T22:35:18.501Z"
   },
   {
    "duration": 20,
    "start_time": "2024-06-26T22:35:51.560Z"
   },
   {
    "duration": 22,
    "start_time": "2024-06-26T22:36:17.323Z"
   },
   {
    "duration": 13,
    "start_time": "2024-06-26T22:38:00.776Z"
   },
   {
    "duration": 7,
    "start_time": "2024-06-26T22:40:57.134Z"
   },
   {
    "duration": 14,
    "start_time": "2024-06-26T22:41:12.488Z"
   },
   {
    "duration": 16,
    "start_time": "2024-06-26T22:41:32.018Z"
   },
   {
    "duration": 15,
    "start_time": "2024-06-26T22:41:48.173Z"
   },
   {
    "duration": 10,
    "start_time": "2024-06-26T22:42:30.284Z"
   },
   {
    "duration": 20,
    "start_time": "2024-06-26T22:42:36.726Z"
   },
   {
    "duration": 821,
    "start_time": "2024-06-26T22:43:18.843Z"
   },
   {
    "duration": 8,
    "start_time": "2024-06-26T22:43:24.514Z"
   },
   {
    "duration": 72,
    "start_time": "2024-06-26T22:43:30.950Z"
   },
   {
    "duration": 20,
    "start_time": "2024-06-26T22:43:49.746Z"
   },
   {
    "duration": 9,
    "start_time": "2024-06-26T22:46:28.983Z"
   },
   {
    "duration": 24,
    "start_time": "2024-06-26T22:46:34.684Z"
   },
   {
    "duration": 6,
    "start_time": "2024-06-26T22:47:00.358Z"
   },
   {
    "duration": 42,
    "start_time": "2024-06-26T22:47:05.662Z"
   },
   {
    "duration": 30,
    "start_time": "2024-06-26T22:51:43.804Z"
   },
   {
    "duration": 29,
    "start_time": "2024-06-26T22:52:03.619Z"
   },
   {
    "duration": 74,
    "start_time": "2024-06-26T22:53:57.123Z"
   },
   {
    "duration": 6,
    "start_time": "2024-06-26T22:54:10.456Z"
   },
   {
    "duration": 75,
    "start_time": "2024-06-26T22:54:19.497Z"
   },
   {
    "duration": 23,
    "start_time": "2024-06-26T22:54:48.674Z"
   },
   {
    "duration": 7,
    "start_time": "2024-06-26T22:54:56.616Z"
   },
   {
    "duration": 65,
    "start_time": "2024-06-26T22:56:26.056Z"
   },
   {
    "duration": 5,
    "start_time": "2024-06-26T22:56:29.158Z"
   },
   {
    "duration": 18,
    "start_time": "2024-06-26T22:56:32.560Z"
   },
   {
    "duration": 21,
    "start_time": "2024-06-26T22:56:35.129Z"
   },
   {
    "duration": 25,
    "start_time": "2024-06-26T22:56:37.480Z"
   },
   {
    "duration": 44,
    "start_time": "2024-06-26T22:56:39.715Z"
   },
   {
    "duration": 27,
    "start_time": "2024-06-26T22:56:43.077Z"
   },
   {
    "duration": 26,
    "start_time": "2024-06-26T22:57:31.977Z"
   },
   {
    "duration": 30,
    "start_time": "2024-06-26T22:57:45.953Z"
   },
   {
    "duration": 26,
    "start_time": "2024-06-26T22:57:49.202Z"
   },
   {
    "duration": 26,
    "start_time": "2024-06-26T22:57:58.782Z"
   },
   {
    "duration": 26,
    "start_time": "2024-06-26T22:58:07.632Z"
   },
   {
    "duration": 27,
    "start_time": "2024-06-26T23:00:50.570Z"
   },
   {
    "duration": 1893,
    "start_time": "2024-06-26T23:01:24.997Z"
   },
   {
    "duration": 91,
    "start_time": "2024-06-26T23:01:44.562Z"
   },
   {
    "duration": 94,
    "start_time": "2024-06-26T23:02:11.510Z"
   },
   {
    "duration": 28,
    "start_time": "2024-06-26T23:02:35.512Z"
   },
   {
    "duration": 62,
    "start_time": "2024-06-26T23:12:16.938Z"
   },
   {
    "duration": 6,
    "start_time": "2024-06-26T23:12:22.503Z"
   },
   {
    "duration": 22,
    "start_time": "2024-06-26T23:12:26.160Z"
   },
   {
    "duration": 25,
    "start_time": "2024-06-26T23:12:28.386Z"
   },
   {
    "duration": 24,
    "start_time": "2024-06-26T23:12:30.691Z"
   },
   {
    "duration": 36,
    "start_time": "2024-06-26T23:12:32.808Z"
   },
   {
    "duration": 14,
    "start_time": "2024-06-26T23:12:53.078Z"
   },
   {
    "duration": 6,
    "start_time": "2024-06-26T23:13:02.700Z"
   },
   {
    "duration": 7,
    "start_time": "2024-06-26T23:13:11.717Z"
   },
   {
    "duration": 7,
    "start_time": "2024-06-26T23:13:17.539Z"
   },
   {
    "duration": 14,
    "start_time": "2024-06-26T23:13:31.784Z"
   },
   {
    "duration": 6,
    "start_time": "2024-06-26T23:13:38.251Z"
   },
   {
    "duration": 30,
    "start_time": "2024-06-26T23:14:18.900Z"
   },
   {
    "duration": 32,
    "start_time": "2024-06-26T23:14:32.597Z"
   },
   {
    "duration": 15,
    "start_time": "2024-06-26T23:15:10.600Z"
   },
   {
    "duration": 14,
    "start_time": "2024-06-26T23:15:44.455Z"
   },
   {
    "duration": 18,
    "start_time": "2024-06-26T23:16:03.165Z"
   },
   {
    "duration": 31,
    "start_time": "2024-06-26T23:16:22.678Z"
   },
   {
    "duration": 31,
    "start_time": "2024-06-26T23:17:31.245Z"
   },
   {
    "duration": 33,
    "start_time": "2024-06-26T23:20:39.488Z"
   },
   {
    "duration": 64,
    "start_time": "2024-06-26T23:23:36.970Z"
   },
   {
    "duration": 5,
    "start_time": "2024-06-26T23:23:40.241Z"
   },
   {
    "duration": 17,
    "start_time": "2024-06-26T23:23:43.690Z"
   },
   {
    "duration": 19,
    "start_time": "2024-06-26T23:23:46.028Z"
   },
   {
    "duration": 23,
    "start_time": "2024-06-26T23:23:48.550Z"
   },
   {
    "duration": 35,
    "start_time": "2024-06-26T23:23:50.842Z"
   },
   {
    "duration": 12,
    "start_time": "2024-06-26T23:24:02.999Z"
   },
   {
    "duration": 11,
    "start_time": "2024-06-26T23:24:55.228Z"
   },
   {
    "duration": 11,
    "start_time": "2024-06-26T23:25:25.959Z"
   },
   {
    "duration": 9,
    "start_time": "2024-06-26T23:28:18.144Z"
   },
   {
    "duration": 64,
    "start_time": "2024-06-26T23:28:26.911Z"
   },
   {
    "duration": 6,
    "start_time": "2024-06-26T23:28:30.636Z"
   },
   {
    "duration": 17,
    "start_time": "2024-06-26T23:28:33.712Z"
   },
   {
    "duration": 20,
    "start_time": "2024-06-26T23:28:35.933Z"
   },
   {
    "duration": 23,
    "start_time": "2024-06-26T23:28:38.646Z"
   },
   {
    "duration": 44,
    "start_time": "2024-06-26T23:28:41.116Z"
   },
   {
    "duration": 11,
    "start_time": "2024-06-26T23:28:46.911Z"
   },
   {
    "duration": 10,
    "start_time": "2024-06-26T23:29:10.220Z"
   },
   {
    "duration": 6,
    "start_time": "2024-06-26T23:29:22.850Z"
   },
   {
    "duration": 18,
    "start_time": "2024-06-26T23:30:01.602Z"
   },
   {
    "duration": 32,
    "start_time": "2024-06-26T23:32:42.349Z"
   },
   {
    "duration": 67,
    "start_time": "2024-06-26T23:36:17.473Z"
   },
   {
    "duration": 7,
    "start_time": "2024-06-26T23:36:20.506Z"
   },
   {
    "duration": 18,
    "start_time": "2024-06-26T23:36:22.588Z"
   },
   {
    "duration": 19,
    "start_time": "2024-06-26T23:36:25.475Z"
   },
   {
    "duration": 23,
    "start_time": "2024-06-26T23:36:28.564Z"
   },
   {
    "duration": 34,
    "start_time": "2024-06-26T23:36:30.901Z"
   },
   {
    "duration": 29,
    "start_time": "2024-06-26T23:36:40.444Z"
   },
   {
    "duration": 27,
    "start_time": "2024-06-26T23:36:50.715Z"
   },
   {
    "duration": 9,
    "start_time": "2024-06-26T23:37:10.753Z"
   },
   {
    "duration": 31,
    "start_time": "2024-06-26T23:37:18.642Z"
   },
   {
    "duration": 65,
    "start_time": "2024-06-26T23:37:43.669Z"
   },
   {
    "duration": 6,
    "start_time": "2024-06-26T23:37:51.794Z"
   },
   {
    "duration": 17,
    "start_time": "2024-06-26T23:37:54.119Z"
   },
   {
    "duration": 20,
    "start_time": "2024-06-26T23:37:58.547Z"
   },
   {
    "duration": 23,
    "start_time": "2024-06-26T23:38:01.562Z"
   },
   {
    "duration": 35,
    "start_time": "2024-06-26T23:38:05.106Z"
   },
   {
    "duration": 35,
    "start_time": "2024-06-26T23:38:39.452Z"
   },
   {
    "duration": 31,
    "start_time": "2024-06-26T23:38:54.254Z"
   },
   {
    "duration": 37,
    "start_time": "2024-06-26T23:39:41.098Z"
   },
   {
    "duration": 64,
    "start_time": "2024-06-26T23:40:43.529Z"
   },
   {
    "duration": 5,
    "start_time": "2024-06-26T23:40:47.881Z"
   },
   {
    "duration": 17,
    "start_time": "2024-06-26T23:40:50.446Z"
   },
   {
    "duration": 20,
    "start_time": "2024-06-26T23:40:53.292Z"
   },
   {
    "duration": 23,
    "start_time": "2024-06-26T23:40:56.116Z"
   },
   {
    "duration": 35,
    "start_time": "2024-06-26T23:40:58.335Z"
   },
   {
    "duration": 9,
    "start_time": "2024-06-26T23:41:35.306Z"
   },
   {
    "duration": 14,
    "start_time": "2024-06-26T23:41:56.488Z"
   },
   {
    "duration": 14,
    "start_time": "2024-06-26T23:42:45.866Z"
   },
   {
    "duration": 7,
    "start_time": "2024-06-26T23:43:13.718Z"
   },
   {
    "duration": 42,
    "start_time": "2024-06-26T23:43:23.644Z"
   },
   {
    "duration": 13,
    "start_time": "2024-06-26T23:44:18.082Z"
   },
   {
    "duration": 33,
    "start_time": "2024-06-26T23:44:27.523Z"
   },
   {
    "duration": 32,
    "start_time": "2024-06-26T23:45:11.878Z"
   },
   {
    "duration": 17,
    "start_time": "2024-06-26T23:45:43.561Z"
   },
   {
    "duration": 76,
    "start_time": "2024-06-26T23:55:10.540Z"
   },
   {
    "duration": 6,
    "start_time": "2024-06-26T23:55:13.699Z"
   },
   {
    "duration": 17,
    "start_time": "2024-06-26T23:55:16.384Z"
   },
   {
    "duration": 20,
    "start_time": "2024-06-26T23:55:18.681Z"
   },
   {
    "duration": 24,
    "start_time": "2024-06-26T23:55:21.260Z"
   },
   {
    "duration": 36,
    "start_time": "2024-06-26T23:55:23.852Z"
   },
   {
    "duration": 10,
    "start_time": "2024-06-26T23:55:36.918Z"
   },
   {
    "duration": 5,
    "start_time": "2024-06-26T23:55:53.958Z"
   },
   {
    "duration": 33,
    "start_time": "2024-06-26T23:55:58.411Z"
   },
   {
    "duration": 64,
    "start_time": "2024-06-26T23:56:22.477Z"
   },
   {
    "duration": 6,
    "start_time": "2024-06-26T23:56:25.055Z"
   },
   {
    "duration": 17,
    "start_time": "2024-06-26T23:56:29.839Z"
   },
   {
    "duration": 19,
    "start_time": "2024-06-26T23:56:32.000Z"
   },
   {
    "duration": 23,
    "start_time": "2024-06-26T23:56:34.368Z"
   },
   {
    "duration": 28,
    "start_time": "2024-06-26T23:56:36.890Z"
   },
   {
    "duration": 36,
    "start_time": "2024-06-26T23:56:39.154Z"
   },
   {
    "duration": 9,
    "start_time": "2024-06-26T23:56:55.583Z"
   },
   {
    "duration": 23,
    "start_time": "2024-06-26T23:57:07.850Z"
   },
   {
    "duration": 6,
    "start_time": "2024-06-26T23:57:17.136Z"
   },
   {
    "duration": 30,
    "start_time": "2024-06-26T23:57:22.034Z"
   },
   {
    "duration": 15,
    "start_time": "2024-06-26T23:57:31.817Z"
   },
   {
    "duration": 16,
    "start_time": "2024-06-26T23:58:10.370Z"
   },
   {
    "duration": 8,
    "start_time": "2024-06-26T23:58:17.840Z"
   },
   {
    "duration": 64,
    "start_time": "2024-06-27T00:02:42.075Z"
   },
   {
    "duration": 6,
    "start_time": "2024-06-27T00:02:45.513Z"
   },
   {
    "duration": 19,
    "start_time": "2024-06-27T00:02:48.735Z"
   },
   {
    "duration": 24,
    "start_time": "2024-06-27T00:02:51.300Z"
   },
   {
    "duration": 35,
    "start_time": "2024-06-27T00:02:54.302Z"
   },
   {
    "duration": 9,
    "start_time": "2024-06-27T00:03:05.338Z"
   },
   {
    "duration": 6,
    "start_time": "2024-06-27T00:03:12.540Z"
   },
   {
    "duration": 31,
    "start_time": "2024-06-27T00:03:18.241Z"
   },
   {
    "duration": 8,
    "start_time": "2024-06-27T00:03:27.857Z"
   },
   {
    "duration": 13,
    "start_time": "2024-06-27T00:04:07.607Z"
   },
   {
    "duration": 897,
    "start_time": "2024-06-27T00:04:56.779Z"
   },
   {
    "duration": 179,
    "start_time": "2024-06-27T00:05:15.707Z"
   },
   {
    "duration": 7,
    "start_time": "2024-06-27T00:05:26.910Z"
   },
   {
    "duration": 27,
    "start_time": "2024-06-27T00:06:02.144Z"
   },
   {
    "duration": 63,
    "start_time": "2024-06-27T00:07:03.291Z"
   },
   {
    "duration": 6,
    "start_time": "2024-06-27T00:07:05.864Z"
   },
   {
    "duration": 17,
    "start_time": "2024-06-27T00:07:08.054Z"
   },
   {
    "duration": 21,
    "start_time": "2024-06-27T00:07:11.114Z"
   },
   {
    "duration": 23,
    "start_time": "2024-06-27T00:07:13.662Z"
   },
   {
    "duration": 35,
    "start_time": "2024-06-27T00:07:16.255Z"
   },
   {
    "duration": 24,
    "start_time": "2024-06-27T00:07:20.625Z"
   },
   {
    "duration": 6,
    "start_time": "2024-06-27T00:35:40.435Z"
   },
   {
    "duration": 19,
    "start_time": "2024-06-27T00:35:55.196Z"
   },
   {
    "duration": 3,
    "start_time": "2024-06-27T00:41:46.105Z"
   },
   {
    "duration": 7,
    "start_time": "2024-06-27T00:48:38.208Z"
   },
   {
    "duration": 96,
    "start_time": "2024-06-27T01:16:59.467Z"
   },
   {
    "duration": 7,
    "start_time": "2024-06-27T01:17:03.162Z"
   },
   {
    "duration": 20,
    "start_time": "2024-06-27T01:17:06.971Z"
   },
   {
    "duration": 27,
    "start_time": "2024-06-27T01:17:11.362Z"
   },
   {
    "duration": 35,
    "start_time": "2024-06-27T01:17:14.955Z"
   },
   {
    "duration": 49,
    "start_time": "2024-06-27T01:17:19.400Z"
   },
   {
    "duration": 29,
    "start_time": "2024-06-27T01:17:23.951Z"
   },
   {
    "duration": 26,
    "start_time": "2024-06-27T01:17:27.921Z"
   },
   {
    "duration": 18,
    "start_time": "2024-06-27T01:18:24.963Z"
   },
   {
    "duration": 4372,
    "start_time": "2024-06-27T01:19:44.478Z"
   },
   {
    "duration": 7,
    "start_time": "2024-06-27T01:19:48.853Z"
   },
   {
    "duration": 20,
    "start_time": "2024-06-27T01:19:51.109Z"
   },
   {
    "duration": 23,
    "start_time": "2024-06-27T01:19:53.903Z"
   },
   {
    "duration": 26,
    "start_time": "2024-06-27T01:19:56.693Z"
   },
   {
    "duration": 46,
    "start_time": "2024-06-27T01:19:59.585Z"
   },
   {
    "duration": 27,
    "start_time": "2024-06-27T01:20:03.493Z"
   },
   {
    "duration": 28,
    "start_time": "2024-06-27T01:20:06.864Z"
   },
   {
    "duration": 529,
    "start_time": "2024-06-27T01:23:33.660Z"
   },
   {
    "duration": 97,
    "start_time": "2024-06-27T01:26:51.187Z"
   },
   {
    "duration": 90,
    "start_time": "2024-06-27T01:27:52.960Z"
   },
   {
    "duration": 320,
    "start_time": "2024-06-27T02:26:48.377Z"
   },
   {
    "duration": 4384,
    "start_time": "2024-06-27T02:26:56.356Z"
   },
   {
    "duration": 9,
    "start_time": "2024-06-27T02:27:00.743Z"
   },
   {
    "duration": 18,
    "start_time": "2024-06-27T02:27:00.755Z"
   },
   {
    "duration": 20,
    "start_time": "2024-06-27T02:27:08.089Z"
   },
   {
    "duration": 21,
    "start_time": "2024-06-27T02:27:18.213Z"
   },
   {
    "duration": 64,
    "start_time": "2024-06-27T02:27:26.401Z"
   },
   {
    "duration": 6,
    "start_time": "2024-06-27T02:27:29.490Z"
   },
   {
    "duration": 17,
    "start_time": "2024-06-27T02:27:32.014Z"
   },
   {
    "duration": 19,
    "start_time": "2024-06-27T02:27:35.055Z"
   },
   {
    "duration": 25,
    "start_time": "2024-06-27T02:27:37.967Z"
   },
   {
    "duration": 36,
    "start_time": "2024-06-27T02:27:40.635Z"
   },
   {
    "duration": 23,
    "start_time": "2024-06-27T02:27:44.552Z"
   },
   {
    "duration": 21,
    "start_time": "2024-06-27T02:27:47.767Z"
   },
   {
    "duration": 446,
    "start_time": "2024-06-27T02:27:49.979Z"
   },
   {
    "duration": 17,
    "start_time": "2024-06-27T02:27:55.024Z"
   },
   {
    "duration": 15,
    "start_time": "2024-06-27T02:31:43.695Z"
   },
   {
    "duration": 130,
    "start_time": "2024-06-27T02:38:15.957Z"
   },
   {
    "duration": 26,
    "start_time": "2024-06-27T02:38:51.687Z"
   },
   {
    "duration": 315,
    "start_time": "2024-06-27T02:41:32.050Z"
   },
   {
    "duration": 408,
    "start_time": "2024-06-27T02:41:53.890Z"
   },
   {
    "duration": 11,
    "start_time": "2024-06-27T02:43:13.598Z"
   },
   {
    "duration": 11,
    "start_time": "2024-06-27T02:43:20.903Z"
   },
   {
    "duration": 4668,
    "start_time": "2024-07-08T22:03:09.053Z"
   },
   {
    "duration": 7,
    "start_time": "2024-07-08T22:03:20.986Z"
   },
   {
    "duration": 18,
    "start_time": "2024-07-08T22:03:25.085Z"
   },
   {
    "duration": 24,
    "start_time": "2024-07-08T22:03:31.556Z"
   },
   {
    "duration": 25,
    "start_time": "2024-07-08T22:03:38.690Z"
   },
   {
    "duration": 37,
    "start_time": "2024-07-08T22:03:42.392Z"
   },
   {
    "duration": 22,
    "start_time": "2024-07-08T22:03:46.847Z"
   },
   {
    "duration": 23,
    "start_time": "2024-07-08T22:03:50.007Z"
   },
   {
    "duration": 475,
    "start_time": "2024-07-08T22:03:55.368Z"
   },
   {
    "duration": 1614,
    "start_time": "2024-07-08T22:35:42.188Z"
   },
   {
    "duration": 16,
    "start_time": "2024-07-08T22:35:56.040Z"
   },
   {
    "duration": 38,
    "start_time": "2024-07-08T22:38:44.067Z"
   },
   {
    "duration": 33,
    "start_time": "2024-07-08T22:38:57.940Z"
   },
   {
    "duration": 17,
    "start_time": "2024-07-08T22:41:26.888Z"
   },
   {
    "duration": 8,
    "start_time": "2024-07-08T22:42:02.304Z"
   },
   {
    "duration": 12,
    "start_time": "2024-07-08T22:42:08.251Z"
   },
   {
    "duration": 28,
    "start_time": "2024-07-08T22:43:47.688Z"
   },
   {
    "duration": 30,
    "start_time": "2024-07-08T22:45:15.623Z"
   },
   {
    "duration": 24,
    "start_time": "2024-07-08T22:45:22.873Z"
   },
   {
    "duration": 23,
    "start_time": "2024-07-08T22:45:31.734Z"
   },
   {
    "duration": 29,
    "start_time": "2024-07-08T22:45:45.337Z"
   },
   {
    "duration": 29,
    "start_time": "2024-07-08T22:45:58.533Z"
   },
   {
    "duration": 30,
    "start_time": "2024-07-08T22:46:13.198Z"
   },
   {
    "duration": 116,
    "start_time": "2024-07-08T22:46:15.489Z"
   },
   {
    "duration": 27,
    "start_time": "2024-07-08T22:46:22.320Z"
   },
   {
    "duration": 13,
    "start_time": "2024-07-08T22:46:32.731Z"
   },
   {
    "duration": 35,
    "start_time": "2024-07-08T22:48:12.664Z"
   },
   {
    "duration": 33,
    "start_time": "2024-07-08T22:48:23.642Z"
   },
   {
    "duration": 34,
    "start_time": "2024-07-08T22:48:36.429Z"
   },
   {
    "duration": 29,
    "start_time": "2024-07-08T22:48:45.302Z"
   },
   {
    "duration": 175,
    "start_time": "2024-07-08T22:49:14.416Z"
   },
   {
    "duration": 173,
    "start_time": "2024-07-08T22:52:27.349Z"
   },
   {
    "duration": 204,
    "start_time": "2024-07-08T22:53:20.058Z"
   },
   {
    "duration": 189,
    "start_time": "2024-07-08T22:53:51.078Z"
   },
   {
    "duration": 191,
    "start_time": "2024-07-08T22:54:13.083Z"
   },
   {
    "duration": 29,
    "start_time": "2024-07-08T22:54:23.267Z"
   },
   {
    "duration": 11,
    "start_time": "2024-07-08T22:54:35.731Z"
   },
   {
    "duration": 14,
    "start_time": "2024-07-08T22:54:42.668Z"
   },
   {
    "duration": 11,
    "start_time": "2024-07-08T22:55:01.908Z"
   },
   {
    "duration": 199,
    "start_time": "2024-07-08T22:55:18.108Z"
   },
   {
    "duration": 208,
    "start_time": "2024-07-08T22:55:36.571Z"
   },
   {
    "duration": 225,
    "start_time": "2024-07-08T22:56:23.999Z"
   },
   {
    "duration": 1005,
    "start_time": "2024-07-08T22:56:41.863Z"
   },
   {
    "duration": 216,
    "start_time": "2024-07-08T22:56:57.874Z"
   },
   {
    "duration": 254,
    "start_time": "2024-07-08T22:57:18.451Z"
   },
   {
    "duration": 210,
    "start_time": "2024-07-08T22:57:57.350Z"
   },
   {
    "duration": 344,
    "start_time": "2024-07-08T22:58:29.841Z"
   },
   {
    "duration": 103,
    "start_time": "2024-07-08T22:58:53.537Z"
   },
   {
    "duration": 250,
    "start_time": "2024-07-08T22:59:11.925Z"
   },
   {
    "duration": 126,
    "start_time": "2024-07-08T22:59:17.478Z"
   },
   {
    "duration": 128,
    "start_time": "2024-07-08T22:59:26.132Z"
   },
   {
    "duration": 14,
    "start_time": "2024-07-08T22:59:33.283Z"
   },
   {
    "duration": 229,
    "start_time": "2024-07-08T22:59:45.359Z"
   },
   {
    "duration": 13,
    "start_time": "2024-07-08T23:00:18.897Z"
   },
   {
    "duration": 239,
    "start_time": "2024-07-08T23:00:45.044Z"
   },
   {
    "duration": 26,
    "start_time": "2024-07-08T23:07:14.215Z"
   },
   {
    "duration": 27,
    "start_time": "2024-07-08T23:07:22.782Z"
   },
   {
    "duration": 26,
    "start_time": "2024-07-08T23:07:30.963Z"
   },
   {
    "duration": 24,
    "start_time": "2024-07-08T23:07:34.073Z"
   },
   {
    "duration": 13,
    "start_time": "2024-07-08T23:07:43.614Z"
   },
   {
    "duration": 133,
    "start_time": "2024-07-08T23:08:11.640Z"
   },
   {
    "duration": 162,
    "start_time": "2024-07-08T23:08:17.619Z"
   },
   {
    "duration": 182,
    "start_time": "2024-07-08T23:08:25.106Z"
   },
   {
    "duration": 10,
    "start_time": "2024-07-08T23:08:55.738Z"
   },
   {
    "duration": 28,
    "start_time": "2024-07-08T23:09:19.515Z"
   },
   {
    "duration": 24,
    "start_time": "2024-07-08T23:09:36.876Z"
   },
   {
    "duration": 24,
    "start_time": "2024-07-08T23:09:44.999Z"
   },
   {
    "duration": 9,
    "start_time": "2024-07-08T23:09:48.531Z"
   },
   {
    "duration": 29,
    "start_time": "2024-07-08T23:14:25.437Z"
   },
   {
    "duration": 14,
    "start_time": "2024-07-08T23:14:52.475Z"
   },
   {
    "duration": 14,
    "start_time": "2024-07-08T23:19:20.231Z"
   },
   {
    "duration": 16,
    "start_time": "2024-07-08T23:19:38.867Z"
   },
   {
    "duration": 261,
    "start_time": "2024-07-08T23:20:27.044Z"
   },
   {
    "duration": 213,
    "start_time": "2024-07-08T23:20:51.856Z"
   },
   {
    "duration": 243,
    "start_time": "2024-07-08T23:21:08.914Z"
   },
   {
    "duration": 27,
    "start_time": "2024-07-08T23:22:03.003Z"
   },
   {
    "duration": 23,
    "start_time": "2024-07-08T23:22:09.396Z"
   },
   {
    "duration": 22,
    "start_time": "2024-07-08T23:22:17.297Z"
   },
   {
    "duration": 23,
    "start_time": "2024-07-08T23:22:21.908Z"
   },
   {
    "duration": 24,
    "start_time": "2024-07-08T23:22:30.090Z"
   },
   {
    "duration": 33,
    "start_time": "2024-07-08T23:23:47.936Z"
   },
   {
    "duration": 13,
    "start_time": "2024-07-08T23:24:45.809Z"
   },
   {
    "duration": 9,
    "start_time": "2024-07-08T23:24:59.484Z"
   },
   {
    "duration": 139,
    "start_time": "2024-07-08T23:25:08.449Z"
   },
   {
    "duration": 130,
    "start_time": "2024-07-08T23:25:17.328Z"
   },
   {
    "duration": 12,
    "start_time": "2024-07-08T23:25:43.628Z"
   },
   {
    "duration": 131,
    "start_time": "2024-07-08T23:25:53.974Z"
   },
   {
    "duration": 11,
    "start_time": "2024-07-08T23:26:03.048Z"
   },
   {
    "duration": 86,
    "start_time": "2024-07-08T23:26:07.650Z"
   },
   {
    "duration": 7,
    "start_time": "2024-07-08T23:26:20.356Z"
   },
   {
    "duration": 11,
    "start_time": "2024-07-08T23:26:25.695Z"
   },
   {
    "duration": 77,
    "start_time": "2024-07-08T23:26:43.126Z"
   },
   {
    "duration": 30,
    "start_time": "2024-07-08T23:26:51.154Z"
   },
   {
    "duration": 50,
    "start_time": "2024-07-08T23:27:04.006Z"
   },
   {
    "duration": 84,
    "start_time": "2024-07-08T23:27:12.196Z"
   },
   {
    "duration": 13,
    "start_time": "2024-07-08T23:27:19.198Z"
   },
   {
    "duration": 230,
    "start_time": "2024-07-08T23:28:10.827Z"
   },
   {
    "duration": 24,
    "start_time": "2024-07-08T23:29:42.537Z"
   },
   {
    "duration": 31,
    "start_time": "2024-07-08T23:29:49.830Z"
   },
   {
    "duration": 14,
    "start_time": "2024-07-08T23:35:40.138Z"
   },
   {
    "duration": 218,
    "start_time": "2024-07-08T23:36:05.892Z"
   },
   {
    "duration": 238,
    "start_time": "2024-07-08T23:36:13.166Z"
   },
   {
    "duration": 1022,
    "start_time": "2024-07-08T23:45:23.232Z"
   },
   {
    "duration": 231,
    "start_time": "2024-07-08T23:46:08.077Z"
   },
   {
    "duration": 236,
    "start_time": "2024-07-08T23:46:22.225Z"
   },
   {
    "duration": 15,
    "start_time": "2024-07-08T23:58:17.280Z"
   },
   {
    "duration": 194,
    "start_time": "2024-07-08T23:58:31.742Z"
   },
   {
    "duration": 193,
    "start_time": "2024-07-09T00:00:39.686Z"
   },
   {
    "duration": 210,
    "start_time": "2024-07-09T00:00:54.017Z"
   },
   {
    "duration": 230,
    "start_time": "2024-07-09T00:02:17.217Z"
   },
   {
    "duration": 327,
    "start_time": "2024-07-09T00:03:34.830Z"
   },
   {
    "duration": 119,
    "start_time": "2024-07-09T00:03:50.324Z"
   },
   {
    "duration": 129,
    "start_time": "2024-07-09T00:03:58.393Z"
   },
   {
    "duration": 245,
    "start_time": "2024-07-09T00:04:32.095Z"
   },
   {
    "duration": 1347,
    "start_time": "2024-07-09T00:10:32.210Z"
   },
   {
    "duration": 1153,
    "start_time": "2024-07-09T00:11:01.269Z"
   },
   {
    "duration": 8,
    "start_time": "2024-07-09T00:11:43.674Z"
   },
   {
    "duration": 29,
    "start_time": "2024-07-09T00:12:01.927Z"
   },
   {
    "duration": 27,
    "start_time": "2024-07-09T00:12:07.718Z"
   },
   {
    "duration": 7,
    "start_time": "2024-07-09T00:12:37.962Z"
   },
   {
    "duration": 28,
    "start_time": "2024-07-09T00:12:51.261Z"
   },
   {
    "duration": 26,
    "start_time": "2024-07-09T00:13:16.075Z"
   },
   {
    "duration": 32,
    "start_time": "2024-07-09T00:13:26.892Z"
   },
   {
    "duration": 27,
    "start_time": "2024-07-09T00:13:53.412Z"
   },
   {
    "duration": 7,
    "start_time": "2024-07-09T00:14:02.752Z"
   },
   {
    "duration": 4456,
    "start_time": "2024-07-10T02:21:02.481Z"
   },
   {
    "duration": 7,
    "start_time": "2024-07-10T02:21:06.941Z"
   },
   {
    "duration": 19,
    "start_time": "2024-07-10T02:21:10.214Z"
   },
   {
    "duration": 20,
    "start_time": "2024-07-10T02:21:13.906Z"
   },
   {
    "duration": 25,
    "start_time": "2024-07-10T02:21:17.161Z"
   },
   {
    "duration": 36,
    "start_time": "2024-07-10T02:21:21.397Z"
   },
   {
    "duration": 21,
    "start_time": "2024-07-10T02:21:26.688Z"
   },
   {
    "duration": 23,
    "start_time": "2024-07-10T02:21:31.862Z"
   },
   {
    "duration": 438,
    "start_time": "2024-07-10T02:21:36.124Z"
   },
   {
    "duration": 155,
    "start_time": "2024-07-10T02:21:41.455Z"
   },
   {
    "duration": 300,
    "start_time": "2024-07-10T02:23:54.346Z"
   },
   {
    "duration": 16,
    "start_time": "2024-07-10T02:24:01.368Z"
   },
   {
    "duration": 359,
    "start_time": "2024-07-10T02:25:06.493Z"
   },
   {
    "duration": 29,
    "start_time": "2024-07-10T02:25:38.755Z"
   },
   {
    "duration": 31,
    "start_time": "2024-07-10T02:26:11.097Z"
   },
   {
    "duration": 31,
    "start_time": "2024-07-10T02:26:32.849Z"
   },
   {
    "duration": 8,
    "start_time": "2024-07-10T02:26:43.526Z"
   },
   {
    "duration": 29,
    "start_time": "2024-07-10T02:26:48.376Z"
   },
   {
    "duration": 29,
    "start_time": "2024-07-10T02:26:52.082Z"
   },
   {
    "duration": 270,
    "start_time": "2024-07-10T02:27:00.219Z"
   },
   {
    "duration": 426,
    "start_time": "2024-07-10T02:27:59.483Z"
   },
   {
    "duration": 4358,
    "start_time": "2024-07-10T03:48:18.599Z"
   },
   {
    "duration": 6,
    "start_time": "2024-07-10T03:48:27.650Z"
   },
   {
    "duration": 18,
    "start_time": "2024-07-10T03:48:34.741Z"
   },
   {
    "duration": 23,
    "start_time": "2024-07-10T03:48:39.210Z"
   },
   {
    "duration": 23,
    "start_time": "2024-07-10T03:48:46.043Z"
   },
   {
    "duration": 37,
    "start_time": "2024-07-10T03:48:52.803Z"
   },
   {
    "duration": 23,
    "start_time": "2024-07-10T03:48:59.400Z"
   },
   {
    "duration": 21,
    "start_time": "2024-07-10T03:49:03.491Z"
   },
   {
    "duration": 432,
    "start_time": "2024-07-10T03:49:11.814Z"
   },
   {
    "duration": 410,
    "start_time": "2024-07-10T03:49:20.234Z"
   },
   {
    "duration": 429,
    "start_time": "2024-07-10T03:49:50.220Z"
   },
   {
    "duration": 8,
    "start_time": "2024-07-10T03:50:05.538Z"
   },
   {
    "duration": 3995,
    "start_time": "2024-07-10T03:50:27.847Z"
   },
   {
    "duration": 4057,
    "start_time": "2024-07-10T03:50:55.531Z"
   },
   {
    "duration": 6,
    "start_time": "2024-07-10T03:51:42.089Z"
   },
   {
    "duration": 11,
    "start_time": "2024-07-10T03:52:08.546Z"
   },
   {
    "duration": 6,
    "start_time": "2024-07-10T03:52:22.744Z"
   },
   {
    "duration": 977,
    "start_time": "2024-07-10T03:53:26.807Z"
   },
   {
    "duration": 390,
    "start_time": "2024-07-10T03:53:52.758Z"
   },
   {
    "duration": 28,
    "start_time": "2024-07-10T03:58:11.224Z"
   },
   {
    "duration": 24,
    "start_time": "2024-07-10T03:58:34.550Z"
   },
   {
    "duration": 402,
    "start_time": "2024-07-10T03:58:41.511Z"
   },
   {
    "duration": 851,
    "start_time": "2024-07-10T04:06:15.353Z"
   },
   {
    "duration": 501,
    "start_time": "2024-07-10T04:06:29.683Z"
   },
   {
    "duration": 4343,
    "start_time": "2024-07-10T04:06:47.655Z"
   },
   {
    "duration": 4516,
    "start_time": "2024-07-10T04:08:11.763Z"
   },
   {
    "duration": 490,
    "start_time": "2024-07-10T04:08:35.121Z"
   },
   {
    "duration": 568,
    "start_time": "2024-07-10T04:09:04.282Z"
   },
   {
    "duration": 505,
    "start_time": "2024-07-10T04:09:18.673Z"
   },
   {
    "duration": 539,
    "start_time": "2024-07-10T04:09:25.355Z"
   },
   {
    "duration": 460,
    "start_time": "2024-07-10T04:09:45.223Z"
   },
   {
    "duration": 406,
    "start_time": "2024-07-10T04:10:39.372Z"
   },
   {
    "duration": 404,
    "start_time": "2024-07-10T04:11:06.736Z"
   },
   {
    "duration": 682,
    "start_time": "2024-07-10T04:11:16.928Z"
   },
   {
    "duration": 508,
    "start_time": "2024-07-10T04:12:14.322Z"
   },
   {
    "duration": 467,
    "start_time": "2024-07-10T04:12:24.090Z"
   },
   {
    "duration": 464,
    "start_time": "2024-07-10T04:12:58.952Z"
   },
   {
    "duration": 640,
    "start_time": "2024-07-10T04:13:41.949Z"
   },
   {
    "duration": 683,
    "start_time": "2024-07-10T04:14:24.461Z"
   },
   {
    "duration": 587,
    "start_time": "2024-07-10T04:15:33.374Z"
   },
   {
    "duration": 7,
    "start_time": "2024-07-10T04:16:20.174Z"
   },
   {
    "duration": 425,
    "start_time": "2024-07-10T04:16:30.115Z"
   },
   {
    "duration": 421,
    "start_time": "2024-07-10T04:16:55.487Z"
   },
   {
    "duration": 2038,
    "start_time": "2024-07-10T04:18:10.949Z"
   },
   {
    "duration": 1633,
    "start_time": "2024-07-10T04:18:53.152Z"
   },
   {
    "duration": 1919,
    "start_time": "2024-07-10T04:20:10.346Z"
   },
   {
    "duration": 898,
    "start_time": "2024-07-10T04:32:19.169Z"
   },
   {
    "duration": 690,
    "start_time": "2024-07-10T04:56:54.426Z"
   },
   {
    "duration": 887,
    "start_time": "2024-07-10T04:57:05.306Z"
   },
   {
    "duration": 721,
    "start_time": "2024-07-10T04:58:40.871Z"
   },
   {
    "duration": 651,
    "start_time": "2024-07-10T05:04:26.162Z"
   },
   {
    "duration": 624,
    "start_time": "2024-07-10T05:04:45.645Z"
   },
   {
    "duration": 847,
    "start_time": "2024-07-10T05:06:01.380Z"
   },
   {
    "duration": 877,
    "start_time": "2024-07-10T05:06:28.006Z"
   },
   {
    "duration": 1804,
    "start_time": "2024-07-10T05:07:04.287Z"
   },
   {
    "duration": 2268,
    "start_time": "2024-07-10T05:08:19.865Z"
   },
   {
    "duration": 1780,
    "start_time": "2024-07-10T05:08:34.098Z"
   },
   {
    "duration": 392,
    "start_time": "2024-07-10T05:43:15.076Z"
   },
   {
    "duration": 9,
    "start_time": "2024-07-10T05:43:24.713Z"
   },
   {
    "duration": 24,
    "start_time": "2024-07-10T05:43:41.740Z"
   },
   {
    "duration": 15,
    "start_time": "2024-07-10T05:44:13.307Z"
   },
   {
    "duration": 26,
    "start_time": "2024-07-10T05:44:50.003Z"
   },
   {
    "duration": 7,
    "start_time": "2024-07-10T05:45:00.475Z"
   },
   {
    "duration": 15,
    "start_time": "2024-07-10T05:46:05.471Z"
   },
   {
    "duration": 16,
    "start_time": "2024-07-10T05:46:33.273Z"
   },
   {
    "duration": 6,
    "start_time": "2024-07-10T05:47:32.313Z"
   },
   {
    "duration": 7,
    "start_time": "2024-07-10T05:47:37.837Z"
   },
   {
    "duration": 1491,
    "start_time": "2024-07-10T06:13:10.078Z"
   },
   {
    "duration": 580,
    "start_time": "2024-07-10T06:16:23.034Z"
   },
   {
    "duration": 6,
    "start_time": "2024-07-10T06:16:27.390Z"
   },
   {
    "duration": 17,
    "start_time": "2024-07-10T06:16:30.740Z"
   },
   {
    "duration": 20,
    "start_time": "2024-07-10T06:16:33.423Z"
   },
   {
    "duration": 22,
    "start_time": "2024-07-10T06:16:36.178Z"
   },
   {
    "duration": 34,
    "start_time": "2024-07-10T06:16:38.727Z"
   },
   {
    "duration": 22,
    "start_time": "2024-07-10T06:16:42.155Z"
   },
   {
    "duration": 22,
    "start_time": "2024-07-10T06:16:45.532Z"
   },
   {
    "duration": 401,
    "start_time": "2024-07-10T06:16:48.063Z"
   },
   {
    "duration": 405,
    "start_time": "2024-07-10T06:17:00.254Z"
   },
   {
    "duration": 1943,
    "start_time": "2024-07-10T06:17:08.886Z"
   },
   {
    "duration": 137,
    "start_time": "2024-07-10T06:17:15.615Z"
   },
   {
    "duration": 113,
    "start_time": "2024-07-10T06:17:32.116Z"
   },
   {
    "duration": 26,
    "start_time": "2024-07-10T06:18:14.013Z"
   },
   {
    "duration": 13,
    "start_time": "2024-07-10T06:18:35.485Z"
   },
   {
    "duration": 1854,
    "start_time": "2024-07-10T06:20:44.144Z"
   },
   {
    "duration": 1802,
    "start_time": "2024-07-10T06:21:09.250Z"
   },
   {
    "duration": 293,
    "start_time": "2024-07-10T06:23:23.750Z"
   },
   {
    "duration": 279,
    "start_time": "2024-07-10T06:23:32.254Z"
   },
   {
    "duration": 169,
    "start_time": "2024-07-10T06:23:52.499Z"
   },
   {
    "duration": 913,
    "start_time": "2024-07-10T06:28:30.195Z"
   },
   {
    "duration": 162,
    "start_time": "2024-07-10T06:29:55.694Z"
   },
   {
    "duration": 161,
    "start_time": "2024-07-10T06:30:30.674Z"
   },
   {
    "duration": 1007,
    "start_time": "2024-07-10T06:31:27.441Z"
   },
   {
    "duration": 169,
    "start_time": "2024-07-10T06:32:11.558Z"
   },
   {
    "duration": 985,
    "start_time": "2024-07-10T06:33:23.273Z"
   },
   {
    "duration": 134,
    "start_time": "2024-07-10T06:33:55.110Z"
   },
   {
    "duration": 6,
    "start_time": "2024-07-10T06:34:17.034Z"
   },
   {
    "duration": 163,
    "start_time": "2024-07-10T06:34:21.559Z"
   },
   {
    "duration": 256,
    "start_time": "2024-07-10T06:34:28.008Z"
   },
   {
    "duration": 161,
    "start_time": "2024-07-10T06:36:12.743Z"
   },
   {
    "duration": 704,
    "start_time": "2024-07-10T06:36:24.146Z"
   },
   {
    "duration": 268,
    "start_time": "2024-07-10T06:41:56.778Z"
   },
   {
    "duration": 1227,
    "start_time": "2024-07-10T06:42:46.100Z"
   },
   {
    "duration": 144,
    "start_time": "2024-07-10T06:43:08.264Z"
   },
   {
    "duration": 148,
    "start_time": "2024-07-10T06:43:35.531Z"
   },
   {
    "duration": 253,
    "start_time": "2024-07-10T06:43:50.855Z"
   },
   {
    "duration": 696,
    "start_time": "2024-07-10T06:44:31.442Z"
   },
   {
    "duration": 675,
    "start_time": "2024-07-10T06:45:56.586Z"
   },
   {
    "duration": 948,
    "start_time": "2024-07-10T06:48:09.819Z"
   },
   {
    "duration": 234,
    "start_time": "2024-07-10T06:49:18.554Z"
   },
   {
    "duration": 654,
    "start_time": "2024-07-10T06:49:27.544Z"
   },
   {
    "duration": 696,
    "start_time": "2024-07-10T06:49:38.267Z"
   },
   {
    "duration": 694,
    "start_time": "2024-07-10T06:51:18.065Z"
   },
   {
    "duration": 705,
    "start_time": "2024-07-10T06:51:28.503Z"
   },
   {
    "duration": 697,
    "start_time": "2024-07-10T06:51:41.395Z"
   },
   {
    "duration": 754,
    "start_time": "2024-07-10T06:51:46.270Z"
   },
   {
    "duration": 682,
    "start_time": "2024-07-10T06:51:51.336Z"
   },
   {
    "duration": 709,
    "start_time": "2024-07-10T06:51:56.822Z"
   },
   {
    "duration": 667,
    "start_time": "2024-07-10T06:55:00.935Z"
   },
   {
    "duration": 912,
    "start_time": "2024-07-10T07:06:13.050Z"
   },
   {
    "duration": 26,
    "start_time": "2024-07-10T07:07:44.599Z"
   },
   {
    "duration": 7527,
    "start_time": "2024-07-10T07:09:18.154Z"
   },
   {
    "duration": 3967,
    "start_time": "2024-07-10T07:12:30.124Z"
   },
   {
    "duration": 22,
    "start_time": "2024-07-10T07:12:55.215Z"
   },
   {
    "duration": 38,
    "start_time": "2024-07-10T07:17:06.177Z"
   },
   {
    "duration": 4278,
    "start_time": "2024-07-10T07:17:23.958Z"
   },
   {
    "duration": 3876,
    "start_time": "2024-07-10T07:17:46.749Z"
   },
   {
    "duration": 612,
    "start_time": "2024-07-10T07:19:34.091Z"
   },
   {
    "duration": 279,
    "start_time": "2024-07-10T07:20:14.405Z"
   },
   {
    "duration": 268,
    "start_time": "2024-07-10T07:20:45.350Z"
   },
   {
    "duration": 28,
    "start_time": "2024-07-10T07:21:12.792Z"
   },
   {
    "duration": 14,
    "start_time": "2024-07-10T07:21:47.166Z"
   },
   {
    "duration": 270,
    "start_time": "2024-07-10T07:22:01.774Z"
   },
   {
    "duration": 4446,
    "start_time": "2024-07-10T07:22:14.823Z"
   },
   {
    "duration": 7277,
    "start_time": "2024-07-10T07:29:32.696Z"
   },
   {
    "duration": 7989,
    "start_time": "2024-07-10T07:30:34.663Z"
   },
   {
    "duration": 231,
    "start_time": "2024-07-10T07:34:24.821Z"
   },
   {
    "duration": 187,
    "start_time": "2024-07-10T07:34:51.304Z"
   },
   {
    "duration": 381,
    "start_time": "2024-07-10T07:35:30.785Z"
   },
   {
    "duration": 759,
    "start_time": "2024-07-10T07:36:50.467Z"
   },
   {
    "duration": 760,
    "start_time": "2024-07-10T07:37:20.068Z"
   },
   {
    "duration": 756,
    "start_time": "2024-07-10T07:37:28.852Z"
   },
   {
    "duration": 739,
    "start_time": "2024-07-10T07:37:37.572Z"
   },
   {
    "duration": 741,
    "start_time": "2024-07-10T07:38:11.626Z"
   },
   {
    "duration": 104,
    "start_time": "2024-07-10T07:43:11.508Z"
   },
   {
    "duration": 210,
    "start_time": "2024-07-10T07:44:14.823Z"
   },
   {
    "duration": 4941,
    "start_time": "2024-07-10T20:52:08.959Z"
   },
   {
    "duration": 9,
    "start_time": "2024-07-10T20:52:17.913Z"
   },
   {
    "duration": 18,
    "start_time": "2024-07-10T20:52:28.288Z"
   },
   {
    "duration": 20,
    "start_time": "2024-07-10T20:52:31.890Z"
   },
   {
    "duration": 24,
    "start_time": "2024-07-10T20:52:34.446Z"
   },
   {
    "duration": 44,
    "start_time": "2024-07-10T20:52:37.361Z"
   },
   {
    "duration": 23,
    "start_time": "2024-07-10T20:52:41.410Z"
   },
   {
    "duration": 22,
    "start_time": "2024-07-10T20:52:44.687Z"
   },
   {
    "duration": 437,
    "start_time": "2024-07-10T20:52:47.288Z"
   },
   {
    "duration": 1794,
    "start_time": "2024-07-10T20:52:51.014Z"
   },
   {
    "duration": 6,
    "start_time": "2024-07-10T20:52:59.410Z"
   },
   {
    "duration": 664,
    "start_time": "2024-07-10T20:53:02.839Z"
   },
   {
    "duration": 375,
    "start_time": "2024-07-10T20:53:08.685Z"
   },
   {
    "duration": 762,
    "start_time": "2024-07-10T20:53:13.993Z"
   },
   {
    "duration": 589,
    "start_time": "2024-07-10T20:54:29.314Z"
   },
   {
    "duration": 769,
    "start_time": "2024-07-10T21:00:52.187Z"
   },
   {
    "duration": 11,
    "start_time": "2024-07-10T21:01:46.321Z"
   },
   {
    "duration": 361,
    "start_time": "2024-07-10T21:03:35.588Z"
   },
   {
    "duration": 361,
    "start_time": "2024-07-10T21:03:47.688Z"
   },
   {
    "duration": 383,
    "start_time": "2024-07-10T21:04:15.498Z"
   },
   {
    "duration": 1399,
    "start_time": "2024-07-10T21:43:26.264Z"
   },
   {
    "duration": 6,
    "start_time": "2024-07-10T21:43:27.669Z"
   },
   {
    "duration": 40,
    "start_time": "2024-07-10T21:43:27.678Z"
   },
   {
    "duration": 22,
    "start_time": "2024-07-10T21:43:27.724Z"
   },
   {
    "duration": 62,
    "start_time": "2024-07-10T21:43:27.749Z"
   },
   {
    "duration": 51,
    "start_time": "2024-07-10T21:43:27.815Z"
   },
   {
    "duration": 46,
    "start_time": "2024-07-10T21:43:27.869Z"
   },
   {
    "duration": 27,
    "start_time": "2024-07-10T21:43:27.918Z"
   },
   {
    "duration": 471,
    "start_time": "2024-07-10T21:43:27.949Z"
   },
   {
    "duration": 1882,
    "start_time": "2024-07-10T21:43:28.426Z"
   },
   {
    "duration": 6,
    "start_time": "2024-07-10T21:43:30.311Z"
   },
   {
    "duration": 706,
    "start_time": "2024-07-10T21:43:30.321Z"
   },
   {
    "duration": 396,
    "start_time": "2024-07-10T21:43:31.030Z"
   },
   {
    "duration": 782,
    "start_time": "2024-07-10T21:43:31.429Z"
   },
   {
    "duration": 463,
    "start_time": "2024-07-10T21:43:32.214Z"
   },
   {
    "duration": 1306,
    "start_time": "2024-07-10T22:06:10.756Z"
   },
   {
    "duration": 17,
    "start_time": "2024-07-10T22:06:12.068Z"
   },
   {
    "duration": 33,
    "start_time": "2024-07-10T22:06:12.089Z"
   },
   {
    "duration": 25,
    "start_time": "2024-07-10T22:06:12.126Z"
   },
   {
    "duration": 26,
    "start_time": "2024-07-10T22:06:12.156Z"
   },
   {
    "duration": 37,
    "start_time": "2024-07-10T22:06:12.210Z"
   },
   {
    "duration": 22,
    "start_time": "2024-07-10T22:06:12.250Z"
   },
   {
    "duration": 54,
    "start_time": "2024-07-10T22:06:12.275Z"
   },
   {
    "duration": 450,
    "start_time": "2024-07-10T22:06:12.331Z"
   },
   {
    "duration": 1857,
    "start_time": "2024-07-10T22:06:12.785Z"
   },
   {
    "duration": 7,
    "start_time": "2024-07-10T22:06:14.646Z"
   },
   {
    "duration": 696,
    "start_time": "2024-07-10T22:06:14.656Z"
   },
   {
    "duration": 405,
    "start_time": "2024-07-10T22:06:15.355Z"
   },
   {
    "duration": 749,
    "start_time": "2024-07-10T22:06:15.765Z"
   },
   {
    "duration": 471,
    "start_time": "2024-07-10T22:06:16.517Z"
   },
   {
    "duration": 382,
    "start_time": "2024-07-10T22:07:02.226Z"
   },
   {
    "duration": 227,
    "start_time": "2024-07-10T22:07:11.401Z"
   },
   {
    "duration": 262,
    "start_time": "2024-07-10T22:11:20.210Z"
   },
   {
    "duration": 254,
    "start_time": "2024-07-10T22:11:53.292Z"
   },
   {
    "duration": 207,
    "start_time": "2024-07-10T22:12:11.622Z"
   },
   {
    "duration": 204,
    "start_time": "2024-07-10T22:12:34.267Z"
   },
   {
    "duration": 207,
    "start_time": "2024-07-10T22:12:42.059Z"
   },
   {
    "duration": 222,
    "start_time": "2024-07-10T22:12:49.304Z"
   },
   {
    "duration": 336,
    "start_time": "2024-07-10T22:13:07.380Z"
   },
   {
    "duration": 202,
    "start_time": "2024-07-10T22:13:32.652Z"
   },
   {
    "duration": 189,
    "start_time": "2024-07-10T22:14:21.900Z"
   },
   {
    "duration": 202,
    "start_time": "2024-07-10T22:14:41.729Z"
   },
   {
    "duration": 226,
    "start_time": "2024-07-10T22:15:17.279Z"
   },
   {
    "duration": 211,
    "start_time": "2024-07-10T22:15:28.424Z"
   },
   {
    "duration": 201,
    "start_time": "2024-07-10T22:15:43.498Z"
   },
   {
    "duration": 231,
    "start_time": "2024-07-10T22:18:47.005Z"
   },
   {
    "duration": 243,
    "start_time": "2024-07-10T22:19:02.230Z"
   },
   {
    "duration": 222,
    "start_time": "2024-07-10T22:19:29.393Z"
   },
   {
    "duration": 306,
    "start_time": "2024-07-10T22:33:30.910Z"
   },
   {
    "duration": 247,
    "start_time": "2024-07-10T22:33:50.463Z"
   },
   {
    "duration": 342,
    "start_time": "2024-07-10T22:34:29.804Z"
   },
   {
    "duration": 244,
    "start_time": "2024-07-10T22:34:48.805Z"
   },
   {
    "duration": 250,
    "start_time": "2024-07-10T22:34:54.605Z"
   },
   {
    "duration": 251,
    "start_time": "2024-07-10T22:55:01.882Z"
   },
   {
    "duration": 26,
    "start_time": "2024-07-10T22:55:31.744Z"
   },
   {
    "duration": 5072,
    "start_time": "2024-07-11T00:25:02.712Z"
   },
   {
    "duration": 7,
    "start_time": "2024-07-11T00:25:07.788Z"
   },
   {
    "duration": 32,
    "start_time": "2024-07-11T00:25:07.798Z"
   },
   {
    "duration": 21,
    "start_time": "2024-07-11T00:25:07.834Z"
   },
   {
    "duration": 57,
    "start_time": "2024-07-11T00:25:07.858Z"
   },
   {
    "duration": 36,
    "start_time": "2024-07-11T00:25:07.919Z"
   },
   {
    "duration": 21,
    "start_time": "2024-07-11T00:25:07.958Z"
   },
   {
    "duration": 51,
    "start_time": "2024-07-11T00:25:07.982Z"
   },
   {
    "duration": 455,
    "start_time": "2024-07-11T00:25:08.037Z"
   },
   {
    "duration": 1853,
    "start_time": "2024-07-11T00:25:08.498Z"
   },
   {
    "duration": 6,
    "start_time": "2024-07-11T00:25:10.355Z"
   },
   {
    "duration": 714,
    "start_time": "2024-07-11T00:25:10.366Z"
   },
   {
    "duration": 413,
    "start_time": "2024-07-11T00:25:11.083Z"
   },
   {
    "duration": 776,
    "start_time": "2024-07-11T00:25:11.499Z"
   },
   {
    "duration": 257,
    "start_time": "2024-07-11T00:25:12.278Z"
   },
   {
    "duration": 232,
    "start_time": "2024-07-11T00:25:12.538Z"
   },
   {
    "duration": 43,
    "start_time": "2024-07-11T00:25:12.773Z"
   },
   {
    "duration": 20,
    "start_time": "2024-07-11T00:25:27.438Z"
   },
   {
    "duration": 533,
    "start_time": "2024-07-11T00:25:35.729Z"
   },
   {
    "duration": 43,
    "start_time": "2024-07-11T00:25:50.144Z"
   },
   {
    "duration": 22,
    "start_time": "2024-07-11T00:26:07.125Z"
   },
   {
    "duration": 24,
    "start_time": "2024-07-11T00:26:37.181Z"
   },
   {
    "duration": 24,
    "start_time": "2024-07-11T00:26:54.690Z"
   },
   {
    "duration": 26,
    "start_time": "2024-07-11T00:27:00.042Z"
   },
   {
    "duration": 32,
    "start_time": "2024-07-11T00:27:20.967Z"
   },
   {
    "duration": 26,
    "start_time": "2024-07-11T00:27:33.494Z"
   },
   {
    "duration": 1155,
    "start_time": "2024-07-11T00:31:00.402Z"
   },
   {
    "duration": 978,
    "start_time": "2024-07-11T00:33:53.184Z"
   },
   {
    "duration": 31,
    "start_time": "2024-07-11T00:34:13.716Z"
   },
   {
    "duration": 56,
    "start_time": "2024-07-11T00:34:32.677Z"
   },
   {
    "duration": 271,
    "start_time": "2024-07-11T00:36:42.936Z"
   },
   {
    "duration": 21,
    "start_time": "2024-07-11T00:37:02.222Z"
   },
   {
    "duration": 33,
    "start_time": "2024-07-11T00:37:17.933Z"
   },
   {
    "duration": 112,
    "start_time": "2024-07-11T00:37:39.516Z"
   },
   {
    "duration": 113,
    "start_time": "2024-07-11T00:37:54.132Z"
   },
   {
    "duration": 17,
    "start_time": "2024-07-11T00:40:04.068Z"
   },
   {
    "duration": 39,
    "start_time": "2024-07-11T00:40:47.252Z"
   },
   {
    "duration": 7,
    "start_time": "2024-07-11T00:41:07.922Z"
   },
   {
    "duration": 20,
    "start_time": "2024-07-11T00:41:46.756Z"
   },
   {
    "duration": 19,
    "start_time": "2024-07-11T00:41:58.925Z"
   },
   {
    "duration": 630,
    "start_time": "2024-07-11T00:51:35.960Z"
   },
   {
    "duration": 279,
    "start_time": "2024-07-11T00:51:52.919Z"
   },
   {
    "duration": 290,
    "start_time": "2024-07-11T00:53:23.122Z"
   },
   {
    "duration": 258,
    "start_time": "2024-07-11T00:53:30.495Z"
   },
   {
    "duration": 9,
    "start_time": "2024-07-11T00:53:37.217Z"
   },
   {
    "duration": 267,
    "start_time": "2024-07-11T00:53:43.848Z"
   },
   {
    "duration": 80,
    "start_time": "2024-07-11T00:55:24.220Z"
   },
   {
    "duration": 196,
    "start_time": "2024-07-11T00:55:47.817Z"
   },
   {
    "duration": 210,
    "start_time": "2024-07-11T00:56:14.342Z"
   },
   {
    "duration": 214,
    "start_time": "2024-07-11T00:56:27.631Z"
   },
   {
    "duration": 241,
    "start_time": "2024-07-11T00:57:23.854Z"
   },
   {
    "duration": 759,
    "start_time": "2024-07-11T00:58:07.108Z"
   },
   {
    "duration": 266,
    "start_time": "2024-07-11T00:59:39.985Z"
   },
   {
    "duration": 294,
    "start_time": "2024-07-11T01:00:17.039Z"
   },
   {
    "duration": 32,
    "start_time": "2024-07-11T01:01:02.110Z"
   },
   {
    "duration": 22,
    "start_time": "2024-07-11T01:03:07.870Z"
   },
   {
    "duration": 27,
    "start_time": "2024-07-11T01:03:28.558Z"
   },
   {
    "duration": 185,
    "start_time": "2024-07-11T01:04:30.301Z"
   },
   {
    "duration": 23,
    "start_time": "2024-07-11T01:04:54.788Z"
   },
   {
    "duration": 31,
    "start_time": "2024-07-11T01:05:03.093Z"
   },
   {
    "duration": 26,
    "start_time": "2024-07-11T01:05:27.516Z"
   },
   {
    "duration": 28,
    "start_time": "2024-07-11T01:05:55.917Z"
   },
   {
    "duration": 28,
    "start_time": "2024-07-11T01:06:16.238Z"
   },
   {
    "duration": 33,
    "start_time": "2024-07-11T01:08:47.977Z"
   },
   {
    "duration": 32,
    "start_time": "2024-07-11T01:09:01.689Z"
   },
   {
    "duration": 108,
    "start_time": "2024-07-11T01:09:16.032Z"
   },
   {
    "duration": 108,
    "start_time": "2024-07-11T01:09:35.653Z"
   },
   {
    "duration": 33,
    "start_time": "2024-07-11T01:09:56.936Z"
   },
   {
    "duration": 29,
    "start_time": "2024-07-11T01:10:12.833Z"
   },
   {
    "duration": 30,
    "start_time": "2024-07-11T01:10:37.208Z"
   },
   {
    "duration": 29,
    "start_time": "2024-07-11T01:10:47.302Z"
   },
   {
    "duration": 32,
    "start_time": "2024-07-11T01:10:55.578Z"
   },
   {
    "duration": 310,
    "start_time": "2024-07-11T01:11:29.939Z"
   },
   {
    "duration": 338,
    "start_time": "2024-07-11T01:11:49.784Z"
   },
   {
    "duration": 323,
    "start_time": "2024-07-11T01:12:09.846Z"
   },
   {
    "duration": 293,
    "start_time": "2024-07-11T01:12:30.646Z"
   },
   {
    "duration": 46,
    "start_time": "2024-07-11T01:17:57.961Z"
   },
   {
    "duration": 304,
    "start_time": "2024-07-11T01:19:38.266Z"
   },
   {
    "duration": 340,
    "start_time": "2024-07-11T01:29:51.321Z"
   },
   {
    "duration": 24,
    "start_time": "2024-07-11T01:33:54.940Z"
   },
   {
    "duration": 142,
    "start_time": "2024-07-11T01:34:25.930Z"
   },
   {
    "duration": 312,
    "start_time": "2024-07-11T01:34:36.405Z"
   },
   {
    "duration": 308,
    "start_time": "2024-07-11T01:49:15.355Z"
   },
   {
    "duration": 386,
    "start_time": "2024-07-11T01:49:34.069Z"
   },
   {
    "duration": 4936,
    "start_time": "2024-07-11T04:15:42.582Z"
   },
   {
    "duration": 6,
    "start_time": "2024-07-11T04:15:47.522Z"
   },
   {
    "duration": 18,
    "start_time": "2024-07-11T04:15:47.531Z"
   },
   {
    "duration": 21,
    "start_time": "2024-07-11T04:15:47.553Z"
   },
   {
    "duration": 61,
    "start_time": "2024-07-11T04:15:47.576Z"
   },
   {
    "duration": 39,
    "start_time": "2024-07-11T04:15:47.640Z"
   },
   {
    "duration": 50,
    "start_time": "2024-07-11T04:15:47.682Z"
   },
   {
    "duration": 25,
    "start_time": "2024-07-11T04:15:47.734Z"
   },
   {
    "duration": 485,
    "start_time": "2024-07-11T04:15:47.762Z"
   },
   {
    "duration": 2004,
    "start_time": "2024-07-11T04:15:48.254Z"
   },
   {
    "duration": 8,
    "start_time": "2024-07-11T04:15:50.260Z"
   },
   {
    "duration": 788,
    "start_time": "2024-07-11T04:15:50.271Z"
   },
   {
    "duration": 460,
    "start_time": "2024-07-11T04:15:51.063Z"
   },
   {
    "duration": 875,
    "start_time": "2024-07-11T04:15:51.527Z"
   },
   {
    "duration": 307,
    "start_time": "2024-07-11T04:15:52.406Z"
   },
   {
    "duration": 249,
    "start_time": "2024-07-11T04:15:52.724Z"
   },
   {
    "duration": 364,
    "start_time": "2024-07-11T04:15:52.977Z"
   },
   {
    "duration": 400,
    "start_time": "2024-07-11T04:15:53.347Z"
   },
   {
    "duration": 28,
    "start_time": "2024-07-11T05:01:17.219Z"
   },
   {
    "duration": 1319,
    "start_time": "2024-07-11T05:05:57.276Z"
   },
   {
    "duration": 59,
    "start_time": "2024-07-11T05:08:27.263Z"
   },
   {
    "duration": 324,
    "start_time": "2024-07-11T05:08:45.565Z"
   },
   {
    "duration": 31,
    "start_time": "2024-07-11T05:49:14.734Z"
   },
   {
    "duration": 17,
    "start_time": "2024-07-11T05:50:00.639Z"
   },
   {
    "duration": 15,
    "start_time": "2024-07-11T05:51:25.860Z"
   },
   {
    "duration": 12,
    "start_time": "2024-07-11T05:52:55.580Z"
   },
   {
    "duration": 12,
    "start_time": "2024-07-11T05:54:08.062Z"
   },
   {
    "duration": 12,
    "start_time": "2024-07-11T05:54:13.134Z"
   },
   {
    "duration": 12,
    "start_time": "2024-07-11T05:54:25.492Z"
   },
   {
    "duration": 1297,
    "start_time": "2024-07-11T05:57:33.685Z"
   },
   {
    "duration": 9,
    "start_time": "2024-07-11T05:57:34.986Z"
   },
   {
    "duration": 35,
    "start_time": "2024-07-11T05:57:34.999Z"
   },
   {
    "duration": 22,
    "start_time": "2024-07-11T05:57:35.039Z"
   },
   {
    "duration": 59,
    "start_time": "2024-07-11T05:57:35.065Z"
   },
   {
    "duration": 36,
    "start_time": "2024-07-11T05:57:35.127Z"
   },
   {
    "duration": 23,
    "start_time": "2024-07-11T05:57:35.166Z"
   },
   {
    "duration": 23,
    "start_time": "2024-07-11T05:57:35.222Z"
   },
   {
    "duration": 449,
    "start_time": "2024-07-11T05:57:35.248Z"
   },
   {
    "duration": 1827,
    "start_time": "2024-07-11T05:57:35.703Z"
   },
   {
    "duration": 7,
    "start_time": "2024-07-11T05:57:37.532Z"
   },
   {
    "duration": 699,
    "start_time": "2024-07-11T05:57:37.542Z"
   },
   {
    "duration": 408,
    "start_time": "2024-07-11T05:57:38.244Z"
   },
   {
    "duration": 778,
    "start_time": "2024-07-11T05:57:38.655Z"
   },
   {
    "duration": 363,
    "start_time": "2024-07-11T05:57:39.437Z"
   },
   {
    "duration": 253,
    "start_time": "2024-07-11T05:57:39.803Z"
   },
   {
    "duration": 338,
    "start_time": "2024-07-11T05:57:40.060Z"
   },
   {
    "duration": 332,
    "start_time": "2024-07-11T05:57:40.401Z"
   },
   {
    "duration": 298,
    "start_time": "2024-07-11T05:57:40.736Z"
   },
   {
    "duration": 17,
    "start_time": "2024-07-11T05:57:41.036Z"
   },
   {
    "duration": 1179,
    "start_time": "2024-07-11T06:01:51.686Z"
   },
   {
    "duration": 35,
    "start_time": "2024-07-11T06:03:01.199Z"
   },
   {
    "duration": 35,
    "start_time": "2024-07-11T06:03:12.426Z"
   },
   {
    "duration": 99,
    "start_time": "2024-07-11T06:05:01.812Z"
   },
   {
    "duration": 65,
    "start_time": "2024-07-11T06:08:56.203Z"
   },
   {
    "duration": 45,
    "start_time": "2024-07-11T06:10:22.661Z"
   },
   {
    "duration": 41,
    "start_time": "2024-07-11T06:10:55.908Z"
   },
   {
    "duration": 37,
    "start_time": "2024-07-11T06:11:05.679Z"
   },
   {
    "duration": 19,
    "start_time": "2024-07-11T06:11:37.972Z"
   },
   {
    "duration": 118,
    "start_time": "2024-07-11T06:11:59.694Z"
   },
   {
    "duration": 20,
    "start_time": "2024-07-11T06:12:22.143Z"
   },
   {
    "duration": 16,
    "start_time": "2024-07-11T06:12:48.951Z"
   },
   {
    "duration": 17,
    "start_time": "2024-07-11T06:12:59.537Z"
   },
   {
    "duration": 17,
    "start_time": "2024-07-11T06:26:36.211Z"
   },
   {
    "duration": 17,
    "start_time": "2024-07-11T06:26:49.486Z"
   },
   {
    "duration": 18,
    "start_time": "2024-07-11T06:27:13.530Z"
   },
   {
    "duration": 17,
    "start_time": "2024-07-11T06:27:21.980Z"
   },
   {
    "duration": 1471,
    "start_time": "2024-07-11T06:44:26.668Z"
   },
   {
    "duration": 8,
    "start_time": "2024-07-11T06:44:28.142Z"
   },
   {
    "duration": 23,
    "start_time": "2024-07-11T06:44:28.154Z"
   },
   {
    "duration": 60,
    "start_time": "2024-07-11T06:44:28.181Z"
   },
   {
    "duration": 29,
    "start_time": "2024-07-11T06:44:28.245Z"
   },
   {
    "duration": 89,
    "start_time": "2024-07-11T06:44:28.281Z"
   },
   {
    "duration": 29,
    "start_time": "2024-07-11T06:44:28.377Z"
   },
   {
    "duration": 36,
    "start_time": "2024-07-11T06:44:28.409Z"
   },
   {
    "duration": 461,
    "start_time": "2024-07-11T06:44:28.448Z"
   },
   {
    "duration": 1916,
    "start_time": "2024-07-11T06:44:28.922Z"
   },
   {
    "duration": 9,
    "start_time": "2024-07-11T06:44:30.841Z"
   },
   {
    "duration": 850,
    "start_time": "2024-07-11T06:44:30.853Z"
   },
   {
    "duration": 420,
    "start_time": "2024-07-11T06:44:31.707Z"
   },
   {
    "duration": 815,
    "start_time": "2024-07-11T06:44:32.130Z"
   },
   {
    "duration": 348,
    "start_time": "2024-07-11T06:44:32.948Z"
   },
   {
    "duration": 234,
    "start_time": "2024-07-11T06:44:33.298Z"
   },
   {
    "duration": 321,
    "start_time": "2024-07-11T06:44:33.535Z"
   },
   {
    "duration": 326,
    "start_time": "2024-07-11T06:44:33.859Z"
   },
   {
    "duration": 296,
    "start_time": "2024-07-11T06:44:34.188Z"
   },
   {
    "duration": 18,
    "start_time": "2024-07-11T06:44:34.487Z"
   },
   {
    "duration": 31,
    "start_time": "2024-07-11T06:44:34.507Z"
   }
  ],
  "kernelspec": {
   "display_name": "Python 3 (ipykernel)",
   "language": "python",
   "name": "python3"
  },
  "language_info": {
   "codemirror_mode": {
    "name": "ipython",
    "version": 3
   },
   "file_extension": ".py",
   "mimetype": "text/x-python",
   "name": "python",
   "nbconvert_exporter": "python",
   "pygments_lexer": "ipython3",
   "version": "3.9.19"
  },
  "toc": {
   "base_numbering": 1,
   "nav_menu": {},
   "number_sections": true,
   "sideBar": true,
   "skip_h1_title": true,
   "title_cell": "Table of Contents",
   "title_sidebar": "Contents",
   "toc_cell": false,
   "toc_position": {},
   "toc_section_display": true,
   "toc_window_display": false
  }
 },
 "nbformat": 4,
 "nbformat_minor": 2
}
