{
 "cells": [
  {
   "cell_type": "markdown",
   "metadata": {},
   "source": [
    "# Model Fitness: Cadena de gimnasios"
   ]
  },
  {
   "cell_type": "markdown",
   "metadata": {},
   "source": [
    "<a id=indice></a>\n",
    "# Tabla de Contenido\n",
    "\n",
    "[1 Descripción del Proyecto](#descripcion)\n",
    "\n",
    "[2 Lectura y preparación de datos](#preparacion_data)\n",
    "\n",
    "[3 Análisis y exploración de datos](#analisis_data)\n",
    "\n",
    "[4 Construcción de un modelo para predecir la cancelación de usuarios](#creacion_modelo_predictivo)\n",
    "\n",
    "[5 Clústeres de usuarios/as](#creacion_clusteres)\n",
    "\n",
    "[6 Conclusiones y recomendaciones](#conclusiones)"
   ]
  },
  {
   "cell_type": "markdown",
   "metadata": {},
   "source": [
    "<a id=descripcion></a>\n",
    "## Descripción del Proyecto"
   ]
  },
  {
   "cell_type": "markdown",
   "metadata": {},
   "source": [
    "La cadena de gimnasios Model Fitness está desarrollando una estrategia de interacción con clientes basada en datos analíticos. \n",
    "\n",
    "Uno de los problemas más comunes que enfrentan los gimnasios y otros servicios es la pérdida de clientes. ¿Cómo descubres si un/a cliente ya no está contigo? Puedes calcular la pérdida en función de las personas que se deshacen de sus cuentas o no renuevan sus contratos. Sin embargo, a veces no es obvio que un/a cliente se haya ido: puede que se vaya de puntillas. \n",
    "\n",
    "Los indicadores de pérdida varían de un campo a otro. Si un usuario o una usuaria compra en una tienda en línea con poca frecuencia, pero con regularidad, no se puede decir que ha huido. Pero si durante dos semanas no ha abierto un canal que se actualiza a diario, es motivo de preocupación: es posible que tu seguidor o seguidor/a se haya aburrido y te haya abandonado. \n",
    "\n",
    "En el caso de un gimnasio, tiene sentido decir que un/a cliente se ha ido si no viene durante un mes. Por supuesto, es posible que estén en Cancún y retomen sus visitas cuando regresen, pero ese no es un caso típico. Por lo general, si un/a cliente se une, viene varias veces y luego desaparece, es poco probable que regrese. \n",
    "\n",
    "Con el fin de combatir la cancelación, Model Fitness ha digitalizado varios de sus perfiles de clientes. Tu tarea consiste en analizarlos y elaborar una estrategia de retención de clientes. \n",
    "\n",
    "Tienes que:\n",
    "\n",
    "1 Aprender a predecir la probabilidad de pérdida (para el próximo mes) para cada cliente.\n",
    "\n",
    "2 Elaborar retratos de usuarios típicos: selecciona los grupos más destacados y describe sus características principales.\n",
    "\n",
    "3 Analizar los factores que más impactan la pérdida.\n",
    "\n",
    "4 Sacar conclusiones básicas y elaborar recomendaciones para mejorar la atención al cliente:\n",
    "* identificar a los grupos objetivo\n",
    "* sugerir medidas para reducir la rotación\n",
    "* describir cualquier otro patrón que observes con respecto a la interacción con los clientes"
   ]
  },
  {
   "cell_type": "markdown",
   "metadata": {},
   "source": [
    "[Volver a la Tabla de Contenido](#indice)"
   ]
  },
  {
   "cell_type": "markdown",
   "metadata": {},
   "source": [
    "<a id=\"preparacion_data\"></a>\n",
    "## Lectura y Preparación de datos"
   ]
  },
  {
   "cell_type": "markdown",
   "metadata": {},
   "source": [
    "### Descripción de datos"
   ]
  },
  {
   "cell_type": "markdown",
   "metadata": {},
   "source": [
    "El dataset proporcionado para el proyecto contiene los siguientes campos:\n",
    "\n",
    "Campo General:\n",
    "* Churn: la cancelación para el mes en cuestión\n",
    "\n",
    "Campos relacionados a la información del usuario:\n",
    "* gender\n",
    "* Near_Location: si el/la usuario/a vive o trabaja en el vecindario donde se encuentra el gimnasio.\n",
    "* Partner: si el/la usuario/a trabaja en una compañía asociada (el gimnasio tiene empresas asociadas cuyos empleados obtienen descuentos; en esos casos el gimnasio almacena información sobre los empleadores de los clientes).\n",
    "* Promo_friends: si el/la usuario/a originalmente se inscribió mediante una oferta “trae a un/a amigo/a” (se utilizó el código promocional de un/a amigo/a cuando pagaron el primer abono).\n",
    "* Phone: si el/la usuario/a aportó el número de teléfono.\n",
    "* Age\n",
    "* Lifetime: el tiempo (en meses) desde que el/la usuario/a llegó por primera vez al gimnasio.\n",
    "\n",
    "Campos relacionados al registro de visitas, compras y datos sobre el estado actual de la membresía de cada usuario:\n",
    "* Contract_period: 1 mes, 3 meses, 6 meses o 1 año.\n",
    "* Month_to_end_contract: los meses que faltan hasta que expire el contrato.\n",
    "* Group_visits: si el/la usuario/a participa en sesiones grupales.\n",
    "* Avg_class_frequency_total: frecuencia media de visitas por semana a lo largo de la vida del cliente.\n",
    "* Avg_class_frequency_current_month: frecuencia media de visitas por semana durante el mes en curso.\n",
    "* Avg_additional_charges_total: cantidad total de dinero gastado en otros servicios del gimnasio: cafetería, productos deportivos, cosméticos, masajes, etc."
   ]
  },
  {
   "cell_type": "markdown",
   "metadata": {},
   "source": [
    "### Importación de librerías"
   ]
  },
  {
   "cell_type": "code",
   "execution_count": 1,
   "metadata": {},
   "outputs": [],
   "source": [
    "import numpy as np\n",
    "import pandas as pd\n",
    "import matplotlib.pyplot as plt\n",
    "import seaborn as sns\n",
    "from scipy.cluster.hierarchy import dendrogram, linkage\n",
    "from sklearn.cluster import KMeans\n",
    "from sklearn.ensemble import RandomForestClassifier #libreria para usar el método de bosque aleatorio\n",
    "from sklearn.linear_model import LogisticRegression #libreria para usar el método de regresión logística\n",
    "from sklearn.model_selection import train_test_split\n",
    "from sklearn.metrics import accuracy_score, precision_score, recall_score\n",
    "from sklearn.preprocessing import StandardScaler"
   ]
  },
  {
   "cell_type": "markdown",
   "metadata": {},
   "source": [
    "### Carga de datos"
   ]
  },
  {
   "cell_type": "code",
   "execution_count": 2,
   "metadata": {},
   "outputs": [
    {
     "data": {
      "text/html": [
       "<div>\n",
       "<style scoped>\n",
       "    .dataframe tbody tr th:only-of-type {\n",
       "        vertical-align: middle;\n",
       "    }\n",
       "\n",
       "    .dataframe tbody tr th {\n",
       "        vertical-align: top;\n",
       "    }\n",
       "\n",
       "    .dataframe thead th {\n",
       "        text-align: right;\n",
       "    }\n",
       "</style>\n",
       "<table border=\"1\" class=\"dataframe\">\n",
       "  <thead>\n",
       "    <tr style=\"text-align: right;\">\n",
       "      <th></th>\n",
       "      <th>gender</th>\n",
       "      <th>Near_Location</th>\n",
       "      <th>Partner</th>\n",
       "      <th>Promo_friends</th>\n",
       "      <th>Phone</th>\n",
       "      <th>Contract_period</th>\n",
       "      <th>Group_visits</th>\n",
       "      <th>Age</th>\n",
       "      <th>Avg_additional_charges_total</th>\n",
       "      <th>Month_to_end_contract</th>\n",
       "      <th>Lifetime</th>\n",
       "      <th>Avg_class_frequency_total</th>\n",
       "      <th>Avg_class_frequency_current_month</th>\n",
       "      <th>Churn</th>\n",
       "    </tr>\n",
       "  </thead>\n",
       "  <tbody>\n",
       "    <tr>\n",
       "      <th>0</th>\n",
       "      <td>1</td>\n",
       "      <td>1</td>\n",
       "      <td>1</td>\n",
       "      <td>1</td>\n",
       "      <td>0</td>\n",
       "      <td>6</td>\n",
       "      <td>1</td>\n",
       "      <td>29</td>\n",
       "      <td>14.227470</td>\n",
       "      <td>5.0</td>\n",
       "      <td>3</td>\n",
       "      <td>0.020398</td>\n",
       "      <td>0.000000</td>\n",
       "      <td>0</td>\n",
       "    </tr>\n",
       "    <tr>\n",
       "      <th>1</th>\n",
       "      <td>0</td>\n",
       "      <td>1</td>\n",
       "      <td>0</td>\n",
       "      <td>0</td>\n",
       "      <td>1</td>\n",
       "      <td>12</td>\n",
       "      <td>1</td>\n",
       "      <td>31</td>\n",
       "      <td>113.202938</td>\n",
       "      <td>12.0</td>\n",
       "      <td>7</td>\n",
       "      <td>1.922936</td>\n",
       "      <td>1.910244</td>\n",
       "      <td>0</td>\n",
       "    </tr>\n",
       "    <tr>\n",
       "      <th>2</th>\n",
       "      <td>0</td>\n",
       "      <td>1</td>\n",
       "      <td>1</td>\n",
       "      <td>0</td>\n",
       "      <td>1</td>\n",
       "      <td>1</td>\n",
       "      <td>0</td>\n",
       "      <td>28</td>\n",
       "      <td>129.448479</td>\n",
       "      <td>1.0</td>\n",
       "      <td>2</td>\n",
       "      <td>1.859098</td>\n",
       "      <td>1.736502</td>\n",
       "      <td>0</td>\n",
       "    </tr>\n",
       "    <tr>\n",
       "      <th>3</th>\n",
       "      <td>0</td>\n",
       "      <td>1</td>\n",
       "      <td>1</td>\n",
       "      <td>1</td>\n",
       "      <td>1</td>\n",
       "      <td>12</td>\n",
       "      <td>1</td>\n",
       "      <td>33</td>\n",
       "      <td>62.669863</td>\n",
       "      <td>12.0</td>\n",
       "      <td>2</td>\n",
       "      <td>3.205633</td>\n",
       "      <td>3.357215</td>\n",
       "      <td>0</td>\n",
       "    </tr>\n",
       "    <tr>\n",
       "      <th>4</th>\n",
       "      <td>1</td>\n",
       "      <td>1</td>\n",
       "      <td>1</td>\n",
       "      <td>1</td>\n",
       "      <td>1</td>\n",
       "      <td>1</td>\n",
       "      <td>0</td>\n",
       "      <td>26</td>\n",
       "      <td>198.362265</td>\n",
       "      <td>1.0</td>\n",
       "      <td>3</td>\n",
       "      <td>1.113884</td>\n",
       "      <td>1.120078</td>\n",
       "      <td>0</td>\n",
       "    </tr>\n",
       "  </tbody>\n",
       "</table>\n",
       "</div>"
      ],
      "text/plain": [
       "   gender  Near_Location  Partner  Promo_friends  Phone  Contract_period  \\\n",
       "0       1              1        1              1      0                6   \n",
       "1       0              1        0              0      1               12   \n",
       "2       0              1        1              0      1                1   \n",
       "3       0              1        1              1      1               12   \n",
       "4       1              1        1              1      1                1   \n",
       "\n",
       "   Group_visits  Age  Avg_additional_charges_total  Month_to_end_contract  \\\n",
       "0             1   29                     14.227470                    5.0   \n",
       "1             1   31                    113.202938                   12.0   \n",
       "2             0   28                    129.448479                    1.0   \n",
       "3             1   33                     62.669863                   12.0   \n",
       "4             0   26                    198.362265                    1.0   \n",
       "\n",
       "   Lifetime  Avg_class_frequency_total  Avg_class_frequency_current_month  \\\n",
       "0         3                   0.020398                           0.000000   \n",
       "1         7                   1.922936                           1.910244   \n",
       "2         2                   1.859098                           1.736502   \n",
       "3         2                   3.205633                           3.357215   \n",
       "4         3                   1.113884                           1.120078   \n",
       "\n",
       "   Churn  \n",
       "0      0  \n",
       "1      0  \n",
       "2      0  \n",
       "3      0  \n",
       "4      0  "
      ]
     },
     "execution_count": 2,
     "metadata": {},
     "output_type": "execute_result"
    }
   ],
   "source": [
    "gym = pd.read_csv('/datasets/gym_churn_us.csv', sep=',')\n",
    "\n",
    "gym.head(5)"
   ]
  },
  {
   "cell_type": "markdown",
   "metadata": {},
   "source": [
    "### Revisión de datos (duplicados, nulos y tipo de datos)"
   ]
  },
  {
   "cell_type": "markdown",
   "metadata": {},
   "source": [
    "#### Visualizamos el detalle de la tabla \"gym\""
   ]
  },
  {
   "cell_type": "code",
   "execution_count": 3,
   "metadata": {},
   "outputs": [
    {
     "name": "stdout",
     "output_type": "stream",
     "text": [
      "<class 'pandas.core.frame.DataFrame'>\n",
      "RangeIndex: 4000 entries, 0 to 3999\n",
      "Data columns (total 14 columns):\n",
      " #   Column                             Non-Null Count  Dtype  \n",
      "---  ------                             --------------  -----  \n",
      " 0   gender                             4000 non-null   int64  \n",
      " 1   Near_Location                      4000 non-null   int64  \n",
      " 2   Partner                            4000 non-null   int64  \n",
      " 3   Promo_friends                      4000 non-null   int64  \n",
      " 4   Phone                              4000 non-null   int64  \n",
      " 5   Contract_period                    4000 non-null   int64  \n",
      " 6   Group_visits                       4000 non-null   int64  \n",
      " 7   Age                                4000 non-null   int64  \n",
      " 8   Avg_additional_charges_total       4000 non-null   float64\n",
      " 9   Month_to_end_contract              4000 non-null   float64\n",
      " 10  Lifetime                           4000 non-null   int64  \n",
      " 11  Avg_class_frequency_total          4000 non-null   float64\n",
      " 12  Avg_class_frequency_current_month  4000 non-null   float64\n",
      " 13  Churn                              4000 non-null   int64  \n",
      "dtypes: float64(4), int64(10)\n",
      "memory usage: 437.6 KB\n"
     ]
    }
   ],
   "source": [
    "gym.info()"
   ]
  },
  {
   "cell_type": "markdown",
   "metadata": {},
   "source": [
    "#### Validamos la existencia de valor duplicados"
   ]
  },
  {
   "cell_type": "code",
   "execution_count": 4,
   "metadata": {},
   "outputs": [
    {
     "name": "stdout",
     "output_type": "stream",
     "text": [
      "Número de duplicados:  0\n"
     ]
    }
   ],
   "source": [
    "print('Número de duplicados: ', gym.duplicated().sum())"
   ]
  },
  {
   "cell_type": "markdown",
   "metadata": {},
   "source": [
    "#### Validamos la existencia de valores nulos"
   ]
  },
  {
   "cell_type": "code",
   "execution_count": 5,
   "metadata": {},
   "outputs": [
    {
     "name": "stdout",
     "output_type": "stream",
     "text": [
      "Valores Nulos:\n"
     ]
    },
    {
     "data": {
      "text/plain": [
       "gender                               0\n",
       "Near_Location                        0\n",
       "Partner                              0\n",
       "Promo_friends                        0\n",
       "Phone                                0\n",
       "Contract_period                      0\n",
       "Group_visits                         0\n",
       "Age                                  0\n",
       "Avg_additional_charges_total         0\n",
       "Month_to_end_contract                0\n",
       "Lifetime                             0\n",
       "Avg_class_frequency_total            0\n",
       "Avg_class_frequency_current_month    0\n",
       "Churn                                0\n",
       "dtype: int64"
      ]
     },
     "execution_count": 5,
     "metadata": {},
     "output_type": "execute_result"
    }
   ],
   "source": [
    "print('Valores Nulos:')\n",
    "gym.isna().sum()"
   ]
  },
  {
   "cell_type": "markdown",
   "metadata": {},
   "source": [
    "#### Hacemos una previsualización de la tabla"
   ]
  },
  {
   "cell_type": "code",
   "execution_count": 6,
   "metadata": {},
   "outputs": [
    {
     "data": {
      "text/html": [
       "<div>\n",
       "<style scoped>\n",
       "    .dataframe tbody tr th:only-of-type {\n",
       "        vertical-align: middle;\n",
       "    }\n",
       "\n",
       "    .dataframe tbody tr th {\n",
       "        vertical-align: top;\n",
       "    }\n",
       "\n",
       "    .dataframe thead th {\n",
       "        text-align: right;\n",
       "    }\n",
       "</style>\n",
       "<table border=\"1\" class=\"dataframe\">\n",
       "  <thead>\n",
       "    <tr style=\"text-align: right;\">\n",
       "      <th></th>\n",
       "      <th>gender</th>\n",
       "      <th>Near_Location</th>\n",
       "      <th>Partner</th>\n",
       "      <th>Promo_friends</th>\n",
       "      <th>Phone</th>\n",
       "      <th>Contract_period</th>\n",
       "      <th>Group_visits</th>\n",
       "      <th>Age</th>\n",
       "      <th>Avg_additional_charges_total</th>\n",
       "      <th>Month_to_end_contract</th>\n",
       "      <th>Lifetime</th>\n",
       "      <th>Avg_class_frequency_total</th>\n",
       "      <th>Avg_class_frequency_current_month</th>\n",
       "      <th>Churn</th>\n",
       "    </tr>\n",
       "  </thead>\n",
       "  <tbody>\n",
       "    <tr>\n",
       "      <th>0</th>\n",
       "      <td>1</td>\n",
       "      <td>1</td>\n",
       "      <td>1</td>\n",
       "      <td>1</td>\n",
       "      <td>0</td>\n",
       "      <td>6</td>\n",
       "      <td>1</td>\n",
       "      <td>29</td>\n",
       "      <td>14.227470</td>\n",
       "      <td>5.0</td>\n",
       "      <td>3</td>\n",
       "      <td>0.020398</td>\n",
       "      <td>0.000000</td>\n",
       "      <td>0</td>\n",
       "    </tr>\n",
       "    <tr>\n",
       "      <th>1</th>\n",
       "      <td>0</td>\n",
       "      <td>1</td>\n",
       "      <td>0</td>\n",
       "      <td>0</td>\n",
       "      <td>1</td>\n",
       "      <td>12</td>\n",
       "      <td>1</td>\n",
       "      <td>31</td>\n",
       "      <td>113.202938</td>\n",
       "      <td>12.0</td>\n",
       "      <td>7</td>\n",
       "      <td>1.922936</td>\n",
       "      <td>1.910244</td>\n",
       "      <td>0</td>\n",
       "    </tr>\n",
       "    <tr>\n",
       "      <th>2</th>\n",
       "      <td>0</td>\n",
       "      <td>1</td>\n",
       "      <td>1</td>\n",
       "      <td>0</td>\n",
       "      <td>1</td>\n",
       "      <td>1</td>\n",
       "      <td>0</td>\n",
       "      <td>28</td>\n",
       "      <td>129.448479</td>\n",
       "      <td>1.0</td>\n",
       "      <td>2</td>\n",
       "      <td>1.859098</td>\n",
       "      <td>1.736502</td>\n",
       "      <td>0</td>\n",
       "    </tr>\n",
       "    <tr>\n",
       "      <th>3</th>\n",
       "      <td>0</td>\n",
       "      <td>1</td>\n",
       "      <td>1</td>\n",
       "      <td>1</td>\n",
       "      <td>1</td>\n",
       "      <td>12</td>\n",
       "      <td>1</td>\n",
       "      <td>33</td>\n",
       "      <td>62.669863</td>\n",
       "      <td>12.0</td>\n",
       "      <td>2</td>\n",
       "      <td>3.205633</td>\n",
       "      <td>3.357215</td>\n",
       "      <td>0</td>\n",
       "    </tr>\n",
       "    <tr>\n",
       "      <th>4</th>\n",
       "      <td>1</td>\n",
       "      <td>1</td>\n",
       "      <td>1</td>\n",
       "      <td>1</td>\n",
       "      <td>1</td>\n",
       "      <td>1</td>\n",
       "      <td>0</td>\n",
       "      <td>26</td>\n",
       "      <td>198.362265</td>\n",
       "      <td>1.0</td>\n",
       "      <td>3</td>\n",
       "      <td>1.113884</td>\n",
       "      <td>1.120078</td>\n",
       "      <td>0</td>\n",
       "    </tr>\n",
       "  </tbody>\n",
       "</table>\n",
       "</div>"
      ],
      "text/plain": [
       "   gender  Near_Location  Partner  Promo_friends  Phone  Contract_period  \\\n",
       "0       1              1        1              1      0                6   \n",
       "1       0              1        0              0      1               12   \n",
       "2       0              1        1              0      1                1   \n",
       "3       0              1        1              1      1               12   \n",
       "4       1              1        1              1      1                1   \n",
       "\n",
       "   Group_visits  Age  Avg_additional_charges_total  Month_to_end_contract  \\\n",
       "0             1   29                     14.227470                    5.0   \n",
       "1             1   31                    113.202938                   12.0   \n",
       "2             0   28                    129.448479                    1.0   \n",
       "3             1   33                     62.669863                   12.0   \n",
       "4             0   26                    198.362265                    1.0   \n",
       "\n",
       "   Lifetime  Avg_class_frequency_total  Avg_class_frequency_current_month  \\\n",
       "0         3                   0.020398                           0.000000   \n",
       "1         7                   1.922936                           1.910244   \n",
       "2         2                   1.859098                           1.736502   \n",
       "3         2                   3.205633                           3.357215   \n",
       "4         3                   1.113884                           1.120078   \n",
       "\n",
       "   Churn  \n",
       "0      0  \n",
       "1      0  \n",
       "2      0  \n",
       "3      0  \n",
       "4      0  "
      ]
     },
     "execution_count": 6,
     "metadata": {},
     "output_type": "execute_result"
    }
   ],
   "source": [
    "gym.head(5)"
   ]
  },
  {
   "cell_type": "markdown",
   "metadata": {},
   "source": [
    "Se observa lo siguiente:\n",
    "* No hay existencia de valores duplicados ni nulos o ausentes.\n",
    "* Se observa que los nombres de columnas tienen letras entre minusculas y mayusculas lo cual hace que no sea facil de manejar la información. Por lo que cambiaremos los nombres de las columnas usando \"snake case\" para una mejor lectura.\n",
    "* Los campos \"gender\", \"near_location\", \"partner\", \"promo_friends\", \"phone\", \"group_visits\", \"churn\" al tener valores binarios los interpretaremos de la siguiente manera: i) Para el campo \"gender\" asumiremos que \"0\" hace referencia a \"masculino\" y el valor \"1\" para el \"femenino\" ii) Para los campos restantes los valores se interpretarán como \"1\" igual a verdadero y \"0\" a falso."
   ]
  },
  {
   "cell_type": "code",
   "execution_count": 7,
   "metadata": {},
   "outputs": [
    {
     "data": {
      "text/plain": [
       "Index(['gender', 'near_location', 'partner', 'promo_friends', 'phone',\n",
       "       'contract_period', 'group_visits', 'age',\n",
       "       'avg_additional_charges_total', 'month_to_end_contract', 'lifetime',\n",
       "       'avg_class_frequency_total', 'avg_class_frequency_current_month',\n",
       "       'churn'],\n",
       "      dtype='object')"
      ]
     },
     "execution_count": 7,
     "metadata": {},
     "output_type": "execute_result"
    }
   ],
   "source": [
    "# Renombramos el nombre de las columnas\n",
    "gym.columns = ['gender', 'near_location', 'partner', 'promo_friends', 'phone', 'contract_period', 'group_visits', 'age', 'avg_additional_charges_total',\n",
    "               'month_to_end_contract', 'lifetime', 'avg_class_frequency_total', 'avg_class_frequency_current_month', 'churn']\n",
    "gym.columns"
   ]
  },
  {
   "cell_type": "markdown",
   "metadata": {},
   "source": [
    "Visualizamos la tabla gym luego de los cambios"
   ]
  },
  {
   "cell_type": "code",
   "execution_count": 8,
   "metadata": {},
   "outputs": [
    {
     "data": {
      "text/html": [
       "<div>\n",
       "<style scoped>\n",
       "    .dataframe tbody tr th:only-of-type {\n",
       "        vertical-align: middle;\n",
       "    }\n",
       "\n",
       "    .dataframe tbody tr th {\n",
       "        vertical-align: top;\n",
       "    }\n",
       "\n",
       "    .dataframe thead th {\n",
       "        text-align: right;\n",
       "    }\n",
       "</style>\n",
       "<table border=\"1\" class=\"dataframe\">\n",
       "  <thead>\n",
       "    <tr style=\"text-align: right;\">\n",
       "      <th></th>\n",
       "      <th>gender</th>\n",
       "      <th>near_location</th>\n",
       "      <th>partner</th>\n",
       "      <th>promo_friends</th>\n",
       "      <th>phone</th>\n",
       "      <th>contract_period</th>\n",
       "      <th>group_visits</th>\n",
       "      <th>age</th>\n",
       "      <th>avg_additional_charges_total</th>\n",
       "      <th>month_to_end_contract</th>\n",
       "      <th>lifetime</th>\n",
       "      <th>avg_class_frequency_total</th>\n",
       "      <th>avg_class_frequency_current_month</th>\n",
       "      <th>churn</th>\n",
       "    </tr>\n",
       "  </thead>\n",
       "  <tbody>\n",
       "    <tr>\n",
       "      <th>0</th>\n",
       "      <td>1</td>\n",
       "      <td>1</td>\n",
       "      <td>1</td>\n",
       "      <td>1</td>\n",
       "      <td>0</td>\n",
       "      <td>6</td>\n",
       "      <td>1</td>\n",
       "      <td>29</td>\n",
       "      <td>14.227470</td>\n",
       "      <td>5.0</td>\n",
       "      <td>3</td>\n",
       "      <td>0.020398</td>\n",
       "      <td>0.000000</td>\n",
       "      <td>0</td>\n",
       "    </tr>\n",
       "    <tr>\n",
       "      <th>1</th>\n",
       "      <td>0</td>\n",
       "      <td>1</td>\n",
       "      <td>0</td>\n",
       "      <td>0</td>\n",
       "      <td>1</td>\n",
       "      <td>12</td>\n",
       "      <td>1</td>\n",
       "      <td>31</td>\n",
       "      <td>113.202938</td>\n",
       "      <td>12.0</td>\n",
       "      <td>7</td>\n",
       "      <td>1.922936</td>\n",
       "      <td>1.910244</td>\n",
       "      <td>0</td>\n",
       "    </tr>\n",
       "    <tr>\n",
       "      <th>2</th>\n",
       "      <td>0</td>\n",
       "      <td>1</td>\n",
       "      <td>1</td>\n",
       "      <td>0</td>\n",
       "      <td>1</td>\n",
       "      <td>1</td>\n",
       "      <td>0</td>\n",
       "      <td>28</td>\n",
       "      <td>129.448479</td>\n",
       "      <td>1.0</td>\n",
       "      <td>2</td>\n",
       "      <td>1.859098</td>\n",
       "      <td>1.736502</td>\n",
       "      <td>0</td>\n",
       "    </tr>\n",
       "    <tr>\n",
       "      <th>3</th>\n",
       "      <td>0</td>\n",
       "      <td>1</td>\n",
       "      <td>1</td>\n",
       "      <td>1</td>\n",
       "      <td>1</td>\n",
       "      <td>12</td>\n",
       "      <td>1</td>\n",
       "      <td>33</td>\n",
       "      <td>62.669863</td>\n",
       "      <td>12.0</td>\n",
       "      <td>2</td>\n",
       "      <td>3.205633</td>\n",
       "      <td>3.357215</td>\n",
       "      <td>0</td>\n",
       "    </tr>\n",
       "    <tr>\n",
       "      <th>4</th>\n",
       "      <td>1</td>\n",
       "      <td>1</td>\n",
       "      <td>1</td>\n",
       "      <td>1</td>\n",
       "      <td>1</td>\n",
       "      <td>1</td>\n",
       "      <td>0</td>\n",
       "      <td>26</td>\n",
       "      <td>198.362265</td>\n",
       "      <td>1.0</td>\n",
       "      <td>3</td>\n",
       "      <td>1.113884</td>\n",
       "      <td>1.120078</td>\n",
       "      <td>0</td>\n",
       "    </tr>\n",
       "  </tbody>\n",
       "</table>\n",
       "</div>"
      ],
      "text/plain": [
       "   gender  near_location  partner  promo_friends  phone  contract_period  \\\n",
       "0       1              1        1              1      0                6   \n",
       "1       0              1        0              0      1               12   \n",
       "2       0              1        1              0      1                1   \n",
       "3       0              1        1              1      1               12   \n",
       "4       1              1        1              1      1                1   \n",
       "\n",
       "   group_visits  age  avg_additional_charges_total  month_to_end_contract  \\\n",
       "0             1   29                     14.227470                    5.0   \n",
       "1             1   31                    113.202938                   12.0   \n",
       "2             0   28                    129.448479                    1.0   \n",
       "3             1   33                     62.669863                   12.0   \n",
       "4             0   26                    198.362265                    1.0   \n",
       "\n",
       "   lifetime  avg_class_frequency_total  avg_class_frequency_current_month  \\\n",
       "0         3                   0.020398                           0.000000   \n",
       "1         7                   1.922936                           1.910244   \n",
       "2         2                   1.859098                           1.736502   \n",
       "3         2                   3.205633                           3.357215   \n",
       "4         3                   1.113884                           1.120078   \n",
       "\n",
       "   churn  \n",
       "0      0  \n",
       "1      0  \n",
       "2      0  \n",
       "3      0  \n",
       "4      0  "
      ]
     },
     "execution_count": 8,
     "metadata": {},
     "output_type": "execute_result"
    }
   ],
   "source": [
    "gym.head(5)"
   ]
  },
  {
   "cell_type": "markdown",
   "metadata": {},
   "source": [
    "[Volver a la Tabla de Contenido](#indice)"
   ]
  },
  {
   "cell_type": "markdown",
   "metadata": {},
   "source": [
    "<a id=\"analisis_data\"></a>\n",
    "## Análisis exploratorio de datos"
   ]
  },
  {
   "cell_type": "markdown",
   "metadata": {},
   "source": [
    "### Observa el dataset: ¿contiene alguna característica ausente? Estudia los valores promedio y la desviación estándar (utiliza el método describe())."
   ]
  },
  {
   "cell_type": "code",
   "execution_count": 9,
   "metadata": {},
   "outputs": [
    {
     "data": {
      "text/html": [
       "<div>\n",
       "<style scoped>\n",
       "    .dataframe tbody tr th:only-of-type {\n",
       "        vertical-align: middle;\n",
       "    }\n",
       "\n",
       "    .dataframe tbody tr th {\n",
       "        vertical-align: top;\n",
       "    }\n",
       "\n",
       "    .dataframe thead th {\n",
       "        text-align: right;\n",
       "    }\n",
       "</style>\n",
       "<table border=\"1\" class=\"dataframe\">\n",
       "  <thead>\n",
       "    <tr style=\"text-align: right;\">\n",
       "      <th></th>\n",
       "      <th>gender</th>\n",
       "      <th>near_location</th>\n",
       "      <th>partner</th>\n",
       "      <th>promo_friends</th>\n",
       "      <th>phone</th>\n",
       "      <th>contract_period</th>\n",
       "      <th>group_visits</th>\n",
       "      <th>age</th>\n",
       "      <th>avg_additional_charges_total</th>\n",
       "      <th>month_to_end_contract</th>\n",
       "      <th>lifetime</th>\n",
       "      <th>avg_class_frequency_total</th>\n",
       "      <th>avg_class_frequency_current_month</th>\n",
       "      <th>churn</th>\n",
       "    </tr>\n",
       "  </thead>\n",
       "  <tbody>\n",
       "    <tr>\n",
       "      <th>count</th>\n",
       "      <td>4000.000000</td>\n",
       "      <td>4000.000000</td>\n",
       "      <td>4000.000000</td>\n",
       "      <td>4000.000000</td>\n",
       "      <td>4000.000000</td>\n",
       "      <td>4000.000000</td>\n",
       "      <td>4000.000000</td>\n",
       "      <td>4000.000000</td>\n",
       "      <td>4000.000000</td>\n",
       "      <td>4000.000000</td>\n",
       "      <td>4000.000000</td>\n",
       "      <td>4000.000000</td>\n",
       "      <td>4000.000000</td>\n",
       "      <td>4000.000000</td>\n",
       "    </tr>\n",
       "    <tr>\n",
       "      <th>mean</th>\n",
       "      <td>0.510250</td>\n",
       "      <td>0.845250</td>\n",
       "      <td>0.486750</td>\n",
       "      <td>0.308500</td>\n",
       "      <td>0.903500</td>\n",
       "      <td>4.681250</td>\n",
       "      <td>0.412250</td>\n",
       "      <td>29.184250</td>\n",
       "      <td>146.943728</td>\n",
       "      <td>4.322750</td>\n",
       "      <td>3.724750</td>\n",
       "      <td>1.879020</td>\n",
       "      <td>1.767052</td>\n",
       "      <td>0.265250</td>\n",
       "    </tr>\n",
       "    <tr>\n",
       "      <th>std</th>\n",
       "      <td>0.499957</td>\n",
       "      <td>0.361711</td>\n",
       "      <td>0.499887</td>\n",
       "      <td>0.461932</td>\n",
       "      <td>0.295313</td>\n",
       "      <td>4.549706</td>\n",
       "      <td>0.492301</td>\n",
       "      <td>3.258367</td>\n",
       "      <td>96.355602</td>\n",
       "      <td>4.191297</td>\n",
       "      <td>3.749267</td>\n",
       "      <td>0.972245</td>\n",
       "      <td>1.052906</td>\n",
       "      <td>0.441521</td>\n",
       "    </tr>\n",
       "    <tr>\n",
       "      <th>min</th>\n",
       "      <td>0.000000</td>\n",
       "      <td>0.000000</td>\n",
       "      <td>0.000000</td>\n",
       "      <td>0.000000</td>\n",
       "      <td>0.000000</td>\n",
       "      <td>1.000000</td>\n",
       "      <td>0.000000</td>\n",
       "      <td>18.000000</td>\n",
       "      <td>0.148205</td>\n",
       "      <td>1.000000</td>\n",
       "      <td>0.000000</td>\n",
       "      <td>0.000000</td>\n",
       "      <td>0.000000</td>\n",
       "      <td>0.000000</td>\n",
       "    </tr>\n",
       "    <tr>\n",
       "      <th>25%</th>\n",
       "      <td>0.000000</td>\n",
       "      <td>1.000000</td>\n",
       "      <td>0.000000</td>\n",
       "      <td>0.000000</td>\n",
       "      <td>1.000000</td>\n",
       "      <td>1.000000</td>\n",
       "      <td>0.000000</td>\n",
       "      <td>27.000000</td>\n",
       "      <td>68.868830</td>\n",
       "      <td>1.000000</td>\n",
       "      <td>1.000000</td>\n",
       "      <td>1.180875</td>\n",
       "      <td>0.963003</td>\n",
       "      <td>0.000000</td>\n",
       "    </tr>\n",
       "    <tr>\n",
       "      <th>50%</th>\n",
       "      <td>1.000000</td>\n",
       "      <td>1.000000</td>\n",
       "      <td>0.000000</td>\n",
       "      <td>0.000000</td>\n",
       "      <td>1.000000</td>\n",
       "      <td>1.000000</td>\n",
       "      <td>0.000000</td>\n",
       "      <td>29.000000</td>\n",
       "      <td>136.220159</td>\n",
       "      <td>1.000000</td>\n",
       "      <td>3.000000</td>\n",
       "      <td>1.832768</td>\n",
       "      <td>1.719574</td>\n",
       "      <td>0.000000</td>\n",
       "    </tr>\n",
       "    <tr>\n",
       "      <th>75%</th>\n",
       "      <td>1.000000</td>\n",
       "      <td>1.000000</td>\n",
       "      <td>1.000000</td>\n",
       "      <td>1.000000</td>\n",
       "      <td>1.000000</td>\n",
       "      <td>6.000000</td>\n",
       "      <td>1.000000</td>\n",
       "      <td>31.000000</td>\n",
       "      <td>210.949625</td>\n",
       "      <td>6.000000</td>\n",
       "      <td>5.000000</td>\n",
       "      <td>2.536078</td>\n",
       "      <td>2.510336</td>\n",
       "      <td>1.000000</td>\n",
       "    </tr>\n",
       "    <tr>\n",
       "      <th>max</th>\n",
       "      <td>1.000000</td>\n",
       "      <td>1.000000</td>\n",
       "      <td>1.000000</td>\n",
       "      <td>1.000000</td>\n",
       "      <td>1.000000</td>\n",
       "      <td>12.000000</td>\n",
       "      <td>1.000000</td>\n",
       "      <td>41.000000</td>\n",
       "      <td>552.590740</td>\n",
       "      <td>12.000000</td>\n",
       "      <td>31.000000</td>\n",
       "      <td>6.023668</td>\n",
       "      <td>6.146783</td>\n",
       "      <td>1.000000</td>\n",
       "    </tr>\n",
       "  </tbody>\n",
       "</table>\n",
       "</div>"
      ],
      "text/plain": [
       "            gender  near_location      partner  promo_friends        phone  \\\n",
       "count  4000.000000    4000.000000  4000.000000    4000.000000  4000.000000   \n",
       "mean      0.510250       0.845250     0.486750       0.308500     0.903500   \n",
       "std       0.499957       0.361711     0.499887       0.461932     0.295313   \n",
       "min       0.000000       0.000000     0.000000       0.000000     0.000000   \n",
       "25%       0.000000       1.000000     0.000000       0.000000     1.000000   \n",
       "50%       1.000000       1.000000     0.000000       0.000000     1.000000   \n",
       "75%       1.000000       1.000000     1.000000       1.000000     1.000000   \n",
       "max       1.000000       1.000000     1.000000       1.000000     1.000000   \n",
       "\n",
       "       contract_period  group_visits          age  \\\n",
       "count      4000.000000   4000.000000  4000.000000   \n",
       "mean          4.681250      0.412250    29.184250   \n",
       "std           4.549706      0.492301     3.258367   \n",
       "min           1.000000      0.000000    18.000000   \n",
       "25%           1.000000      0.000000    27.000000   \n",
       "50%           1.000000      0.000000    29.000000   \n",
       "75%           6.000000      1.000000    31.000000   \n",
       "max          12.000000      1.000000    41.000000   \n",
       "\n",
       "       avg_additional_charges_total  month_to_end_contract     lifetime  \\\n",
       "count                   4000.000000            4000.000000  4000.000000   \n",
       "mean                     146.943728               4.322750     3.724750   \n",
       "std                       96.355602               4.191297     3.749267   \n",
       "min                        0.148205               1.000000     0.000000   \n",
       "25%                       68.868830               1.000000     1.000000   \n",
       "50%                      136.220159               1.000000     3.000000   \n",
       "75%                      210.949625               6.000000     5.000000   \n",
       "max                      552.590740              12.000000    31.000000   \n",
       "\n",
       "       avg_class_frequency_total  avg_class_frequency_current_month  \\\n",
       "count                4000.000000                        4000.000000   \n",
       "mean                    1.879020                           1.767052   \n",
       "std                     0.972245                           1.052906   \n",
       "min                     0.000000                           0.000000   \n",
       "25%                     1.180875                           0.963003   \n",
       "50%                     1.832768                           1.719574   \n",
       "75%                     2.536078                           2.510336   \n",
       "max                     6.023668                           6.146783   \n",
       "\n",
       "             churn  \n",
       "count  4000.000000  \n",
       "mean      0.265250  \n",
       "std       0.441521  \n",
       "min       0.000000  \n",
       "25%       0.000000  \n",
       "50%       0.000000  \n",
       "75%       1.000000  \n",
       "max       1.000000  "
      ]
     },
     "execution_count": 9,
     "metadata": {},
     "output_type": "execute_result"
    }
   ],
   "source": [
    "# Visualizamos la información estadística de la tabla \"gym\"\n",
    "gym.describe()"
   ]
  },
  {
   "cell_type": "markdown",
   "metadata": {},
   "source": [
    "Se observa lo siguiente:\n",
    "- La muestra contiene equidad de género, 50% aprox corresponde a cada género.\n",
    "- Los usuarios en su mayoría viven cerca a la locación del gimnasio.\n",
    "- La mayoría de usuarios pertenece a una empresa asociada con el gimnasio.\n",
    "- La mayoría de usuarios dejo su contacto de celular.\n",
    " - El contrato de membresía suele realizarse a 1 mes (el 50% se registra bajo esa modalidad), seguido de los que se registran a 6 meses (25% del total) y un  25% a 12 meses.\n",
    "- Hay mayor cantidad de usuarios que no participan de clases grupales.\n",
    "- El rango de edad de los usuarios oscila entre 18 y 41 años, donde la edad promedio es de 29 años.\n",
    "- La compras adicionales que realizan los clientes oscilan entre $0.14 y $553.\n",
    "- La mayor cantidad de usuarios tiene la membresía activa."
   ]
  },
  {
   "cell_type": "markdown",
   "metadata": {},
   "source": [
    "### Observa los valores medios de las características en dos grupos: para las personas que se fueron (cancelación) y para las que se quedaron (utiliza el método groupby()). "
   ]
  },
  {
   "cell_type": "code",
   "execution_count": 10,
   "metadata": {},
   "outputs": [
    {
     "data": {
      "text/html": [
       "<div>\n",
       "<style scoped>\n",
       "    .dataframe tbody tr th:only-of-type {\n",
       "        vertical-align: middle;\n",
       "    }\n",
       "\n",
       "    .dataframe tbody tr th {\n",
       "        vertical-align: top;\n",
       "    }\n",
       "\n",
       "    .dataframe thead th {\n",
       "        text-align: right;\n",
       "    }\n",
       "</style>\n",
       "<table border=\"1\" class=\"dataframe\">\n",
       "  <thead>\n",
       "    <tr style=\"text-align: right;\">\n",
       "      <th></th>\n",
       "      <th>contract_period</th>\n",
       "      <th>age</th>\n",
       "      <th>avg_additional_charges_total</th>\n",
       "      <th>month_to_end_contract</th>\n",
       "      <th>lifetime</th>\n",
       "      <th>avg_class_frequency_total</th>\n",
       "      <th>avg_class_frequency_current_month</th>\n",
       "    </tr>\n",
       "    <tr>\n",
       "      <th>churn</th>\n",
       "      <th></th>\n",
       "      <th></th>\n",
       "      <th></th>\n",
       "      <th></th>\n",
       "      <th></th>\n",
       "      <th></th>\n",
       "      <th></th>\n",
       "    </tr>\n",
       "  </thead>\n",
       "  <tbody>\n",
       "    <tr>\n",
       "      <th>0</th>\n",
       "      <td>5.747193</td>\n",
       "      <td>29.976523</td>\n",
       "      <td>158.445715</td>\n",
       "      <td>5.283089</td>\n",
       "      <td>4.711807</td>\n",
       "      <td>2.024876</td>\n",
       "      <td>2.027882</td>\n",
       "    </tr>\n",
       "    <tr>\n",
       "      <th>1</th>\n",
       "      <td>1.728558</td>\n",
       "      <td>26.989632</td>\n",
       "      <td>115.082899</td>\n",
       "      <td>1.662582</td>\n",
       "      <td>0.990575</td>\n",
       "      <td>1.474995</td>\n",
       "      <td>1.044546</td>\n",
       "    </tr>\n",
       "  </tbody>\n",
       "</table>\n",
       "</div>"
      ],
      "text/plain": [
       "       contract_period        age  avg_additional_charges_total  \\\n",
       "churn                                                             \n",
       "0             5.747193  29.976523                    158.445715   \n",
       "1             1.728558  26.989632                    115.082899   \n",
       "\n",
       "       month_to_end_contract  lifetime  avg_class_frequency_total  \\\n",
       "churn                                                               \n",
       "0                   5.283089  4.711807                   2.024876   \n",
       "1                   1.662582  0.990575                   1.474995   \n",
       "\n",
       "       avg_class_frequency_current_month  \n",
       "churn                                     \n",
       "0                               2.027882  \n",
       "1                               1.044546  "
      ]
     },
     "execution_count": 10,
     "metadata": {},
     "output_type": "execute_result"
    }
   ],
   "source": [
    "# Calcularemos los valores medios para las características que no sean variables cualitativas.\n",
    "churn_users = gym.groupby('churn').agg({'contract_period':'mean', 'age':'mean','avg_additional_charges_total':'mean', 'month_to_end_contract':'mean',\n",
    "                                        'lifetime':'mean', 'avg_class_frequency_total':'mean', 'avg_class_frequency_current_month':'mean'})\n",
    "\n",
    "churn_users.head(5)"
   ]
  },
  {
   "cell_type": "markdown",
   "metadata": {},
   "source": [
    "Partiendo de que churn en 0 significa membresía activa y 1 membresía anulada, se observa que:\n",
    "- Los usuarios con membresías activas tienden a contratar sus membresías a 6 meses, mientras que los anulan lo hacen a 1 mes.\n",
    "- La edad promedio de usuarios que mantienen sus membresías activas (30 años) son mayores a los de membresía anulada (27 años).\n",
    "- Los usuarios con membresía activa tiene un consumo promedio mayor a los de membresía anulada.\n",
    "- La cantidad de meses para que finalice el contrato de cada usuario es mayor en los usuarios con membresía activa.\n",
    "- El tiempo promedio de los usuarios con membresía activa es mayor.\n",
    "- Semanalmente, la cantidad de clases promedio a la que asisten los usuarios con membresía activa es mayor. Y tiene una tendencia similar a la cantidad de clases por semana del mes en curso."
   ]
  },
  {
   "cell_type": "markdown",
   "metadata": {},
   "source": [
    "### Traza histogramas de barras y distribuciones de características para aquellas personas que se fueron (cancelación) y para las que se quedaron. "
   ]
  },
  {
   "cell_type": "markdown",
   "metadata": {},
   "source": [
    "Graficaremos histogramas de distribuciones, diferenciando si cancelaron sus membresías. Tomando en cuenta a las características no categorícas.\n",
    "- age\n",
    "- lifetime\n",
    "- contract_period\n",
    "- month_to_end_contract\n",
    "- avg_class_frequency_total\n",
    "- avg_class_frequency_current_month\n",
    "- avg_additional_charges_total"
   ]
  },
  {
   "cell_type": "code",
   "execution_count": 11,
   "metadata": {},
   "outputs": [
    {
     "data": {
      "text/plain": [
       "<matplotlib.legend.Legend at 0x7fcea7babee0>"
      ]
     },
     "execution_count": 11,
     "metadata": {},
     "output_type": "execute_result"
    },
    {
     "data": {
      "image/png": "[encoded data removed]",
      "text/plain": [
       "<Figure size 640x480 with 1 Axes>"
      ]
     },
     "metadata": {},
     "output_type": "display_data"
    }
   ],
   "source": [
    "# Gráfica de histograma para el campo \"age\"\n",
    "sns.histplot(x='age', data=gym, hue='churn')\n",
    "plt.legend(labels=['Membresia Anulada', 'Membresia Vigente'])"
   ]
  },
  {
   "cell_type": "markdown",
   "metadata": {},
   "source": [
    "Se observa que la cantidad de personas que van al gimnasio y tienen membresia vigente se concentra entre las edades de 25 y 35 años."
   ]
  },
  {
   "cell_type": "code",
   "execution_count": 12,
   "metadata": {},
   "outputs": [
    {
     "data": {
      "text/plain": [
       "<matplotlib.legend.Legend at 0x7fcea7ac16a0>"
      ]
     },
     "execution_count": 12,
     "metadata": {},
     "output_type": "execute_result"
    },
    {
     "data": {
      "image/png": "[encoded data removed]",
      "text/plain": [
       "<Figure size 640x480 with 1 Axes>"
      ]
     },
     "metadata": {},
     "output_type": "display_data"
    }
   ],
   "source": [
    "# Gráfica de histograma para el campo \"lifetime\"\n",
    "sns.histplot(x='lifetime', data=gym, hue='churn')\n",
    "plt.legend(labels=['Membresia Anulada', 'Membresia Vigente'])"
   ]
  },
  {
   "cell_type": "markdown",
   "metadata": {},
   "source": [
    "La mayoría de usuarios permanece con su membresía activa por lo menos 4 meses. Excepcionalmente hay algunos usuarios que la han mantenido hasta 31 meses."
   ]
  },
  {
   "cell_type": "code",
   "execution_count": 13,
   "metadata": {},
   "outputs": [
    {
     "data": {
      "text/plain": [
       "<matplotlib.legend.Legend at 0x7fcea73c7e50>"
      ]
     },
     "execution_count": 13,
     "metadata": {},
     "output_type": "execute_result"
    },
    {
     "data": {
      "image/png": "[encoded data removed]",
      "text/plain": [
       "<Figure size 640x480 with 1 Axes>"
      ]
     },
     "metadata": {},
     "output_type": "display_data"
    }
   ],
   "source": [
    "# Gráfica de histograma para el campo \"contract_period\"\n",
    "sns.histplot(x='contract_period', data=gym, hue='churn')\n",
    "plt.legend(labels=['Membresia Anulada', 'Membresia Vigente'])"
   ]
  },
  {
   "cell_type": "markdown",
   "metadata": {},
   "source": [
    "Los usuarios con contrato de membresía de 6 y 12 meses son los que permanecen en el gimnasio, mientras que los que contratan a 1 mes terminan por anularla."
   ]
  },
  {
   "cell_type": "code",
   "execution_count": 14,
   "metadata": {},
   "outputs": [
    {
     "data": {
      "text/plain": [
       "<matplotlib.legend.Legend at 0x7fcef024a070>"
      ]
     },
     "execution_count": 14,
     "metadata": {},
     "output_type": "execute_result"
    },
    {
     "data": {
      "image/png": "[encoded data removed]",
      "text/plain": [
       "<Figure size 640x480 with 1 Axes>"
      ]
     },
     "metadata": {},
     "output_type": "display_data"
    }
   ],
   "source": [
    "# Gráfica de histograma para el campo \"month_to_end_contract\"\n",
    "sns.histplot(x='month_to_end_contract', data=gym, hue='churn')\n",
    "plt.legend(labels=['Membresia Anulada', 'Membresia Vigente'])"
   ]
  },
  {
   "cell_type": "markdown",
   "metadata": {},
   "source": [
    "Los usuarios que le quedan 1 mes por finalizar su contrato son los que terminan anulando su membresía, mientras que los que le queda de 6 a más meses se mantienen."
   ]
  },
  {
   "cell_type": "code",
   "execution_count": 15,
   "metadata": {},
   "outputs": [
    {
     "data": {
      "text/plain": [
       "<matplotlib.legend.Legend at 0x7fcef024a6a0>"
      ]
     },
     "execution_count": 15,
     "metadata": {},
     "output_type": "execute_result"
    },
    {
     "data": {
      "image/png": "[encoded data removed]",
      "text/plain": [
       "<Figure size 640x480 with 1 Axes>"
      ]
     },
     "metadata": {},
     "output_type": "display_data"
    }
   ],
   "source": [
    "# Gráfica de histograma para el campo \"avg_class_frequency_total\"\n",
    "sns.histplot(x='avg_class_frequency_total', data=gym, hue='churn')\n",
    "plt.legend(labels=['Membresia Anulada', 'Membresia Vigente'])"
   ]
  },
  {
   "cell_type": "markdown",
   "metadata": {},
   "source": [
    "Mientras más cantidad de días va el usuario al gimnasio mayor cantidad de usuarios con membresia vigente se tienen."
   ]
  },
  {
   "cell_type": "code",
   "execution_count": 16,
   "metadata": {},
   "outputs": [
    {
     "data": {
      "text/plain": [
       "<matplotlib.legend.Legend at 0x7fcea6b034f0>"
      ]
     },
     "execution_count": 16,
     "metadata": {},
     "output_type": "execute_result"
    },
    {
     "data": {
      "image/png": "[encoded data removed]",
      "text/plain": [
       "<Figure size 640x480 with 1 Axes>"
      ]
     },
     "metadata": {},
     "output_type": "display_data"
    }
   ],
   "source": [
    "# Gráfica de histograma para el campo \"avg_class_frequency_current_month\"\n",
    "sns.histplot(x='avg_class_frequency_current_month', data=gym, hue='churn')\n",
    "plt.legend(labels=['Membresia Anulada', 'Membresia Vigente'])"
   ]
  },
  {
   "cell_type": "markdown",
   "metadata": {},
   "source": [
    "Los usuarios que no asisten o van 1 a 2 veces a la semana al gimnasio durante el último mes son los que terminan cancelando su membresía. Mientras que los que van más de 2 veces mantienen su membresía vigente."
   ]
  },
  {
   "cell_type": "code",
   "execution_count": 17,
   "metadata": {},
   "outputs": [
    {
     "data": {
      "text/plain": [
       "<matplotlib.legend.Legend at 0x7fcea6e8f970>"
      ]
     },
     "execution_count": 17,
     "metadata": {},
     "output_type": "execute_result"
    },
    {
     "data": {
      "image/png": "[encoded data removed]",
      "text/plain": [
       "<Figure size 640x480 with 1 Axes>"
      ]
     },
     "metadata": {},
     "output_type": "display_data"
    }
   ],
   "source": [
    "# Gráfica de histograma para el campo \"avg_additional_charges_total\"\n",
    "sns.histplot(x='avg_additional_charges_total', data=gym, hue='churn')\n",
    "plt.legend(labels=['Membresia Anulada', 'Membresia Vigente'])"
   ]
  },
  {
   "cell_type": "markdown",
   "metadata": {},
   "source": [
    "Se observa que los clientes con membresias activas son los que más han consumido en promedio; sin embargo, eso podría verse impactado porque al permanecer más tiempo en el gimnasio su gasto acumulado sería mayor."
   ]
  },
  {
   "cell_type": "markdown",
   "metadata": {},
   "source": [
    "### Crea una matriz de correlación y muéstrala."
   ]
  },
  {
   "cell_type": "code",
   "execution_count": 18,
   "metadata": {},
   "outputs": [
    {
     "data": {
      "text/html": [
       "<div>\n",
       "<style scoped>\n",
       "    .dataframe tbody tr th:only-of-type {\n",
       "        vertical-align: middle;\n",
       "    }\n",
       "\n",
       "    .dataframe tbody tr th {\n",
       "        vertical-align: top;\n",
       "    }\n",
       "\n",
       "    .dataframe thead th {\n",
       "        text-align: right;\n",
       "    }\n",
       "</style>\n",
       "<table border=\"1\" class=\"dataframe\">\n",
       "  <thead>\n",
       "    <tr style=\"text-align: right;\">\n",
       "      <th></th>\n",
       "      <th>gender</th>\n",
       "      <th>near_location</th>\n",
       "      <th>partner</th>\n",
       "      <th>promo_friends</th>\n",
       "      <th>phone</th>\n",
       "      <th>contract_period</th>\n",
       "      <th>group_visits</th>\n",
       "      <th>age</th>\n",
       "      <th>avg_additional_charges_total</th>\n",
       "      <th>month_to_end_contract</th>\n",
       "      <th>lifetime</th>\n",
       "      <th>avg_class_frequency_total</th>\n",
       "      <th>avg_class_frequency_current_month</th>\n",
       "      <th>churn</th>\n",
       "    </tr>\n",
       "  </thead>\n",
       "  <tbody>\n",
       "    <tr>\n",
       "      <th>gender</th>\n",
       "      <td>1.000000</td>\n",
       "      <td>0.006699</td>\n",
       "      <td>-0.010463</td>\n",
       "      <td>-0.005033</td>\n",
       "      <td>-0.008542</td>\n",
       "      <td>0.000502</td>\n",
       "      <td>0.017879</td>\n",
       "      <td>0.013807</td>\n",
       "      <td>-0.009334</td>\n",
       "      <td>-0.001281</td>\n",
       "      <td>0.013579</td>\n",
       "      <td>0.014620</td>\n",
       "      <td>0.009156</td>\n",
       "      <td>0.000708</td>\n",
       "    </tr>\n",
       "    <tr>\n",
       "      <th>near_location</th>\n",
       "      <td>0.006699</td>\n",
       "      <td>1.000000</td>\n",
       "      <td>-0.005119</td>\n",
       "      <td>0.210964</td>\n",
       "      <td>-0.015763</td>\n",
       "      <td>0.150233</td>\n",
       "      <td>0.154728</td>\n",
       "      <td>0.058358</td>\n",
       "      <td>0.040761</td>\n",
       "      <td>0.143961</td>\n",
       "      <td>0.070921</td>\n",
       "      <td>0.043127</td>\n",
       "      <td>0.062664</td>\n",
       "      <td>-0.128098</td>\n",
       "    </tr>\n",
       "    <tr>\n",
       "      <th>partner</th>\n",
       "      <td>-0.010463</td>\n",
       "      <td>-0.005119</td>\n",
       "      <td>1.000000</td>\n",
       "      <td>0.451960</td>\n",
       "      <td>0.009970</td>\n",
       "      <td>0.306166</td>\n",
       "      <td>0.022710</td>\n",
       "      <td>0.047480</td>\n",
       "      <td>0.022941</td>\n",
       "      <td>0.294632</td>\n",
       "      <td>0.061229</td>\n",
       "      <td>0.024938</td>\n",
       "      <td>0.045561</td>\n",
       "      <td>-0.157986</td>\n",
       "    </tr>\n",
       "    <tr>\n",
       "      <th>promo_friends</th>\n",
       "      <td>-0.005033</td>\n",
       "      <td>0.210964</td>\n",
       "      <td>0.451960</td>\n",
       "      <td>1.000000</td>\n",
       "      <td>0.001982</td>\n",
       "      <td>0.244552</td>\n",
       "      <td>0.120170</td>\n",
       "      <td>0.050113</td>\n",
       "      <td>0.036898</td>\n",
       "      <td>0.239553</td>\n",
       "      <td>0.072721</td>\n",
       "      <td>0.028063</td>\n",
       "      <td>0.053768</td>\n",
       "      <td>-0.162233</td>\n",
       "    </tr>\n",
       "    <tr>\n",
       "      <th>phone</th>\n",
       "      <td>-0.008542</td>\n",
       "      <td>-0.015763</td>\n",
       "      <td>0.009970</td>\n",
       "      <td>0.001982</td>\n",
       "      <td>1.000000</td>\n",
       "      <td>-0.006893</td>\n",
       "      <td>-0.010099</td>\n",
       "      <td>-0.011403</td>\n",
       "      <td>0.009279</td>\n",
       "      <td>-0.011196</td>\n",
       "      <td>-0.018801</td>\n",
       "      <td>0.008340</td>\n",
       "      <td>0.013375</td>\n",
       "      <td>-0.001177</td>\n",
       "    </tr>\n",
       "    <tr>\n",
       "      <th>contract_period</th>\n",
       "      <td>0.000502</td>\n",
       "      <td>0.150233</td>\n",
       "      <td>0.306166</td>\n",
       "      <td>0.244552</td>\n",
       "      <td>-0.006893</td>\n",
       "      <td>1.000000</td>\n",
       "      <td>0.169991</td>\n",
       "      <td>0.138249</td>\n",
       "      <td>0.111445</td>\n",
       "      <td>0.973064</td>\n",
       "      <td>0.170725</td>\n",
       "      <td>0.096211</td>\n",
       "      <td>0.159407</td>\n",
       "      <td>-0.389984</td>\n",
       "    </tr>\n",
       "    <tr>\n",
       "      <th>group_visits</th>\n",
       "      <td>0.017879</td>\n",
       "      <td>0.154728</td>\n",
       "      <td>0.022710</td>\n",
       "      <td>0.120170</td>\n",
       "      <td>-0.010099</td>\n",
       "      <td>0.169991</td>\n",
       "      <td>1.000000</td>\n",
       "      <td>0.080934</td>\n",
       "      <td>0.032079</td>\n",
       "      <td>0.163703</td>\n",
       "      <td>0.075853</td>\n",
       "      <td>0.056695</td>\n",
       "      <td>0.075923</td>\n",
       "      <td>-0.175325</td>\n",
       "    </tr>\n",
       "    <tr>\n",
       "      <th>age</th>\n",
       "      <td>0.013807</td>\n",
       "      <td>0.058358</td>\n",
       "      <td>0.047480</td>\n",
       "      <td>0.050113</td>\n",
       "      <td>-0.011403</td>\n",
       "      <td>0.138249</td>\n",
       "      <td>0.080934</td>\n",
       "      <td>1.000000</td>\n",
       "      <td>0.080240</td>\n",
       "      <td>0.134511</td>\n",
       "      <td>0.164693</td>\n",
       "      <td>0.119953</td>\n",
       "      <td>0.183095</td>\n",
       "      <td>-0.404735</td>\n",
       "    </tr>\n",
       "    <tr>\n",
       "      <th>avg_additional_charges_total</th>\n",
       "      <td>-0.009334</td>\n",
       "      <td>0.040761</td>\n",
       "      <td>0.022941</td>\n",
       "      <td>0.036898</td>\n",
       "      <td>0.009279</td>\n",
       "      <td>0.111445</td>\n",
       "      <td>0.032079</td>\n",
       "      <td>0.080240</td>\n",
       "      <td>1.000000</td>\n",
       "      <td>0.113958</td>\n",
       "      <td>0.079028</td>\n",
       "      <td>0.044426</td>\n",
       "      <td>0.079570</td>\n",
       "      <td>-0.198697</td>\n",
       "    </tr>\n",
       "    <tr>\n",
       "      <th>month_to_end_contract</th>\n",
       "      <td>-0.001281</td>\n",
       "      <td>0.143961</td>\n",
       "      <td>0.294632</td>\n",
       "      <td>0.239553</td>\n",
       "      <td>-0.011196</td>\n",
       "      <td>0.973064</td>\n",
       "      <td>0.163703</td>\n",
       "      <td>0.134511</td>\n",
       "      <td>0.113958</td>\n",
       "      <td>1.000000</td>\n",
       "      <td>0.161078</td>\n",
       "      <td>0.085387</td>\n",
       "      <td>0.147605</td>\n",
       "      <td>-0.381393</td>\n",
       "    </tr>\n",
       "    <tr>\n",
       "      <th>lifetime</th>\n",
       "      <td>0.013579</td>\n",
       "      <td>0.070921</td>\n",
       "      <td>0.061229</td>\n",
       "      <td>0.072721</td>\n",
       "      <td>-0.018801</td>\n",
       "      <td>0.170725</td>\n",
       "      <td>0.075853</td>\n",
       "      <td>0.164693</td>\n",
       "      <td>0.079028</td>\n",
       "      <td>0.161078</td>\n",
       "      <td>1.000000</td>\n",
       "      <td>0.112338</td>\n",
       "      <td>0.181975</td>\n",
       "      <td>-0.438220</td>\n",
       "    </tr>\n",
       "    <tr>\n",
       "      <th>avg_class_frequency_total</th>\n",
       "      <td>0.014620</td>\n",
       "      <td>0.043127</td>\n",
       "      <td>0.024938</td>\n",
       "      <td>0.028063</td>\n",
       "      <td>0.008340</td>\n",
       "      <td>0.096211</td>\n",
       "      <td>0.056695</td>\n",
       "      <td>0.119953</td>\n",
       "      <td>0.044426</td>\n",
       "      <td>0.085387</td>\n",
       "      <td>0.112338</td>\n",
       "      <td>1.000000</td>\n",
       "      <td>0.952739</td>\n",
       "      <td>-0.249715</td>\n",
       "    </tr>\n",
       "    <tr>\n",
       "      <th>avg_class_frequency_current_month</th>\n",
       "      <td>0.009156</td>\n",
       "      <td>0.062664</td>\n",
       "      <td>0.045561</td>\n",
       "      <td>0.053768</td>\n",
       "      <td>0.013375</td>\n",
       "      <td>0.159407</td>\n",
       "      <td>0.075923</td>\n",
       "      <td>0.183095</td>\n",
       "      <td>0.079570</td>\n",
       "      <td>0.147605</td>\n",
       "      <td>0.181975</td>\n",
       "      <td>0.952739</td>\n",
       "      <td>1.000000</td>\n",
       "      <td>-0.412348</td>\n",
       "    </tr>\n",
       "    <tr>\n",
       "      <th>churn</th>\n",
       "      <td>0.000708</td>\n",
       "      <td>-0.128098</td>\n",
       "      <td>-0.157986</td>\n",
       "      <td>-0.162233</td>\n",
       "      <td>-0.001177</td>\n",
       "      <td>-0.389984</td>\n",
       "      <td>-0.175325</td>\n",
       "      <td>-0.404735</td>\n",
       "      <td>-0.198697</td>\n",
       "      <td>-0.381393</td>\n",
       "      <td>-0.438220</td>\n",
       "      <td>-0.249715</td>\n",
       "      <td>-0.412348</td>\n",
       "      <td>1.000000</td>\n",
       "    </tr>\n",
       "  </tbody>\n",
       "</table>\n",
       "</div>"
      ],
      "text/plain": [
       "                                     gender  near_location   partner  \\\n",
       "gender                             1.000000       0.006699 -0.010463   \n",
       "near_location                      0.006699       1.000000 -0.005119   \n",
       "partner                           -0.010463      -0.005119  1.000000   \n",
       "promo_friends                     -0.005033       0.210964  0.451960   \n",
       "phone                             -0.008542      -0.015763  0.009970   \n",
       "contract_period                    0.000502       0.150233  0.306166   \n",
       "group_visits                       0.017879       0.154728  0.022710   \n",
       "age                                0.013807       0.058358  0.047480   \n",
       "avg_additional_charges_total      -0.009334       0.040761  0.022941   \n",
       "month_to_end_contract             -0.001281       0.143961  0.294632   \n",
       "lifetime                           0.013579       0.070921  0.061229   \n",
       "avg_class_frequency_total          0.014620       0.043127  0.024938   \n",
       "avg_class_frequency_current_month  0.009156       0.062664  0.045561   \n",
       "churn                              0.000708      -0.128098 -0.157986   \n",
       "\n",
       "                                   promo_friends     phone  contract_period  \\\n",
       "gender                                 -0.005033 -0.008542         0.000502   \n",
       "near_location                           0.210964 -0.015763         0.150233   \n",
       "partner                                 0.451960  0.009970         0.306166   \n",
       "promo_friends                           1.000000  0.001982         0.244552   \n",
       "phone                                   0.001982  1.000000        -0.006893   \n",
       "contract_period                         0.244552 -0.006893         1.000000   \n",
       "group_visits                            0.120170 -0.010099         0.169991   \n",
       "age                                     0.050113 -0.011403         0.138249   \n",
       "avg_additional_charges_total            0.036898  0.009279         0.111445   \n",
       "month_to_end_contract                   0.239553 -0.011196         0.973064   \n",
       "lifetime                                0.072721 -0.018801         0.170725   \n",
       "avg_class_frequency_total               0.028063  0.008340         0.096211   \n",
       "avg_class_frequency_current_month       0.053768  0.013375         0.159407   \n",
       "churn                                  -0.162233 -0.001177        -0.389984   \n",
       "\n",
       "                                   group_visits       age  \\\n",
       "gender                                 0.017879  0.013807   \n",
       "near_location                          0.154728  0.058358   \n",
       "partner                                0.022710  0.047480   \n",
       "promo_friends                          0.120170  0.050113   \n",
       "phone                                 -0.010099 -0.011403   \n",
       "contract_period                        0.169991  0.138249   \n",
       "group_visits                           1.000000  0.080934   \n",
       "age                                    0.080934  1.000000   \n",
       "avg_additional_charges_total           0.032079  0.080240   \n",
       "month_to_end_contract                  0.163703  0.134511   \n",
       "lifetime                               0.075853  0.164693   \n",
       "avg_class_frequency_total              0.056695  0.119953   \n",
       "avg_class_frequency_current_month      0.075923  0.183095   \n",
       "churn                                 -0.175325 -0.404735   \n",
       "\n",
       "                                   avg_additional_charges_total  \\\n",
       "gender                                                -0.009334   \n",
       "near_location                                          0.040761   \n",
       "partner                                                0.022941   \n",
       "promo_friends                                          0.036898   \n",
       "phone                                                  0.009279   \n",
       "contract_period                                        0.111445   \n",
       "group_visits                                           0.032079   \n",
       "age                                                    0.080240   \n",
       "avg_additional_charges_total                           1.000000   \n",
       "month_to_end_contract                                  0.113958   \n",
       "lifetime                                               0.079028   \n",
       "avg_class_frequency_total                              0.044426   \n",
       "avg_class_frequency_current_month                      0.079570   \n",
       "churn                                                 -0.198697   \n",
       "\n",
       "                                   month_to_end_contract  lifetime  \\\n",
       "gender                                         -0.001281  0.013579   \n",
       "near_location                                   0.143961  0.070921   \n",
       "partner                                         0.294632  0.061229   \n",
       "promo_friends                                   0.239553  0.072721   \n",
       "phone                                          -0.011196 -0.018801   \n",
       "contract_period                                 0.973064  0.170725   \n",
       "group_visits                                    0.163703  0.075853   \n",
       "age                                             0.134511  0.164693   \n",
       "avg_additional_charges_total                    0.113958  0.079028   \n",
       "month_to_end_contract                           1.000000  0.161078   \n",
       "lifetime                                        0.161078  1.000000   \n",
       "avg_class_frequency_total                       0.085387  0.112338   \n",
       "avg_class_frequency_current_month               0.147605  0.181975   \n",
       "churn                                          -0.381393 -0.438220   \n",
       "\n",
       "                                   avg_class_frequency_total  \\\n",
       "gender                                              0.014620   \n",
       "near_location                                       0.043127   \n",
       "partner                                             0.024938   \n",
       "promo_friends                                       0.028063   \n",
       "phone                                               0.008340   \n",
       "contract_period                                     0.096211   \n",
       "group_visits                                        0.056695   \n",
       "age                                                 0.119953   \n",
       "avg_additional_charges_total                        0.044426   \n",
       "month_to_end_contract                               0.085387   \n",
       "lifetime                                            0.112338   \n",
       "avg_class_frequency_total                           1.000000   \n",
       "avg_class_frequency_current_month                   0.952739   \n",
       "churn                                              -0.249715   \n",
       "\n",
       "                                   avg_class_frequency_current_month     churn  \n",
       "gender                                                      0.009156  0.000708  \n",
       "near_location                                               0.062664 -0.128098  \n",
       "partner                                                     0.045561 -0.157986  \n",
       "promo_friends                                               0.053768 -0.162233  \n",
       "phone                                                       0.013375 -0.001177  \n",
       "contract_period                                             0.159407 -0.389984  \n",
       "group_visits                                                0.075923 -0.175325  \n",
       "age                                                         0.183095 -0.404735  \n",
       "avg_additional_charges_total                                0.079570 -0.198697  \n",
       "month_to_end_contract                                       0.147605 -0.381393  \n",
       "lifetime                                                    0.181975 -0.438220  \n",
       "avg_class_frequency_total                                   0.952739 -0.249715  \n",
       "avg_class_frequency_current_month                           1.000000 -0.412348  \n",
       "churn                                                      -0.412348  1.000000  "
      ]
     },
     "execution_count": 18,
     "metadata": {},
     "output_type": "execute_result"
    }
   ],
   "source": [
    "# Visualizamos matriz de correlación\n",
    "corr_gym = gym.corr()\n",
    "corr_gym"
   ]
  },
  {
   "cell_type": "code",
   "execution_count": 19,
   "metadata": {},
   "outputs": [
    {
     "data": {
      "image/png": "[encoded data removed]",
      "text/plain": [
       "<Figure size 640x480 with 2 Axes>"
      ]
     },
     "metadata": {},
     "output_type": "display_data"
    }
   ],
   "source": [
    "# Graficamos la matriz de correlación usando heatmap\n",
    "sns.heatmap(data=corr_gym, cmap=\"YlGnBu\")\n",
    "plt.show()"
   ]
  },
  {
   "cell_type": "markdown",
   "metadata": {},
   "source": [
    "De la gráfica de correlación sobresale las siguientes características para su alto porcentaje de correlación:\n",
    "- contract_period vs month_to_end_contract\n",
    "- avg_class_frequency_current_month vs avg_class_frequency_total"
   ]
  },
  {
   "cell_type": "markdown",
   "metadata": {},
   "source": [
    "[Volver a la Tabla de Contenido](#indice)"
   ]
  },
  {
   "cell_type": "markdown",
   "metadata": {},
   "source": [
    "<a id=creacion_modelo_predictivo></a>\n",
    "## Construcción de un modelo para predecir la cancelación de usuarios"
   ]
  },
  {
   "cell_type": "markdown",
   "metadata": {},
   "source": [
    "Crea un modelo de clasificación binaria para clientes donde la característica objetivo es la marcha del usuario o la usuaria el mes siguiente. "
   ]
  },
  {
   "cell_type": "markdown",
   "metadata": {},
   "source": [
    "### Divide los datos en conjuntos de entrenamiento y validación utilizando la función train_test_split(). "
   ]
  },
  {
   "cell_type": "code",
   "execution_count": 20,
   "metadata": {},
   "outputs": [],
   "source": [
    "# Creamos las matrices de características y el vector con la variable objetivo\n",
    "X = gym.drop('churn', axis=1)\n",
    "y = gym['churn']\n",
    "X_train, X_test, y_train, y_test = train_test_split(X, y, test_size=0.2, random_state=0)\n",
    "\n",
    "# Estandarizamos los datos antes de empezar a entrenar el modelo\n",
    "scaler = StandardScaler()\n",
    "# Entrenamos el scaler y transformamos la matriz para el entrenamiento\n",
    "X_train_st = scaler.fit_transform(X_train)\n",
    "# Aplicamos la estandarización a la matriz de característica para el test de prueba\n",
    "X_test_st = scaler.transform(X_test)"
   ]
  },
  {
   "cell_type": "markdown",
   "metadata": {},
   "source": [
    "### Entrena el modelo en el set de entrenamiento con dos métodos: regresión logística y bosque aleatorio."
   ]
  },
  {
   "cell_type": "markdown",
   "metadata": {},
   "source": [
    "####  Entrenando al modelo con el método \"regresión logística\""
   ]
  },
  {
   "cell_type": "code",
   "execution_count": 21,
   "metadata": {},
   "outputs": [],
   "source": [
    "# Definimos el modelo\n",
    "model_a = LogisticRegression(random_state=0)\n",
    "\n",
    "# Entrenamos el modelo\n",
    "model_a.fit(X_train_st, y_train)\n",
    "\n",
    "# Hallando predicciones\n",
    "predictions_a = model_a.predict(X_test_st)\n",
    "probabilities_a = model_a.predict_proba(X_test_st)"
   ]
  },
  {
   "cell_type": "markdown",
   "metadata": {},
   "source": [
    "#### Entrenando al modelo con el método \"bosque aleatorio\""
   ]
  },
  {
   "cell_type": "code",
   "execution_count": 22,
   "metadata": {},
   "outputs": [],
   "source": [
    "# Definimos el modelo\n",
    "model_b = RandomForestClassifier(random_state=0)\n",
    "\n",
    "# Entrenamos el modelo\n",
    "model_b.fit(X_train_st, y_train)\n",
    "\n",
    "# Hallando predicciones\n",
    "predictions_b = model_b.predict(X_test_st)\n",
    "probabilities_b = model_b.predict_proba(X_test_st)"
   ]
  },
  {
   "cell_type": "markdown",
   "metadata": {},
   "source": [
    "### Evalúa la exactitud, precisión y recall para ambos modelos utilizando los datos de validación. Utilízalos para comparar los modelos. ¿Qué modelo dio mejores resultados?"
   ]
  },
  {
   "cell_type": "markdown",
   "metadata": {},
   "source": [
    "#### Métricas para el modelo con el método \"regresión logística\""
   ]
  },
  {
   "cell_type": "code",
   "execution_count": 23,
   "metadata": {},
   "outputs": [
    {
     "name": "stdout",
     "output_type": "stream",
     "text": [
      "Exactitud: 0.92\n",
      "Precisión: 0.85\n",
      "Recall: 0.83\n"
     ]
    }
   ],
   "source": [
    "print('Exactitud: {:.2f}'.format(accuracy_score(y_test, predictions_a)))\n",
    "print('Precisión: {:.2f}'.format(precision_score(y_test, predictions_a)))\n",
    "print('Recall: {:.2f}'.format(recall_score(y_test, predictions_a)))"
   ]
  },
  {
   "cell_type": "markdown",
   "metadata": {},
   "source": [
    "#### Métricas para el modelo con el método \"bosque aleatorio\""
   ]
  },
  {
   "cell_type": "code",
   "execution_count": 24,
   "metadata": {},
   "outputs": [
    {
     "name": "stdout",
     "output_type": "stream",
     "text": [
      "Exactitud: 0.92\n",
      "Precisión: 0.84\n",
      "Recall: 0.81\n"
     ]
    }
   ],
   "source": [
    "print('Exactitud: {:.2f}'.format(accuracy_score(y_test, predictions_b)))\n",
    "print('Precisión: {:.2f}'.format(precision_score(y_test, predictions_b)))\n",
    "print('Recall: {:.2f}'.format(recall_score(y_test, predictions_b)))"
   ]
  },
  {
   "cell_type": "markdown",
   "metadata": {},
   "source": [
    "Los resultados de la evaluación entre los dos métodos, se observa que el mejor método es el de \"regresión logística\".\n",
    "Si bien las métricas de exactitud y precisión son muy parecidas, la métrica recall si se observa una diferencia, siendo la del modelo de \"regresión logística\" más cercano a 1 (mejor)."
   ]
  },
  {
   "cell_type": "markdown",
   "metadata": {},
   "source": [
    "[Volver a la Tabla de Contenido](#indice)"
   ]
  },
  {
   "cell_type": "markdown",
   "metadata": {},
   "source": [
    "<a id=\"creacion_clusteres\"></a>\n",
    "## Creación de clústeres de usuarios/as\n",
    "Deja de lado la columna con datos sobre la cancelación e identifica los clústeres de objetos (usuarios/as): "
   ]
  },
  {
   "cell_type": "markdown",
   "metadata": {},
   "source": [
    "### Estandarizando los datos\n",
    "Utiliza la función linkage() para crear una matriz de distancias basada en la matriz de características estandarizada y trazar un dendrograma. Nota: ¡renderizar el dendrograma puede llevar tiempo! Utiliza el gráfico resultante para estimar el número de clústeres que puedes destacar. "
   ]
  },
  {
   "cell_type": "code",
   "execution_count": 25,
   "metadata": {},
   "outputs": [
    {
     "data": {
      "image/png": "[encoded data removed]",
      "text/plain": [
       "<Figure size 1500x1000 with 1 Axes>"
      ]
     },
     "metadata": {},
     "output_type": "display_data"
    },
    {
     "name": "stdout",
     "output_type": "stream",
     "text": [
      "impreso\n"
     ]
    }
   ],
   "source": [
    "# Estandarizamos la matriz usando \"linkage\"\n",
    "sc = StandardScaler()\n",
    "X_sc = sc.fit_transform(X)\n",
    "linked = linkage(X_sc, method='ward')\n",
    "\n",
    "# Visualizamos como un dendograma\n",
    "plt.figure(figsize=(15, 10))  \n",
    "dendrogram(linked, orientation='top')\n",
    "plt.title('Agrupación jerárquica para GYM')\n",
    "plt.show()\n",
    "print('impreso')"
   ]
  },
  {
   "cell_type": "markdown",
   "metadata": {},
   "source": [
    "En el dendograma se observa 5 clusteres bien marcados, por lo que podríamos entrenar el modelo considerando este número de clusteres."
   ]
  },
  {
   "cell_type": "markdown",
   "metadata": {},
   "source": [
    "### Entrenamos el modelo de clustering con el algortimo K-means y predecimos los clústeres de clientes.\n",
    "Deja que el número de clústeres sea n=5 para que sea más sencillo comparar los resultados con los del resto del estudiantado. Mira los valores medios de característica para los clústeres.¿Hay algo que te llame la atención? "
   ]
  },
  {
   "cell_type": "code",
   "execution_count": 26,
   "metadata": {},
   "outputs": [
    {
     "data": {
      "text/html": [
       "<div>\n",
       "<style scoped>\n",
       "    .dataframe tbody tr th:only-of-type {\n",
       "        vertical-align: middle;\n",
       "    }\n",
       "\n",
       "    .dataframe tbody tr th {\n",
       "        vertical-align: top;\n",
       "    }\n",
       "\n",
       "    .dataframe thead th {\n",
       "        text-align: right;\n",
       "    }\n",
       "</style>\n",
       "<table border=\"1\" class=\"dataframe\">\n",
       "  <thead>\n",
       "    <tr style=\"text-align: right;\">\n",
       "      <th></th>\n",
       "      <th>gender</th>\n",
       "      <th>near_location</th>\n",
       "      <th>partner</th>\n",
       "      <th>promo_friends</th>\n",
       "      <th>phone</th>\n",
       "      <th>contract_period</th>\n",
       "      <th>group_visits</th>\n",
       "      <th>age</th>\n",
       "      <th>avg_additional_charges_total</th>\n",
       "      <th>month_to_end_contract</th>\n",
       "      <th>lifetime</th>\n",
       "      <th>avg_class_frequency_total</th>\n",
       "      <th>avg_class_frequency_current_month</th>\n",
       "      <th>churn</th>\n",
       "    </tr>\n",
       "    <tr>\n",
       "      <th>cluster_km</th>\n",
       "      <th></th>\n",
       "      <th></th>\n",
       "      <th></th>\n",
       "      <th></th>\n",
       "      <th></th>\n",
       "      <th></th>\n",
       "      <th></th>\n",
       "      <th></th>\n",
       "      <th></th>\n",
       "      <th></th>\n",
       "      <th></th>\n",
       "      <th></th>\n",
       "      <th></th>\n",
       "      <th></th>\n",
       "    </tr>\n",
       "  </thead>\n",
       "  <tbody>\n",
       "    <tr>\n",
       "      <th>0</th>\n",
       "      <td>0.502970</td>\n",
       "      <td>0.959406</td>\n",
       "      <td>0.783168</td>\n",
       "      <td>0.574257</td>\n",
       "      <td>1.000000</td>\n",
       "      <td>10.889109</td>\n",
       "      <td>0.542574</td>\n",
       "      <td>29.982178</td>\n",
       "      <td>160.761016</td>\n",
       "      <td>9.954455</td>\n",
       "      <td>4.736634</td>\n",
       "      <td>1.982055</td>\n",
       "      <td>1.974789</td>\n",
       "      <td>0.027723</td>\n",
       "    </tr>\n",
       "    <tr>\n",
       "      <th>1</th>\n",
       "      <td>0.522078</td>\n",
       "      <td>0.862338</td>\n",
       "      <td>0.470130</td>\n",
       "      <td>0.306494</td>\n",
       "      <td>0.000000</td>\n",
       "      <td>4.787013</td>\n",
       "      <td>0.425974</td>\n",
       "      <td>29.301299</td>\n",
       "      <td>143.957664</td>\n",
       "      <td>4.475325</td>\n",
       "      <td>3.924675</td>\n",
       "      <td>1.847220</td>\n",
       "      <td>1.716369</td>\n",
       "      <td>0.267532</td>\n",
       "    </tr>\n",
       "    <tr>\n",
       "      <th>2</th>\n",
       "      <td>0.495050</td>\n",
       "      <td>0.000000</td>\n",
       "      <td>0.463366</td>\n",
       "      <td>0.079208</td>\n",
       "      <td>1.000000</td>\n",
       "      <td>2.352475</td>\n",
       "      <td>0.215842</td>\n",
       "      <td>28.477228</td>\n",
       "      <td>135.457501</td>\n",
       "      <td>2.198020</td>\n",
       "      <td>2.809901</td>\n",
       "      <td>1.660461</td>\n",
       "      <td>1.477324</td>\n",
       "      <td>0.443564</td>\n",
       "    </tr>\n",
       "    <tr>\n",
       "      <th>3</th>\n",
       "      <td>0.485737</td>\n",
       "      <td>1.000000</td>\n",
       "      <td>0.350238</td>\n",
       "      <td>0.240095</td>\n",
       "      <td>1.000000</td>\n",
       "      <td>1.948494</td>\n",
       "      <td>0.341521</td>\n",
       "      <td>28.167987</td>\n",
       "      <td>131.622204</td>\n",
       "      <td>1.856577</td>\n",
       "      <td>2.440571</td>\n",
       "      <td>1.247634</td>\n",
       "      <td>1.012983</td>\n",
       "      <td>0.514263</td>\n",
       "    </tr>\n",
       "    <tr>\n",
       "      <th>4</th>\n",
       "      <td>0.559666</td>\n",
       "      <td>0.976134</td>\n",
       "      <td>0.356802</td>\n",
       "      <td>0.230310</td>\n",
       "      <td>0.998807</td>\n",
       "      <td>2.669451</td>\n",
       "      <td>0.473747</td>\n",
       "      <td>30.125298</td>\n",
       "      <td>161.657905</td>\n",
       "      <td>2.459427</td>\n",
       "      <td>4.898568</td>\n",
       "      <td>2.852002</td>\n",
       "      <td>2.850161</td>\n",
       "      <td>0.068019</td>\n",
       "    </tr>\n",
       "  </tbody>\n",
       "</table>\n",
       "</div>"
      ],
      "text/plain": [
       "              gender  near_location   partner  promo_friends     phone  \\\n",
       "cluster_km                                                               \n",
       "0           0.502970       0.959406  0.783168       0.574257  1.000000   \n",
       "1           0.522078       0.862338  0.470130       0.306494  0.000000   \n",
       "2           0.495050       0.000000  0.463366       0.079208  1.000000   \n",
       "3           0.485737       1.000000  0.350238       0.240095  1.000000   \n",
       "4           0.559666       0.976134  0.356802       0.230310  0.998807   \n",
       "\n",
       "            contract_period  group_visits        age  \\\n",
       "cluster_km                                             \n",
       "0                 10.889109      0.542574  29.982178   \n",
       "1                  4.787013      0.425974  29.301299   \n",
       "2                  2.352475      0.215842  28.477228   \n",
       "3                  1.948494      0.341521  28.167987   \n",
       "4                  2.669451      0.473747  30.125298   \n",
       "\n",
       "            avg_additional_charges_total  month_to_end_contract  lifetime  \\\n",
       "cluster_km                                                                  \n",
       "0                             160.761016               9.954455  4.736634   \n",
       "1                             143.957664               4.475325  3.924675   \n",
       "2                             135.457501               2.198020  2.809901   \n",
       "3                             131.622204               1.856577  2.440571   \n",
       "4                             161.657905               2.459427  4.898568   \n",
       "\n",
       "            avg_class_frequency_total  avg_class_frequency_current_month  \\\n",
       "cluster_km                                                                 \n",
       "0                            1.982055                           1.974789   \n",
       "1                            1.847220                           1.716369   \n",
       "2                            1.660461                           1.477324   \n",
       "3                            1.247634                           1.012983   \n",
       "4                            2.852002                           2.850161   \n",
       "\n",
       "               churn  \n",
       "cluster_km            \n",
       "0           0.027723  \n",
       "1           0.267532  \n",
       "2           0.443564  \n",
       "3           0.514263  \n",
       "4           0.068019  "
      ]
     },
     "execution_count": 26,
     "metadata": {},
     "output_type": "execute_result"
    }
   ],
   "source": [
    "# Definimos el modelo KMeans con 5 clústeres\n",
    "km = KMeans(n_clusters=5, random_state=0)\n",
    "\n",
    "# Aplicamos el algoritmo a los datos para formar un vector de clúster\n",
    "labels = km.fit_predict(X_sc)\n",
    "\n",
    "# Almacenamos las etiquetas de datos en una columna nueva en la tabla \"gym\"\n",
    "gym['cluster_km'] = labels\n",
    "\n",
    "# Visualizamos los valores medios de los clusteres\n",
    "gym.groupby(['cluster_km']).mean()"
   ]
  },
  {
   "cell_type": "markdown",
   "metadata": {},
   "source": [
    "Me llama la atención que en el cluster 0 se hayan agrupado usuarios que en promedio tienen un contrato de membresia de mayor duración mientras que en el resto de clusteres está más parejo; por otro lado, esto hace que el month_to_end_contract también sea alto. Y si vemos el churn de este cluster, la media es más cercana a cero por lo que nos indica que hay mayor cantidad de usuarios con membresías activas.\n",
    "\n",
    "Por otro lado, se observa que los clusteres 1, 2 y 3 contienen mayor cantidad de usuarios con membresias anuladas (más cercano a 1) mientras que los clusteres 0 y 4 contienen menor cantidad de usuarios con membresias anuladas."
   ]
  },
  {
   "cell_type": "markdown",
   "metadata": {},
   "source": [
    "### Traza distribuciones de características para los clústeres. ¿Notas algo? "
   ]
  },
  {
   "cell_type": "code",
   "execution_count": 27,
   "metadata": {},
   "outputs": [
    {
     "data": {
      "image/png": "[encoded data removed]",
      "text/plain": [
       "<Figure size 640x480 with 1 Axes>"
      ]
     },
     "metadata": {},
     "output_type": "display_data"
    }
   ],
   "source": [
    "# Graficamos las variables que guardan relación según la gráfica de correlación: contract_period vs month_to_end_contract\n",
    "sns.scatterplot(x=gym['contract_period'], y=gym['month_to_end_contract'], hue = gym['cluster_km'], palette = 'Paired')\n",
    "plt.title('{} vs {}'.format('contract_period', 'month_to_end_contract'))\n",
    "plt.show()"
   ]
  },
  {
   "cell_type": "markdown",
   "metadata": {},
   "source": [
    "Se observa que a mayor duración del contrato de membresía la cantidad de meses para finalizar el contrato es mayor."
   ]
  },
  {
   "cell_type": "code",
   "execution_count": 28,
   "metadata": {},
   "outputs": [
    {
     "data": {
      "image/png": "[encoded data removed]",
      "text/plain": [
       "<Figure size 640x480 with 1 Axes>"
      ]
     },
     "metadata": {},
     "output_type": "display_data"
    }
   ],
   "source": [
    "# Graficamos las variables que guardan relación según la gráfica de correlación: avg_class_frequency_current_month vs avg_class_frequency_total\n",
    "sns.scatterplot(x=gym['avg_class_frequency_current_month'], y=gym['avg_class_frequency_total'], hue = gym['cluster_km'], palette = 'Paired')\n",
    "plt.title('{} vs {}'.format('avg_class_frequency_current_month', 'avg_class_frequency_total'))\n",
    "plt.show()"
   ]
  },
  {
   "cell_type": "markdown",
   "metadata": {},
   "source": [
    "Los clusteres 2 y 3 contiene usuarios que van menos de 2 veces a la semana al gimnasio.\n",
    "El cluster 4 contiene usuarios donde la frequencia de veces que acude al gimnasio del mes en curso termina marcando su tendencia de frequencia de clases desde el inicio de contrato."
   ]
  },
  {
   "cell_type": "markdown",
   "metadata": {},
   "source": [
    "### Calcula la tasa de cancelación para cada clúster (utiliza el método groupby()). ¿Difieren en términos de tasa de cancelación? ¿Qué grupos son propensos a irse y cuáles son leales? "
   ]
  },
  {
   "cell_type": "code",
   "execution_count": 29,
   "metadata": {},
   "outputs": [
    {
     "data": {
      "text/plain": [
       "cluster_km\n",
       "0    0.027723\n",
       "1    0.267532\n",
       "2    0.443564\n",
       "3    0.514263\n",
       "4    0.068019\n",
       "Name: churn, dtype: float64"
      ]
     },
     "execution_count": 29,
     "metadata": {},
     "output_type": "execute_result"
    }
   ],
   "source": [
    "gym.groupby(['cluster_km'])['churn'].mean()"
   ]
  },
  {
   "cell_type": "markdown",
   "metadata": {},
   "source": [
    "Según la tasa de cancelación, los grupos más propensos a irse serían el 1, 2 y 3 (más cercano al 1, 0.27, 0.44 y 0.51) mientras que los grupos leales serían los grupos 0 y 4 (0.03 y 0.07)."
   ]
  },
  {
   "cell_type": "markdown",
   "metadata": {},
   "source": [
    "[Volver a la Tabla de Contenido](#indice)"
   ]
  },
  {
   "cell_type": "markdown",
   "metadata": {},
   "source": [
    "<a id=\"conclusiones\"></a>\n",
    "## Conclusiones y recomendaciones"
   ]
  },
  {
   "cell_type": "markdown",
   "metadata": {},
   "source": [
    "### Conclusiones"
   ]
  },
  {
   "cell_type": "markdown",
   "metadata": {},
   "source": [
    "Luego de revisar y analizar la información recabada por el gimnasio se concluye lo siguiente:\n",
    "* Tenemos dos grupos de usuarios identificados: i) con membresía vigente (73%) ii) con membresía anulada (27%).\n",
    "* Importante información recabada de los usuarios que permitirán definir estrategias diferenciadas son:\n",
    "    - Proporcional cantidad de usuarios entre el género femenino y masculino (50% c/u).\n",
    "    - 90% de usuarios dejaron sus telefonos (canal para llegar a los usuarios).\n",
    "    - 85% viven cerca del gimnasio.\n",
    "* Las características más importantes que describen a un usuario con probabilidad de mantener su membresía vigente son:\n",
    "    - Usuario entre 25 a 35 años.\n",
    "    - Usuario que visita el gimnasio por lo menos 3 veces a la semana durante el último mes y a lo largo de toda su vida desde su inscripción inicial.\n",
    "    - Uuario que contrata membresía con período de 6 o 12 meses."
   ]
  },
  {
   "cell_type": "markdown",
   "metadata": {},
   "source": [
    "### Recomendaciones"
   ]
  },
  {
   "cell_type": "markdown",
   "metadata": {},
   "source": [
    "* Mantener al grupo de usuarios fieles (clusteres 0 y 4) con descuentos especiales (membresías, cafetería, productos deportivos, cosméticos, masajes, etc.).\n",
    "* Al grupo de usuarios de los clusteres 1, 2 y 3 cuya probabilidad de cancelar sus membresias es alta, se les sugiere realizar un seguimiento semanal y engancharlos por celular (via whats app) con promociones semanales, ya que la posibilidad de que cancele su membresía en 1 mes es muy alta.\n",
    "* Por otro lado, hay dos canales donde se observa existe oportunidad de crecimiento vía captación de nuevos usuarios, para los cuales se podría armar una campaña de venta:\n",
    "    - Por usuario referido, hay un 70% de usuarios que aún no han referido a un amigo (30% viene por referido según la información).\n",
    "    - Por empresa afiliada, hay un 50% de usuarios que provienen por una empresa afiliada con el gimnasio."
   ]
  },
  {
   "cell_type": "markdown",
   "metadata": {},
   "source": [
    "[Volver a la Tabla de Contenido](#indice)"
   ]
  }
 ],
 "metadata": {
  "ExecuteTimeLog": [
   {
    "duration": 2711,
    "start_time": "2024-12-03T19:23:31.519Z"
   },
   {
    "duration": 592,
    "start_time": "2024-12-03T19:23:34.232Z"
   },
   {
    "duration": 0,
    "start_time": "2024-12-03T19:23:34.827Z"
   },
   {
    "duration": 0,
    "start_time": "2024-12-03T19:23:34.828Z"
   },
   {
    "duration": 0,
    "start_time": "2024-12-03T19:23:34.829Z"
   },
   {
    "duration": 0,
    "start_time": "2024-12-03T19:23:34.830Z"
   },
   {
    "duration": 0,
    "start_time": "2024-12-03T19:23:34.832Z"
   },
   {
    "duration": 0,
    "start_time": "2024-12-03T19:23:34.834Z"
   },
   {
    "duration": 0,
    "start_time": "2024-12-03T19:23:34.835Z"
   },
   {
    "duration": 0,
    "start_time": "2024-12-03T19:23:34.836Z"
   },
   {
    "duration": 0,
    "start_time": "2024-12-03T19:23:34.838Z"
   },
   {
    "duration": 0,
    "start_time": "2024-12-03T19:23:34.839Z"
   },
   {
    "duration": 0,
    "start_time": "2024-12-03T19:23:34.841Z"
   },
   {
    "duration": 0,
    "start_time": "2024-12-03T19:23:34.842Z"
   },
   {
    "duration": 0,
    "start_time": "2024-12-03T19:23:34.844Z"
   },
   {
    "duration": 0,
    "start_time": "2024-12-03T19:23:34.845Z"
   },
   {
    "duration": 0,
    "start_time": "2024-12-03T19:23:34.847Z"
   },
   {
    "duration": 1,
    "start_time": "2024-12-03T19:23:34.848Z"
   },
   {
    "duration": 0,
    "start_time": "2024-12-03T19:23:34.850Z"
   },
   {
    "duration": 0,
    "start_time": "2024-12-03T19:23:34.851Z"
   },
   {
    "duration": 0,
    "start_time": "2024-12-03T19:23:34.853Z"
   },
   {
    "duration": 0,
    "start_time": "2024-12-03T19:23:34.854Z"
   },
   {
    "duration": 0,
    "start_time": "2024-12-03T19:23:34.856Z"
   },
   {
    "duration": 0,
    "start_time": "2024-12-03T19:23:34.857Z"
   },
   {
    "duration": 0,
    "start_time": "2024-12-03T19:23:34.859Z"
   },
   {
    "duration": 0,
    "start_time": "2024-12-03T19:23:34.860Z"
   },
   {
    "duration": 0,
    "start_time": "2024-12-03T19:23:34.862Z"
   },
   {
    "duration": 0,
    "start_time": "2024-12-03T19:23:34.912Z"
   },
   {
    "duration": 0,
    "start_time": "2024-12-03T19:23:34.913Z"
   },
   {
    "duration": 0,
    "start_time": "2024-12-03T19:23:34.915Z"
   },
   {
    "duration": 999,
    "start_time": "2024-12-03T19:25:59.285Z"
   },
   {
    "duration": 602,
    "start_time": "2024-12-03T19:26:00.286Z"
   },
   {
    "duration": 0,
    "start_time": "2024-12-03T19:26:00.892Z"
   },
   {
    "duration": 0,
    "start_time": "2024-12-03T19:26:00.893Z"
   },
   {
    "duration": 0,
    "start_time": "2024-12-03T19:26:00.894Z"
   },
   {
    "duration": 0,
    "start_time": "2024-12-03T19:26:00.895Z"
   },
   {
    "duration": 0,
    "start_time": "2024-12-03T19:26:00.897Z"
   },
   {
    "duration": 0,
    "start_time": "2024-12-03T19:26:00.898Z"
   },
   {
    "duration": 0,
    "start_time": "2024-12-03T19:26:00.899Z"
   },
   {
    "duration": 0,
    "start_time": "2024-12-03T19:26:00.900Z"
   },
   {
    "duration": 0,
    "start_time": "2024-12-03T19:26:00.901Z"
   },
   {
    "duration": 0,
    "start_time": "2024-12-03T19:26:00.901Z"
   },
   {
    "duration": 0,
    "start_time": "2024-12-03T19:26:00.902Z"
   },
   {
    "duration": 0,
    "start_time": "2024-12-03T19:26:00.911Z"
   },
   {
    "duration": 0,
    "start_time": "2024-12-03T19:26:00.913Z"
   },
   {
    "duration": 0,
    "start_time": "2024-12-03T19:26:00.914Z"
   },
   {
    "duration": 0,
    "start_time": "2024-12-03T19:26:00.916Z"
   },
   {
    "duration": 0,
    "start_time": "2024-12-03T19:26:00.917Z"
   },
   {
    "duration": 0,
    "start_time": "2024-12-03T19:26:00.918Z"
   },
   {
    "duration": 0,
    "start_time": "2024-12-03T19:26:00.920Z"
   },
   {
    "duration": 0,
    "start_time": "2024-12-03T19:26:00.922Z"
   },
   {
    "duration": 0,
    "start_time": "2024-12-03T19:26:00.923Z"
   },
   {
    "duration": 0,
    "start_time": "2024-12-03T19:26:00.924Z"
   },
   {
    "duration": 0,
    "start_time": "2024-12-03T19:26:00.925Z"
   },
   {
    "duration": 0,
    "start_time": "2024-12-03T19:26:00.927Z"
   },
   {
    "duration": 0,
    "start_time": "2024-12-03T19:26:00.928Z"
   },
   {
    "duration": 0,
    "start_time": "2024-12-03T19:26:00.929Z"
   },
   {
    "duration": 0,
    "start_time": "2024-12-03T19:26:00.931Z"
   },
   {
    "duration": 0,
    "start_time": "2024-12-03T19:26:00.933Z"
   },
   {
    "duration": 0,
    "start_time": "2024-12-03T19:26:00.934Z"
   },
   {
    "duration": 59,
    "start_time": "2024-12-03T19:26:09.532Z"
   },
   {
    "duration": 60,
    "start_time": "2024-12-03T19:26:23.582Z"
   },
   {
    "duration": 27,
    "start_time": "2024-12-03T19:27:07.693Z"
   },
   {
    "duration": 1073,
    "start_time": "2024-12-03T19:27:19.738Z"
   },
   {
    "duration": 18,
    "start_time": "2024-12-03T19:27:20.813Z"
   },
   {
    "duration": 9,
    "start_time": "2024-12-03T19:27:20.833Z"
   },
   {
    "duration": 6,
    "start_time": "2024-12-03T19:27:20.844Z"
   },
   {
    "duration": 5,
    "start_time": "2024-12-03T19:27:20.851Z"
   },
   {
    "duration": 0,
    "start_time": "2024-12-03T19:27:20.858Z"
   },
   {
    "duration": 0,
    "start_time": "2024-12-03T19:27:20.859Z"
   },
   {
    "duration": 0,
    "start_time": "2024-12-03T19:27:20.860Z"
   },
   {
    "duration": 0,
    "start_time": "2024-12-03T19:27:20.861Z"
   },
   {
    "duration": 0,
    "start_time": "2024-12-03T19:27:20.862Z"
   },
   {
    "duration": 0,
    "start_time": "2024-12-03T19:27:20.863Z"
   },
   {
    "duration": 0,
    "start_time": "2024-12-03T19:27:20.864Z"
   },
   {
    "duration": 0,
    "start_time": "2024-12-03T19:27:20.865Z"
   },
   {
    "duration": 0,
    "start_time": "2024-12-03T19:27:20.867Z"
   },
   {
    "duration": 1,
    "start_time": "2024-12-03T19:27:20.867Z"
   },
   {
    "duration": 0,
    "start_time": "2024-12-03T19:27:20.869Z"
   },
   {
    "duration": 0,
    "start_time": "2024-12-03T19:27:20.870Z"
   },
   {
    "duration": 0,
    "start_time": "2024-12-03T19:27:20.871Z"
   },
   {
    "duration": 0,
    "start_time": "2024-12-03T19:27:20.872Z"
   },
   {
    "duration": 0,
    "start_time": "2024-12-03T19:27:20.911Z"
   },
   {
    "duration": 0,
    "start_time": "2024-12-03T19:27:20.912Z"
   },
   {
    "duration": 0,
    "start_time": "2024-12-03T19:27:20.913Z"
   },
   {
    "duration": 0,
    "start_time": "2024-12-03T19:27:20.914Z"
   },
   {
    "duration": 0,
    "start_time": "2024-12-03T19:27:20.916Z"
   },
   {
    "duration": 0,
    "start_time": "2024-12-03T19:27:20.917Z"
   },
   {
    "duration": 0,
    "start_time": "2024-12-03T19:27:20.918Z"
   },
   {
    "duration": 0,
    "start_time": "2024-12-03T19:27:20.919Z"
   },
   {
    "duration": 0,
    "start_time": "2024-12-03T19:27:20.920Z"
   },
   {
    "duration": 0,
    "start_time": "2024-12-03T19:27:20.921Z"
   },
   {
    "duration": 0,
    "start_time": "2024-12-03T19:27:20.922Z"
   },
   {
    "duration": 1052,
    "start_time": "2024-12-03T19:29:52.041Z"
   },
   {
    "duration": 22,
    "start_time": "2024-12-03T19:29:53.095Z"
   },
   {
    "duration": 9,
    "start_time": "2024-12-03T19:29:53.118Z"
   },
   {
    "duration": 5,
    "start_time": "2024-12-03T19:29:53.130Z"
   },
   {
    "duration": 6,
    "start_time": "2024-12-03T19:29:53.136Z"
   },
   {
    "duration": 10,
    "start_time": "2024-12-03T19:29:53.143Z"
   },
   {
    "duration": 4,
    "start_time": "2024-12-03T19:29:53.155Z"
   },
   {
    "duration": 10,
    "start_time": "2024-12-03T19:29:53.160Z"
   },
   {
    "duration": 72,
    "start_time": "2024-12-03T19:29:53.171Z"
   },
   {
    "duration": 19,
    "start_time": "2024-12-03T19:29:53.247Z"
   },
   {
    "duration": 245,
    "start_time": "2024-12-03T19:29:53.268Z"
   },
   {
    "duration": 256,
    "start_time": "2024-12-03T19:29:53.515Z"
   },
   {
    "duration": 176,
    "start_time": "2024-12-03T19:29:53.774Z"
   },
   {
    "duration": 172,
    "start_time": "2024-12-03T19:29:53.952Z"
   },
   {
    "duration": 212,
    "start_time": "2024-12-03T19:29:54.125Z"
   },
   {
    "duration": 277,
    "start_time": "2024-12-03T19:29:54.339Z"
   },
   {
    "duration": 218,
    "start_time": "2024-12-03T19:29:54.618Z"
   },
   {
    "duration": 18,
    "start_time": "2024-12-03T19:29:54.837Z"
   },
   {
    "duration": 391,
    "start_time": "2024-12-03T19:29:54.857Z"
   },
   {
    "duration": 9,
    "start_time": "2024-12-03T19:29:55.250Z"
   },
   {
    "duration": 14,
    "start_time": "2024-12-03T19:29:55.261Z"
   },
   {
    "duration": 375,
    "start_time": "2024-12-03T19:29:55.313Z"
   },
   {
    "duration": 6,
    "start_time": "2024-12-03T19:29:55.690Z"
   },
   {
    "duration": 15,
    "start_time": "2024-12-03T19:29:55.699Z"
   },
   {
    "duration": 86590,
    "start_time": "2024-12-03T19:29:55.716Z"
   },
   {
    "duration": 424,
    "start_time": "2024-12-03T19:31:22.312Z"
   },
   {
    "duration": 299,
    "start_time": "2024-12-03T19:31:22.738Z"
   },
   {
    "duration": 287,
    "start_time": "2024-12-03T19:31:23.040Z"
   },
   {
    "duration": 6,
    "start_time": "2024-12-03T19:31:23.329Z"
   },
   {
    "duration": 1029,
    "start_time": "2024-12-03T19:38:37.283Z"
   },
   {
    "duration": 18,
    "start_time": "2024-12-03T19:38:38.314Z"
   },
   {
    "duration": 9,
    "start_time": "2024-12-03T19:38:38.334Z"
   },
   {
    "duration": 6,
    "start_time": "2024-12-03T19:38:38.344Z"
   },
   {
    "duration": 5,
    "start_time": "2024-12-03T19:38:38.353Z"
   },
   {
    "duration": 9,
    "start_time": "2024-12-03T19:38:38.359Z"
   },
   {
    "duration": 4,
    "start_time": "2024-12-03T19:38:38.369Z"
   },
   {
    "duration": 44,
    "start_time": "2024-12-03T19:38:38.375Z"
   },
   {
    "duration": 29,
    "start_time": "2024-12-03T19:38:38.421Z"
   },
   {
    "duration": 11,
    "start_time": "2024-12-03T19:38:38.452Z"
   },
   {
    "duration": 252,
    "start_time": "2024-12-03T19:38:38.465Z"
   },
   {
    "duration": 273,
    "start_time": "2024-12-03T19:38:38.719Z"
   },
   {
    "duration": 173,
    "start_time": "2024-12-03T19:38:38.994Z"
   },
   {
    "duration": 175,
    "start_time": "2024-12-03T19:38:39.171Z"
   },
   {
    "duration": 217,
    "start_time": "2024-12-03T19:38:39.348Z"
   },
   {
    "duration": 275,
    "start_time": "2024-12-03T19:38:39.567Z"
   },
   {
    "duration": 221,
    "start_time": "2024-12-03T19:38:39.844Z"
   },
   {
    "duration": 15,
    "start_time": "2024-12-03T19:38:40.067Z"
   },
   {
    "duration": 402,
    "start_time": "2024-12-03T19:38:40.084Z"
   },
   {
    "duration": 10,
    "start_time": "2024-12-03T19:38:40.487Z"
   },
   {
    "duration": 26,
    "start_time": "2024-12-03T19:38:40.498Z"
   },
   {
    "duration": 398,
    "start_time": "2024-12-03T19:38:40.525Z"
   },
   {
    "duration": 6,
    "start_time": "2024-12-03T19:38:40.924Z"
   },
   {
    "duration": 6,
    "start_time": "2024-12-03T19:38:40.932Z"
   },
   {
    "duration": 87418,
    "start_time": "2024-12-03T19:38:40.940Z"
   },
   {
    "duration": 465,
    "start_time": "2024-12-03T19:40:08.360Z"
   },
   {
    "duration": 301,
    "start_time": "2024-12-03T19:40:08.827Z"
   },
   {
    "duration": 270,
    "start_time": "2024-12-03T19:40:09.130Z"
   },
   {
    "duration": 12,
    "start_time": "2024-12-03T19:40:09.402Z"
   },
   {
    "duration": 1054,
    "start_time": "2024-12-03T19:45:54.739Z"
   },
   {
    "duration": 19,
    "start_time": "2024-12-03T19:45:55.795Z"
   },
   {
    "duration": 9,
    "start_time": "2024-12-03T19:45:55.815Z"
   },
   {
    "duration": 6,
    "start_time": "2024-12-03T19:45:55.825Z"
   },
   {
    "duration": 4,
    "start_time": "2024-12-03T19:45:55.833Z"
   },
   {
    "duration": 9,
    "start_time": "2024-12-03T19:45:55.839Z"
   },
   {
    "duration": 5,
    "start_time": "2024-12-03T19:45:55.850Z"
   },
   {
    "duration": 9,
    "start_time": "2024-12-03T19:45:55.857Z"
   },
   {
    "duration": 71,
    "start_time": "2024-12-03T19:45:55.867Z"
   },
   {
    "duration": 12,
    "start_time": "2024-12-03T19:45:55.940Z"
   },
   {
    "duration": 241,
    "start_time": "2024-12-03T19:45:55.953Z"
   },
   {
    "duration": 272,
    "start_time": "2024-12-03T19:45:56.196Z"
   },
   {
    "duration": 174,
    "start_time": "2024-12-03T19:45:56.470Z"
   },
   {
    "duration": 171,
    "start_time": "2024-12-03T19:45:56.648Z"
   },
   {
    "duration": 221,
    "start_time": "2024-12-03T19:45:56.821Z"
   },
   {
    "duration": 281,
    "start_time": "2024-12-03T19:45:57.044Z"
   },
   {
    "duration": 204,
    "start_time": "2024-12-03T19:45:57.327Z"
   },
   {
    "duration": 16,
    "start_time": "2024-12-03T19:45:57.533Z"
   },
   {
    "duration": 390,
    "start_time": "2024-12-03T19:45:57.550Z"
   },
   {
    "duration": 11,
    "start_time": "2024-12-03T19:45:57.941Z"
   },
   {
    "duration": 15,
    "start_time": "2024-12-03T19:45:57.953Z"
   },
   {
    "duration": 400,
    "start_time": "2024-12-03T19:45:57.969Z"
   },
   {
    "duration": 6,
    "start_time": "2024-12-03T19:45:58.370Z"
   },
   {
    "duration": 7,
    "start_time": "2024-12-03T19:45:58.377Z"
   },
   {
    "duration": 462,
    "start_time": "2024-12-03T19:47:24.558Z"
   },
   {
    "duration": 279,
    "start_time": "2024-12-03T19:47:25.022Z"
   },
   {
    "duration": 293,
    "start_time": "2024-12-03T19:47:25.303Z"
   },
   {
    "duration": 17,
    "start_time": "2024-12-03T19:47:25.597Z"
   },
   {
    "duration": 1040,
    "start_time": "2024-12-03T19:56:33.375Z"
   },
   {
    "duration": 19,
    "start_time": "2024-12-03T19:56:34.417Z"
   },
   {
    "duration": 10,
    "start_time": "2024-12-03T19:56:34.438Z"
   },
   {
    "duration": 5,
    "start_time": "2024-12-03T19:56:34.450Z"
   },
   {
    "duration": 5,
    "start_time": "2024-12-03T19:56:34.457Z"
   },
   {
    "duration": 8,
    "start_time": "2024-12-03T19:56:34.464Z"
   },
   {
    "duration": 4,
    "start_time": "2024-12-03T19:56:34.474Z"
   },
   {
    "duration": 39,
    "start_time": "2024-12-03T19:56:34.480Z"
   },
   {
    "duration": 32,
    "start_time": "2024-12-03T19:56:34.520Z"
   },
   {
    "duration": 11,
    "start_time": "2024-12-03T19:56:34.556Z"
   },
   {
    "duration": 266,
    "start_time": "2024-12-03T19:56:34.569Z"
   },
   {
    "duration": 264,
    "start_time": "2024-12-03T19:56:34.837Z"
   },
   {
    "duration": 176,
    "start_time": "2024-12-03T19:56:35.103Z"
   },
   {
    "duration": 186,
    "start_time": "2024-12-03T19:56:35.281Z"
   },
   {
    "duration": 212,
    "start_time": "2024-12-03T19:56:35.469Z"
   },
   {
    "duration": 265,
    "start_time": "2024-12-03T19:56:35.683Z"
   },
   {
    "duration": 208,
    "start_time": "2024-12-03T19:56:35.950Z"
   },
   {
    "duration": 16,
    "start_time": "2024-12-03T19:56:36.159Z"
   },
   {
    "duration": 391,
    "start_time": "2024-12-03T19:56:36.177Z"
   },
   {
    "duration": 11,
    "start_time": "2024-12-03T19:56:36.570Z"
   },
   {
    "duration": 31,
    "start_time": "2024-12-03T19:56:36.582Z"
   },
   {
    "duration": 366,
    "start_time": "2024-12-03T19:56:36.615Z"
   },
   {
    "duration": 6,
    "start_time": "2024-12-03T19:56:36.983Z"
   },
   {
    "duration": 5,
    "start_time": "2024-12-03T19:56:36.991Z"
   },
   {
    "duration": 85498,
    "start_time": "2024-12-03T19:56:36.997Z"
   },
   {
    "duration": 424,
    "start_time": "2024-12-03T19:58:02.496Z"
   },
   {
    "duration": 285,
    "start_time": "2024-12-03T19:58:02.921Z"
   },
   {
    "duration": 273,
    "start_time": "2024-12-03T19:58:03.212Z"
   },
   {
    "duration": 6,
    "start_time": "2024-12-03T19:58:03.487Z"
   },
   {
    "duration": 1105,
    "start_time": "2024-12-04T17:29:56.661Z"
   },
   {
    "duration": 26,
    "start_time": "2024-12-04T17:29:57.768Z"
   },
   {
    "duration": 10,
    "start_time": "2024-12-04T17:29:57.796Z"
   },
   {
    "duration": 6,
    "start_time": "2024-12-04T17:29:57.812Z"
   },
   {
    "duration": 6,
    "start_time": "2024-12-04T17:29:57.821Z"
   },
   {
    "duration": 9,
    "start_time": "2024-12-04T17:29:57.828Z"
   },
   {
    "duration": 5,
    "start_time": "2024-12-04T17:29:57.839Z"
   },
   {
    "duration": 10,
    "start_time": "2024-12-04T17:29:57.846Z"
   },
   {
    "duration": 72,
    "start_time": "2024-12-04T17:29:57.858Z"
   },
   {
    "duration": 14,
    "start_time": "2024-12-04T17:29:57.932Z"
   },
   {
    "duration": 266,
    "start_time": "2024-12-04T17:29:57.948Z"
   },
   {
    "duration": 274,
    "start_time": "2024-12-04T17:29:58.216Z"
   },
   {
    "duration": 188,
    "start_time": "2024-12-04T17:29:58.492Z"
   },
   {
    "duration": 185,
    "start_time": "2024-12-04T17:29:58.684Z"
   },
   {
    "duration": 241,
    "start_time": "2024-12-04T17:29:58.871Z"
   },
   {
    "duration": 309,
    "start_time": "2024-12-04T17:29:59.114Z"
   },
   {
    "duration": 231,
    "start_time": "2024-12-04T17:29:59.425Z"
   },
   {
    "duration": 17,
    "start_time": "2024-12-04T17:29:59.658Z"
   },
   {
    "duration": 414,
    "start_time": "2024-12-04T17:29:59.677Z"
   },
   {
    "duration": 20,
    "start_time": "2024-12-04T17:30:00.093Z"
   },
   {
    "duration": 15,
    "start_time": "2024-12-04T17:30:00.115Z"
   },
   {
    "duration": 419,
    "start_time": "2024-12-04T17:30:00.132Z"
   },
   {
    "duration": 7,
    "start_time": "2024-12-04T17:30:00.552Z"
   },
   {
    "duration": 6,
    "start_time": "2024-12-04T17:30:00.561Z"
   },
   {
    "duration": 87819,
    "start_time": "2024-12-04T17:30:00.569Z"
   },
   {
    "duration": 442,
    "start_time": "2024-12-04T17:31:28.390Z"
   },
   {
    "duration": 339,
    "start_time": "2024-12-04T17:31:28.834Z"
   },
   {
    "duration": 289,
    "start_time": "2024-12-04T17:31:29.176Z"
   },
   {
    "duration": 6,
    "start_time": "2024-12-04T17:31:29.467Z"
   }
  ],
  "kernelspec": {
   "display_name": "Python 3 (ipykernel)",
   "language": "python",
   "name": "python3"
  },
  "language_info": {
   "codemirror_mode": {
    "name": "ipython",
    "version": 3
   },
   "file_extension": ".py",
   "mimetype": "text/x-python",
   "name": "python",
   "nbconvert_exporter": "python",
   "pygments_lexer": "ipython3",
   "version": "3.9.19"
  },
  "toc": {
   "base_numbering": 1,
   "nav_menu": {},
   "number_sections": true,
   "sideBar": true,
   "skip_h1_title": true,
   "title_cell": "Table of Contents",
   "title_sidebar": "Contents",
   "toc_cell": false,
   "toc_position": {},
   "toc_section_display": true,
   "toc_window_display": false
  }
 },
 "nbformat": 4,
 "nbformat_minor": 2
}
