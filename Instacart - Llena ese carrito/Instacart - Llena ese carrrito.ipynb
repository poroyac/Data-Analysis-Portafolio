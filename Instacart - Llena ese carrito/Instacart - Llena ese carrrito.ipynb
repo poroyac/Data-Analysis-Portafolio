{
 "cells": [
  {
   "cell_type": "markdown",
   "id": "3Xg_RQfnafXz",
   "metadata": {
    "id": "3Xg_RQfnafXz"
   },
   "source": [
    "# ¡Llena ese carrito!"
   ]
  },
  {
   "cell_type": "markdown",
   "id": "mhIvmmkW414q",
   "metadata": {
    "id": "mhIvmmkW414q"
   },
   "source": [
    "# Introducción\n",
    "\n",
    "Instacart es una plataforma de entregas de comestibles donde la clientela puede registrar un pedido y hacer que se lo entreguen, similar a Uber Eats y Door Dash.\n",
    "El conjunto de datos que te hemos proporcionado tiene modificaciones del original. Redujimos el tamaño del conjunto para que tus cálculos se hicieran más rápido e introdujimos valores ausentes y duplicados. Tuvimos cuidado de conservar las distribuciones de los datos originales cuando hicimos los cambios.\n",
    "\n",
    "Debes completar tres pasos. Para cada uno de ellos, escribe una breve introducción que refleje con claridad cómo pretendes resolver cada paso, y escribe párrafos explicatorios que justifiquen tus decisiones al tiempo que avanzas en tu solución.  También escribe una conclusión que resuma tus hallazgos y elecciones.\n"
   ]
  },
  {
   "cell_type": "markdown",
   "id": "3MbyzpOQZ5Or",
   "metadata": {
    "id": "3MbyzpOQZ5Or"
   },
   "source": [
    "## Diccionario de datos\n",
    "\n",
    "Hay cinco tablas en el conjunto de datos, y tendrás que usarlas todas para hacer el preprocesamiento de datos y el análisis exploratorio de datos. A continuación se muestra un diccionario de datos que enumera las columnas de cada tabla y describe los datos que contienen.\n",
    "\n",
    "- `instacart_orders.csv`: cada fila corresponde a un pedido en la aplicación Instacart.\n",
    "    - `'order_id'`: número de ID que identifica de manera única cada pedido.\n",
    "    - `'user_id'`: número de ID que identifica de manera única la cuenta de cada cliente.\n",
    "    - `'order_number'`: el número de veces que este cliente ha hecho un pedido.\n",
    "    - `'order_dow'`: día de la semana en que se hizo el pedido (0 si es domingo).\n",
    "    - `'order_hour_of_day'`: hora del día en que se hizo el pedido.\n",
    "    - `'days_since_prior_order'`: número de días transcurridos desde que este cliente hizo su pedido anterior.\n",
    "- `products.csv`: cada fila corresponde a un producto único que pueden comprar los clientes.\n",
    "    - `'product_id'`: número ID que identifica de manera única cada producto.\n",
    "    - `'product_name'`: nombre del producto.\n",
    "    - `'aisle_id'`: número ID que identifica de manera única cada categoría de pasillo de víveres.\n",
    "    - `'department_id'`: número ID que identifica de manera única cada departamento de víveres.\n",
    "- `order_products.csv`: cada fila corresponde a un artículo pedido en un pedido.\n",
    "    - `'order_id'`: número de ID que identifica de manera única cada pedido.\n",
    "    - `'product_id'`: número ID que identifica de manera única cada producto.\n",
    "    - `'add_to_cart_order'`: el orden secuencial en el que se añadió cada artículo en el carrito.\n",
    "    - `'reordered'`: 0 si el cliente nunca ha pedido este producto antes, 1 si lo ha pedido.\n",
    "- `aisles.csv`\n",
    "    - `'aisle_id'`: número ID que identifica de manera única cada categoría de pasillo de víveres.\n",
    "    - `'aisle'`: nombre del pasillo.\n",
    "- `departments.csv`\n",
    "    - `'department_id'`: número ID que identifica de manera única cada departamento de víveres.\n",
    "    - `'department'`: nombre del departamento."
   ]
  },
  {
   "cell_type": "markdown",
   "id": "n3Ha_cNSZ8lK",
   "metadata": {
    "id": "n3Ha_cNSZ8lK"
   },
   "source": [
    "# Paso 1. Descripción de los datos\n",
    "\n",
    "Lee los archivos de datos (`/datasets/instacart_orders.csv`, `/datasets/products.csv`, `/datasets/aisles.csv`, `/datasets/departments.csv` y `/datasets/order_products.csv`) con `pd.read_csv()` usando los parámetros adecuados para leer los datos correctamente. Verifica la información para cada DataFrame creado.\n"
   ]
  },
  {
   "cell_type": "markdown",
   "id": "OmlQPLlyaAfR",
   "metadata": {
    "id": "OmlQPLlyaAfR"
   },
   "source": [
    "## Plan de solución\n",
    "\n",
    "Escribe aquí tu plan de solución para el Paso 1. Descripción de los datos.\n",
    "\n",
    "En este primer paso se solicitó leer y cargar la información en Dataframes correctamente; además de verificar que la información haya sido cargada correctamente. Para ello considero que es necesario realizar los siguientes pasos:\n",
    "1. Importar la librería a) \"pandas\" para poder hacer la lectura de los archivos y cargarlos en dataframes y b) la librería de matplot para poder realizar las gráficas que se requieran.\n",
    "2. Dado que los archivos tienen extensión \".csv\" es necesario usar la función de pandas \"read_csv\".\n",
    "3. Para validar si se leyeron correctamente los archivos se debe identificar i) qué tipo de separador tienen los archivos y ii) qué las cabeceras de los archivos se hayan cargado correctamente.\n",
    "4. Al ejecutar por primera vez cada dataframe con el método \"info\" se observa que los datos están separados por el carácter \";\" y que las columnas han cogido correctamente los nombres de las cabeceras de los archivos, ya que corresponde a lo indicado en el diccionario de datos. Además, dado que hay gran cantidad de datos almacenados en cada tabla es necesario especificar el atributo \"show_counts\" en verdadero.\n",
    "5. Dado que en el punto 4 se identifico que los datos de los archivos se encuentran separados por el carácter \";\", es necesario especificarlo al momento de realizar la lectura de los archivos con el argumento \"sep\"."
   ]
  },
  {
   "cell_type": "code",
   "execution_count": 1,
   "id": "fbf1adab",
   "metadata": {
    "id": "fbf1adab"
   },
   "outputs": [],
   "source": [
    "# importar librerías\n",
    "import pandas as pd\n",
    "import matplotlib.pyplot as plt"
   ]
  },
  {
   "cell_type": "code",
   "execution_count": 2,
   "id": "ad36396d",
   "metadata": {
    "id": "ad36396d"
   },
   "outputs": [],
   "source": [
    "# leer conjuntos de datos en los DataFrames\n",
    "df_instacart_orders = pd.read_csv('/datasets/instacart_orders.csv', sep=';')\n",
    "df_products = pd.read_csv('/datasets/products.csv', sep=';')\n",
    "df_aisles = pd.read_csv('/datasets/aisles.csv', sep=';')\n",
    "df_departments = pd.read_csv('/datasets/departments.csv', sep=';')\n",
    "df_order_products = pd.read_csv('/datasets/order_products.csv', sep=';')"
   ]
  },
  {
   "cell_type": "code",
   "execution_count": 3,
   "id": "ad6a1efa",
   "metadata": {
    "id": "ad6a1efa"
   },
   "outputs": [
    {
     "name": "stdout",
     "output_type": "stream",
     "text": [
      "<class 'pandas.core.frame.DataFrame'>\n",
      "RangeIndex: 478967 entries, 0 to 478966\n",
      "Data columns (total 6 columns):\n",
      " #   Column                  Non-Null Count   Dtype  \n",
      "---  ------                  --------------   -----  \n",
      " 0   order_id                478967 non-null  int64  \n",
      " 1   user_id                 478967 non-null  int64  \n",
      " 2   order_number            478967 non-null  int64  \n",
      " 3   order_dow               478967 non-null  int64  \n",
      " 4   order_hour_of_day       478967 non-null  int64  \n",
      " 5   days_since_prior_order  450148 non-null  float64\n",
      "dtypes: float64(1), int64(5)\n",
      "memory usage: 21.9 MB\n"
     ]
    }
   ],
   "source": [
    "# mostrar información del DataFrame\n",
    "df_instacart_orders.info(show_counts=True)"
   ]
  },
  {
   "cell_type": "code",
   "execution_count": 4,
   "id": "5130e05e",
   "metadata": {
    "id": "5130e05e"
   },
   "outputs": [
    {
     "name": "stdout",
     "output_type": "stream",
     "text": [
      "<class 'pandas.core.frame.DataFrame'>\n",
      "RangeIndex: 49694 entries, 0 to 49693\n",
      "Data columns (total 4 columns):\n",
      " #   Column         Non-Null Count  Dtype \n",
      "---  ------         --------------  ----- \n",
      " 0   product_id     49694 non-null  int64 \n",
      " 1   product_name   48436 non-null  object\n",
      " 2   aisle_id       49694 non-null  int64 \n",
      " 3   department_id  49694 non-null  int64 \n",
      "dtypes: int64(3), object(1)\n",
      "memory usage: 1.5+ MB\n"
     ]
    }
   ],
   "source": [
    "# mostrar información del DataFrame\n",
    "df_products.info(show_counts=True)"
   ]
  },
  {
   "cell_type": "code",
   "execution_count": 5,
   "id": "d8370c05",
   "metadata": {
    "id": "d8370c05"
   },
   "outputs": [
    {
     "name": "stdout",
     "output_type": "stream",
     "text": [
      "<class 'pandas.core.frame.DataFrame'>\n",
      "RangeIndex: 134 entries, 0 to 133\n",
      "Data columns (total 2 columns):\n",
      " #   Column    Non-Null Count  Dtype \n",
      "---  ------    --------------  ----- \n",
      " 0   aisle_id  134 non-null    int64 \n",
      " 1   aisle     134 non-null    object\n",
      "dtypes: int64(1), object(1)\n",
      "memory usage: 2.2+ KB\n"
     ]
    }
   ],
   "source": [
    "# mostrar información del DataFrame\n",
    "df_aisles.info(show_counts=True)"
   ]
  },
  {
   "cell_type": "code",
   "execution_count": 6,
   "id": "59e2090f",
   "metadata": {
    "id": "59e2090f"
   },
   "outputs": [
    {
     "name": "stdout",
     "output_type": "stream",
     "text": [
      "<class 'pandas.core.frame.DataFrame'>\n",
      "RangeIndex: 21 entries, 0 to 20\n",
      "Data columns (total 2 columns):\n",
      " #   Column         Non-Null Count  Dtype \n",
      "---  ------         --------------  ----- \n",
      " 0   department_id  21 non-null     int64 \n",
      " 1   department     21 non-null     object\n",
      "dtypes: int64(1), object(1)\n",
      "memory usage: 464.0+ bytes\n"
     ]
    }
   ],
   "source": [
    "# mostrar información del DataFrame\n",
    "df_departments.info(show_counts=True)"
   ]
  },
  {
   "cell_type": "code",
   "execution_count": 7,
   "id": "6fc81694",
   "metadata": {
    "id": "6fc81694"
   },
   "outputs": [
    {
     "name": "stdout",
     "output_type": "stream",
     "text": [
      "<class 'pandas.core.frame.DataFrame'>\n",
      "RangeIndex: 4545007 entries, 0 to 4545006\n",
      "Data columns (total 4 columns):\n",
      " #   Column             Non-Null Count    Dtype  \n",
      "---  ------             --------------    -----  \n",
      " 0   order_id           4545007 non-null  int64  \n",
      " 1   product_id         4545007 non-null  int64  \n",
      " 2   add_to_cart_order  4544171 non-null  float64\n",
      " 3   reordered          4545007 non-null  int64  \n",
      "dtypes: float64(1), int64(3)\n",
      "memory usage: 138.7 MB\n"
     ]
    }
   ],
   "source": [
    "# mostrar información del DataFrame\n",
    "df_order_products.info(show_counts=True)"
   ]
  },
  {
   "cell_type": "markdown",
   "id": "t75BD19oaR5f",
   "metadata": {
    "id": "t75BD19oaR5f"
   },
   "source": [
    "## Conclusiones\n",
    "\n",
    "Escribe aquí tus conclusiones intermedias sobre el Paso 1. Descripción de los datos.\n",
    "\n",
    "En los dataframes se observó que hay columnas con valores nulos, adicionalmente, es necesario validar que no existan duplicados y que los tipos de datos para cada columna sean los correctos. Por lo que es necesario realizar una limpieza de los datos, ya que tomar la información tal y como está podría llevarnos a conclusiones erradas.\n"
   ]
  },
  {
   "cell_type": "markdown",
   "id": "8RJHqxVmaVsF",
   "metadata": {
    "id": "8RJHqxVmaVsF"
   },
   "source": [
    "# Paso 2. Preprocesamiento de los datos\n",
    "\n",
    "Preprocesa los datos de la siguiente manera:\n",
    "\n",
    "- Verifica y corrige los tipos de datos (por ejemplo, asegúrate de que las columnas de ID sean números enteros).\n",
    "- Identifica y completa los valores ausentes.\n",
    "- Identifica y elimina los valores duplicados.\n",
    "\n",
    "Asegúrate de explicar qué tipos de valores ausentes y duplicados encontraste, cómo los completaste o eliminaste y por qué usaste esos métodos. ¿Por qué crees que estos valores ausentes y duplicados pueden haber estado presentes en el conjunto de datos?"
   ]
  },
  {
   "cell_type": "markdown",
   "id": "p6poABZQaZYb",
   "metadata": {
    "id": "p6poABZQaZYb"
   },
   "source": [
    "## Plan de solución\n",
    "\n",
    "Escribe aquí tu plan para el Paso 2. Preprocesamiento de los datos.\n",
    "\n",
    "El plan para procesar los datos consistirá en lo siguiente:\n",
    "1. Identificar valores duplicados, en caso seas filas totalmente duplicadas se tendrán que eliminar, en caso sea solo algunas columnas donde se encuentren duplicados, se tendrá que evaluar por qué se tendrían valores duplicados en esas columnas y ver si es correcto eliminarlos o darle algún tratamiento que permita reducir el número de duplicados.\n",
    "2. Identificar valores ausentes (nulos), en caso sean filas totalmente duplcias se tendrán que eliminar, en caso sea solo algunas columnas, se tendrá que evaluar por qué la columna podría contener esos valores nulos y completarlos con valores más legibles que permitan manipular esas filas y sea más entendible para los usuarios."
   ]
  },
  {
   "cell_type": "markdown",
   "id": "07357848-dc64-4156-9cc3-01ff4365226d",
   "metadata": {
    "id": "07357848-dc64-4156-9cc3-01ff4365226d"
   },
   "source": [
    "## Encuentra y elimina los valores duplicados (y describe cómo tomaste tus decisiones)."
   ]
  },
  {
   "cell_type": "markdown",
   "id": "f179f0a9",
   "metadata": {
    "id": "f179f0a9"
   },
   "source": [
    "### `orders` data frame"
   ]
  },
  {
   "cell_type": "code",
   "execution_count": 8,
   "id": "b99297a5-405a-463d-8535-9adc3da4ad74",
   "metadata": {
    "id": "b99297a5-405a-463d-8535-9adc3da4ad74"
   },
   "outputs": [
    {
     "name": "stdout",
     "output_type": "stream",
     "text": [
      "Número de pedidos duplicados: \n",
      "15\n",
      "\n",
      "filas duplicadas:\n",
      "        order_id  user_id  order_number  order_dow  order_hour_of_day  \\\n",
      "145574    794638    50898            24          3                  2   \n",
      "223105   2160484   107525            16          3                  2   \n",
      "230807   1918001   188546            14          3                  2   \n",
      "266232   1782114   106752             1          3                  2   \n",
      "273805   1112182   202304            84          3                  2   \n",
      "284038   2845099    31189            11          3                  2   \n",
      "311713   1021560    53767             3          3                  2   \n",
      "321100    408114    68324             4          3                  2   \n",
      "323900   1919531   191501            32          3                  2   \n",
      "345917   2232988    82565             1          3                  2   \n",
      "371905    391768    57671            19          3                  2   \n",
      "394347    467134    63189            21          3                  2   \n",
      "411408   1286742   183220            48          3                  2   \n",
      "415163   2282673    86751            49          3                  2   \n",
      "441599   2125197    14050            48          3                  2   \n",
      "\n",
      "        days_since_prior_order  \n",
      "145574                     2.0  \n",
      "223105                    30.0  \n",
      "230807                    16.0  \n",
      "266232                     NaN  \n",
      "273805                     6.0  \n",
      "284038                     7.0  \n",
      "311713                     9.0  \n",
      "321100                    18.0  \n",
      "323900                     7.0  \n",
      "345917                     NaN  \n",
      "371905                    10.0  \n",
      "394347                     2.0  \n",
      "411408                     4.0  \n",
      "415163                     2.0  \n",
      "441599                     3.0  \n"
     ]
    }
   ],
   "source": [
    "# Revisa si hay pedidos duplicados\n",
    "print('Número de pedidos duplicados: ')\n",
    "print(df_instacart_orders.duplicated().sum())\n",
    "print()\n",
    "print('filas duplicadas:')\n",
    "print(df_instacart_orders[df_instacart_orders.duplicated()==True])"
   ]
  },
  {
   "cell_type": "markdown",
   "id": "PEkwUX_gvt5A",
   "metadata": {
    "id": "PEkwUX_gvt5A"
   },
   "source": [
    "¿Tienes líneas duplicadas? Si sí, ¿qué tienen en común?\n",
    "Sí tengo líneas duplicadas. Lo que tienen en común es que todas las ordenes duplicadas fueron registrados un miércoles ('order_dow' en 3) a las 2 am ('order_hour_of_day' en 2)."
   ]
  },
  {
   "cell_type": "code",
   "execution_count": 9,
   "id": "0d44de5d",
   "metadata": {
    "id": "0d44de5d"
   },
   "outputs": [
    {
     "name": "stdout",
     "output_type": "stream",
     "text": [
      "        order_id  user_id  order_number  order_dow  order_hour_of_day  \\\n",
      "4838     2766110   162084            41          3                  2   \n",
      "5156     2190225   138285            18          3                  2   \n",
      "15506     553049    58599            13          3                  2   \n",
      "18420     382357   120200            19          3                  2   \n",
      "24691     690242    77357             2          3                  2   \n",
      "...          ...      ...           ...        ...                ...   \n",
      "457013   3384021    14881             6          3                  2   \n",
      "458816    910166   164782            18          3                  2   \n",
      "459635   1680532   106435             6          3                  2   \n",
      "468324    222962    54979            59          3                  2   \n",
      "477526   2592344    46860            38          3                  2   \n",
      "\n",
      "        days_since_prior_order  \n",
      "4838                      16.0  \n",
      "5156                      11.0  \n",
      "15506                      7.0  \n",
      "18420                     11.0  \n",
      "24691                      9.0  \n",
      "...                        ...  \n",
      "457013                    30.0  \n",
      "458816                     4.0  \n",
      "459635                    21.0  \n",
      "468324                     3.0  \n",
      "477526                     3.0  \n",
      "\n",
      "[121 rows x 6 columns]\n"
     ]
    }
   ],
   "source": [
    "# Basándote en tus hallazgos,\n",
    "# Verifica todos los pedidos que se hicieron el miércoles a las 2:00 a.m.\n",
    "df_orders_filtered = df_instacart_orders[(df_instacart_orders['order_dow'] == 3) & (df_instacart_orders['order_hour_of_day'] == 2)]\n",
    "print(df_orders_filtered)"
   ]
  },
  {
   "cell_type": "markdown",
   "id": "vu2OWyoqwOx5",
   "metadata": {
    "id": "vu2OWyoqwOx5"
   },
   "source": [
    "¿Qué sugiere este resultado?\n",
    "Eliminar las filas duplicadas ya que la columna 'order_id' debe ser un valor único."
   ]
  },
  {
   "cell_type": "code",
   "execution_count": 10,
   "id": "480563c7",
   "metadata": {
    "id": "480563c7"
   },
   "outputs": [
    {
     "name": "stdout",
     "output_type": "stream",
     "text": [
      "<class 'pandas.core.frame.DataFrame'>\n",
      "RangeIndex: 478952 entries, 0 to 478951\n",
      "Data columns (total 6 columns):\n",
      " #   Column                  Non-Null Count   Dtype  \n",
      "---  ------                  --------------   -----  \n",
      " 0   order_id                478952 non-null  int64  \n",
      " 1   user_id                 478952 non-null  int64  \n",
      " 2   order_number            478952 non-null  int64  \n",
      " 3   order_dow               478952 non-null  int64  \n",
      " 4   order_hour_of_day       478952 non-null  int64  \n",
      " 5   days_since_prior_order  450135 non-null  float64\n",
      "dtypes: float64(1), int64(5)\n",
      "memory usage: 21.9 MB\n"
     ]
    }
   ],
   "source": [
    "# Elimina los pedidos duplicados\n",
    "df_instacart_orders = df_instacart_orders.drop_duplicates().reset_index(drop=True)\n",
    "\n",
    "df_instacart_orders.info(show_counts = True)"
   ]
  },
  {
   "cell_type": "code",
   "execution_count": 11,
   "id": "0b2396a2",
   "metadata": {
    "id": "0b2396a2"
   },
   "outputs": [
    {
     "name": "stdout",
     "output_type": "stream",
     "text": [
      "0\n"
     ]
    }
   ],
   "source": [
    "# Vuelve a verificar si hay filas duplicadas\n",
    "print(df_instacart_orders.duplicated().sum())"
   ]
  },
  {
   "cell_type": "code",
   "execution_count": 12,
   "id": "f6113ef1",
   "metadata": {
    "id": "f6113ef1"
   },
   "outputs": [
    {
     "name": "stdout",
     "output_type": "stream",
     "text": [
      "0\n"
     ]
    }
   ],
   "source": [
    "# Vuelve a verificar únicamente si hay IDs duplicados de pedidos\n",
    "print(df_instacart_orders['order_id'].duplicated().sum())"
   ]
  },
  {
   "cell_type": "markdown",
   "id": "5e8905ae",
   "metadata": {
    "id": "5e8905ae"
   },
   "source": [
    "Describe brevemente tus hallazgos y lo que hiciste con ellos\n",
    "\n",
    "Dado que es un dataframe donde se ha registrado los pedidos por cliente, solo debe existir valores únicos por código de pedido, por ello, se procedió a eliminar los pedidos duplicados."
   ]
  },
  {
   "cell_type": "markdown",
   "id": "45e6bc46",
   "metadata": {
    "id": "45e6bc46"
   },
   "source": [
    "### `products` data frame"
   ]
  },
  {
   "cell_type": "code",
   "execution_count": 13,
   "id": "5f526b5b-8175-46fa-a0fd-441767d50e64",
   "metadata": {
    "id": "5f526b5b-8175-46fa-a0fd-441767d50e64"
   },
   "outputs": [
    {
     "name": "stdout",
     "output_type": "stream",
     "text": [
      "Cantidad de filas duplicadas:\n",
      "0\n"
     ]
    }
   ],
   "source": [
    "# Verifica si hay filas totalmente duplicadas\n",
    "print('Cantidad de filas duplicadas:')\n",
    "print(df_products.duplicated().sum())"
   ]
  },
  {
   "cell_type": "code",
   "execution_count": 14,
   "id": "88daa4f4",
   "metadata": {
    "id": "88daa4f4"
   },
   "outputs": [
    {
     "name": "stdout",
     "output_type": "stream",
     "text": [
      "Cantidad de duplicados en la columna \"department_id\":\n",
      "49673\n"
     ]
    }
   ],
   "source": [
    "# Revisa únicamente si hay ID de departamentos duplicados\n",
    "print('Cantidad de duplicados en la columna \"department_id\":')\n",
    "print(df_products['department_id'].duplicated().sum())"
   ]
  },
  {
   "cell_type": "code",
   "execution_count": 15,
   "id": "c773f0bf",
   "metadata": {
    "id": "c773f0bf"
   },
   "outputs": [
    {
     "name": "stdout",
     "output_type": "stream",
     "text": [
      "Cantidad de duplicados en la columna \"product_name\" antes de uniformizarla con mayúsculas:\n",
      "1257\n",
      "Cantidad de duplicados en la columna \"product_name\" después de uniformizarla a mayúsculas:\n",
      "1361\n"
     ]
    }
   ],
   "source": [
    "# Revisa únicamente si hay nombres duplicados de productos (convierte los nombres a letras mayúsculas para compararlos mejor)\n",
    "\n",
    "print('Cantidad de duplicados en la columna \"product_name\" antes de uniformizarla con mayúsculas:')\n",
    "print(df_products['product_name'].duplicated().sum())\n",
    "\n",
    "# Convertimos los nombres de la columna \"product_name\" a mayúsculas para uniformizar la información\n",
    "df_products['product_name'] = df_products['product_name'].str.upper()\n",
    "\n",
    "# Validamos si existen duplicados en la columna \"product_name\"\n",
    "print('Cantidad de duplicados en la columna \"product_name\" después de uniformizarla a mayúsculas:')\n",
    "print(df_products['product_name'].duplicated().sum())"
   ]
  },
  {
   "cell_type": "code",
   "execution_count": 16,
   "id": "01efd02e",
   "metadata": {
    "id": "01efd02e"
   },
   "outputs": [
    {
     "name": "stdout",
     "output_type": "stream",
     "text": [
      "\n",
      "cantidad de valores duplicados en la columna \"product_name\" excluyendo los valores nulos:\n",
      "1361\n",
      "\n",
      "cantidad de valores duplicados en la columna \"product_id\" excluyendo los valores nulos:\n",
      "0\n"
     ]
    }
   ],
   "source": [
    "# Revisa si hay nombres duplicados de productos no faltantes\n",
    "#print(df_products.info())\n",
    "df_products_nulos = df_products.isna()\n",
    "df_products_no_nulos = df_products[~df_products_nulos]\n",
    "\n",
    "print()\n",
    "print('cantidad de valores duplicados en la columna \"product_name\" excluyendo los valores nulos:')\n",
    "print(df_products_no_nulos['product_name'].duplicated().sum())\n",
    "print()\n",
    "\n",
    "print('cantidad de valores duplicados en la columna \"product_id\" excluyendo los valores nulos:')\n",
    "print(df_products_no_nulos['product_id'].duplicated().sum())"
   ]
  },
  {
   "cell_type": "markdown",
   "id": "9da8d293",
   "metadata": {
    "id": "9da8d293"
   },
   "source": [
    "Describe brevemente tus hallazgos y lo que hiciste con ellos.\n",
    "En el dataframe \"products\"\n",
    "\n",
    "En este dataframe no se encontraron valores duplicados de filas completas.\n",
    "Lo que sí se encontró fueron nombres de producto duplicados; para cuantificarlos primero uniformizamos la columna \"product_name\" a mayúsculas y con ello, se identificaron 1,361 filas con nombres de producto duplicado; sin embargo, dado que esta columna no es un identificador único y está vinculado a un identificador único que es la columna \"product_id\" donde no existen duplicados, no se puede eliminar las filas duplicadas, de hacerlo estaríamos alterando la información de otros dataframes donde se encuentra el campo \"product_id\"."
   ]
  },
  {
   "cell_type": "markdown",
   "id": "60f30db1",
   "metadata": {
    "id": "60f30db1"
   },
   "source": [
    "### `departments` data frame"
   ]
  },
  {
   "cell_type": "code",
   "execution_count": 17,
   "id": "fb410ad4-0fbf-4b80-bb09-23fdea79afe3",
   "metadata": {
    "id": "fb410ad4-0fbf-4b80-bb09-23fdea79afe3"
   },
   "outputs": [
    {
     "name": "stdout",
     "output_type": "stream",
     "text": [
      "0\n"
     ]
    }
   ],
   "source": [
    "# Revisa si hay filas totalmente duplicadas\n",
    "print(df_departments.duplicated().sum())"
   ]
  },
  {
   "cell_type": "code",
   "execution_count": 18,
   "id": "332b12bb",
   "metadata": {
    "id": "332b12bb"
   },
   "outputs": [
    {
     "name": "stdout",
     "output_type": "stream",
     "text": [
      "0\n"
     ]
    }
   ],
   "source": [
    "# Revisa únicamente si hay IDs duplicadas de productos\n",
    "print(df_departments['department_id'].duplicated().sum())"
   ]
  },
  {
   "cell_type": "markdown",
   "id": "bd30d78e",
   "metadata": {
    "id": "bd30d78e"
   },
   "source": [
    "Describe brevemente tus hallazgos y lo que hiciste con ellos.\n",
    "\n",
    "No se encontraron filas duplicadas por lo que no se realizo ninguna modificación."
   ]
  },
  {
   "cell_type": "markdown",
   "id": "889349c1",
   "metadata": {
    "id": "889349c1"
   },
   "source": [
    "### `aisles` data frame"
   ]
  },
  {
   "cell_type": "code",
   "execution_count": 19,
   "id": "9da89fb9-4679-40f5-ad0d-c34df753a3f8",
   "metadata": {
    "id": "9da89fb9-4679-40f5-ad0d-c34df753a3f8"
   },
   "outputs": [
    {
     "name": "stdout",
     "output_type": "stream",
     "text": [
      "0\n"
     ]
    }
   ],
   "source": [
    "# Revisa si hay filas totalmente duplicadas\n",
    "print(df_aisles.duplicated().sum())"
   ]
  },
  {
   "cell_type": "code",
   "execution_count": 20,
   "id": "da7c2822",
   "metadata": {
    "id": "da7c2822"
   },
   "outputs": [
    {
     "name": "stdout",
     "output_type": "stream",
     "text": [
      "0\n"
     ]
    }
   ],
   "source": [
    "# Revisa únicamente si hay IDs duplicadas de productos\n",
    "print(df_aisles['aisle_id'].duplicated().sum())"
   ]
  },
  {
   "cell_type": "markdown",
   "id": "ac63826f",
   "metadata": {
    "id": "ac63826f"
   },
   "source": [
    "Describe brevemente tus hallazgos y lo que hiciste con ellos.\n",
    "\n",
    "No se encontraron filas duplicadas por lo que no se realizo ninguna modificación."
   ]
  },
  {
   "cell_type": "markdown",
   "id": "274cd06a",
   "metadata": {
    "id": "274cd06a"
   },
   "source": [
    "### `order_products` data frame"
   ]
  },
  {
   "cell_type": "code",
   "execution_count": 21,
   "id": "52326689-84a8-4b8f-a881-7c68780f62c9",
   "metadata": {
    "id": "52326689-84a8-4b8f-a881-7c68780f62c9"
   },
   "outputs": [
    {
     "name": "stdout",
     "output_type": "stream",
     "text": [
      "0\n"
     ]
    }
   ],
   "source": [
    "# Revisa si hay filas totalmente duplicadas\n",
    "print(df_order_products.duplicated().sum())"
   ]
  },
  {
   "cell_type": "code",
   "execution_count": 22,
   "id": "7b861391",
   "metadata": {
    "id": "7b861391"
   },
   "outputs": [
    {
     "name": "stdout",
     "output_type": "stream",
     "text": [
      "4094961\n"
     ]
    }
   ],
   "source": [
    "# Vuelve a verificar si hay cualquier otro duplicado engañoso\n",
    "print(df_order_products['order_id'].duplicated().sum())"
   ]
  },
  {
   "cell_type": "markdown",
   "id": "0b890492",
   "metadata": {
    "id": "0b890492"
   },
   "source": [
    "Describe brevemente tus hallazgos y lo que hiciste con ellos.\n",
    "\n",
    "No se identificaron filas completas duplicadas pero si analizamos solo la columna \"order_id\" se observan bastantes duplicados; sin embargo, es correcto que existan duplicados en esa columna ya que en el dataframe se almacena por fila un producto solicitado en cada pedido. Quiere decir que si un pedido contiene 5 productos, el id del pedido se verá repetido 5 veces."
   ]
  },
  {
   "cell_type": "markdown",
   "id": "1e46de76",
   "metadata": {
    "id": "1e46de76"
   },
   "source": [
    "## Encuentra y elimina los valores ausentes\n",
    "\n",
    "Al trabajar con valores duplicados, pudimos observar que también nos falta investigar valores ausentes:\n",
    "\n",
    "* La columna `'product_name'` de la tabla products.\n",
    "* La columna `'days_since_prior_order'` de la tabla orders.\n",
    "* La columna `'add_to_cart_order'` de la tabla order_productos."
   ]
  },
  {
   "cell_type": "markdown",
   "id": "c0aebd78",
   "metadata": {
    "id": "c0aebd78"
   },
   "source": [
    "### `products` data frame"
   ]
  },
  {
   "cell_type": "code",
   "execution_count": 23,
   "id": "fe4a8b0f",
   "metadata": {
    "id": "fe4a8b0f"
   },
   "outputs": [
    {
     "name": "stdout",
     "output_type": "stream",
     "text": [
      "       product_id product_name  aisle_id  department_id\n",
      "37             38          NaN       100             21\n",
      "71             72          NaN       100             21\n",
      "109           110          NaN       100             21\n",
      "296           297          NaN       100             21\n",
      "416           417          NaN       100             21\n",
      "...           ...          ...       ...            ...\n",
      "49552       49553          NaN       100             21\n",
      "49574       49575          NaN       100             21\n",
      "49640       49641          NaN       100             21\n",
      "49663       49664          NaN       100             21\n",
      "49668       49669          NaN       100             21\n",
      "\n",
      "[1258 rows x 4 columns]\n"
     ]
    }
   ],
   "source": [
    "# Encuentra los valores ausentes en la columna 'product_name'\n",
    "df_products_name_nulos = df_products[df_products['product_name'].isna()==True]\n",
    "print(df_products_name_nulos)"
   ]
  },
  {
   "cell_type": "markdown",
   "id": "-A6x1AbJhjkp",
   "metadata": {
    "id": "-A6x1AbJhjkp"
   },
   "source": [
    "Describe brevemente cuáles son tus hallazgos.\n",
    "\n",
    "Se encontraron 1258 filas con valores nulos en la columna \"product_name\", donde en un vistazo general pareciera que corresponden a productos que se encuentran en el pasillo 100 y departamento 21."
   ]
  },
  {
   "cell_type": "code",
   "execution_count": 24,
   "id": "e96167bc",
   "metadata": {
    "id": "e96167bc"
   },
   "outputs": [
    {
     "name": "stdout",
     "output_type": "stream",
     "text": [
      "       product_id product_name  aisle_id  department_id\n",
      "37             38          NaN       100             21\n",
      "71             72          NaN       100             21\n",
      "109           110          NaN       100             21\n",
      "296           297          NaN       100             21\n",
      "416           417          NaN       100             21\n",
      "...           ...          ...       ...            ...\n",
      "49552       49553          NaN       100             21\n",
      "49574       49575          NaN       100             21\n",
      "49640       49641          NaN       100             21\n",
      "49663       49664          NaN       100             21\n",
      "49668       49669          NaN       100             21\n",
      "\n",
      "[1258 rows x 4 columns]\n"
     ]
    }
   ],
   "source": [
    "#  ¿Todos los nombres de productos ausentes están relacionados con el pasillo con ID 100?\n",
    "df_products_name_nulos = df_products[(df_products['product_name'].isna()==True) & (df_products['aisle_id']==100)]\n",
    "print(df_products_name_nulos)"
   ]
  },
  {
   "cell_type": "markdown",
   "id": "WRpIfXRphpSL",
   "metadata": {
    "id": "WRpIfXRphpSL"
   },
   "source": [
    "Describe brevemente cuáles son tus hallazgos.\n",
    "\n",
    "Se agrego al filtro de valores ausentes en la columna \"product_name\", el filtro de \"aisle_id\" en 100 y se mantuvo el número de filas obtenidas en el paso anterior por lo que se comprueba que todos los productos ausentes están relacionados con el pasillo con ID 100."
   ]
  },
  {
   "cell_type": "code",
   "execution_count": 25,
   "id": "8fd0a541",
   "metadata": {
    "id": "8fd0a541"
   },
   "outputs": [
    {
     "name": "stdout",
     "output_type": "stream",
     "text": [
      "       product_id product_name  aisle_id  department_id\n",
      "37             38          NaN       100             21\n",
      "71             72          NaN       100             21\n",
      "109           110          NaN       100             21\n",
      "296           297          NaN       100             21\n",
      "416           417          NaN       100             21\n",
      "...           ...          ...       ...            ...\n",
      "49552       49553          NaN       100             21\n",
      "49574       49575          NaN       100             21\n",
      "49640       49641          NaN       100             21\n",
      "49663       49664          NaN       100             21\n",
      "49668       49669          NaN       100             21\n",
      "\n",
      "[1258 rows x 4 columns]\n"
     ]
    }
   ],
   "source": [
    "# ¿Todos los nombres de productos ausentes están relacionados con el departamento con ID 21?\n",
    "df_products_name_nulos = df_products[(df_products['product_name'].isna()==True) & (df_products['department_id']==21)]\n",
    "print(df_products_name_nulos)"
   ]
  },
  {
   "cell_type": "markdown",
   "id": "qDpdYn1Fht_I",
   "metadata": {
    "id": "qDpdYn1Fht_I"
   },
   "source": [
    "Describe brevemente cuáles son tus hallazgos.\n",
    "\n",
    "Se agrego al filtro de valores ausentes en la columna \"product_name\", el filtro de \"department_id\" en 21 y se mantuvo el número de filas obtenidas en el paso anterior por lo que se comprueba que todos los productos ausentes están relacionados con el departamento con ID 21."
   ]
  },
  {
   "cell_type": "code",
   "execution_count": 26,
   "id": "325c3464",
   "metadata": {
    "id": "325c3464"
   },
   "outputs": [
    {
     "name": "stdout",
     "output_type": "stream",
     "text": [
      "pasillo:\n",
      "    aisle_id    aisle\n",
      "99       100  missing\n",
      "\n",
      "departamento:\n",
      "    department_id department\n",
      "20             21    missing\n"
     ]
    }
   ],
   "source": [
    "# Usa las tablas department y aisle para revisar los datos del pasillo con ID 100 y el departamento con ID 21.\n",
    "df_aisle_filtered = df_aisles[df_aisles['aisle_id'] == 100]\n",
    "df_department_filtered = df_departments[df_departments['department_id'] == 21]\n",
    "\n",
    "print('pasillo:')\n",
    "print(df_aisle_filtered)\n",
    "print()\n",
    "print('departamento:')\n",
    "print(df_department_filtered)"
   ]
  },
  {
   "cell_type": "markdown",
   "id": "nqhSTUPhhvEJ",
   "metadata": {
    "id": "nqhSTUPhhvEJ"
   },
   "source": [
    "Describe brevemente cuáles son tus hallazgos.\n",
    "\n",
    "Los nombres del pasillo 100 y el departamento 21 tienen un nombre general no hace referencia a ningún pasillo ni departamento \"missing\"."
   ]
  },
  {
   "cell_type": "code",
   "execution_count": 27,
   "id": "6b295120",
   "metadata": {
    "id": "6b295120"
   },
   "outputs": [
    {
     "name": "stdout",
     "output_type": "stream",
     "text": [
      "filas con nombres ausentes: 0\n"
     ]
    }
   ],
   "source": [
    "# Completa los nombres de productos ausentes con 'Unknown'\n",
    "df_products['product_name'].fillna('Unkown', inplace = True)\n",
    "print('filas con nombres ausentes:', df_products['product_name'].isna().sum())"
   ]
  },
  {
   "cell_type": "markdown",
   "id": "fc70e5ad",
   "metadata": {
    "id": "fc70e5ad"
   },
   "source": [
    "Describe brevemente tus hallazgos y lo que hiciste con ellos.\n",
    "\n",
    "Se identificaron las filas con nombres de productos nulos y se reemplazaron por \"Unknown\"."
   ]
  },
  {
   "cell_type": "markdown",
   "id": "7eb45c86",
   "metadata": {
    "id": "7eb45c86"
   },
   "source": [
    "### `orders` data frame"
   ]
  },
  {
   "cell_type": "code",
   "execution_count": 28,
   "id": "93e41d96",
   "metadata": {
    "id": "93e41d96"
   },
   "outputs": [
    {
     "name": "stdout",
     "output_type": "stream",
     "text": [
      "filas duplicadas por columna: \n",
      "order_id                      0\n",
      "user_id                       0\n",
      "order_number                  0\n",
      "order_dow                     0\n",
      "order_hour_of_day             0\n",
      "days_since_prior_order    28817\n",
      "dtype: int64\n",
      "\n",
      "filas con valores nulo en la columna \"days_since_order\": \n",
      "        order_id  user_id  order_number  order_dow  order_hour_of_day  \\\n",
      "28        133707   182261             1          3                 10   \n",
      "96        787445    25685             1          6                 18   \n",
      "100       294410   111449             1          0                 19   \n",
      "103      2869915   123958             1          4                 16   \n",
      "104      2521921    42286             1          3                 18   \n",
      "...          ...      ...           ...        ...                ...   \n",
      "478880   2589657   205028             1          0                 16   \n",
      "478881   2222353   141211             1          2                 13   \n",
      "478907   2272807   204154             1          1                 15   \n",
      "478911   2499542    68810             1          4                 19   \n",
      "478930   1387033    22496             1          5                 14   \n",
      "\n",
      "        days_since_prior_order  \n",
      "28                         NaN  \n",
      "96                         NaN  \n",
      "100                        NaN  \n",
      "103                        NaN  \n",
      "104                        NaN  \n",
      "...                        ...  \n",
      "478880                     NaN  \n",
      "478881                     NaN  \n",
      "478907                     NaN  \n",
      "478911                     NaN  \n",
      "478930                     NaN  \n",
      "\n",
      "[28817 rows x 6 columns]\n"
     ]
    }
   ],
   "source": [
    "# Encuentra los valores ausentes\n",
    "#df_instacart_orders.info(show_counts = True)\n",
    "print('filas duplicadas por columna: ')\n",
    "print(df_instacart_orders.isna().sum())\n",
    "print()\n",
    "\n",
    "#como se observan valor nulos en la columna \"days_since_prior_order\", validamos si hay algo particular\n",
    "print('filas con valores nulo en la columna \"days_since_order\": ')\n",
    "print(df_instacart_orders[df_instacart_orders['days_since_prior_order'].isna()==True])"
   ]
  },
  {
   "cell_type": "code",
   "execution_count": 29,
   "id": "166e5a86",
   "metadata": {
    "id": "166e5a86"
   },
   "outputs": [
    {
     "name": "stdout",
     "output_type": "stream",
     "text": [
      "cantidad de filas que sean la primera orden del cliente: \n",
      "order_id                  28817\n",
      "user_id                   28817\n",
      "order_number              28817\n",
      "order_dow                 28817\n",
      "order_hour_of_day         28817\n",
      "days_since_prior_order        0\n",
      "dtype: int64\n",
      "\n",
      "filas duplicadas por columna: \n",
      "order_id                  0\n",
      "user_id                   0\n",
      "order_number              0\n",
      "order_dow                 0\n",
      "order_hour_of_day         0\n",
      "days_since_prior_order    0\n",
      "dtype: int64\n"
     ]
    }
   ],
   "source": [
    "# ¿Hay algún valor ausente que no sea el primer pedido del cliente?\n",
    "#descartamos que correspondan a las primeras ordenes de los clientes.\n",
    "print('cantidad de filas que sean la primera orden del cliente: ')\n",
    "print(df_instacart_orders[(df_instacart_orders['order_number']==1)].count())\n",
    "print()\n",
    "\n",
    "#para todas las primeras ordenes de los clientes, reemplazamos la columna \"days_since_prior_order\" en nulo por cero\n",
    "df_instacart_orders['days_since_prior_order'].fillna(0,inplace = True)\n",
    "\n",
    "# Convertimos el tipo de dato de la columna \"days_since_prior_order\" de float a int.\n",
    "df_instacart_orders['days_since_prior_order'] = df_instacart_orders['days_since_prior_order'].astype(int)\n",
    "\n",
    "print('filas duplicadas por columna: ')\n",
    "print(df_instacart_orders.isna().sum())"
   ]
  },
  {
   "cell_type": "markdown",
   "id": "4e23d089",
   "metadata": {
    "id": "4e23d089"
   },
   "source": [
    "Describe brevemente tus hallazgos y lo que hiciste con ellos.\n",
    "\n",
    "No hay valores ausentes de filas completas pero sí hay valores ausentes en la columna \"days_since_prior_order\".\n",
    "Se valido que las filas donde la columna \"days_since_prior_order\" figura en nulo corresponde solo a los primeros pedidos realizados por los clientes. Para todos las primeras ordenes de los clientes se reemplazo los nulos por cero. Para que en caso se desee realizar alguna operación matemática con esa columna o filtrar sea manipulable."
   ]
  },
  {
   "cell_type": "markdown",
   "id": "69dc9ca4",
   "metadata": {
    "id": "69dc9ca4"
   },
   "source": [
    "### `order_products` data frame"
   ]
  },
  {
   "cell_type": "code",
   "execution_count": 30,
   "id": "b8240253",
   "metadata": {
    "id": "b8240253"
   },
   "outputs": [
    {
     "name": "stdout",
     "output_type": "stream",
     "text": [
      "<class 'pandas.core.frame.DataFrame'>\n",
      "RangeIndex: 4545007 entries, 0 to 4545006\n",
      "Data columns (total 4 columns):\n",
      " #   Column             Non-Null Count    Dtype  \n",
      "---  ------             --------------    -----  \n",
      " 0   order_id           4545007 non-null  int64  \n",
      " 1   product_id         4545007 non-null  int64  \n",
      " 2   add_to_cart_order  4544171 non-null  float64\n",
      " 3   reordered          4545007 non-null  int64  \n",
      "dtypes: float64(1), int64(3)\n",
      "memory usage: 138.7 MB\n",
      "filas duplicadas por columna: \n",
      "order_id               0\n",
      "product_id             0\n",
      "add_to_cart_order    836\n",
      "reordered              0\n",
      "dtype: int64\n",
      "\n"
     ]
    }
   ],
   "source": [
    "# Encuentra los valores ausentes\n",
    "df_order_products.info(show_counts = True)\n",
    "print('filas duplicadas por columna: ')\n",
    "print(df_order_products.isna().sum())\n",
    "print()"
   ]
  },
  {
   "cell_type": "code",
   "execution_count": 31,
   "id": "9a78e5ee",
   "metadata": {
    "id": "9a78e5ee"
   },
   "outputs": [
    {
     "data": {
      "text/plain": [
       "count    4.544171e+06\n",
       "mean     8.351669e+00\n",
       "std      7.080368e+00\n",
       "min      1.000000e+00\n",
       "25%      3.000000e+00\n",
       "50%      6.000000e+00\n",
       "75%      1.100000e+01\n",
       "max      6.400000e+01\n",
       "Name: add_to_cart_order, dtype: float64"
      ]
     },
     "execution_count": 31,
     "metadata": {},
     "output_type": "execute_result"
    }
   ],
   "source": [
    "# ¿Cuáles son los valores mínimos y máximos en esta columna?\n",
    "df_order_products['add_to_cart_order'].describe()"
   ]
  },
  {
   "cell_type": "markdown",
   "id": "-Z2Ja215jW78",
   "metadata": {
    "id": "-Z2Ja215jW78"
   },
   "source": [
    "Describe brevemente cuáles son tus hallazgos.\n",
    "\n",
    "Se encontraron valores nulos solo en la columna \"add_to_cart_order\", 836 filas.\n",
    "Los valores mínimo y máximo para esa columna son de 1 y 64 correspondientemente."
   ]
  },
  {
   "cell_type": "code",
   "execution_count": 32,
   "id": "ab9d0c2b",
   "metadata": {
    "id": "ab9d0c2b"
   },
   "outputs": [
    {
     "name": "stdout",
     "output_type": "stream",
     "text": [
      "         order_id  product_id  add_to_cart_order  reordered\n",
      "737       2449164        5068                NaN          0\n",
      "9926      1968313       43867                NaN          0\n",
      "14394     2926893       11688                NaN          0\n",
      "16418     1717990        4142                NaN          0\n",
      "30114     1959075       42828                NaN          1\n",
      "...           ...         ...                ...        ...\n",
      "4505662   1800005        7411                NaN          0\n",
      "4511400   1633337         260                NaN          0\n",
      "4517562    404157        9517                NaN          0\n",
      "4534112   1673227       17835                NaN          0\n",
      "4535739   1832957       17949                NaN          1\n",
      "\n",
      "[836 rows x 4 columns]\n"
     ]
    }
   ],
   "source": [
    "# Guarda todas las IDs de pedidos que tengan un valor ausente en 'add_to_cart_order'\n",
    "df_products_id =  df_order_products[df_order_products['add_to_cart_order'].isna()==True]\n",
    "print(df_products_id)"
   ]
  },
  {
   "cell_type": "code",
   "execution_count": 33,
   "id": "54c31695",
   "metadata": {
    "id": "54c31695"
   },
   "outputs": [
    {
     "name": "stdout",
     "output_type": "stream",
     "text": [
      "order_id\n",
      "9310        1\n",
      "61355      63\n",
      "102236     31\n",
      "129627      5\n",
      "165801      6\n",
      "           ..\n",
      "2999801     6\n",
      "3125735    22\n",
      "3308010    51\n",
      "3347453     7\n",
      "3383594     5\n",
      "Name: product_id, Length: 70, dtype: int64\n",
      "\n",
      "valor mínimo:  1\n",
      "valor máximo:  63\n"
     ]
    }
   ],
   "source": [
    "# ¿Todos los pedidos con valores ausentes tienen más de 64 productos?\n",
    "# Agrupa todos los pedidos con datos ausentes por su ID de pedido.\n",
    "# Cuenta el número de 'product_id' en cada pedido y revisa el valor mínimo del conteo.\n",
    "print(df_products_id.groupby(by = 'order_id')['product_id'].count())\n",
    "print()\n",
    "print('valor mínimo: ', df_products_id.groupby(by = 'order_id')['product_id'].count().min())\n",
    "print('valor máximo: ', df_products_id.groupby(by = 'order_id')['product_id'].count().max())"
   ]
  },
  {
   "cell_type": "markdown",
   "id": "p9V6pddtjglj",
   "metadata": {
    "id": "p9V6pddtjglj"
   },
   "source": [
    "Describe brevemente cuáles son tus hallazgos.\n",
    "\n",
    "Los pedidos con valores ausentes no tienen más de 64 productos. El mínimo es 1 y el máximo 63."
   ]
  },
  {
   "cell_type": "code",
   "execution_count": 34,
   "id": "7a987d08",
   "metadata": {
    "id": "7a987d08"
   },
   "outputs": [
    {
     "name": "stdout",
     "output_type": "stream",
     "text": [
      "<class 'pandas.core.frame.DataFrame'>\n",
      "RangeIndex: 4545007 entries, 0 to 4545006\n",
      "Data columns (total 4 columns):\n",
      " #   Column             Non-Null Count    Dtype\n",
      "---  ------             --------------    -----\n",
      " 0   order_id           4545007 non-null  int64\n",
      " 1   product_id         4545007 non-null  int64\n",
      " 2   add_to_cart_order  4545007 non-null  int64\n",
      " 3   reordered          4545007 non-null  int64\n",
      "dtypes: int64(4)\n",
      "memory usage: 138.7 MB\n"
     ]
    }
   ],
   "source": [
    "# Remplaza los valores ausentes en la columna 'add_to_cart? con 999 y convierte la columna al tipo entero.\n",
    "\n",
    "# Complentamos los valores nulos del campo \"add_to_cart_order\" con \"999\".\n",
    "df_order_products['add_to_cart_order'].fillna(999, inplace=True)\n",
    "\n",
    "# Convertimos el tipo de dato de la columna \"add_to_cart_order\" de float a int.\n",
    "df_order_products['add_to_cart_order'] = df_order_products['add_to_cart_order'].astype(int)\n",
    "\n",
    "# Validamos si el tipo de datos de la columna \"add_to_cart_order\" se convirtio a int correctamente.\n",
    "df_order_products.info(show_counts=True)"
   ]
  },
  {
   "cell_type": "markdown",
   "id": "fea4bcc7",
   "metadata": {
    "id": "fea4bcc7"
   },
   "source": [
    "Describe brevemente tus hallazgos y lo que hiciste con ellos.\n",
    "\n",
    "Se completaron con valores 999 todas los valores en nulo de la columna \"add_to_cart_order\". Posteriormente, se hizo el cambio de tipo de dato de la columna \"add_to_cart_order\" de float a int."
   ]
  },
  {
   "cell_type": "markdown",
   "id": "RnplPFY1gSrb",
   "metadata": {
    "id": "RnplPFY1gSrb"
   },
   "source": [
    "## Conclusiones\n",
    "\n",
    "Escribe aquí tus conclusiones intermedias sobre el Paso 2. Preprocesamiento de los datos\n",
    "\n",
    "Luego de realizar el preprocesamiento de los datos de los dataframes se concluye lo siguiente:\n",
    "1. En el dataframe \"instacart_orders\" donde se registran los pedidos por cliente, se encontraron 15 filas completamente duplicadas y que correspondían a un momento en específico (miércoles a las 2 am), dado que el valor de \"order_id\" debe ser único se procedió a eliminar las filas duplicadas. Adicionalmente, se identifico que las primeras ordenes de los clientes tenían la columna \"days_since_prior_order\" con valores en nulo, por lo cual se optó por darle el valor de 0 para que sea manipulable.\n",
    "2. En el dataframe \"products\" se encontró valores no uniformizados en la columna \"product_name\" por lo que se optó por uniformizarlo con valores en mayúscula. Posteriormente, se identificó que existían valores no nulos con nombres de producto duplicados pero que correspondian a códigos de producto únicos, por ello, no se optó por eliminarlos ya que de realizarlo podría alterar la información almacenada en los dataframes que contienen esa columna (ej. dataframe order_products). Adicionalmente, también se identificaron 1,258 valores ausentes en la columna \"product_name\" que correspondían al pasillo 100 y departamento 21, donde ambos tienen como descripción \"missing\", por lo que se optó por reemplazar los valores nulos de la columna \"product_name\" por \"Unknown\".\n",
    "3. En el dataframe \"order_products\" se encontraron varios valores duplicados, resultado que es correcto ya que se registra en cada fila un producto por pedido (ej. para un pedido de 5 productos, se verán 5 filas con el id pedido y con 5 ids de productos distintos). Posterior a ello se identificaron 836 valores ausentes en la columna \"add_to_cart_order\", donde se identificaron los valores ausentes con 999.\n",
    "4. En el dataframe \"aisles\" no se encontraron filas duplicadas ni con valores ausentes por lo que no se realizaron cambios.\n",
    "5. En el dataframe \"departments\" no se encontraron filas duplicadas ni con valores ausentes por lo que no se realizaron cambios."
   ]
  },
  {
   "cell_type": "markdown",
   "id": "UjrOIwTcz3ri",
   "metadata": {
    "id": "UjrOIwTcz3ri"
   },
   "source": [
    "# Paso 3. Análisis de los datos\n",
    "\n",
    "Una vez los datos estén procesados y listos, haz el siguiente análisis:"
   ]
  },
  {
   "cell_type": "markdown",
   "id": "turkish-kidney",
   "metadata": {
    "id": "turkish-kidney"
   },
   "source": [
    "# [A] Fácil (deben completarse todos para aprobar)\n",
    "\n",
    "1. Verifica que los valores en las columnas `'order_hour_of_day'` y `'order_dow'` en la tabla orders sean razonables (es decir, `'order_hour_of_day'` oscile entre 0 y 23 y `'order_dow'` oscile entre 0 y 6).\n",
    "2. Crea un gráfico que muestre el número de personas que hacen pedidos dependiendo de la hora del día.\n",
    "3. Crea un gráfico que muestre qué día de la semana la gente hace sus compras.\n",
    "4. Crea un gráfico que muestre el tiempo que la gente espera hasta hacer su siguiente pedido, y comenta sobre los valores mínimos y máximos."
   ]
  },
  {
   "cell_type": "markdown",
   "id": "short-capability",
   "metadata": {
    "id": "short-capability"
   },
   "source": [
    "### [A1] Verifica que los valores sean sensibles"
   ]
  },
  {
   "cell_type": "code",
   "execution_count": 35,
   "id": "growing-fruit",
   "metadata": {
    "id": "growing-fruit"
   },
   "outputs": [
    {
     "data": {
      "text/plain": [
       "count    478952.000000\n",
       "mean         13.447034\n",
       "std           4.224567\n",
       "min           0.000000\n",
       "25%          10.000000\n",
       "50%          13.000000\n",
       "75%          16.000000\n",
       "max          23.000000\n",
       "Name: order_hour_of_day, dtype: float64"
      ]
     },
     "execution_count": 35,
     "metadata": {},
     "output_type": "execute_result"
    }
   ],
   "source": [
    "df_instacart_orders['order_hour_of_day'].describe()"
   ]
  },
  {
   "cell_type": "code",
   "execution_count": 36,
   "id": "accessory-malaysia",
   "metadata": {
    "id": "accessory-malaysia"
   },
   "outputs": [
    {
     "data": {
      "text/plain": [
       "count    478952.000000\n",
       "mean          2.775051\n",
       "std           2.045901\n",
       "min           0.000000\n",
       "25%           1.000000\n",
       "50%           3.000000\n",
       "75%           5.000000\n",
       "max           6.000000\n",
       "Name: order_dow, dtype: float64"
      ]
     },
     "execution_count": 36,
     "metadata": {},
     "output_type": "execute_result"
    }
   ],
   "source": [
    "df_instacart_orders['order_dow'].describe()"
   ]
  },
  {
   "cell_type": "markdown",
   "id": "hmR2GNQ6lCsX",
   "metadata": {
    "id": "hmR2GNQ6lCsX"
   },
   "source": [
    "Escribe aquí tus conclusiones\n",
    "\n",
    "Usamos el método describe para validar los rangos de los valores en las columnas \"order_hour_of_day\" y \"order_dow\". Se valido que los valores de ambas columnas se encuentran dentro del rango valido."
   ]
  },
  {
   "cell_type": "markdown",
   "id": "a6743a70",
   "metadata": {
    "id": "a6743a70"
   },
   "source": [
    "### [A2] Para cada hora del día, ¿cuántas personas hacen órdenes?"
   ]
  },
  {
   "cell_type": "code",
   "execution_count": 37,
   "id": "a36cca27",
   "metadata": {
    "id": "a36cca27"
   },
   "outputs": [
    {
     "data": {
      "image/png": "[encoded data removed]",
      "text/plain": [
       "<Figure size 432x288 with 1 Axes>"
      ]
     },
     "metadata": {
      "needs_background": "light"
     },
     "output_type": "display_data"
    }
   ],
   "source": [
    "df_people_per_hour = df_instacart_orders.groupby(by = 'order_hour_of_day')['user_id'].count()\n",
    "\n",
    "# Graficamos\n",
    "df_people_per_hour.plot(\n",
    "        xlabel = 'Hour of Day',\n",
    "        ylabel = 'Number of Clients',\n",
    "        kind = 'bar',\n",
    "        title = 'Clients Flow per Hour')\n",
    "\n",
    "plt.show()"
   ]
  },
  {
   "cell_type": "markdown",
   "id": "11270eed",
   "metadata": {
    "id": "11270eed"
   },
   "source": [
    "Escribe aquí tus conclusiones\n",
    "\n",
    "Se observa que a partir de las 5 am se incrementa la afluencia de clientes haciendo ordenes de pedidos hasta las 15 horas. Adicionalmente, podemos afirmar que las horas entre 10 y 16 son las horas pico con mayor afluencia de clientes."
   ]
  },
  {
   "cell_type": "markdown",
   "id": "documented-command",
   "metadata": {
    "id": "documented-command"
   },
   "source": [
    "### [A3] ¿Qué día de la semana compran víveres las personas?"
   ]
  },
  {
   "cell_type": "code",
   "execution_count": 38,
   "id": "chief-digit",
   "metadata": {
    "id": "chief-digit"
   },
   "outputs": [
    {
     "data": {
      "image/png": "[encoded data removed]",
      "text/plain": [
       "<Figure size 432x288 with 1 Axes>"
      ]
     },
     "metadata": {
      "needs_background": "light"
     },
     "output_type": "display_data"
    }
   ],
   "source": [
    "df_orders_per_day = df_instacart_orders.groupby(by = 'order_dow')['user_id'].count()\n",
    "\n",
    "# Renombramos los índices para que en vez de que figuren números, se muestre la descripción correspondiente.\n",
    "df_orders_per_day.rename(index={0: 'Sunday', 1: 'Monday', 2: 'Tuesday', 3: 'Wednesday', 4: 'Thrusday', 5: 'Friday', 6: 'Saturday'}, inplace=True)\n",
    "\n",
    "# Graficamos\n",
    "df_orders_per_day.plot(\n",
    "        x = 'order_dow',\n",
    "        xlabel = 'Day',\n",
    "        ylabel = 'Number of Clients',\n",
    "        kind = 'bar',\n",
    "        title = 'Clients Flow per Day')\n",
    "\n",
    "plt.show()"
   ]
  },
  {
   "cell_type": "markdown",
   "id": "dominant-lightning",
   "metadata": {
    "id": "dominant-lightning"
   },
   "source": [
    "Escribe aquí tus conclusiones\n",
    "\n",
    "En la gráfica se observa que existe mayor afluencia de clientes los domingos y lunes; de martes a sábado es más bajo; siendo el jueves el día con afluencia más baja de clientes."
   ]
  },
  {
   "cell_type": "markdown",
   "id": "cutting-concert",
   "metadata": {
    "id": "cutting-concert"
   },
   "source": [
    "### [A4] ¿Cuánto tiempo esperan las personas hasta hacer otro pedido? Comenta sobre los valores mínimos y máximos."
   ]
  },
  {
   "cell_type": "code",
   "execution_count": 39,
   "id": "c231f523",
   "metadata": {
    "id": "c231f523"
   },
   "outputs": [
    {
     "data": {
      "image/png": "[encoded data removed]",
      "text/plain": [
       "<Figure size 432x288 with 1 Axes>"
      ]
     },
     "metadata": {
      "needs_background": "light"
     },
     "output_type": "display_data"
    },
    {
     "name": "stdout",
     "output_type": "stream",
     "text": [
      "Clientes que esperaron 7 días para hacer un siguiente pedido: 44577\n",
      "Clientes que esperaron 30 días para hacer un siguiente pedido: 51337\n"
     ]
    }
   ],
   "source": [
    "df_days_waiting_per_client = df_instacart_orders.groupby(by = 'days_since_prior_order')['user_id'].count()\n",
    "\n",
    "# Graficamos\n",
    "df_days_waiting_per_client.plot(\n",
    "        x = 'days_since_prior_order',\n",
    "        xlabel = 'Days for make a new Order',\n",
    "        ylabel = 'Number of Clients',\n",
    "        kind = 'bar',\n",
    "        title = 'Range Time for make New Orders')\n",
    "\n",
    "plt.show()\n",
    "\n",
    "print('Clientes que esperaron 7 días para hacer un siguiente pedido:', df_days_waiting_per_client[7])\n",
    "print('Clientes que esperaron 30 días para hacer un siguiente pedido:', df_days_waiting_per_client[30])\n"
   ]
  },
  {
   "cell_type": "markdown",
   "id": "discrete-vertex",
   "metadata": {
    "id": "discrete-vertex"
   },
   "source": [
    "Escribe aquí tus conclusiones\n",
    "\n",
    "Se observa que la mayoría los clientes suele realizar otro pedido después de 30 días, seguido de clientes que suelen esperar 7 días para hacer un nuevo pedido.\n",
    "Por otro lado, se observa que una baja cantidad de clientes suelen realizar otro pedido después de 29 días.\n"
   ]
  },
  {
   "cell_type": "markdown",
   "id": "tight-staff",
   "metadata": {
    "id": "tight-staff"
   },
   "source": [
    "# [B] Intermedio (deben completarse todos para aprobar)\n",
    "\n",
    "1. ¿Existe alguna diferencia entre las distribuciones `'order_hour_of_day'` de los miércoles y los sábados? Traza gráficos de barra de `'order_hour_of_day'` para ambos días en la misma figura y describe las diferencias que observes.\n",
    "2. Grafica la distribución para el número de órdenes que hacen los clientes (es decir, cuántos clientes hicieron solo 1 pedido, cuántos hicieron 2, cuántos 3, y así sucesivamente...).\n",
    "3. ¿Cuáles son los 20 principales productos que se piden con más frecuencia (muestra su identificación y nombre)?"
   ]
  },
  {
   "cell_type": "markdown",
   "id": "packed-classic",
   "metadata": {
    "id": "packed-classic"
   },
   "source": [
    "### [B1] Diferencia entre miércoles y sábados para  `'order_hour_of_day'`. Traza gráficos de barra para los dos días y describe las diferencias que veas."
   ]
  },
  {
   "cell_type": "code",
   "execution_count": 40,
   "id": "d89b8403",
   "metadata": {
    "id": "d89b8403"
   },
   "outputs": [
    {
     "data": {
      "image/png": "[encoded data removed]",
      "text/plain": [
       "<Figure size 432x288 with 1 Axes>"
      ]
     },
     "metadata": {
      "needs_background": "light"
     },
     "output_type": "display_data"
    }
   ],
   "source": [
    "df_people_per_hour_wednesday = df_instacart_orders[df_instacart_orders['order_dow']==3].groupby(by = 'order_hour_of_day')['user_id'].count()\n",
    "df_people_per_hour_saturday = df_instacart_orders[df_instacart_orders['order_dow']==5].groupby(by = 'order_hour_of_day')['user_id'].count()\n",
    "\n",
    "# Graficamos\n",
    "df_people_per_hour_wednesday.plot(\n",
    "        xlabel = 'Hour of Day',\n",
    "        ylabel = 'Number of Clients',\n",
    "        kind = 'bar',\n",
    "        title = 'Clients Flow per Hour')\n",
    "\n",
    "df_people_per_hour_saturday.plot(\n",
    "        xlabel = 'Hour of Day',\n",
    "        ylabel = 'Number of Clients',\n",
    "        kind = 'bar',\n",
    "        title = 'Clients Flow per Hour',\n",
    "        alpha = 0.5)\n",
    "\n",
    "plt.legend(['Wednesday','Saturday'])\n",
    "\n",
    "plt.show(['df_people_per_hour_wednesday','df_people_per_hour_saturday'])"
   ]
  },
  {
   "cell_type": "markdown",
   "id": "charitable-congo",
   "metadata": {
    "id": "charitable-congo"
   },
   "source": [
    "Escribe aquí tus conclusiones\n",
    "\n",
    "Se observa que los días miércoles y domingos tienen la afluencia de clientes es mayor en los rangos de horas de 10 a 16; siendo el rango de 0 a 5 el de menor afluencia de clientes. Adicionalmente, se observa que la tendencia de afluencia de clientes en los rangos de 17 a 23 es muy similar en ambos días."
   ]
  },
  {
   "cell_type": "markdown",
   "id": "e3891143",
   "metadata": {
    "id": "e3891143"
   },
   "source": [
    "### [B2] ¿Cuál es la distribución para el número de pedidos por cliente?"
   ]
  },
  {
   "cell_type": "code",
   "execution_count": 41,
   "id": "d8c26c23",
   "metadata": {
    "id": "d8c26c23"
   },
   "outputs": [
    {
     "data": {
      "image/png": "[encoded data removed]",
      "text/plain": [
       "<Figure size 1440x720 with 1 Axes>"
      ]
     },
     "metadata": {
      "needs_background": "light"
     },
     "output_type": "display_data"
    },
    {
     "name": "stdout",
     "output_type": "stream",
     "text": [
      "clientes que hicieron 1 pedido:  28817\n",
      "clientes que hicieron 2 pedidos:  28633\n",
      "clientes que hicieron 3 pedidos:  28685\n"
     ]
    }
   ],
   "source": [
    "df_orders_per_client = df_instacart_orders.groupby(by = 'order_number')['user_id'].count()\n",
    "\n",
    "# Graficamos\n",
    "df_orders_per_client.plot(\n",
    "        xlabel = 'Number of Orders',\n",
    "        ylabel = 'Number of Clients',\n",
    "        kind = 'bar',\n",
    "        title = 'Clients per Number of Orders',\n",
    "        figsize = (20,10)\n",
    ")\n",
    "\n",
    "plt.show()\n",
    "\n",
    "print('clientes que hicieron 1 pedido: ', df_orders_per_client[1])\n",
    "print('clientes que hicieron 2 pedidos: ', df_orders_per_client[2])\n",
    "print('clientes que hicieron 3 pedidos: ', df_orders_per_client[3])"
   ]
  },
  {
   "cell_type": "markdown",
   "id": "d2eff7d5",
   "metadata": {
    "id": "d2eff7d5"
   },
   "source": [
    "Escribe aquí tus conclusiones\n",
    "\n",
    "La distribución para el número de pedidos es geométrica. Donde a medida que se incrementa el número de pedidos realizados el número de clientes se reduce."
   ]
  },
  {
   "cell_type": "markdown",
   "id": "54a0319c",
   "metadata": {
    "id": "54a0319c"
   },
   "source": [
    "### [B3] ¿Cuáles son los 20 productos más populares (muestra su ID y nombre)?"
   ]
  },
  {
   "cell_type": "code",
   "execution_count": 42,
   "id": "exterior-arizona",
   "metadata": {
    "id": "exterior-arizona",
    "scrolled": true
   },
   "outputs": [
    {
     "name": "stdout",
     "output_type": "stream",
     "text": [
      "    product_id              product_name\n",
      "0        24852                    BANANA\n",
      "1        13176    BAG OF ORGANIC BANANAS\n",
      "2        21137      ORGANIC STRAWBERRIES\n",
      "3        21903      ORGANIC BABY SPINACH\n",
      "4        47209      ORGANIC HASS AVOCADO\n",
      "5        47766           ORGANIC AVOCADO\n",
      "6        47626               LARGE LEMON\n",
      "7        16797              STRAWBERRIES\n",
      "8        26209                     LIMES\n",
      "9        27845        ORGANIC WHOLE MILK\n",
      "10       27966       ORGANIC RASPBERRIES\n",
      "11       22935      ORGANIC YELLOW ONION\n",
      "12       24964            ORGANIC GARLIC\n",
      "13       45007          ORGANIC ZUCCHINI\n",
      "14       39275       ORGANIC BLUEBERRIES\n",
      "15       49683            CUCUMBER KIRBY\n",
      "16       28204        ORGANIC FUJI APPLE\n",
      "17        5876             ORGANIC LEMON\n",
      "18        8277  APPLE HONEYCRISP ORGANIC\n",
      "19       40706    ORGANIC GRAPE TOMATOES\n"
     ]
    }
   ],
   "source": [
    "# Definimos un dataframe donde podamos cuantificar la cantidad de productos por pedido.\n",
    "df_products_per_order = df_order_products.groupby(by = 'product_id')['order_id'].count()\n",
    "\n",
    "# Combinamos el dataframe \"df_products_per_order\" y el dataframe \"df_products\" para listar los 20 Ids y nombre de productos más populares.\n",
    "df_merged = df_products.merge(df_products_per_order, on = 'product_id', how='inner').sort_values(by = 'order_id', ascending = False).head(20)\n",
    "\n",
    "print(df_merged[{'product_name','product_id'}].reset_index(drop = True))\n"
   ]
  },
  {
   "cell_type": "markdown",
   "id": "7df00f47",
   "metadata": {
    "id": "7df00f47"
   },
   "source": [
    "Escribe aquí tus conclusiones\n",
    "Entre los 20 productos más populares se encuentran frutas y verduras. Donde los productos más vendidos son plátanos y fresas (TOP 2)."
   ]
  },
  {
   "cell_type": "markdown",
   "id": "gross-theme",
   "metadata": {
    "id": "gross-theme"
   },
   "source": [
    "# [C] Difícil (deben completarse todos para aprobar)\n",
    "\n",
    "1. ¿Cuántos artículos suelen comprar las personas en un pedido? ¿Cómo es la distribución?\n",
    "2. ¿Cuáles son los 20 principales artículos que vuelven a pedirse con mayor frecuencia (muestra sus nombres e IDs de los productos)?\n",
    "3. Para cada producto, ¿cuál es la tasa de repetición del pedido (número de repeticiones de pedido/total de pedidos?\n",
    "4. Para cada cliente, ¿qué proporción de los productos que pidió ya los había pedido? Calcula la tasa de repetición de pedido para cada usuario en lugar de para cada producto.\n",
    "5. ¿Cuáles son los 20 principales artículos que la gente pone primero en sus carritos (muestra las IDs de los productos, sus nombres, y el número de veces en que fueron el primer artículo en añadirse al carrito)?"
   ]
  },
  {
   "cell_type": "markdown",
   "id": "romantic-deposit",
   "metadata": {
    "id": "romantic-deposit"
   },
   "source": [
    "### [C1] ¿Cuántos artículos compran normalmente las personas en un pedido? ¿Cómo es la distribución?"
   ]
  },
  {
   "cell_type": "code",
   "execution_count": 43,
   "id": "virtual-punch",
   "metadata": {
    "id": "virtual-punch"
   },
   "outputs": [
    {
     "name": "stdout",
     "output_type": "stream",
     "text": [
      "En promedio una persona compra  10.0  artículos en un pedido.\n",
      "\n",
      "La distribución de las compras que realizan las personas en promedio es:\n"
     ]
    },
    {
     "data": {
      "image/png": "[encoded data removed]",
      "text/plain": [
       "<Figure size 432x288 with 1 Axes>"
      ]
     },
     "metadata": {
      "needs_background": "light"
     },
     "output_type": "display_data"
    }
   ],
   "source": [
    "df_products_buyer = df_order_products.groupby('order_id')['product_id'].count()\n",
    "\n",
    "print('En promedio una persona compra ', round(df_products_buyer.mean(),0), ' artículos en un pedido.')\n",
    "print()\n",
    "print('La distribución de las compras que realizan las personas en promedio es:')\n",
    "\n",
    "df_products_buyer.hist(bins = 10, )\n",
    "\n",
    "plt.show()\n"
   ]
  },
  {
   "cell_type": "markdown",
   "id": "designed-mortality",
   "metadata": {
    "id": "designed-mortality"
   },
   "source": [
    "Escribe aquí tus conclusiones\n",
    "\n",
    "En promedio una persona compra 10 artículos en un pedido. Por otro lado, la gráfica muestra una distribución rectangular donde se observa que el mayor porcentaje de pedidos se realizaron con 1 a 20 artículos."
   ]
  },
  {
   "cell_type": "markdown",
   "id": "5e6b5537",
   "metadata": {
    "id": "5e6b5537"
   },
   "source": [
    "### [C2] ¿Cuáles son los 20 principales artículos que vuelven a pedirse con mayor frecuencia (muestra sus nombres e IDs de los productos)?"
   ]
  },
  {
   "cell_type": "code",
   "execution_count": 44,
   "id": "9374e55a",
   "metadata": {
    "id": "9374e55a"
   },
   "outputs": [
    {
     "name": "stdout",
     "output_type": "stream",
     "text": [
      "    product_id              product_name\n",
      "0        24852                    BANANA\n",
      "1        13176    BAG OF ORGANIC BANANAS\n",
      "2        21137      ORGANIC STRAWBERRIES\n",
      "3        21903      ORGANIC BABY SPINACH\n",
      "4        47209      ORGANIC HASS AVOCADO\n",
      "5        47766           ORGANIC AVOCADO\n",
      "6        27845        ORGANIC WHOLE MILK\n",
      "7        47626               LARGE LEMON\n",
      "8        27966       ORGANIC RASPBERRIES\n",
      "9        16797              STRAWBERRIES\n",
      "10       26209                     LIMES\n",
      "11       22935      ORGANIC YELLOW ONION\n",
      "12       24964            ORGANIC GARLIC\n",
      "13       45007          ORGANIC ZUCCHINI\n",
      "14       49683            CUCUMBER KIRBY\n",
      "15       28204        ORGANIC FUJI APPLE\n",
      "16        8277  APPLE HONEYCRISP ORGANIC\n",
      "17       39275       ORGANIC BLUEBERRIES\n",
      "18        5876             ORGANIC LEMON\n",
      "19       49235       ORGANIC HALF & HALF\n"
     ]
    }
   ],
   "source": [
    "# Definimos un dataframe donde podamos cuantificar la cantidad de productos por pedido y que hayan sido vueltos a pedir.\n",
    "df_products_per_order = df_order_products[df_order_products['reordered']==1].groupby(by = 'product_id')['order_id'].count()\n",
    "\n",
    "# Combinamos el dataframe \"df_products_per_order\" y el dataframe \"df_products\" para listar los 20 Ids y nombre de productos más populares.\n",
    "df_merged = df_products.merge(df_products_per_order, on = 'product_id', how='inner').sort_values(by = 'order_id', ascending = False).head(20)\n",
    "\n",
    "print(df_merged[{'product_name','product_id'}].reset_index(drop = True))"
   ]
  },
  {
   "cell_type": "markdown",
   "id": "80e70c74",
   "metadata": {
    "id": "80e70c74"
   },
   "source": [
    "Escribe aquí tus conclusiones"
   ]
  },
  {
   "cell_type": "markdown",
   "id": "9d312b14",
   "metadata": {
    "id": "9d312b14"
   },
   "source": [
    "### [C3] Para cada producto, ¿cuál es la proporción de las veces que se pide y que se vuelve a pedir?"
   ]
  },
  {
   "cell_type": "code",
   "execution_count": 45,
   "id": "8ae9f4b1",
   "metadata": {
    "id": "8ae9f4b1"
   },
   "outputs": [
    {
     "name": "stdout",
     "output_type": "stream",
     "text": [
      "       reordered_ratio                                       product_name\n",
      "0             0.564286                         CHOCOLATE SANDWICH COOKIES\n",
      "1             0.000000                                   ALL-SEASONS SALT\n",
      "2             0.738095               ROBUST GOLDEN UNSWEETENED OOLONG TEA\n",
      "3             0.510204  SMART ONES CLASSIC FAVORITES MINI RIGATONI WIT...\n",
      "4             0.500000                     PURE COCONUT WATER WITH ORANGE\n",
      "...                ...                                                ...\n",
      "45568         0.800000                      HIGH PERFORMANCE ENERGY DRINK\n",
      "45569         0.430556                      ORIGINAL PANCAKE & WAFFLE MIX\n",
      "45570         0.416667    ORGANIC INSTANT OATMEAL LIGHT MAPLE BROWN SUGAR\n",
      "45571         0.440000                             SPRING WATER BODY WASH\n",
      "45572         0.333333                            BURRITO- STEAK & CHEESE\n",
      "\n",
      "[45573 rows x 2 columns]\n"
     ]
    },
    {
     "data": {
      "image/png": "[encoded data removed]",
      "text/plain": [
       "<Figure size 432x288 with 1 Axes>"
      ]
     },
     "metadata": {
      "needs_background": "light"
     },
     "output_type": "display_data"
    },
    {
     "name": "stdout",
     "output_type": "stream",
     "text": [
      "\n",
      "Cantidad de artículos que los clientes solo los han pedido 1 vez:  9345\n",
      "Cantidad de artículos que fueron vueltos a pedir por todos los clientes:  1809\n"
     ]
    }
   ],
   "source": [
    "df_times_ordered = df_order_products.pivot_table(\n",
    "                    index = 'product_id',\n",
    "                    columns = 'reordered',\n",
    "                    values = 'order_id',\n",
    "                    aggfunc = 'count'\n",
    "    ).fillna(0)\n",
    "\n",
    "\n",
    "df_times_ordered['reordered_ratio'] = df_times_ordered[1]/(df_times_ordered[0]+df_times_ordered[1])\n",
    "\n",
    "df_times_ordered_merged = df_times_ordered.merge(df_products,how = 'inner', on = 'product_id')\n",
    "\n",
    "print(df_times_ordered_merged[{'product_name','reordered_ratio'}].reset_index(drop = True))\n",
    "\n",
    "df_times_ordered_merged['reordered_ratio'].hist()\n",
    "plt.show()\n",
    "\n",
    "print()\n",
    "print('Cantidad de artículos que los clientes solo los han pedido 1 vez: ', df_times_ordered_merged['product_name'][df_times_ordered_merged['reordered_ratio'] == 0].count())\n",
    "print('Cantidad de artículos que fueron vueltos a pedir por todos los clientes: ', df_times_ordered_merged['product_name'][df_times_ordered_merged['reordered_ratio'] == 1].count())"
   ]
  },
  {
   "cell_type": "markdown",
   "id": "I10dEIAyldcO",
   "metadata": {
    "id": "I10dEIAyldcO"
   },
   "source": [
    "Escribe aquí tus conclusiones\n",
    "\n",
    "Se observa que 9,345 productos (21% del total) han sido ordenados solo una vez y que los clientes que lo pidieron no lo han vuelto a ordenar, para este grupo de productos sería interesante averiguar mayor detalle del por qué no fueron reordenados, estos productos estarían en la mira ya que podrían salir de la lista de productos al no tener acogida por la cliente. Por otro lado se encontro que 1,809 productos (4% del total) fueron reordernados por todos los clientes que lo pidieron una vez, este grupo de productos son los que mayor acogida y fidelidad tuvo la clientela por lo que sería interesante entrar a detalle qué características tienen en común y siempre tener stock ya que no tenerlo sería una perdida segura para la tienda.\n"
   ]
  },
  {
   "cell_type": "markdown",
   "id": "subject-boxing",
   "metadata": {
    "id": "subject-boxing"
   },
   "source": [
    "### [C4] Para cada cliente, ¿qué proporción de sus productos ya los había pedido?"
   ]
  },
  {
   "cell_type": "code",
   "execution_count": 46,
   "id": "medical-couple",
   "metadata": {
    "id": "medical-couple",
    "scrolled": true
   },
   "outputs": [
    {
     "name": "stdout",
     "output_type": "stream",
     "text": [
      "reordered     0     1  reordered_ratio\n",
      "0          25.0   1.0         0.038462\n",
      "1           2.0   0.0         0.000000\n",
      "2           4.0   8.0         0.666667\n",
      "3           4.0   0.0         0.000000\n",
      "4           1.0  13.0         0.928571\n",
      "...         ...   ...              ...\n",
      "149621     21.0   6.0         0.222222\n",
      "149622      6.0  15.0         0.714286\n",
      "149623      5.0  41.0         0.891304\n",
      "149624     38.0  87.0         0.696000\n",
      "149625     17.0   8.0         0.320000\n",
      "\n",
      "[149626 rows x 3 columns]\n",
      "\n",
      "En promedio, el  0.49 de productos pedidos por los clientes es vuelto a ordenar.\n"
     ]
    }
   ],
   "source": [
    "df_orders_merged = df_instacart_orders.merge(df_order_products,how = 'inner', on = 'order_id')\n",
    "\n",
    "\n",
    "\n",
    "df_times_ordered_clients = df_orders_merged.pivot_table(\n",
    "                    index = 'user_id',\n",
    "                    columns = 'reordered',\n",
    "                    values = 'product_id',\n",
    "                    aggfunc = 'count'\n",
    "    ).fillna(0)\n",
    "\n",
    "\n",
    "df_times_ordered_clients['reordered_ratio'] = df_times_ordered_clients[1]/(df_times_ordered_clients[0]+df_times_ordered_clients[1])\n",
    "\n",
    "print(df_times_ordered_clients.reset_index(drop=True))\n",
    "print()\n",
    "print('En promedio, el ', round(df_times_ordered_clients['reordered_ratio'].mean(),2), 'de productos pedidos por los clientes es vuelto a ordenar.')\n"
   ]
  },
  {
   "cell_type": "markdown",
   "id": "BgJSvXDsleXz",
   "metadata": {
    "id": "BgJSvXDsleXz"
   },
   "source": [
    "Escribe aquí tus conclusiones\n",
    "\n",
    "Se observa que en promedio los clientes reordenan el 50% de los productos que ordenaron alguna vez."
   ]
  },
  {
   "cell_type": "markdown",
   "id": "92d35137",
   "metadata": {
    "id": "92d35137"
   },
   "source": [
    "### [C5] ¿Cuáles son los 20 principales artículos que las personas ponen primero en sus carritos?"
   ]
  },
  {
   "cell_type": "code",
   "execution_count": 47,
   "id": "0ae57274",
   "metadata": {
    "id": "0ae57274",
    "scrolled": true
   },
   "outputs": [
    {
     "name": "stdout",
     "output_type": "stream",
     "text": [
      "    quantity_products  product_id                 product_name\n",
      "0               15562       24852                       BANANA\n",
      "1               11026       13176       BAG OF ORGANIC BANANAS\n",
      "2                4363       27845           ORGANIC WHOLE MILK\n",
      "3                3946       21137         ORGANIC STRAWBERRIES\n",
      "4                3390       47209         ORGANIC HASS AVOCADO\n",
      "5                3336       21903         ORGANIC BABY SPINACH\n",
      "6                3044       47766              ORGANIC AVOCADO\n",
      "7                2336       19660                 SPRING WATER\n",
      "8                2308       16797                 STRAWBERRIES\n",
      "9                2024       27966          ORGANIC RASPBERRIES\n",
      "10               1914       44632   SPARKLING WATER GRAPEFRUIT\n",
      "11               1797       49235          ORGANIC HALF & HALF\n",
      "12               1737       47626                  LARGE LEMON\n",
      "13               1733         196                         SODA\n",
      "14               1397       38689     ORGANIC REDUCED FAT MILK\n",
      "15               1370       26209                        LIMES\n",
      "16               1340       12341                HASS AVOCADOS\n",
      "17               1310        5785  ORGANIC REDUCED FAT 2% MILK\n",
      "18               1309       27086                  HALF & HALF\n",
      "19               1246       43352                  RASPBERRIES\n"
     ]
    }
   ],
   "source": [
    "#df_products_first = df_order_products[df_order_products['add_to_cart_order'] == 1]['product_id'].groupby('product_id')['product_id'].count()\n",
    "\n",
    "df_products_first = df_order_products[df_order_products['add_to_cart_order'] == 1].pivot_table(\n",
    "                    index = 'product_id',\n",
    "                    columns = 'add_to_cart_order',\n",
    "                    values = 'order_id',\n",
    "                    aggfunc = 'count'\n",
    "    ).sort_values(by = 1, ascending = False).head(20)\n",
    "\n",
    "\n",
    "df_products_first_top_20 = df_products_first.merge(df_products, how = 'inner', on = 'product_id')\n",
    "\n",
    "df_products_first_top_20.rename(columns = {1 : 'quantity_products'}, inplace = True)\n",
    "\n",
    "print(df_products_first_top_20[{'product_id','product_name','quantity_products'}])\n",
    "\n"
   ]
  },
  {
   "cell_type": "markdown",
   "id": "28ce9872",
   "metadata": {
    "id": "28ce9872"
   },
   "source": [
    "Escribe aquí tus conclusiones\n",
    "\n",
    "Se observa que entre los 20 principales productos que los clientes colocan en sus carritos de compra se encuentran plátanos, leche orgánica, fresas y palta (Top 5)."
   ]
  },
  {
   "cell_type": "markdown",
   "id": "uITbFCEoDosC",
   "metadata": {
    "id": "uITbFCEoDosC"
   },
   "source": [
    "### Conclusion general del proyecto:"
   ]
  },
  {
   "cell_type": "markdown",
   "id": "69e46421",
   "metadata": {
    "id": "Nk-4GS7mDwqY"
   },
   "source": [
    "La información manejada en el proyecto de la plataforma \"Instacart\" ha sido súper interesante.\n",
    "Por el volumen de datos en los dataframes se podría inferir que se trata de una plataforma que tiene buena acogida por los clientes.\n",
    "Y que la cantidad de productos que se compra es súper variada.\n",
    "\n",
    "Por otro lado, mi experiencia con este proyecto ha sido muy satisfactoria porque me hizo sentir que hice un ejercicio que un analista de datos haría en su día a día."
   ]
  }
 ],
 "metadata": {
  "colab": {
   "provenance": []
  },
  "kernelspec": {
   "display_name": "Python 3 (ipykernel)",
   "language": "python",
   "name": "python3"
  },
  "language_info": {
   "codemirror_mode": {
    "name": "ipython",
    "version": 3
   },
   "file_extension": ".py",
   "mimetype": "text/x-python",
   "name": "python",
   "nbconvert_exporter": "python",
   "pygments_lexer": "ipython3",
   "version": "3.9.19"
  },
  "toc": {
   "base_numbering": 1,
   "nav_menu": {},
   "number_sections": true,
   "sideBar": true,
   "skip_h1_title": true,
   "title_cell": "Table of Contents",
   "title_sidebar": "Contents",
   "toc_cell": false,
   "toc_position": {},
   "toc_section_display": true,
   "toc_window_display": false
  },
  "vscode": {
   "interpreter": {
    "hash": "01a7be9ec63e704a62cefc5fe7a4756944464ee731be31632bdf42a4cb4688cf"
   }
  }
 },
 "nbformat": 4,
 "nbformat_minor": 5
}
