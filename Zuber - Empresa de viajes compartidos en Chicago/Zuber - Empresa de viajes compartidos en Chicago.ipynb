{
 "cells": [
  {
   "cell_type": "markdown",
   "metadata": {},
   "source": [
    "# Zuber: Empresa de viajes compartidos en Chicago"
   ]
  },
  {
   "cell_type": "markdown",
   "metadata": {},
   "source": [
    "# Descripción del Proyecto"
   ]
  },
  {
   "cell_type": "markdown",
   "metadata": {},
   "source": [
    "Estás trabajando como analista para Zuber, una nueva empresa de viajes compartidos que se está lanzando en Chicago. Tu tarea es encontrar patrones en la información disponible. Quieres comprender las preferencias de los pasajeros y el impacto de los factores externos en los viajes.\n",
    "Al trabajar con una base de datos, analizarás los datos de los competidores y probarás una hipótesis sobre el impacto del clima en la frecuencia de los viajes"
   ]
  },
  {
   "cell_type": "markdown",
   "metadata": {},
   "source": [
    "# Descripción de los datos"
   ]
  },
  {
   "cell_type": "markdown",
   "metadata": {},
   "source": [
    "Una base de datos con información sobre viajes en taxi en Chicago:\n",
    "\n",
    "tabla neighborhoods: datos sobre los barrios de la ciudad\n",
    "- name: nombre del barrio\n",
    "- neighborhood_id: código del barrio\n",
    "\n",
    "tabla cabs: datos sobre los taxis\n",
    "- cab_id: código del vehículo\n",
    "- vehicle_id: ID técnico del vehículo\n",
    "- company_name: la empresa propietaria del vehículo\n",
    "\n",
    "tabla trips: datos sobre los viajes\n",
    "- trip_id: código del viaje\n",
    "- cab_id: código del vehículo que opera el viaje\n",
    "- start_ts: fecha y hora del inicio del viaje (tiempo redondeado a la hora)\n",
    "- end_ts: fecha y hora de finalización del viaje (tiempo redondeado a la hora)\n",
    "- duration_seconds: duración del viaje en segundos\n",
    "- distance_miles: distancia del viaje en millas\n",
    "- pickup_location_id: código del barrio de recogida\n",
    "- dropoff_location_id: código del barrio de finalización\n",
    "\n",
    "tabla weather_records: datos sobre el clima\n",
    "- record_id: código del registro meteorológico\n",
    "- ts: fecha y hora del registro (tiempo redondeado a la hora)\n",
    "- temperature: temperatura cuando se tomó el registro\n",
    "- description: breve descripción de las condiciones meteorológicas, por ejemplo, \"lluvia ligera\" o \"nubes dispersas\"\n"
   ]
  },
  {
   "cell_type": "markdown",
   "metadata": {},
   "source": [
    "## Extracción de datos de página web"
   ]
  },
  {
   "cell_type": "markdown",
   "metadata": {},
   "source": [
    "Se realizó y fue aprobado."
   ]
  },
  {
   "cell_type": "markdown",
   "metadata": {},
   "source": [
    "## Análisis exploratorio de datos (SQL)"
   ]
  },
  {
   "cell_type": "markdown",
   "metadata": {},
   "source": [
    "Se realizó y fue aprobado."
   ]
  },
  {
   "cell_type": "markdown",
   "metadata": {},
   "source": [
    "## Prueba de hipótesis"
   ]
  },
  {
   "cell_type": "markdown",
   "metadata": {},
   "source": [
    "Se realizó y fue aprobado."
   ]
  },
  {
   "cell_type": "markdown",
   "metadata": {},
   "source": [
    "## Análisis exploratorio de datos (Python) #"
   ]
  },
  {
   "cell_type": "markdown",
   "metadata": {},
   "source": [
    "Además de los datos que recuperaste en las tareas anteriores te han dado un segundo archivo. Ahora tienes estos dos CSV:\n",
    "\n",
    "project_sql_result_01.csv. Contiene los siguientes datos:\n",
    "- company_name: nombre de la empresa de taxis\n",
    "- trips_amount: el número de viajes de cada compañía de taxis el 15 y 16 de noviembre de 2017.\n",
    "\n",
    "project_sql_result_04.csv. Contiene los siguientes datos:\n",
    "- dropoff_location_name: barrios de Chicago donde finalizaron los viajes\n",
    "- average_trips: el promedio de viajes que terminaron en cada barrio en noviembre de 2017.\n"
   ]
  },
  {
   "cell_type": "markdown",
   "metadata": {},
   "source": [
    "### Importar archivos de datos"
   ]
  },
  {
   "cell_type": "code",
   "execution_count": 1,
   "metadata": {},
   "outputs": [],
   "source": [
    "# importamos las librerías a necesitar para completar el proyecto\n",
    "\n",
    "import pandas as pd\n",
    "import numpy as np\n",
    "from matplotlib import pyplot as plt\n",
    "import seaborn as sns\n",
    "from scipy import stats as st"
   ]
  },
  {
   "cell_type": "code",
   "execution_count": 2,
   "metadata": {},
   "outputs": [],
   "source": [
    "# importamos los archivos de datos\n",
    "\n",
    "df_companies = pd.read_csv('/datasets/project_sql_result_01.csv')\n",
    "df_trips = pd.read_csv('/datasets/project_sql_result_04.csv')\n",
    "df_weather = pd.read_csv('/datasets/project_sql_result_07.csv')"
   ]
  },
  {
   "cell_type": "markdown",
   "metadata": {},
   "source": [
    "### Estudio de datos y validación de tipo de datos"
   ]
  },
  {
   "cell_type": "code",
   "execution_count": 3,
   "metadata": {},
   "outputs": [
    {
     "name": "stdout",
     "output_type": "stream",
     "text": [
      "Información General del dataframe:\n",
      "\n",
      "<class 'pandas.core.frame.DataFrame'>\n",
      "RangeIndex: 64 entries, 0 to 63\n",
      "Data columns (total 2 columns):\n",
      " #   Column        Non-Null Count  Dtype \n",
      "---  ------        --------------  ----- \n",
      " 0   company_name  64 non-null     object\n",
      " 1   trips_amount  64 non-null     int64 \n",
      "dtypes: int64(1), object(1)\n",
      "memory usage: 1.1+ KB\n",
      "\n",
      "Visualización de los 5 primeros registros:\n",
      "\n",
      "                      company_name  trips_amount\n",
      "0                        Flash Cab         19558\n",
      "1        Taxi Affiliation Services         11422\n",
      "2                Medallion Leasing         10367\n",
      "3                       Yellow Cab          9888\n",
      "4  Taxi Affiliation Service Yellow          9299\n",
      "\n",
      "Información estadística del dataframe:\n",
      "       trips_amount\n",
      "count     64.000000\n",
      "mean    2145.484375\n",
      "std     3812.310186\n",
      "min        2.000000\n",
      "25%       20.750000\n",
      "50%      178.500000\n",
      "75%     2106.500000\n",
      "max    19558.000000\n",
      "\n",
      "Número de duplicados:  0\n"
     ]
    }
   ],
   "source": [
    "# analizamos los datos del dataframe \"df_companies\"\n",
    "\n",
    "print('Información General del dataframe:\\n')\n",
    "df_companies.info()\n",
    "print()\n",
    "print('Visualización de los 5 primeros registros:\\n')\n",
    "print(df_companies.head(5))\n",
    "print()\n",
    "print('Información estadística del dataframe:')\n",
    "print(df_companies.describe())\n",
    "print()\n",
    "print('Número de duplicados: ', df_companies.duplicated().sum())"
   ]
  },
  {
   "cell_type": "code",
   "execution_count": 4,
   "metadata": {},
   "outputs": [
    {
     "name": "stdout",
     "output_type": "stream",
     "text": [
      "Información General del dataframe:\n",
      "\n",
      "<class 'pandas.core.frame.DataFrame'>\n",
      "RangeIndex: 94 entries, 0 to 93\n",
      "Data columns (total 2 columns):\n",
      " #   Column                 Non-Null Count  Dtype  \n",
      "---  ------                 --------------  -----  \n",
      " 0   dropoff_location_name  94 non-null     object \n",
      " 1   average_trips          94 non-null     float64\n",
      "dtypes: float64(1), object(1)\n",
      "memory usage: 1.6+ KB\n",
      "\n",
      "Visualización de los 5 primeros registros:\n",
      "\n",
      "\n",
      "Número de duplicados:  0\n"
     ]
    }
   ],
   "source": [
    "# analizamos los datos del dataframe \"df_trips\"\n",
    "\n",
    "print('Información General del dataframe:\\n')\n",
    "df_trips.info()\n",
    "print()\n",
    "print('Visualización de los 5 primeros registros:\\n')\n",
    "df_trips.head(5)\n",
    "print()\n",
    "print('Número de duplicados: ', df_trips.duplicated().sum())"
   ]
  },
  {
   "cell_type": "code",
   "execution_count": 5,
   "metadata": {},
   "outputs": [
    {
     "name": "stdout",
     "output_type": "stream",
     "text": [
      "Información General del dataframe:\n",
      "\n",
      "<class 'pandas.core.frame.DataFrame'>\n",
      "RangeIndex: 1068 entries, 0 to 1067\n",
      "Data columns (total 3 columns):\n",
      " #   Column              Non-Null Count  Dtype  \n",
      "---  ------              --------------  -----  \n",
      " 0   start_ts            1068 non-null   object \n",
      " 1   weather_conditions  1068 non-null   object \n",
      " 2   duration_seconds    1068 non-null   float64\n",
      "dtypes: float64(1), object(2)\n",
      "memory usage: 25.2+ KB\n",
      "None\n",
      "\n",
      "Visualización de los 5 primeros registros:\n",
      "\n",
      "              start_ts weather_conditions  duration_seconds\n",
      "0  2017-11-25 16:00:00               Good            2410.0\n",
      "1  2017-11-25 14:00:00               Good            1920.0\n",
      "2  2017-11-25 12:00:00               Good            1543.0\n",
      "3  2017-11-04 10:00:00               Good            2512.0\n",
      "4  2017-11-11 07:00:00               Good            1440.0\n",
      "\n",
      "Número de duplicados:  197\n",
      "\n",
      "Información General del dataframe posterior a la eliminación de duplicados:\n",
      "\n",
      "<class 'pandas.core.frame.DataFrame'>\n",
      "RangeIndex: 756 entries, 0 to 755\n",
      "Data columns (total 3 columns):\n",
      " #   Column              Non-Null Count  Dtype         \n",
      "---  ------              --------------  -----         \n",
      " 0   start_ts            756 non-null    datetime64[ns]\n",
      " 1   weather_conditions  756 non-null    object        \n",
      " 2   duration_seconds    756 non-null    float64       \n",
      "dtypes: datetime64[ns](1), float64(1), object(1)\n",
      "memory usage: 17.8+ KB\n",
      "None\n",
      "\n",
      "Número de duplicados:  0\n"
     ]
    }
   ],
   "source": [
    "# analizamos los datos del dataframe \"df_weather\"\n",
    "\n",
    "print('Información General del dataframe:\\n')\n",
    "print(df_weather.info())\n",
    "print()\n",
    "print('Visualización de los 5 primeros registros:\\n')\n",
    "print(df_weather.head(5))\n",
    "print()\n",
    "print('Número de duplicados: ', df_weather.duplicated().sum())\n",
    "\n",
    "#eliminamos los valores duplicados del dataframe \"df_weather\"\n",
    "df_weather.drop_duplicates(inplace = True, keep=False, ignore_index=True)\n",
    "print()\n",
    "\n",
    "#convertimos el tipo de dato del campo \"start_ts\" a datetime\n",
    "df_weather['start_ts'] = pd.to_datetime(df_weather['start_ts'])\n",
    "\n",
    "#validamos los datos del dataframe luego de eliminar duplicados y corregir el tipo de datos del campo \"start_ts\"\n",
    "print('Información General del dataframe posterior a la eliminación de duplicados:\\n')\n",
    "print(df_weather.info())\n",
    "print()\n",
    "print('Número de duplicados: ', df_weather.duplicated().sum())"
   ]
  },
  {
   "cell_type": "markdown",
   "metadata": {},
   "source": [
    "Se analizaron los datos de ambos dataframes, y se observo lo siguiente:\n",
    "- La información del archivo csv a los dataframes se cargaron correctamente, número de filas del archivo csv es igual al número de registros de cada dataframe.\n",
    "- Los nombres de las columnas estan claras por lo cual se mantuvieron.\n",
    "- No hay datos nulos.\n",
    "- El tipo de dato de cada campo es el adecuado para manipular los datos en los dataframes \"df_trips\" y \"df_companies\"; sin embargo, en el dataframe \"df_weather\" se convirtió el campo start_ts del tipo de dato object a datetime para una mejor manipulación de datos.\n",
    "- No hay registros duplicados en los dataframe \"df_trips\" y \"df_companies\"; sin embargo, en el dataframe \"df_weather\" se encontaron 197 registros duplicados y se eliminaron al ser registros repetidos."
   ]
  },
  {
   "cell_type": "markdown",
   "metadata": {},
   "source": [
    "### Identificar los 10 principales barrios en términos de finalización"
   ]
  },
  {
   "cell_type": "code",
   "execution_count": 6,
   "metadata": {},
   "outputs": [
    {
     "data": {
      "text/html": [
       "<div>\n",
       "<style scoped>\n",
       "    .dataframe tbody tr th:only-of-type {\n",
       "        vertical-align: middle;\n",
       "    }\n",
       "\n",
       "    .dataframe tbody tr th {\n",
       "        vertical-align: top;\n",
       "    }\n",
       "\n",
       "    .dataframe thead th {\n",
       "        text-align: right;\n",
       "    }\n",
       "</style>\n",
       "<table border=\"1\" class=\"dataframe\">\n",
       "  <thead>\n",
       "    <tr style=\"text-align: right;\">\n",
       "      <th></th>\n",
       "      <th>dropoff_location_name</th>\n",
       "      <th>average_trips</th>\n",
       "    </tr>\n",
       "  </thead>\n",
       "  <tbody>\n",
       "    <tr>\n",
       "      <th>0</th>\n",
       "      <td>Loop</td>\n",
       "      <td>10727.466667</td>\n",
       "    </tr>\n",
       "    <tr>\n",
       "      <th>1</th>\n",
       "      <td>River North</td>\n",
       "      <td>9523.666667</td>\n",
       "    </tr>\n",
       "    <tr>\n",
       "      <th>2</th>\n",
       "      <td>Streeterville</td>\n",
       "      <td>6664.666667</td>\n",
       "    </tr>\n",
       "    <tr>\n",
       "      <th>3</th>\n",
       "      <td>West Loop</td>\n",
       "      <td>5163.666667</td>\n",
       "    </tr>\n",
       "    <tr>\n",
       "      <th>4</th>\n",
       "      <td>O'Hare</td>\n",
       "      <td>2546.900000</td>\n",
       "    </tr>\n",
       "    <tr>\n",
       "      <th>5</th>\n",
       "      <td>Lake View</td>\n",
       "      <td>2420.966667</td>\n",
       "    </tr>\n",
       "    <tr>\n",
       "      <th>6</th>\n",
       "      <td>Grant Park</td>\n",
       "      <td>2068.533333</td>\n",
       "    </tr>\n",
       "    <tr>\n",
       "      <th>7</th>\n",
       "      <td>Museum Campus</td>\n",
       "      <td>1510.000000</td>\n",
       "    </tr>\n",
       "    <tr>\n",
       "      <th>8</th>\n",
       "      <td>Gold Coast</td>\n",
       "      <td>1364.233333</td>\n",
       "    </tr>\n",
       "    <tr>\n",
       "      <th>9</th>\n",
       "      <td>Sheffield &amp; DePaul</td>\n",
       "      <td>1259.766667</td>\n",
       "    </tr>\n",
       "  </tbody>\n",
       "</table>\n",
       "</div>"
      ],
      "text/plain": [
       "  dropoff_location_name  average_trips\n",
       "0                  Loop   10727.466667\n",
       "1           River North    9523.666667\n",
       "2         Streeterville    6664.666667\n",
       "3             West Loop    5163.666667\n",
       "4                O'Hare    2546.900000\n",
       "5             Lake View    2420.966667\n",
       "6            Grant Park    2068.533333\n",
       "7         Museum Campus    1510.000000\n",
       "8            Gold Coast    1364.233333\n",
       "9    Sheffield & DePaul    1259.766667"
      ]
     },
     "execution_count": 6,
     "metadata": {},
     "output_type": "execute_result"
    }
   ],
   "source": [
    "df_trips_top10 = df_trips.sort_values(by='average_trips', ascending = False).head(10)\n",
    "\n",
    "df_trips_top10.head(10)"
   ]
  },
  {
   "cell_type": "markdown",
   "metadata": {},
   "source": [
    "### Gráficos"
   ]
  },
  {
   "cell_type": "markdown",
   "metadata": {},
   "source": [
    "#### Empresas de taxis y número de viajes"
   ]
  },
  {
   "cell_type": "code",
   "execution_count": 7,
   "metadata": {},
   "outputs": [
    {
     "data": {
      "image/png": "[encoded data removed]",
      "text/plain": [
       "<Figure size 1000x500 with 1 Axes>"
      ]
     },
     "metadata": {},
     "output_type": "display_data"
    }
   ],
   "source": [
    "#Gráfica considerando todas las empresas de taxis\n",
    "df_companies.plot(x='company_name', kind='bar', figsize = (10,5), ylabel = 'número de viajes', xlabel = 'compañías de taxi')\n",
    "plt.show()"
   ]
  },
  {
   "cell_type": "code",
   "execution_count": 8,
   "metadata": {},
   "outputs": [
    {
     "data": {
      "image/png": "[encoded data removed]",
      "text/plain": [
       "<Figure size 500x500 with 1 Axes>"
      ]
     },
     "metadata": {},
     "output_type": "display_data"
    }
   ],
   "source": [
    "#Gráfica considerando solo el top 10 de empresas de taxi\n",
    "df_companies.head(10).plot(x='company_name', kind='bar', figsize = (5,5), ylabel = 'número de viajes', xlabel = 'compañías de taxi')\n",
    "plt.show()"
   ]
  },
  {
   "cell_type": "markdown",
   "metadata": {},
   "source": [
    "Conclusiones, considerando que la información contiene viajes realizados entre el 15 y 16 de noviembre del 2017:\n",
    "- La empresa que realizó más viajes fue \"Flash Cab\", representando el 14% del total de viajes.\n",
    "- La empresa que menos viajes realizó fue Andrews Cab, con tan solo 2 viajes.\n",
    "- Se observa que los taxis cuyos nombres empiezan con números tienen menos afluencia de pasajeros."
   ]
  },
  {
   "cell_type": "markdown",
   "metadata": {},
   "source": [
    "#### Los 10 barrios principales por número de finalizaciones"
   ]
  },
  {
   "cell_type": "code",
   "execution_count": 9,
   "metadata": {},
   "outputs": [
    {
     "data": {
      "image/png": "[encoded data removed]",
      "text/plain": [
       "<Figure size 1000x500 with 1 Axes>"
      ]
     },
     "metadata": {},
     "output_type": "display_data"
    }
   ],
   "source": [
    "df_trips_top10.plot(x='dropoff_location_name', kind='bar', figsize = (10,5), ylabel = 'tipo promedio de viajes finalizados', xlabel = 'top 10 de barrios')\n",
    "plt.show()"
   ]
  },
  {
   "cell_type": "markdown",
   "metadata": {},
   "source": [
    "Conclusiones, considerando que la información recoge el promedio de viajes realizados en noviembre del 2017:\n",
    "- El barrio más solicitado como destino final es \"Loop\" con un promedio de 10,727 viajes seguido de \"River North\" con un promedio 9,523 viajes. Considerando que son dos barrios muy solicitados porque ahí se encuentran: la zona financiera de Chicago, muchos restaurantes, clubes y atractivos turísticos, hace sentido que sean los barrios con el mayor número de viajes.\n",
    "- Los barrios menos solicitados de un top 10 de barrios son: \"Museum Campus\", \"Gold Coast\" Y \"Sheffield & DePaul\" donde en promedio sus viajes tuvieron una duración 1,400 viajes."
   ]
  },
  {
   "cell_type": "markdown",
   "metadata": {},
   "source": [
    "## Prueba de Hipótesis (Python)\n"
   ]
  },
  {
   "cell_type": "markdown",
   "metadata": {},
   "source": [
    "En base a los datos sobre viajes desde el Loop hasta el Aeropuerto Internacional O'Hare. Se solicita comprobar la hipótesis: \"La duración promedio de los viajes desde el Loop hasta el Aeropuerto Internacional O'Hare cambia los sábados lluviosos\".\n",
    "\n",
    "Considerar que los campos de la información contiene:\n",
    "- start_ts: fecha y hora de la recogida\n",
    "- weather_conditions: condiciones climáticas en el momento en el que comenzó el viaje\n",
    "- duration_seconds: duración del viaje en segundos"
   ]
  },
  {
   "cell_type": "markdown",
   "metadata": {},
   "source": [
    "### Cómo planteaste las hipótesis nula y alternativa\n",
    "\n",
    "Se asume como hipótesis nula la premisa que se busca comprobar si es cierto. Y como alternativa la premisa contraria, por ello, se define las hipótesis nula (Ho) y alternativa (H1) de la siguiente manera:\n",
    "- Ho: \"La duración promedio de los viajes desde Loop hasta el Aeropuerto Internacional O'Hare cambia los sábados lluviosos.\"\n",
    "- H1: \"La duración promedio de los viajes desde Loop hasta el Aeropuerto Internacional O'Hare no cambia los sábados lluviosos.\""
   ]
  },
  {
   "cell_type": "markdown",
   "metadata": {},
   "source": [
    "### Qué criterio usaste para probar las hipótesis y por qué\n"
   ]
  },
  {
   "cell_type": "markdown",
   "metadata": {},
   "source": [
    "Para poder realizar la prueba de hipótesis, se debe realizar lo siguiente:"
   ]
  },
  {
   "cell_type": "markdown",
   "metadata": {},
   "source": [
    "- Definir el valor del umbral alpha, para este ejercicio utilizaremos el valor en 0.05, valor que se suele usar por lo general, este número nos indica que la probabilidad de que rechacemos la hipótesis nula de manera errónea será el 5%."
   ]
  },
  {
   "cell_type": "markdown",
   "metadata": {},
   "source": [
    "- Validar si las varianzas son iguales o no."
   ]
  },
  {
   "cell_type": "code",
   "execution_count": 10,
   "metadata": {},
   "outputs": [
    {
     "name": "stdout",
     "output_type": "stream",
     "text": [
      "             start_ts weather_conditions  duration_seconds\n",
      "0 2017-11-25 16:00:00               Good            2410.0\n",
      "1 2017-11-25 14:00:00               Good            1920.0\n",
      "2 2017-11-25 12:00:00               Good            1543.0\n",
      "3 2017-11-04 10:00:00               Good            2512.0\n",
      "4 2017-11-11 04:00:00               Good            1320.0\n",
      "\n",
      "              start_ts weather_conditions  duration_seconds\n",
      "5  2017-11-04 16:00:00                Bad            2969.0\n",
      "24 2017-11-18 12:00:00                Bad            1980.0\n",
      "27 2017-11-04 17:00:00                Bad            2460.0\n",
      "41 2017-11-18 12:00:00                Bad            2460.0\n",
      "48 2017-11-04 18:00:00                Bad            2363.0\n"
     ]
    }
   ],
   "source": [
    "#Creamos dos dataframe con la duracion de viajes en sabados con buen clima \"df_good\" y otro con mal clima \"df_bad\"\n",
    "df_good = df_weather[df_weather['weather_conditions'] == 'Good']\n",
    "df_bad = df_weather[df_weather['weather_conditions'] == 'Bad']\n",
    "\n",
    "print(df_good.head())\n",
    "print()\n",
    "print(df_bad.head())\n"
   ]
  },
  {
   "cell_type": "code",
   "execution_count": 11,
   "metadata": {},
   "outputs": [
    {
     "name": "stdout",
     "output_type": "stream",
     "text": [
      "Varianza considerando sabados con días sin lluvia \"Good\" y con lluvia \"Bad\":\n",
      "- Good:  duration_seconds    604310.290612\n",
      "dtype: float64\n",
      "- Bad:  duration_seconds    599632.600466\n",
      "dtype: float64\n"
     ]
    }
   ],
   "source": [
    "print('Varianza considerando sabados con días sin lluvia \"Good\" y con lluvia \"Bad\":')\n",
    "print('- Good: ', np.var(df_good))\n",
    "print('- Bad: ', np.var(df_bad))"
   ]
  },
  {
   "cell_type": "code",
   "execution_count": 12,
   "metadata": {},
   "outputs": [
    {
     "data": {
      "text/plain": [
       "LeveneResult(statistic=0.2729310078444229, pvalue=0.6015258254547223)"
      ]
     },
     "execution_count": 12,
     "metadata": {},
     "output_type": "execute_result"
    }
   ],
   "source": [
    "# Para saber si las varianzas son diferentes o no, usaremos la función de levene\n",
    "st.levene(df_good['duration_seconds'], df_bad['duration_seconds'])"
   ]
  },
  {
   "cell_type": "markdown",
   "metadata": {},
   "source": [
    "La función de levene indica una significancia de 0.6015, el cual al ser mucho mayor que el umbral del alpha (0.05) nos indica que las varianzas son iguales."
   ]
  },
  {
   "cell_type": "code",
   "execution_count": 13,
   "metadata": {},
   "outputs": [
    {
     "name": "stdout",
     "output_type": "stream",
     "text": [
      "\n",
      "valor p: 8.891688328589038e-07\n",
      "\n",
      "Rechazamos la hipótesis nula\n"
     ]
    }
   ],
   "source": [
    "#Realizamos la prueba de hipótesis\n",
    "\n",
    "#umbral de alpha que definimos\n",
    "alpha = 0.05\n",
    "\n",
    "#usamos la función ttest_ind para probar la hipótesis\n",
    "results = st.ttest_ind(df_good['duration_seconds'], df_bad['duration_seconds'], equal_var = True)\n",
    "\n",
    "print()\n",
    "print('valor p:', results.pvalue)\n",
    "print()\n",
    "\n",
    "if (results.pvalue < alpha):\n",
    "    print(\"Rechazamos la hipótesis nula\")\n",
    "else:\n",
    "    print(\"No podemos rechazar la hipótesis nula.\")"
   ]
  },
  {
   "cell_type": "markdown",
   "metadata": {},
   "source": [
    "Para esta evaluación el resultado indica que debemos rechazar la hipótesis nula; lo que significa que la duración promedio de los viajes desde Loop hasta el Aeropuerto Internacional O'Hare no cambia los sábados lluviosos."
   ]
  }
 ],
 "metadata": {
  "ExecuteTimeLog": [
   {
    "duration": 325,
    "start_time": "2024-07-18T17:22:01.672Z"
   },
   {
    "duration": 533,
    "start_time": "2024-07-18T17:22:05.627Z"
   },
   {
    "duration": 843,
    "start_time": "2024-07-18T17:22:07.891Z"
   },
   {
    "duration": 123,
    "start_time": "2024-07-18T17:22:22.770Z"
   },
   {
    "duration": 145,
    "start_time": "2024-07-18T17:22:42.259Z"
   },
   {
    "duration": 142,
    "start_time": "2024-07-18T17:25:03.550Z"
   },
   {
    "duration": 129,
    "start_time": "2024-07-18T17:25:17.523Z"
   },
   {
    "duration": 132,
    "start_time": "2024-07-18T17:25:37.680Z"
   },
   {
    "duration": 130,
    "start_time": "2024-07-18T17:26:17.684Z"
   },
   {
    "duration": 121,
    "start_time": "2024-07-18T17:26:26.401Z"
   },
   {
    "duration": 127,
    "start_time": "2024-07-18T17:26:37.617Z"
   },
   {
    "duration": 133,
    "start_time": "2024-07-18T17:26:54.402Z"
   },
   {
    "duration": 157,
    "start_time": "2024-07-18T17:27:19.256Z"
   },
   {
    "duration": 131,
    "start_time": "2024-07-18T17:27:46.242Z"
   },
   {
    "duration": 150,
    "start_time": "2024-07-18T17:31:49.663Z"
   },
   {
    "duration": 167,
    "start_time": "2024-07-18T17:32:50.778Z"
   },
   {
    "duration": 10,
    "start_time": "2024-07-18T17:33:02.782Z"
   },
   {
    "duration": 25,
    "start_time": "2024-07-18T17:33:40.193Z"
   },
   {
    "duration": 16,
    "start_time": "2024-07-18T17:33:50.595Z"
   },
   {
    "duration": 16,
    "start_time": "2024-07-18T17:34:02.226Z"
   },
   {
    "duration": 10,
    "start_time": "2024-07-18T17:34:43.283Z"
   },
   {
    "duration": 20,
    "start_time": "2024-07-18T17:35:09.841Z"
   },
   {
    "duration": 21,
    "start_time": "2024-07-18T17:36:44.166Z"
   },
   {
    "duration": 490,
    "start_time": "2024-07-18T17:38:05.440Z"
   },
   {
    "duration": 15,
    "start_time": "2024-07-18T17:38:05.938Z"
   },
   {
    "duration": 36,
    "start_time": "2024-07-18T17:38:05.956Z"
   },
   {
    "duration": 26,
    "start_time": "2024-07-18T17:38:06.011Z"
   },
   {
    "duration": 4,
    "start_time": "2024-07-18T17:46:00.204Z"
   },
   {
    "duration": 137,
    "start_time": "2024-07-18T17:50:50.553Z"
   },
   {
    "duration": 9,
    "start_time": "2024-07-18T17:51:03.457Z"
   },
   {
    "duration": 12,
    "start_time": "2024-07-18T17:52:14.865Z"
   },
   {
    "duration": 13,
    "start_time": "2024-07-18T18:01:22.497Z"
   },
   {
    "duration": 5102,
    "start_time": "2024-07-18T18:02:18.438Z"
   },
   {
    "duration": 14,
    "start_time": "2024-07-18T18:02:23.543Z"
   },
   {
    "duration": 24,
    "start_time": "2024-07-18T18:02:23.560Z"
   },
   {
    "duration": 21,
    "start_time": "2024-07-18T18:02:23.608Z"
   },
   {
    "duration": 12,
    "start_time": "2024-07-18T18:02:23.634Z"
   },
   {
    "duration": 732,
    "start_time": "2024-07-18T18:02:23.649Z"
   },
   {
    "duration": 1823,
    "start_time": "2024-07-18T18:02:51.599Z"
   },
   {
    "duration": 620,
    "start_time": "2024-07-18T18:03:17.805Z"
   },
   {
    "duration": 34,
    "start_time": "2024-07-18T18:04:50.104Z"
   },
   {
    "duration": 2069,
    "start_time": "2024-07-18T18:04:55.573Z"
   },
   {
    "duration": 1862,
    "start_time": "2024-07-18T18:05:47.503Z"
   },
   {
    "duration": 5006,
    "start_time": "2024-07-18T22:23:09.850Z"
   },
   {
    "duration": 17,
    "start_time": "2024-07-18T22:23:14.861Z"
   },
   {
    "duration": 37,
    "start_time": "2024-07-18T22:23:14.881Z"
   },
   {
    "duration": 28,
    "start_time": "2024-07-18T22:23:14.923Z"
   },
   {
    "duration": 6,
    "start_time": "2024-07-18T22:23:14.956Z"
   },
   {
    "duration": 1928,
    "start_time": "2024-07-18T22:23:15.002Z"
   },
   {
    "duration": 12,
    "start_time": "2024-07-18T22:23:37.017Z"
   },
   {
    "duration": 12,
    "start_time": "2024-07-18T22:24:25.906Z"
   },
   {
    "duration": 12,
    "start_time": "2024-07-18T22:24:30.259Z"
   },
   {
    "duration": 283,
    "start_time": "2024-07-18T22:25:22.018Z"
   },
   {
    "duration": 310,
    "start_time": "2024-07-18T22:25:58.205Z"
   },
   {
    "duration": 360,
    "start_time": "2024-07-18T22:26:46.687Z"
   },
   {
    "duration": 26,
    "start_time": "2024-07-18T22:35:50.557Z"
   },
   {
    "duration": 26,
    "start_time": "2024-07-18T22:36:03.601Z"
   },
   {
    "duration": 332,
    "start_time": "2024-07-19T04:39:36.573Z"
   },
   {
    "duration": 5139,
    "start_time": "2024-07-19T04:39:45.598Z"
   },
   {
    "duration": 17,
    "start_time": "2024-07-19T04:39:50.742Z"
   },
   {
    "duration": 49,
    "start_time": "2024-07-19T04:39:50.762Z"
   },
   {
    "duration": 22,
    "start_time": "2024-07-19T04:39:50.815Z"
   },
   {
    "duration": 14,
    "start_time": "2024-07-19T04:39:50.841Z"
   },
   {
    "duration": 44,
    "start_time": "2024-07-19T04:39:50.858Z"
   },
   {
    "duration": 0,
    "start_time": "2024-07-19T04:39:50.905Z"
   },
   {
    "duration": 0,
    "start_time": "2024-07-19T04:39:50.907Z"
   },
   {
    "duration": 1433,
    "start_time": "2024-07-19T04:40:22.656Z"
   },
   {
    "duration": 16,
    "start_time": "2024-07-19T04:40:24.103Z"
   },
   {
    "duration": 39,
    "start_time": "2024-07-19T04:40:24.127Z"
   },
   {
    "duration": 47,
    "start_time": "2024-07-19T04:40:24.169Z"
   },
   {
    "duration": 17,
    "start_time": "2024-07-19T04:40:24.221Z"
   },
   {
    "duration": 2173,
    "start_time": "2024-07-19T04:40:24.242Z"
   },
   {
    "duration": 497,
    "start_time": "2024-07-19T04:40:26.420Z"
   },
   {
    "duration": 17,
    "start_time": "2024-07-19T04:40:26.920Z"
   },
   {
    "duration": 18,
    "start_time": "2024-07-19T04:42:15.601Z"
   },
   {
    "duration": 20,
    "start_time": "2024-07-19T04:42:32.745Z"
   },
   {
    "duration": 29,
    "start_time": "2024-07-19T04:42:39.222Z"
   },
   {
    "duration": 435,
    "start_time": "2024-07-19T04:45:59.180Z"
   },
   {
    "duration": 26,
    "start_time": "2024-07-19T04:46:08.708Z"
   },
   {
    "duration": 27,
    "start_time": "2024-07-19T04:46:17.491Z"
   },
   {
    "duration": 22,
    "start_time": "2024-07-19T04:46:45.714Z"
   },
   {
    "duration": 14,
    "start_time": "2024-07-19T04:47:01.217Z"
   },
   {
    "duration": 15,
    "start_time": "2024-07-19T04:47:08.354Z"
   },
   {
    "duration": 10,
    "start_time": "2024-07-19T04:47:34.842Z"
   },
   {
    "duration": 10,
    "start_time": "2024-07-19T04:50:27.727Z"
   },
   {
    "duration": 25,
    "start_time": "2024-07-19T04:52:20.777Z"
   },
   {
    "duration": 9,
    "start_time": "2024-07-19T04:56:31.893Z"
   },
   {
    "duration": 791,
    "start_time": "2024-07-19T05:01:30.436Z"
   },
   {
    "duration": 31,
    "start_time": "2024-07-19T05:01:57.693Z"
   },
   {
    "duration": 8,
    "start_time": "2024-07-19T05:03:07.795Z"
   },
   {
    "duration": 4894,
    "start_time": "2024-07-21T21:56:42.543Z"
   },
   {
    "duration": 25,
    "start_time": "2024-07-21T21:56:47.441Z"
   },
   {
    "duration": 32,
    "start_time": "2024-07-21T21:56:47.468Z"
   },
   {
    "duration": 40,
    "start_time": "2024-07-21T21:56:47.504Z"
   },
   {
    "duration": 12,
    "start_time": "2024-07-21T21:56:47.550Z"
   },
   {
    "duration": 1826,
    "start_time": "2024-07-21T21:56:47.565Z"
   },
   {
    "duration": 330,
    "start_time": "2024-07-21T21:56:49.394Z"
   },
   {
    "duration": 298,
    "start_time": "2024-07-21T21:56:49.730Z"
   },
   {
    "duration": 17,
    "start_time": "2024-07-21T21:56:50.032Z"
   },
   {
    "duration": 16,
    "start_time": "2024-07-21T21:56:50.054Z"
   },
   {
    "duration": 9,
    "start_time": "2024-07-21T21:56:50.073Z"
   },
   {
    "duration": 9,
    "start_time": "2024-07-21T21:56:50.123Z"
   },
   {
    "duration": 7,
    "start_time": "2024-07-21T21:56:50.136Z"
   },
   {
    "duration": 304,
    "start_time": "2024-07-21T21:58:54.983Z"
   },
   {
    "duration": 295,
    "start_time": "2024-07-21T21:59:56.752Z"
   },
   {
    "duration": 333,
    "start_time": "2024-07-21T22:00:09.491Z"
   },
   {
    "duration": 1378,
    "start_time": "2024-07-21T22:07:46.106Z"
   },
   {
    "duration": 19,
    "start_time": "2024-07-21T22:07:47.487Z"
   },
   {
    "duration": 36,
    "start_time": "2024-07-21T22:07:47.509Z"
   },
   {
    "duration": 23,
    "start_time": "2024-07-21T22:07:47.552Z"
   },
   {
    "duration": 46,
    "start_time": "2024-07-21T22:07:47.578Z"
   },
   {
    "duration": 1937,
    "start_time": "2024-07-21T22:07:47.627Z"
   },
   {
    "duration": 407,
    "start_time": "2024-07-21T22:07:49.567Z"
   },
   {
    "duration": 318,
    "start_time": "2024-07-21T22:07:49.977Z"
   },
   {
    "duration": 35,
    "start_time": "2024-07-21T22:07:50.298Z"
   },
   {
    "duration": 16,
    "start_time": "2024-07-21T22:07:50.340Z"
   },
   {
    "duration": 14,
    "start_time": "2024-07-21T22:07:50.359Z"
   },
   {
    "duration": 10,
    "start_time": "2024-07-21T22:07:50.376Z"
   },
   {
    "duration": 43,
    "start_time": "2024-07-21T22:07:50.389Z"
   },
   {
    "duration": 24,
    "start_time": "2024-07-21T22:08:20.588Z"
   },
   {
    "duration": 23,
    "start_time": "2024-07-21T22:09:28.788Z"
   },
   {
    "duration": 81,
    "start_time": "2024-07-21T22:09:55.200Z"
   },
   {
    "duration": 31,
    "start_time": "2024-07-21T22:10:08.754Z"
   },
   {
    "duration": 25,
    "start_time": "2024-07-21T22:10:18.889Z"
   },
   {
    "duration": 36,
    "start_time": "2024-07-21T22:11:10.048Z"
   },
   {
    "duration": 34,
    "start_time": "2024-07-21T22:11:22.560Z"
   },
   {
    "duration": 26,
    "start_time": "2024-07-21T22:16:35.149Z"
   },
   {
    "duration": 16,
    "start_time": "2024-07-21T22:19:59.208Z"
   },
   {
    "duration": 19,
    "start_time": "2024-07-21T22:23:19.128Z"
   },
   {
    "duration": 19,
    "start_time": "2024-07-21T22:23:44.538Z"
   },
   {
    "duration": 22,
    "start_time": "2024-07-21T22:24:34.913Z"
   },
   {
    "duration": 24,
    "start_time": "2024-07-21T22:31:18.878Z"
   },
   {
    "duration": 1293,
    "start_time": "2024-07-21T22:31:46.102Z"
   },
   {
    "duration": 24,
    "start_time": "2024-07-21T22:31:47.398Z"
   },
   {
    "duration": 28,
    "start_time": "2024-07-21T22:31:47.425Z"
   },
   {
    "duration": 16,
    "start_time": "2024-07-21T22:31:47.457Z"
   },
   {
    "duration": 54,
    "start_time": "2024-07-21T22:31:47.477Z"
   },
   {
    "duration": 15,
    "start_time": "2024-07-21T22:31:47.534Z"
   },
   {
    "duration": 1863,
    "start_time": "2024-07-21T22:31:47.552Z"
   },
   {
    "duration": 380,
    "start_time": "2024-07-21T22:31:49.418Z"
   },
   {
    "duration": 313,
    "start_time": "2024-07-21T22:31:49.801Z"
   },
   {
    "duration": 18,
    "start_time": "2024-07-21T22:31:50.127Z"
   },
   {
    "duration": 14,
    "start_time": "2024-07-21T22:31:50.148Z"
   },
   {
    "duration": 11,
    "start_time": "2024-07-21T22:31:50.164Z"
   },
   {
    "duration": 47,
    "start_time": "2024-07-21T22:31:50.177Z"
   },
   {
    "duration": 9,
    "start_time": "2024-07-21T22:31:50.227Z"
   },
   {
    "duration": 1299,
    "start_time": "2024-07-21T22:35:42.543Z"
   },
   {
    "duration": 18,
    "start_time": "2024-07-21T22:35:43.845Z"
   },
   {
    "duration": 26,
    "start_time": "2024-07-21T22:35:43.866Z"
   },
   {
    "duration": 38,
    "start_time": "2024-07-21T22:35:43.895Z"
   },
   {
    "duration": 23,
    "start_time": "2024-07-21T22:35:43.937Z"
   },
   {
    "duration": 16,
    "start_time": "2024-07-21T22:35:43.963Z"
   },
   {
    "duration": 1867,
    "start_time": "2024-07-21T22:35:43.981Z"
   },
   {
    "duration": 368,
    "start_time": "2024-07-21T22:35:45.851Z"
   },
   {
    "duration": 302,
    "start_time": "2024-07-21T22:35:46.221Z"
   },
   {
    "duration": 13,
    "start_time": "2024-07-21T22:35:46.526Z"
   },
   {
    "duration": 11,
    "start_time": "2024-07-21T22:35:46.542Z"
   },
   {
    "duration": 9,
    "start_time": "2024-07-21T22:35:46.556Z"
   },
   {
    "duration": 7,
    "start_time": "2024-07-21T22:35:46.568Z"
   },
   {
    "duration": 1629,
    "start_time": "2024-07-21T22:36:29.107Z"
   },
   {
    "duration": 31,
    "start_time": "2024-07-21T22:36:30.741Z"
   },
   {
    "duration": 48,
    "start_time": "2024-07-21T22:36:30.775Z"
   },
   {
    "duration": 23,
    "start_time": "2024-07-21T22:36:30.828Z"
   },
   {
    "duration": 661,
    "start_time": "2024-07-21T22:36:30.855Z"
   },
   {
    "duration": 0,
    "start_time": "2024-07-21T22:36:31.524Z"
   },
   {
    "duration": 0,
    "start_time": "2024-07-21T22:36:31.525Z"
   },
   {
    "duration": 0,
    "start_time": "2024-07-21T22:36:31.527Z"
   },
   {
    "duration": 0,
    "start_time": "2024-07-21T22:36:31.531Z"
   },
   {
    "duration": 0,
    "start_time": "2024-07-21T22:36:31.533Z"
   },
   {
    "duration": 0,
    "start_time": "2024-07-21T22:36:31.535Z"
   },
   {
    "duration": 1,
    "start_time": "2024-07-21T22:36:31.536Z"
   },
   {
    "duration": 0,
    "start_time": "2024-07-21T22:36:31.539Z"
   },
   {
    "duration": 1274,
    "start_time": "2024-07-21T22:55:57.092Z"
   },
   {
    "duration": 19,
    "start_time": "2024-07-21T22:55:58.370Z"
   },
   {
    "duration": 40,
    "start_time": "2024-07-21T22:55:58.391Z"
   },
   {
    "duration": 18,
    "start_time": "2024-07-21T22:55:58.435Z"
   },
   {
    "duration": 32,
    "start_time": "2024-07-21T22:55:58.457Z"
   },
   {
    "duration": 44,
    "start_time": "2024-07-21T22:55:58.492Z"
   },
   {
    "duration": 1873,
    "start_time": "2024-07-21T22:55:58.538Z"
   },
   {
    "duration": 351,
    "start_time": "2024-07-21T22:56:00.415Z"
   },
   {
    "duration": 300,
    "start_time": "2024-07-21T22:56:00.770Z"
   },
   {
    "duration": 14,
    "start_time": "2024-07-21T22:56:01.073Z"
   },
   {
    "duration": 32,
    "start_time": "2024-07-21T22:56:01.091Z"
   },
   {
    "duration": 13,
    "start_time": "2024-07-21T22:56:01.126Z"
   },
   {
    "duration": 8,
    "start_time": "2024-07-21T22:56:01.143Z"
   },
   {
    "duration": 1229,
    "start_time": "2024-07-21T22:56:56.066Z"
   },
   {
    "duration": 28,
    "start_time": "2024-07-21T22:56:57.299Z"
   },
   {
    "duration": 31,
    "start_time": "2024-07-21T22:56:57.330Z"
   },
   {
    "duration": 26,
    "start_time": "2024-07-21T22:56:57.366Z"
   },
   {
    "duration": 53,
    "start_time": "2024-07-21T22:56:57.395Z"
   },
   {
    "duration": 18,
    "start_time": "2024-07-21T22:56:57.451Z"
   },
   {
    "duration": 1868,
    "start_time": "2024-07-21T22:56:57.472Z"
   },
   {
    "duration": 347,
    "start_time": "2024-07-21T22:56:59.343Z"
   },
   {
    "duration": 328,
    "start_time": "2024-07-21T22:56:59.695Z"
   },
   {
    "duration": 14,
    "start_time": "2024-07-21T22:57:00.028Z"
   },
   {
    "duration": 10,
    "start_time": "2024-07-21T22:57:00.045Z"
   },
   {
    "duration": 8,
    "start_time": "2024-07-21T22:57:00.058Z"
   },
   {
    "duration": 7,
    "start_time": "2024-07-21T22:57:00.069Z"
   },
   {
    "duration": 1305,
    "start_time": "2024-07-21T22:59:16.751Z"
   },
   {
    "duration": 17,
    "start_time": "2024-07-21T22:59:18.060Z"
   },
   {
    "duration": 45,
    "start_time": "2024-07-21T22:59:18.080Z"
   },
   {
    "duration": 18,
    "start_time": "2024-07-21T22:59:18.127Z"
   },
   {
    "duration": 31,
    "start_time": "2024-07-21T22:59:18.150Z"
   },
   {
    "duration": 47,
    "start_time": "2024-07-21T22:59:18.184Z"
   },
   {
    "duration": 1937,
    "start_time": "2024-07-21T22:59:18.235Z"
   },
   {
    "duration": 364,
    "start_time": "2024-07-21T22:59:20.175Z"
   },
   {
    "duration": 305,
    "start_time": "2024-07-21T22:59:20.543Z"
   },
   {
    "duration": 15,
    "start_time": "2024-07-21T22:59:20.851Z"
   },
   {
    "duration": 11,
    "start_time": "2024-07-21T22:59:20.868Z"
   },
   {
    "duration": 41,
    "start_time": "2024-07-21T22:59:20.882Z"
   },
   {
    "duration": 7,
    "start_time": "2024-07-21T22:59:20.927Z"
   },
   {
    "duration": 1429,
    "start_time": "2024-07-21T23:05:55.089Z"
   },
   {
    "duration": 20,
    "start_time": "2024-07-21T23:05:56.523Z"
   },
   {
    "duration": 34,
    "start_time": "2024-07-21T23:05:56.546Z"
   },
   {
    "duration": 44,
    "start_time": "2024-07-21T23:05:56.584Z"
   },
   {
    "duration": 35,
    "start_time": "2024-07-21T23:05:56.635Z"
   },
   {
    "duration": 51,
    "start_time": "2024-07-21T23:05:56.674Z"
   },
   {
    "duration": 2317,
    "start_time": "2024-07-21T23:05:56.731Z"
   },
   {
    "duration": 478,
    "start_time": "2024-07-21T23:05:59.051Z"
   },
   {
    "duration": 465,
    "start_time": "2024-07-21T23:05:59.532Z"
   },
   {
    "duration": 17,
    "start_time": "2024-07-21T23:06:00.002Z"
   },
   {
    "duration": 21,
    "start_time": "2024-07-21T23:06:00.034Z"
   },
   {
    "duration": 10,
    "start_time": "2024-07-21T23:06:00.060Z"
   },
   {
    "duration": 10,
    "start_time": "2024-07-21T23:06:00.074Z"
   },
   {
    "duration": 34,
    "start_time": "2024-07-21T23:06:20.910Z"
   },
   {
    "duration": 1346,
    "start_time": "2024-07-21T23:07:11.072Z"
   },
   {
    "duration": 21,
    "start_time": "2024-07-21T23:07:12.424Z"
   },
   {
    "duration": 37,
    "start_time": "2024-07-21T23:07:12.449Z"
   },
   {
    "duration": 44,
    "start_time": "2024-07-21T23:07:12.489Z"
   },
   {
    "duration": 37,
    "start_time": "2024-07-21T23:07:12.538Z"
   },
   {
    "duration": 50,
    "start_time": "2024-07-21T23:07:12.579Z"
   },
   {
    "duration": 2023,
    "start_time": "2024-07-21T23:07:12.632Z"
   },
   {
    "duration": 368,
    "start_time": "2024-07-21T23:07:14.658Z"
   },
   {
    "duration": 314,
    "start_time": "2024-07-21T23:07:15.028Z"
   },
   {
    "duration": 17,
    "start_time": "2024-07-21T23:07:15.345Z"
   },
   {
    "duration": 11,
    "start_time": "2024-07-21T23:07:15.365Z"
   },
   {
    "duration": 42,
    "start_time": "2024-07-21T23:07:15.383Z"
   },
   {
    "duration": 8,
    "start_time": "2024-07-21T23:07:15.429Z"
   },
   {
    "duration": 1331,
    "start_time": "2024-07-21T23:07:36.663Z"
   },
   {
    "duration": 29,
    "start_time": "2024-07-21T23:07:37.999Z"
   },
   {
    "duration": 35,
    "start_time": "2024-07-21T23:07:38.031Z"
   },
   {
    "duration": 19,
    "start_time": "2024-07-21T23:07:38.069Z"
   },
   {
    "duration": 35,
    "start_time": "2024-07-21T23:07:38.122Z"
   },
   {
    "duration": 16,
    "start_time": "2024-07-21T23:07:38.162Z"
   },
   {
    "duration": 2042,
    "start_time": "2024-07-21T23:07:38.181Z"
   },
   {
    "duration": 425,
    "start_time": "2024-07-21T23:07:40.226Z"
   },
   {
    "duration": 339,
    "start_time": "2024-07-21T23:07:40.654Z"
   },
   {
    "duration": 27,
    "start_time": "2024-07-21T23:07:40.997Z"
   },
   {
    "duration": 17,
    "start_time": "2024-07-21T23:07:41.028Z"
   },
   {
    "duration": 13,
    "start_time": "2024-07-21T23:07:41.049Z"
   },
   {
    "duration": 9,
    "start_time": "2024-07-21T23:07:41.066Z"
   },
   {
    "duration": 1411,
    "start_time": "2024-07-21T23:15:46.823Z"
   },
   {
    "duration": 24,
    "start_time": "2024-07-21T23:15:48.241Z"
   },
   {
    "duration": 33,
    "start_time": "2024-07-21T23:15:48.269Z"
   },
   {
    "duration": 19,
    "start_time": "2024-07-21T23:15:48.323Z"
   },
   {
    "duration": 43,
    "start_time": "2024-07-21T23:15:48.345Z"
   },
   {
    "duration": 48,
    "start_time": "2024-07-21T23:15:48.392Z"
   },
   {
    "duration": 2429,
    "start_time": "2024-07-21T23:15:48.443Z"
   },
   {
    "duration": 421,
    "start_time": "2024-07-21T23:15:50.876Z"
   },
   {
    "duration": 326,
    "start_time": "2024-07-21T23:15:51.300Z"
   },
   {
    "duration": 17,
    "start_time": "2024-07-21T23:15:51.632Z"
   },
   {
    "duration": 11,
    "start_time": "2024-07-21T23:15:51.653Z"
   },
   {
    "duration": 8,
    "start_time": "2024-07-21T23:15:51.667Z"
   },
   {
    "duration": 48,
    "start_time": "2024-07-21T23:15:51.678Z"
   },
   {
    "duration": 1417,
    "start_time": "2024-07-21T23:20:53.062Z"
   },
   {
    "duration": 21,
    "start_time": "2024-07-21T23:20:54.483Z"
   },
   {
    "duration": 42,
    "start_time": "2024-07-21T23:20:54.507Z"
   },
   {
    "duration": 25,
    "start_time": "2024-07-21T23:20:54.552Z"
   },
   {
    "duration": 64,
    "start_time": "2024-07-21T23:20:54.582Z"
   },
   {
    "duration": 17,
    "start_time": "2024-07-21T23:20:54.650Z"
   },
   {
    "duration": 2048,
    "start_time": "2024-07-21T23:20:54.672Z"
   },
   {
    "duration": 384,
    "start_time": "2024-07-21T23:20:56.723Z"
   },
   {
    "duration": 348,
    "start_time": "2024-07-21T23:20:57.114Z"
   },
   {
    "duration": 16,
    "start_time": "2024-07-21T23:20:57.466Z"
   },
   {
    "duration": 36,
    "start_time": "2024-07-21T23:20:57.486Z"
   },
   {
    "duration": 10,
    "start_time": "2024-07-21T23:20:57.529Z"
   },
   {
    "duration": 7,
    "start_time": "2024-07-21T23:20:57.543Z"
   }
  ],
  "kernelspec": {
   "display_name": "Python 3 (ipykernel)",
   "language": "python",
   "name": "python3"
  },
  "language_info": {
   "codemirror_mode": {
    "name": "ipython",
    "version": 3
   },
   "file_extension": ".py",
   "mimetype": "text/x-python",
   "name": "python",
   "nbconvert_exporter": "python",
   "pygments_lexer": "ipython3",
   "version": "3.9.19"
  },
  "toc": {
   "base_numbering": 1,
   "nav_menu": {},
   "number_sections": true,
   "sideBar": true,
   "skip_h1_title": true,
   "title_cell": "Table of Contents",
   "title_sidebar": "Contents",
   "toc_cell": false,
   "toc_position": {},
   "toc_section_display": true,
   "toc_window_display": false
  }
 },
 "nbformat": 4,
 "nbformat_minor": 2
}
